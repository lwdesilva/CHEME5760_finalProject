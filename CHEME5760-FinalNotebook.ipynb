{
 "cells": [
  {
   "cell_type": "markdown",
   "id": "7ef110f1-5bca-4c61-a783-bbd948bc2a4f",
   "metadata": {},
   "source": [
    "# CHEME 5760 Final Project \n",
    "Alexandra Buren and Lauren de Silva"
   ]
  },
  {
   "cell_type": "markdown",
   "id": "22589507-b367-452f-90cb-e3d6cae89ee4",
   "metadata": {
    "jp-MarkdownHeadingCollapsed": true,
    "tags": []
   },
   "source": [
    "## Introduction\n",
    "An individual decision-maker (agent) is given a set of $X_{1},\\dotsc,X_{n}$ objects \n",
    "where each object has $m$ possible features $X_{i}=\\left\\{x_{1,i},\\dotsc,x_{m,i}\\right\\}$.\n",
    "A utility function ranks the agent's preference for combinations of features for each object $i$:\n",
    "\n",
    "\\begin{equation}\n",
    "U_{i}(x_{1,i},x_{2,i},\\dots,x_{m,i}) = u_{i}\n",
    "\\end{equation}\n",
    "\n",
    "where $u_{i}$ is a real number called the `utility` for object $i$. Utility has units of `utils`. The utility function $U:X\\rightarrow\\mathbb{R}$ is unique only up to an order-preserving transformation. Utility functions are `ordinal`, i.e., they rank-order bundles but do not measure differences between bundles.\n",
    "\n",
    "### Learning objectives\n",
    "In this example, our goal is to:\n",
    "* Help students understand how to compute the utility of objects based on their features\n",
    "* Teach students how to calculate marginal utility and use it to optimize object features\n",
    "* Introduce the concept of marginal rate of substitution (MRS) and demonstrate how it can be used to understand the trade-offs we make when we are indifferent between features"
   ]
  },
  {
   "cell_type": "markdown",
   "id": "f48d3582-ac69-43c8-9e02-c5b819fc6e8d",
   "metadata": {
    "tags": []
   },
   "source": [
    "## Setup"
   ]
  },
  {
   "cell_type": "code",
   "execution_count": 25,
   "id": "5f0d0218-347a-400f-87bd-71298175dd87",
   "metadata": {
    "tags": []
   },
   "outputs": [
    {
     "name": "stderr",
     "output_type": "stream",
     "text": [
      "\u001b[32m\u001b[1m    Updating\u001b[22m\u001b[39m git-repo `https://github.com/varnerlab/VLDecisionsPackage.jl.git`\n",
      "\u001b[32m\u001b[1m   Resolving\u001b[22m\u001b[39m package versions...\n",
      "\u001b[32m\u001b[1m  No Changes\u001b[22m\u001b[39m to `C:\\Users\\lwdes\\CHEME 5760\\CHEME5760_finalProject\\Project.toml`\n",
      "\u001b[32m\u001b[1m  No Changes\u001b[22m\u001b[39m to `C:\\Users\\lwdes\\CHEME 5760\\CHEME5760_finalProject\\Manifest.toml`\n",
      "\u001b[32m\u001b[1m   Resolving\u001b[22m\u001b[39m package versions...\n",
      "\u001b[32m\u001b[1m    Updating\u001b[22m\u001b[39m `C:\\Users\\lwdes\\CHEME 5760\\CHEME5760_finalProject\\Project.toml`\n",
      "  \u001b[90m[336ed68f] \u001b[39m\u001b[92m+ CSV v0.10.11\u001b[39m\n",
      "\u001b[32m\u001b[1m    Updating\u001b[22m\u001b[39m `C:\\Users\\lwdes\\CHEME 5760\\CHEME5760_finalProject\\Manifest.toml`\n",
      "  \u001b[90m[336ed68f] \u001b[39m\u001b[92m+ CSV v0.10.11\u001b[39m\n",
      "  \u001b[90m[e2d170a0] \u001b[39m\u001b[92m+ DataValueInterfaces v1.0.0\u001b[39m\n",
      "  \u001b[90m[48062228] \u001b[39m\u001b[92m+ FilePathsBase v0.9.21\u001b[39m\n",
      "  \u001b[90m[842dd82b] \u001b[39m\u001b[92m+ InlineStrings v1.4.0\u001b[39m\n",
      "  \u001b[90m[82899510] \u001b[39m\u001b[92m+ IteratorInterfaceExtensions v1.0.0\u001b[39m\n",
      "  \u001b[90m[2dfb63ee] \u001b[39m\u001b[92m+ PooledArrays v1.4.3\u001b[39m\n",
      "  \u001b[90m[91c51154] \u001b[39m\u001b[92m+ SentinelArrays v1.4.1\u001b[39m\n",
      "  \u001b[90m[3783bdb8] \u001b[39m\u001b[92m+ TableTraits v1.0.1\u001b[39m\n",
      "  \u001b[90m[bd369af6] \u001b[39m\u001b[92m+ Tables v1.11.1\u001b[39m\n",
      "  \u001b[90m[ea10d353] \u001b[39m\u001b[92m+ WeakRefStrings v1.4.2\u001b[39m\n",
      "  \u001b[90m[76eceee3] \u001b[39m\u001b[92m+ WorkerUtilities v1.6.1\u001b[39m\n"
     ]
    }
   ],
   "source": [
    "using Pkg\n",
    "Pkg.add(path=\"https://github.com/varnerlab/VLDecisionsPackage.jl.git\")\n",
    "Pkg.add(\"CSV\")"
   ]
  },
  {
   "cell_type": "code",
   "execution_count": 27,
   "id": "f6d5a05c-1eb9-4929-9852-8cd23a85e8f7",
   "metadata": {
    "tags": []
   },
   "outputs": [
    {
     "name": "stderr",
     "output_type": "stream",
     "text": [
      "\u001b[32m\u001b[1m  Activating\u001b[22m\u001b[39m project at `C:\\Users\\lwdes\\CHEME 5760\\CHEME5760_finalProject`\n",
      "\u001b[32m\u001b[1m    Updating\u001b[22m\u001b[39m registry at `C:\\Users\\lwdes\\.julia\\registries\\General`\n",
      "\u001b[32m\u001b[1m    Updating\u001b[22m\u001b[39m git-repo `https://github.com/JuliaRegistries/General.git`\n",
      "\u001b[32m\u001b[1m    Updating\u001b[22m\u001b[39m git-repo `https://github.com/varnerlab/VLDecisionsPackage.jl.git`\n",
      "\u001b[32m\u001b[1m  No Changes\u001b[22m\u001b[39m to `C:\\Users\\lwdes\\CHEME 5760\\CHEME5760_finalProject\\Project.toml`\n",
      "\u001b[32m\u001b[1m  No Changes\u001b[22m\u001b[39m to `C:\\Users\\lwdes\\CHEME 5760\\CHEME5760_finalProject\\Manifest.toml`\n"
     ]
    }
   ],
   "source": [
    "include(\"Include.jl\");"
   ]
  },
  {
   "cell_type": "code",
   "execution_count": 23,
   "id": "f0ccd0e4-3543-4e57-934c-7d6aecd30b2d",
   "metadata": {},
   "outputs": [],
   "source": [
    "# function _load(path::String)::DataFrame\n",
    "#     return CSV.read(path, DataFrame);\n",
    "# end\n",
    "\n",
    "# function _jld2(path::String)::Dict{String,Any}\n",
    "#     return load(path);\n",
    "# end\n",
    "\n",
    "# # short circuit the loading of the data -\n",
    "# SolarPVSet() = _load(joinpath(_PATH_TO_DATA, \"PV vs Solar Heating.csv\"));"
   ]
  },
  {
   "cell_type": "code",
   "execution_count": 24,
   "id": "ba6146fa-d523-4bb4-82e1-995dd6c79f85",
   "metadata": {},
   "outputs": [
    {
     "ename": "LoadError",
     "evalue": "UndefVarError: `_PATH_TO_DATA` not defined",
     "output_type": "error",
     "traceback": [
      "UndefVarError: `_PATH_TO_DATA` not defined",
      "",
      "Stacktrace:",
      " [1] SolarPVSet()",
      "   @ Main .\\In[23]:10",
      " [2] top-level scope",
      "   @ In[24]:1"
     ]
    }
   ],
   "source": [
    "# SolarPVSet()"
   ]
  },
  {
   "cell_type": "code",
   "execution_count": 26,
   "id": "84900eba-db40-417d-82b8-8e867e8fbce4",
   "metadata": {},
   "outputs": [
    {
     "ename": "LoadError",
     "evalue": "ArgumentError: \"CHEME 5760/CHEME5760_finalProject/data/PV vs Solar Heating.csv\" is not a valid file or doesn't exist",
     "output_type": "error",
     "traceback": [
      "ArgumentError: \"CHEME 5760/CHEME5760_finalProject/data/PV vs Solar Heating.csv\" is not a valid file or doesn't exist",
      "",
      "Stacktrace:",
      " [1] CSV.Context(source::CSV.Arg, header::CSV.Arg, normalizenames::CSV.Arg, datarow::CSV.Arg, skipto::CSV.Arg, footerskip::CSV.Arg, transpose::CSV.Arg, comment::CSV.Arg, ignoreemptyrows::CSV.Arg, ignoreemptylines::CSV.Arg, select::CSV.Arg, drop::CSV.Arg, limit::CSV.Arg, buffer_in_memory::CSV.Arg, threaded::CSV.Arg, ntasks::CSV.Arg, tasks::CSV.Arg, rows_to_check::CSV.Arg, lines_to_check::CSV.Arg, missingstrings::CSV.Arg, missingstring::CSV.Arg, delim::CSV.Arg, ignorerepeated::CSV.Arg, quoted::CSV.Arg, quotechar::CSV.Arg, openquotechar::CSV.Arg, closequotechar::CSV.Arg, escapechar::CSV.Arg, dateformat::CSV.Arg, dateformats::CSV.Arg, decimal::CSV.Arg, groupmark::CSV.Arg, truestrings::CSV.Arg, falsestrings::CSV.Arg, stripwhitespace::CSV.Arg, type::CSV.Arg, types::CSV.Arg, typemap::CSV.Arg, pool::CSV.Arg, downcast::CSV.Arg, lazystrings::CSV.Arg, stringtype::CSV.Arg, strict::CSV.Arg, silencewarnings::CSV.Arg, maxwarnings::CSV.Arg, debug::CSV.Arg, parsingdebug::CSV.Arg, validate::CSV.Arg, streaming::CSV.Arg)",
      "   @ CSV C:\\Users\\lwdes\\.julia\\packages\\CSV\\OnldF\\src\\context.jl:314",
      " [2] #File#32",
      "   @ C:\\Users\\lwdes\\.julia\\packages\\CSV\\OnldF\\src\\file.jl:222 [inlined]",
      " [3] CSV.File(source::String)",
      "   @ CSV C:\\Users\\lwdes\\.julia\\packages\\CSV\\OnldF\\src\\file.jl:162",
      " [4] top-level scope",
      "   @ In[26]:11"
     ]
    }
   ],
   "source": [
    "# # Install the required packages if you haven't already\n",
    "# # using Pkg\n",
    "# # Pkg.add(\"CSV\")\n",
    "\n",
    "# using CSV\n",
    "\n",
    "# # Replace \"your_dataset.csv\" with the actual file path\n",
    "# file_path = \"CHEME 5760/CHEME5760_finalProject/data/PV vs Solar Heating.csv\"\n",
    "\n",
    "# # Read the CSV file into a DataFrame\n",
    "# df = CSV.File(file_path) |> DataFrame\n",
    "\n",
    "# # Now, 'df' is a DataFrame containing your dataset\n"
   ]
  },
  {
   "cell_type": "code",
   "execution_count": 28,
   "id": "49a37f36-fd1b-4b15-bf7e-4dc458722d77",
   "metadata": {
    "tags": []
   },
   "outputs": [
    {
     "data": {
      "text/plain": [
       "UCD (generic function with 1 method)"
      ]
     },
     "execution_count": 28,
     "metadata": {},
     "output_type": "execute_result"
    }
   ],
   "source": [
    "function UCD(x)\n",
    "    \n",
    "    # load data -\n",
    "    dataset = SolarPVSet();\n",
    "    α = dataset[:,:exponent];\n",
    "    \n",
    "    number_of_features = length(x);\n",
    "    solution = 1.0;\n",
    "\n",
    "    # build the solution -\n",
    "    for i ∈ 1:number_of_features\n",
    "        solution *= x[i]^α[i];\n",
    "    end\n",
    "\n",
    "    # return - \n",
    "    return solution;\n",
    "end"
   ]
  },
  {
   "cell_type": "code",
   "execution_count": 29,
   "id": "6f1dabd2-c475-4d80-8034-80f0e0af9bf5",
   "metadata": {
    "tags": []
   },
   "outputs": [
    {
     "data": {
      "text/plain": [
       "MUCD (generic function with 1 method)"
      ]
     },
     "execution_count": 29,
     "metadata": {},
     "output_type": "execute_result"
    }
   ],
   "source": [
    "function MUCD(model::VLCobbDouglasUtilityFunction, features::Array{Float64,1})::Array{Float64,1}\n",
    "    \n",
    "    # initialize -\n",
    "    number_of_features = length(features);\n",
    "    values = zeros(number_of_features);\n",
    "    α = model.α;\n",
    "    \n",
    "    for i ∈ 1:number_of_features\n",
    "        tmp = prod(features[1:end .!=i].^(α[1:end .!=i]));\n",
    "        values[i] = tmp*(α[i]*features[i]^(α[i]-1))\n",
    "    end\n",
    "    \n",
    "    # return -\n",
    "    return values\n",
    "end"
   ]
  },
  {
   "cell_type": "markdown",
   "id": "6b7c88da-7703-4d47-a120-a00ede742765",
   "metadata": {},
   "source": [
    "## Data"
   ]
  },
  {
   "cell_type": "code",
   "execution_count": 30,
   "id": "5bdc4591-c1b8-4f34-ac63-eac013aaa155",
   "metadata": {
    "tags": []
   },
   "outputs": [
    {
     "ename": "LoadError",
     "evalue": "UndefVarError: `_PATH_TO_DATA` not defined",
     "output_type": "error",
     "traceback": [
      "UndefVarError: `_PATH_TO_DATA` not defined",
      "",
      "Stacktrace:",
      " [1] SolarPVSet()",
      "   @ Main .\\In[23]:10",
      " [2] top-level scope",
      "   @ In[30]:1"
     ]
    }
   ],
   "source": [
    "dataset=SolarPVSet()"
   ]
  },
  {
   "cell_type": "code",
   "execution_count": 6,
   "id": "fc59c38b-d45b-4189-92be-b2678a3cf996",
   "metadata": {
    "tags": []
   },
   "outputs": [
    {
     "ename": "LoadError",
     "evalue": "UndefVarError: `dataset` not defined",
     "output_type": "error",
     "traceback": [
      "UndefVarError: `dataset` not defined",
      "",
      "Stacktrace:",
      " [1] top-level scope",
      "   @ In[6]:1"
     ]
    }
   ],
   "source": [
    "@assert(sum(dataset[:,:exponent]) == 1.0)"
   ]
  },
  {
   "cell_type": "markdown",
   "id": "2a96deef-c9e4-4bce-8608-402cd5131e9d",
   "metadata": {
    "tags": []
   },
   "source": [
    "### Build the Cobb-Douglas model\n",
    "The `Cobb-Douglas` utility function is the product of the $m$ feature variables.  Thus, \n",
    "it models situations where we consider features simultaneously. Each feature variable is raised to a non-negative exponent:\n",
    "\n",
    "\\begin{equation}\n",
    "U(x_{1},\\dots,x_{m}) = \\prod_{i\\in{1\\dots{m}}}{x_{i}^{\\alpha_{i}}}\n",
    "\\end{equation}\n",
    "\n",
    "In our realization of the `Cobb-Douglas` utility, the exponents must sum to unity $\\sum_{i\\in{1\\dots{m}}}\\alpha_{i} = 1$, $x_{i}\\geq{0}$,\n",
    "and $\\alpha_{i}\\geq{0}$. For this model, the marginal utility for fearure $i$ is given by:\n",
    "\n",
    "$$\n",
    "\\bar{U}_{x_{i}} = \\left(\\alpha_{i}\\cdot{x_{i}}^{\\alpha_{i}-1}\\right)\\cdot\\left(\\prod_{j=1,i}^{m}x_{j}^{\\alpha_{j}}\\right)\n",
    "$$"
   ]
  },
  {
   "cell_type": "code",
   "execution_count": 7,
   "id": "1f68623c-e230-47c3-a7e1-b73a918400cb",
   "metadata": {
    "tags": []
   },
   "outputs": [
    {
     "ename": "LoadError",
     "evalue": "UndefVarError: `dataset` not defined",
     "output_type": "error",
     "traceback": [
      "UndefVarError: `dataset` not defined",
      "",
      "Stacktrace:",
      " [1] top-level scope",
      "   @ In[7]:1"
     ]
    }
   ],
   "source": [
    "model = build(VLCobbDouglasUtilityFunction, (\n",
    "        α = dataset[:,:exponent],)\n",
    ");"
   ]
  },
  {
   "cell_type": "code",
   "execution_count": 8,
   "id": "e487f006-fcee-416d-8c41-d9be5f81daab",
   "metadata": {
    "tags": []
   },
   "outputs": [
    {
     "ename": "LoadError",
     "evalue": "UndefVarError: `dataset` not defined",
     "output_type": "error",
     "traceback": [
      "UndefVarError: `dataset` not defined",
      "",
      "Stacktrace:",
      " [1] top-level scope",
      "   @ In[8]:1"
     ]
    }
   ],
   "source": [
    "utility_tesla = model(dataset[:,:Tesla]);\n",
    "utility_honda = model(dataset[:,:Honda]);\n",
    "println(\"The utility of Tesla = $(utility_tesla) while the utility of the Honda = $(utility_honda)\")"
   ]
  },
  {
   "cell_type": "markdown",
   "id": "0c1b17b1-13a6-447e-8f4e-4656c5c7b47e",
   "metadata": {},
   "source": [
    "### Perception model\n",
    "Let's suppose we can perceive differences in utility of 1% or greater"
   ]
  },
  {
   "cell_type": "code",
   "execution_count": 9,
   "id": "00b2c31f-4f7b-4cfc-9133-dd7d9849528f",
   "metadata": {
    "tags": []
   },
   "outputs": [
    {
     "ename": "LoadError",
     "evalue": "UndefVarError: `utility_tesla` not defined",
     "output_type": "error",
     "traceback": [
      "UndefVarError: `utility_tesla` not defined",
      "",
      "Stacktrace:",
      " [1] top-level scope",
      "   @ In[9]:1"
     ]
    }
   ],
   "source": [
    "Δ = ((max(utility_tesla,utility_honda) - min(utility_tesla,utility_honda))/min(utility_tesla,utility_honda))*100"
   ]
  },
  {
   "cell_type": "code",
   "execution_count": 10,
   "id": "cd6f2cd4-0388-49eb-9e5f-6eef116dd338",
   "metadata": {},
   "outputs": [
    {
     "ename": "LoadError",
     "evalue": "UndefVarError: `ForwardDiff` not defined",
     "output_type": "error",
     "traceback": [
      "UndefVarError: `ForwardDiff` not defined",
      "",
      "Stacktrace:",
      " [1] top-level scope",
      "   @ In[10]:1"
     ]
    }
   ],
   "source": [
    "Ū_tesla = ForwardDiff.gradient(UCD, dataset[:,:Tesla]);\n",
    "Ū_honda = ForwardDiff.gradient(UCD, dataset[:,:Honda]);\n",
    "\n",
    "mu_table_df = DataFrame();\n",
    "for i ∈ eachindex(Ū_tesla)\n",
    "    \n",
    "    row_tuple = (\n",
    "        feature = dataset[i,:feature],\n",
    "        S_Tesla = dataset[i,:Tesla],\n",
    "        MU_Tesla = Ū_tesla[i],\n",
    "        S_Honda = dataset[i,:Honda],\n",
    "        MU_Honda = Ū_honda[i]\n",
    "    );\n",
    "\n",
    "    push!(mu_table_df, row_tuple);\n",
    "end\n",
    "mu_table_df"
   ]
  },
  {
   "cell_type": "markdown",
   "id": "4e15ce68-a04a-49c5-9bdf-aabfde0bdba3",
   "metadata": {
    "jp-MarkdownHeadingCollapsed": true,
    "tags": []
   },
   "source": [
    "### Check: How good is the numerical estimate of the marginal utlity?"
   ]
  },
  {
   "cell_type": "code",
   "execution_count": 11,
   "id": "e87fd629-eb47-4579-84da-a08b43081032",
   "metadata": {
    "tags": []
   },
   "outputs": [
    {
     "ename": "LoadError",
     "evalue": "UndefVarError: `model` not defined",
     "output_type": "error",
     "traceback": [
      "UndefVarError: `model` not defined",
      "",
      "Stacktrace:",
      " [1] top-level scope",
      "   @ In[11]:1"
     ]
    }
   ],
   "source": [
    "analytical_MU = MUCD(model,dataset[:,:Tesla]);\n",
    "numerical_versus_analytical_df = DataFrame();\n",
    "for i ∈ eachindex(Ū_tesla)\n",
    "    \n",
    "    row_tuple = (\n",
    "        feature = dataset[i,:feature],\n",
    "        S_Tesla = dataset[i,:Tesla],\n",
    "        MU_N_Tesla = Ū_tesla[i],\n",
    "        MU_A_Tesla = analytical_MU[i],\n",
    "    );\n",
    "\n",
    "    push!(numerical_versus_analytical_df, row_tuple);\n",
    "end\n",
    "numerical_versus_analytical_df"
   ]
  },
  {
   "cell_type": "markdown",
   "id": "6835316a-e6a5-4276-ae89-0ec11c61416e",
   "metadata": {},
   "source": [
    "### Predicting Utility from feature changes\n",
    "An individual decision-maker (agent) is given a set of $X_{1},\\dotsc, X_{n}$ objects \n",
    "where each object has $m$ possible features $X_{i}=\\left\\{x_{1,i} \\dotsc ,x_{m,i}\\right\\}$.\n",
    "The _local change_ in the utility $U(\\dots)$ near a point $x^{\\star}\\in{X}$ can be computed \n",
    "using the _total differential_ of the utility function $U(\\dots)$:\n",
    "\n",
    "\\begin{equation}\n",
    "dU = \\sum_{i\\in{1\\dots{m}}}\\bar{U}_{x_{i}}\\cdot{dx_{i}}\n",
    "\\end{equation}\n",
    "\n",
    "where $dU\\approx\\left(U - U^{\\star}\\right)$ denotes the local change in utility, \n",
    "$\\bar{U}_{x_{i}}$ denotes the marginal utility of $x_{i}$ evaluated at the point $x^{\\star}\\in{X}$, \n",
    "and $dx_{i}\\approx(x_{i}-x^{\\star}_{i})$ is the change in the feature $x_{i}$. \n",
    "\n",
    "#### Application\n",
    "In this example, the `usefulness` feature has the largest marginal utility for Tesla. What would happen to the Model S utility if Tesla were to increase the `usefulness` feature by `+1`? If all else was held constant (`omnibus paribus`), then the change of `dx` in a single feature `i` gives the new utility:\n",
    "\n",
    "$$\n",
    "\\begin{equation}\n",
    "U = U^{\\star} + \\bar{U}_{i}\\cdot{dx_{i}}\n",
    "\\end{equation}\n",
    "$$"
   ]
  },
  {
   "cell_type": "code",
   "execution_count": 12,
   "id": "6e29482e-7d6b-4562-a989-38b49c50eaaf",
   "metadata": {
    "tags": []
   },
   "outputs": [
    {
     "ename": "LoadError",
     "evalue": "UndefVarError: `Ū_tesla` not defined",
     "output_type": "error",
     "traceback": [
      "UndefVarError: `Ū_tesla` not defined",
      "",
      "Stacktrace:",
      " [1] top-level scope",
      "   @ In[12]:1"
     ]
    }
   ],
   "source": [
    "dx = zeros(length(Ū_tesla));\n",
    "dx[4] = 1.0;\n",
    "U = utility_tesla + sum(Ū_tesla.*dx)"
   ]
  },
  {
   "cell_type": "markdown",
   "id": "ea9908b2-57d5-4764-a575-18a46f29e271",
   "metadata": {},
   "source": [
    "## Marginal rate of substitution (MRS)\n",
    "The marginal rate of substitution describes the rate at which a consumer is willing to trade one good (or feature) for another. \n",
    "For a utility function $U:X\\rightarrow\\mathbb{R}$, the marginal rate of substitution between any two goods (or features) $x_{i}$ and $x_{j}$ \n",
    "along an \\textit{indifference curve} with utility $U^{\\star}$, i.e., a curve with utility $U^{\\star}$ and $dU = 0$, is given by:\n",
    "\n",
    "$$\n",
    "\\begin{equation}\n",
    "\\bar{U}_{x_{i}}\\,dx_{i} = -\\bar{U}_{x_{j}}\\,dx_{j}\\qquad{\\forall{i\\neq{j}}}\n",
    "\\end{equation}\n",
    "$$\n",
    "\n",
    "or equivalently:\n",
    "\n",
    "$$\n",
    "\\begin{equation}\n",
    "\\frac{dx_{i}}{dx_{j}} = -\\frac{\\bar{U}_{x_{j}}}{\\bar{U}_{x_{i}}}\\qquad{\\forall{i\\neq{j}}}\n",
    "\\end{equation}\n",
    "$$"
   ]
  },
  {
   "cell_type": "markdown",
   "id": "c381cd06-f9b9-4724-a0f3-4bd78bb49ee1",
   "metadata": {},
   "source": [
    "#### What am I willing to give up for a unit of affordability?"
   ]
  },
  {
   "cell_type": "code",
   "execution_count": 13,
   "id": "332c85ec-6795-4a77-8762-fd5cf03956a2",
   "metadata": {
    "tags": []
   },
   "outputs": [
    {
     "ename": "LoadError",
     "evalue": "UndefVarError: `DataFrame` not defined",
     "output_type": "error",
     "traceback": [
      "UndefVarError: `DataFrame` not defined",
      "",
      "Stacktrace:",
      " [1] top-level scope",
      "   @ In[13]:3"
     ]
    }
   ],
   "source": [
    "dx₂ = 1 ; # change affordability by 1-unit (willing to pay more)\n",
    "feature_range = [1,3,4,5,6,7]; # we've excluded feature 2\n",
    "MRS_tradeoff_table = DataFrame();\n",
    "for i ∈ feature_range\n",
    "    dx = -(Ū_tesla[2]/Ū_tesla[i])*dx₂\n",
    "    \n",
    "    results_row = (\n",
    "        feature = dataset[i,:feature],\n",
    "        affordability = dx₂,\n",
    "        MRS_Tesla = dx\n",
    "    );\n",
    "    \n",
    "    # store -\n",
    "    push!(MRS_tradeoff_table, results_row);\n",
    "end\n",
    "\n",
    "MRS_tradeoff_table"
   ]
  },
  {
   "cell_type": "code",
   "execution_count": null,
   "id": "a5f88dc2-476a-4ccf-a883-e9ee816a1688",
   "metadata": {},
   "outputs": [],
   "source": []
  }
 ],
 "metadata": {
  "kernelspec": {
   "display_name": "Julia 1.9.3",
   "language": "julia",
   "name": "julia-1.9"
  },
  "language_info": {
   "file_extension": ".jl",
   "mimetype": "application/julia",
   "name": "julia",
   "version": "1.9.3"
  }
 },
 "nbformat": 4,
 "nbformat_minor": 5
}
