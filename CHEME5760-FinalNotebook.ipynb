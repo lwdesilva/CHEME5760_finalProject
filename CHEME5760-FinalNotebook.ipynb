{
 "cells": [
  {
   "cell_type": "markdown",
   "id": "7ef110f1-5bca-4c61-a783-bbd948bc2a4f",
   "metadata": {},
   "source": [
    "# CHEME 5760 Final Project \n",
    "Alexandra Buren and Lauren de Silva"
   ]
  },
  {
   "cell_type": "markdown",
   "id": "717bfd27-40f1-4328-ad61-fe0145a90764",
   "metadata": {},
   "source": [
    "# Introduction to Our Project\n",
    "In recent years, it has been increasingly evident that climate change plays and will certaintly play a large role in our generation. While the current generation and generations before us have made extremely large contirbutions <br>\n",
    "to the advancment of our society (hats off to them), their technology was not built with environmental conservation in mind. Not to shade the earlier generations, but as the new gen z population, I feel a extreme sense of resposibility to right the<br>\n",
    "wrongs of the past. Plus, it doesn't help that the chemical engineers of yesteryear have had their hands in some seriously Earth-offending cookie jars (cough cough, O&G and CFCs to name a couple). In my time here I want to avoid going down the same road.<br>\n",
    "    \n",
    "A couple weeks ago, my father, with tears in his eyes, was sollemly thinking about how his favorite daughter (me) is ont he cusp of donning the cap and gown, ready to face the world as a freshly-minted grduate. While this is a great time for him to start saving for retirement, he rather insists on <br>\n",
    "spending his post-child-graduation-wealth on house upgrades, specifically solar PV pannels or solar heating. My Dad, and engineer himself, understands the technology behind these and finds it facinating! but even more facintating? the tax breaks <br>\n",
    "he can scrape up from Maryalnd State governemnt of course! Being the wise man he is, he knows better than to embark on this green adventure without consulting to help him make this decision. \n",
    "\n",
    "Armed with the wisdom gleaned from CHEME 5760 and a dash of youthful exuberance, I set out to assist my father. Because let's face it, I could offer more than just advice; I could dazzle him with the quantitative analyses that would make even a calculator blush.\n"
   ]
  },
  {
   "cell_type": "markdown",
   "id": "22589507-b367-452f-90cb-e3d6cae89ee4",
   "metadata": {
    "jp-MarkdownHeadingCollapsed": true,
    "tags": []
   },
   "source": [
    "<!-- ## Introduction\n",
    "An individual decision-maker (agent) is given a set of $X_{1},\\dotsc,X_{n}$ objects \n",
    "where each object has $m$ possible features $X_{i}=\\left\\{x_{1,i},\\dotsc,x_{m,i}\\right\\}$.\n",
    "A utility function ranks the agent's preference for combinations of features for each object $i$:\n",
    "\n",
    "\\begin{equation}\n",
    "U_{i}(x_{1,i},x_{2,i},\\dots,x_{m,i}) = u_{i}\n",
    "\\end{equation}\n",
    "\n",
    "where $u_{i}$ is a real number called the `utility` for object $i$. Utility has units of `utils`. The utility function $U:X\\rightarrow\\mathbb{R}$ is unique only up to an order-preserving transformation. Utility functions are `ordinal`, i.e., they rank-order bundles but do not measure differences between bundles.\n",
    "\n",
    "### Learning objectives\n",
    "In this example, our goal is to:\n",
    "* Help students understand how to compute the utility of objects based on their features\n",
    "* Teach students how to calculate marginal utility and use it to optimize object features\n",
    "* Introduce the concept of marginal rate of substitution (MRS) and demonstrate how it can be used to understand the trade-offs we make when we are indifferent between features -->"
   ]
  },
  {
   "cell_type": "markdown",
   "id": "f48d3582-ac69-43c8-9e02-c5b819fc6e8d",
   "metadata": {
    "tags": []
   },
   "source": [
    "## Setup"
   ]
  },
  {
   "cell_type": "code",
   "execution_count": 1,
   "id": "5f0d0218-347a-400f-87bd-71298175dd87",
   "metadata": {
    "tags": []
   },
   "outputs": [
    {
     "name": "stderr",
     "output_type": "stream",
     "text": [
      "\u001b[32m\u001b[1m    Updating\u001b[22m\u001b[39m git-repo `https://github.com/varnerlab/VLDecisionsPackage.jl.git`\n",
      "\u001b[32m\u001b[1m   Resolving\u001b[22m\u001b[39m package versions...\n",
      "\u001b[32m\u001b[1m  No Changes\u001b[22m\u001b[39m to `C:\\Users\\lwdes\\CHEME 5760\\CHEME5760_finalProject\\Project.toml`\n",
      "\u001b[32m\u001b[1m  No Changes\u001b[22m\u001b[39m to `C:\\Users\\lwdes\\CHEME 5760\\CHEME5760_finalProject\\Manifest.toml`\n",
      "\u001b[32m\u001b[1m   Resolving\u001b[22m\u001b[39m package versions...\n",
      "\u001b[32m\u001b[1m  No Changes\u001b[22m\u001b[39m to `C:\\Users\\lwdes\\CHEME 5760\\CHEME5760_finalProject\\Project.toml`\n",
      "\u001b[32m\u001b[1m  No Changes\u001b[22m\u001b[39m to `C:\\Users\\lwdes\\CHEME 5760\\CHEME5760_finalProject\\Manifest.toml`\n",
      "\u001b[32m\u001b[1m   Resolving\u001b[22m\u001b[39m package versions...\n",
      "\u001b[32m\u001b[1m  No Changes\u001b[22m\u001b[39m to `C:\\Users\\lwdes\\CHEME 5760\\CHEME5760_finalProject\\Project.toml`\n",
      "\u001b[32m\u001b[1m  No Changes\u001b[22m\u001b[39m to `C:\\Users\\lwdes\\CHEME 5760\\CHEME5760_finalProject\\Manifest.toml`\n",
      "\u001b[32m\u001b[1m   Resolving\u001b[22m\u001b[39m package versions...\n",
      "\u001b[32m\u001b[1m  No Changes\u001b[22m\u001b[39m to `C:\\Users\\lwdes\\CHEME 5760\\CHEME5760_finalProject\\Project.toml`\n",
      "\u001b[32m\u001b[1m  No Changes\u001b[22m\u001b[39m to `C:\\Users\\lwdes\\CHEME 5760\\CHEME5760_finalProject\\Manifest.toml`\n"
     ]
    }
   ],
   "source": [
    "using Pkg\n",
    "Pkg.add(path=\"https://github.com/varnerlab/VLDecisionsPackage.jl.git\")\n",
    "Pkg.add(\"CSV\")\n",
    "Pkg.add(\"DataFrames\")\n",
    "Pkg.add(\"ForwardDiff\")"
   ]
  },
  {
   "cell_type": "code",
   "execution_count": 2,
   "id": "f6d5a05c-1eb9-4929-9852-8cd23a85e8f7",
   "metadata": {
    "tags": []
   },
   "outputs": [
    {
     "name": "stderr",
     "output_type": "stream",
     "text": [
      "\u001b[32m\u001b[1m  Activating\u001b[22m\u001b[39m project at `C:\\Users\\lwdes\\CHEME 5760\\CHEME5760_finalProject`\n",
      "\u001b[32m\u001b[1m    Updating\u001b[22m\u001b[39m registry at `C:\\Users\\lwdes\\.julia\\registries\\General`\n",
      "\u001b[32m\u001b[1m    Updating\u001b[22m\u001b[39m git-repo `https://github.com/JuliaRegistries/General.git`\n",
      "\u001b[32m\u001b[1m    Updating\u001b[22m\u001b[39m git-repo `https://github.com/varnerlab/VLDecisionsPackage.jl.git`\n",
      "\u001b[32m\u001b[1m  No Changes\u001b[22m\u001b[39m to `C:\\Users\\lwdes\\CHEME 5760\\CHEME5760_finalProject\\Project.toml`\n",
      "\u001b[32m\u001b[1m  No Changes\u001b[22m\u001b[39m to `C:\\Users\\lwdes\\CHEME 5760\\CHEME5760_finalProject\\Manifest.toml`\n"
     ]
    }
   ],
   "source": [
    "include(\"Include.jl\");"
   ]
  },
  {
   "cell_type": "code",
   "execution_count": 25,
   "id": "49a37f36-fd1b-4b15-bf7e-4dc458722d77",
   "metadata": {
    "tags": []
   },
   "outputs": [
    {
     "data": {
      "text/plain": [
       "UCD (generic function with 1 method)"
      ]
     },
     "execution_count": 25,
     "metadata": {},
     "output_type": "execute_result"
    }
   ],
   "source": [
    "function UCD(x)\n",
    "    \n",
    "    # load data -\n",
    "    dataset = SolarPVSet();\n",
    "    α = dataset[:,:\"Exponent \"];\n",
    "    \n",
    "    number_of_features = length(x);\n",
    "    solution = 1.0;\n",
    "\n",
    "    # build the solution -\n",
    "    for i ∈ 1:number_of_features\n",
    "        solution *= x[i]^α[i];\n",
    "    end\n",
    "\n",
    "    # return - \n",
    "    return solution;\n",
    "end"
   ]
  },
  {
   "cell_type": "code",
   "execution_count": 4,
   "id": "6f1dabd2-c475-4d80-8034-80f0e0af9bf5",
   "metadata": {
    "tags": []
   },
   "outputs": [
    {
     "data": {
      "text/plain": [
       "MUCD (generic function with 1 method)"
      ]
     },
     "execution_count": 4,
     "metadata": {},
     "output_type": "execute_result"
    }
   ],
   "source": [
    "function MUCD(model::VLCobbDouglasUtilityFunction, features::Array{Float64,1})::Array{Float64,1}\n",
    "    \n",
    "    # initialize -\n",
    "    number_of_features = length(features);\n",
    "    values = zeros(number_of_features);\n",
    "    α = model.α;\n",
    "    \n",
    "    for i ∈ 1:number_of_features\n",
    "        tmp = prod(features[1:end .!=i].^(α[1:end .!=i]));\n",
    "        values[i] = tmp*(α[i]*features[i]^(α[i]-1))\n",
    "    end\n",
    "    \n",
    "    # return -\n",
    "    return values\n",
    "end"
   ]
  },
  {
   "cell_type": "markdown",
   "id": "6b7c88da-7703-4d47-a120-a00ede742765",
   "metadata": {},
   "source": [
    "## Data"
   ]
  },
  {
   "cell_type": "code",
   "execution_count": 5,
   "id": "e535c1b8-ea19-47eb-9eec-8aa21f43cf28",
   "metadata": {},
   "outputs": [],
   "source": [
    "current_directory=pwd();\n",
    "filename=\"PVvsSolarHeating.csv\";\n",
    "full_path=joinpath(current_directory,filename);"
   ]
  },
  {
   "cell_type": "code",
   "execution_count": 6,
   "id": "f0ccd0e4-3543-4e57-934c-7d6aecd30b2d",
   "metadata": {},
   "outputs": [],
   "source": [
    "using DataFrames\n",
    "using CSV\n",
    "function _load(path::String)::DataFrame\n",
    "    return CSV.read(path, DataFrame);\n",
    "end\n",
    "\n",
    "# short circuit the loading of the data -\n",
    "SolarPVSet() = _load(full_path);"
   ]
  },
  {
   "cell_type": "code",
   "execution_count": 7,
   "id": "ba6146fa-d523-4bb4-82e1-995dd6c79f85",
   "metadata": {},
   "outputs": [
    {
     "data": {
      "text/html": [
       "<div><div style = \"float: left;\"><span>7×5 DataFrame</span></div><div style = \"clear: both;\"></div></div><div class = \"data-frame\" style = \"overflow-x: scroll;\"><table class = \"data-frame\" style = \"margin-bottom: 6px;\"><thead><tr class = \"header\"><th class = \"rowNumber\" style = \"font-weight: bold; text-align: right;\">Row</th><th style = \"text-align: left;\">Row </th><th style = \"text-align: left;\">Feature </th><th style = \"text-align: left;\">Exponent </th><th style = \"text-align: left;\">Solar voltaic </th><th style = \"text-align: left;\">Solar Hot Water Heating </th></tr><tr class = \"subheader headerLastRow\"><th class = \"rowNumber\" style = \"font-weight: bold; text-align: right;\"></th><th title = \"Int64\" style = \"text-align: left;\">Int64</th><th title = \"String\" style = \"text-align: left;\">String</th><th title = \"Float64\" style = \"text-align: left;\">Float64</th><th title = \"Float64\" style = \"text-align: left;\">Float64</th><th title = \"Float64\" style = \"text-align: left;\">Float64</th></tr></thead><tbody><tr><td class = \"rowNumber\" style = \"font-weight: bold; text-align: right;\">1</td><td style = \"text-align: right;\">1</td><td style = \"text-align: left;\">Asthetic </td><td style = \"text-align: right;\">0.05</td><td style = \"text-align: right;\">8.0</td><td style = \"text-align: right;\">6.0</td></tr><tr><td class = \"rowNumber\" style = \"font-weight: bold; text-align: right;\">2</td><td style = \"text-align: right;\">2</td><td style = \"text-align: left;\">CO2 emission reduction/Sustainability Factor </td><td style = \"text-align: right;\">0.3</td><td style = \"text-align: right;\">4.0</td><td style = \"text-align: right;\">8.0</td></tr><tr><td class = \"rowNumber\" style = \"font-weight: bold; text-align: right;\">3</td><td style = \"text-align: right;\">3</td><td style = \"text-align: left;\">Accessibility </td><td style = \"text-align: right;\">0.05</td><td style = \"text-align: right;\">5.0</td><td style = \"text-align: right;\">5.0</td></tr><tr><td class = \"rowNumber\" style = \"font-weight: bold; text-align: right;\">4</td><td style = \"text-align: right;\">4</td><td style = \"text-align: left;\">Reliability </td><td style = \"text-align: right;\">0.25</td><td style = \"text-align: right;\">3.0</td><td style = \"text-align: right;\">4.0</td></tr><tr><td class = \"rowNumber\" style = \"font-weight: bold; text-align: right;\">5</td><td style = \"text-align: right;\">5</td><td style = \"text-align: left;\">Initial Capital Investment </td><td style = \"text-align: right;\">0.05</td><td style = \"text-align: right;\">6.0</td><td style = \"text-align: right;\">7.0</td></tr><tr><td class = \"rowNumber\" style = \"font-weight: bold; text-align: right;\">6</td><td style = \"text-align: right;\">6</td><td style = \"text-align: left;\">Incentives </td><td style = \"text-align: right;\">0.25</td><td style = \"text-align: right;\">8.0</td><td style = \"text-align: right;\">4.0</td></tr><tr><td class = \"rowNumber\" style = \"font-weight: bold; text-align: right;\">7</td><td style = \"text-align: right;\">7</td><td style = \"text-align: left;\">Emissions from materials</td><td style = \"text-align: right;\">0.05</td><td style = \"text-align: right;\">7.0</td><td style = \"text-align: right;\">6.0</td></tr></tbody></table></div>"
      ],
      "text/latex": [
       "\\begin{tabular}{r|ccccc}\n",
       "\t& Row  & Feature  & Exponent  & Solar voltaic  & \\\\\n",
       "\t\\hline\n",
       "\t& Int64 & String & Float64 & Float64 & \\\\\n",
       "\t\\hline\n",
       "\t1 & 1 & Asthetic  & 0.05 & 8.0 & $\\dots$ \\\\\n",
       "\t2 & 2 & CO2 emission reduction/Sustainability Factor  & 0.3 & 4.0 & $\\dots$ \\\\\n",
       "\t3 & 3 & Accessibility  & 0.05 & 5.0 & $\\dots$ \\\\\n",
       "\t4 & 4 & Reliability  & 0.25 & 3.0 & $\\dots$ \\\\\n",
       "\t5 & 5 & Initial Capital Investment  & 0.05 & 6.0 & $\\dots$ \\\\\n",
       "\t6 & 6 & Incentives  & 0.25 & 8.0 & $\\dots$ \\\\\n",
       "\t7 & 7 & Emissions from materials & 0.05 & 7.0 & $\\dots$ \\\\\n",
       "\\end{tabular}\n"
      ],
      "text/plain": [
       "\u001b[1m7×5 DataFrame\u001b[0m\n",
       "\u001b[1m Row \u001b[0m│\u001b[1m Row   \u001b[0m\u001b[1m Feature                           \u001b[0m\u001b[1m Exponent  \u001b[0m\u001b[1m Solar voltaic  \u001b[0m\u001b[1m So\u001b[0m ⋯\n",
       "     │\u001b[90m Int64 \u001b[0m\u001b[90m String                            \u001b[0m\u001b[90m Float64   \u001b[0m\u001b[90m Float64        \u001b[0m\u001b[90m Fl\u001b[0m ⋯\n",
       "─────┼──────────────────────────────────────────────────────────────────────────\n",
       "   1 │     1  Asthetic                                0.05             8.0     ⋯\n",
       "   2 │     2  CO2 emission reduction/Sustainab…       0.3              4.0\n",
       "   3 │     3  Accessibility                           0.05             5.0\n",
       "   4 │     4  Reliability                             0.25             3.0\n",
       "   5 │     5  Initial Capital Investment              0.05             6.0     ⋯\n",
       "   6 │     6  Incentives                              0.25             8.0\n",
       "   7 │     7  Emissions from materials                0.05             7.0\n",
       "\u001b[36m                                                                1 column omitted\u001b[0m"
      ]
     },
     "execution_count": 7,
     "metadata": {},
     "output_type": "execute_result"
    }
   ],
   "source": [
    "dataset=SolarPVSet()"
   ]
  },
  {
   "cell_type": "code",
   "execution_count": 8,
   "id": "fc59c38b-d45b-4189-92be-b2678a3cf996",
   "metadata": {
    "tags": []
   },
   "outputs": [],
   "source": [
    "@assert(sum(dataset[:,:\"Exponent \"]) == 1.0)"
   ]
  },
  {
   "cell_type": "code",
   "execution_count": 9,
   "id": "93300e0a-f160-49b8-85cc-252ba4e7dd2a",
   "metadata": {},
   "outputs": [],
   "source": [
    "# Example evaluate function (replace with actual implementation)\n",
    "(model::VLCobbDouglasUtilityFunction)(x::Vector{Float64}) = evaluate(model, x);"
   ]
  },
  {
   "cell_type": "markdown",
   "id": "2a96deef-c9e4-4bce-8608-402cd5131e9d",
   "metadata": {
    "tags": []
   },
   "source": [
    "### Build the Cobb-Douglas model\n",
    "The `Cobb-Douglas` utility function is the product of the $m$ feature variables.  Thus, \n",
    "it models situations where we consider features simultaneously. Each feature variable is raised to a non-negative exponent:\n",
    "\n",
    "\\begin{equation}\n",
    "U(x_{1},\\dots,x_{m}) = \\prod_{i\\in{1\\dots{m}}}{x_{i}^{\\alpha_{i}}}\n",
    "\\end{equation}\n",
    "\n",
    "In our realization of the `Cobb-Douglas` utility, the exponents must sum to unity $\\sum_{i\\in{1\\dots{m}}}\\alpha_{i} = 1$, $x_{i}\\geq{0}$,\n",
    "and $\\alpha_{i}\\geq{0}$. For this model, the marginal utility for fearure $i$ is given by:\n",
    "\n",
    "$$\n",
    "\\bar{U}_{x_{i}} = \\left(\\alpha_{i}\\cdot{x_{i}}^{\\alpha_{i}-1}\\right)\\cdot\\left(\\prod_{j=1,i}^{m}x_{j}^{\\alpha_{j}}\\right)\n",
    "$$"
   ]
  },
  {
   "cell_type": "code",
   "execution_count": 10,
   "id": "1f68623c-e230-47c3-a7e1-b73a918400cb",
   "metadata": {
    "tags": []
   },
   "outputs": [],
   "source": [
    "model = build(VLCobbDouglasUtilityFunction, (\n",
    "        α = dataset[:,:\"Exponent \"],)\n",
    ");"
   ]
  },
  {
   "cell_type": "code",
   "execution_count": 11,
   "id": "e487f006-fcee-416d-8c41-d9be5f81daab",
   "metadata": {
    "tags": []
   },
   "outputs": [
    {
     "name": "stdout",
     "output_type": "stream",
     "text": [
      "The utility of Solar Voltaics = 4.86335835853647 while the utility of the Solar heating = 5.333048324892905\n"
     ]
    }
   ],
   "source": [
    "utility_solarVoltaic = model(dataset[:,:\"Solar voltaic \"]);\n",
    "utility_solarWaterHeating = model(dataset[:,:\"Solar Hot Water Heating \"]);\n",
    "println(\"The utility of Solar Voltaics = $(utility_solarVoltaic) while the utility of the Solar heating = $(utility_solarWaterHeating)\")"
   ]
  },
  {
   "cell_type": "markdown",
   "id": "0c1b17b1-13a6-447e-8f4e-4656c5c7b47e",
   "metadata": {},
   "source": [
    "### Perception model\n",
    "Let's suppose we can perceive differences in utility of 1% or greater"
   ]
  },
  {
   "cell_type": "code",
   "execution_count": 21,
   "id": "00b2c31f-4f7b-4cfc-9133-dd7d9849528f",
   "metadata": {
    "tags": []
   },
   "outputs": [
    {
     "data": {
      "text/plain": [
       "9.65772891343708"
      ]
     },
     "execution_count": 21,
     "metadata": {},
     "output_type": "execute_result"
    }
   ],
   "source": [
    "Δ = ((max(utility_solarVoltaic,utility_solarWaterHeating) - min(utility_solarVoltaic,utility_solarWaterHeating))/min(utility_solarVoltaic,utility_solarWaterHeating))*100"
   ]
  },
  {
   "cell_type": "code",
   "execution_count": 28,
   "id": "cd6f2cd4-0388-49eb-9e5f-6eef116dd338",
   "metadata": {},
   "outputs": [
    {
     "data": {
      "text/html": [
       "<div><div style = \"float: left;\"><span>7×5 DataFrame</span></div><div style = \"clear: both;\"></div></div><div class = \"data-frame\" style = \"overflow-x: scroll;\"><table class = \"data-frame\" style = \"margin-bottom: 6px;\"><thead><tr class = \"header\"><th class = \"rowNumber\" style = \"font-weight: bold; text-align: right;\">Row</th><th style = \"text-align: left;\">feature</th><th style = \"text-align: left;\">S_solarVoltaic</th><th style = \"text-align: left;\">MU_solarVoltaic</th><th style = \"text-align: left;\">S_solarWaterHeating</th><th style = \"text-align: left;\">MU_solarWaterHeating</th></tr><tr class = \"subheader headerLastRow\"><th class = \"rowNumber\" style = \"font-weight: bold; text-align: right;\"></th><th title = \"String\" style = \"text-align: left;\">String</th><th title = \"Float64\" style = \"text-align: left;\">Float64</th><th title = \"Float64\" style = \"text-align: left;\">Float64</th><th title = \"Float64\" style = \"text-align: left;\">Float64</th><th title = \"Float64\" style = \"text-align: left;\">Float64</th></tr></thead><tbody><tr><td class = \"rowNumber\" style = \"font-weight: bold; text-align: right;\">1</td><td style = \"text-align: left;\">Asthetic </td><td style = \"text-align: right;\">8.0</td><td style = \"text-align: right;\">0.030396</td><td style = \"text-align: right;\">6.0</td><td style = \"text-align: right;\">0.0444421</td></tr><tr><td class = \"rowNumber\" style = \"font-weight: bold; text-align: right;\">2</td><td style = \"text-align: left;\">CO2 emission reduction/Sustainability Factor </td><td style = \"text-align: right;\">4.0</td><td style = \"text-align: right;\">0.364752</td><td style = \"text-align: right;\">8.0</td><td style = \"text-align: right;\">0.199989</td></tr><tr><td class = \"rowNumber\" style = \"font-weight: bold; text-align: right;\">3</td><td style = \"text-align: left;\">Accessibility </td><td style = \"text-align: right;\">5.0</td><td style = \"text-align: right;\">0.0486336</td><td style = \"text-align: right;\">5.0</td><td style = \"text-align: right;\">0.0533305</td></tr><tr><td class = \"rowNumber\" style = \"font-weight: bold; text-align: right;\">4</td><td style = \"text-align: left;\">Reliability </td><td style = \"text-align: right;\">3.0</td><td style = \"text-align: right;\">0.40528</td><td style = \"text-align: right;\">4.0</td><td style = \"text-align: right;\">0.333316</td></tr><tr><td class = \"rowNumber\" style = \"font-weight: bold; text-align: right;\">5</td><td style = \"text-align: left;\">Initial Capital Investment </td><td style = \"text-align: right;\">6.0</td><td style = \"text-align: right;\">0.040528</td><td style = \"text-align: right;\">7.0</td><td style = \"text-align: right;\">0.0380932</td></tr><tr><td class = \"rowNumber\" style = \"font-weight: bold; text-align: right;\">6</td><td style = \"text-align: left;\">Incentives </td><td style = \"text-align: right;\">8.0</td><td style = \"text-align: right;\">0.15198</td><td style = \"text-align: right;\">4.0</td><td style = \"text-align: right;\">0.333316</td></tr><tr><td class = \"rowNumber\" style = \"font-weight: bold; text-align: right;\">7</td><td style = \"text-align: left;\">Emissions from materials</td><td style = \"text-align: right;\">7.0</td><td style = \"text-align: right;\">0.0347383</td><td style = \"text-align: right;\">6.0</td><td style = \"text-align: right;\">0.0444421</td></tr></tbody></table></div>"
      ],
      "text/latex": [
       "\\begin{tabular}{r|cccc}\n",
       "\t& feature & S\\_solarVoltaic & MU\\_solarVoltaic & \\\\\n",
       "\t\\hline\n",
       "\t& String & Float64 & Float64 & \\\\\n",
       "\t\\hline\n",
       "\t1 & Asthetic  & 8.0 & 0.030396 & $\\dots$ \\\\\n",
       "\t2 & CO2 emission reduction/Sustainability Factor  & 4.0 & 0.364752 & $\\dots$ \\\\\n",
       "\t3 & Accessibility  & 5.0 & 0.0486336 & $\\dots$ \\\\\n",
       "\t4 & Reliability  & 3.0 & 0.40528 & $\\dots$ \\\\\n",
       "\t5 & Initial Capital Investment  & 6.0 & 0.040528 & $\\dots$ \\\\\n",
       "\t6 & Incentives  & 8.0 & 0.15198 & $\\dots$ \\\\\n",
       "\t7 & Emissions from materials & 7.0 & 0.0347383 & $\\dots$ \\\\\n",
       "\\end{tabular}\n"
      ],
      "text/plain": [
       "\u001b[1m7×5 DataFrame\u001b[0m\n",
       "\u001b[1m Row \u001b[0m│\u001b[1m feature                           \u001b[0m\u001b[1m S_solarVoltaic \u001b[0m\u001b[1m MU_solarVoltaic \u001b[0m\u001b[1m S_s\u001b[0m ⋯\n",
       "     │\u001b[90m String                            \u001b[0m\u001b[90m Float64        \u001b[0m\u001b[90m Float64         \u001b[0m\u001b[90m Flo\u001b[0m ⋯\n",
       "─────┼──────────────────────────────────────────────────────────────────────────\n",
       "   1 │ Asthetic                                      8.0        0.030396       ⋯\n",
       "   2 │ CO2 emission reduction/Sustainab…             4.0        0.364752\n",
       "   3 │ Accessibility                                 5.0        0.0486336\n",
       "   4 │ Reliability                                   3.0        0.40528\n",
       "   5 │ Initial Capital Investment                    6.0        0.040528       ⋯\n",
       "   6 │ Incentives                                    8.0        0.15198\n",
       "   7 │ Emissions from materials                      7.0        0.0347383\n",
       "\u001b[36m                                                               2 columns omitted\u001b[0m"
      ]
     },
     "execution_count": 28,
     "metadata": {},
     "output_type": "execute_result"
    }
   ],
   "source": [
    "using ForwardDiff\n",
    "Ū_solarVoltaic = ForwardDiff.gradient(UCD, dataset[:,:\"Solar voltaic \"]);\n",
    "Ū_solarWaterHeating = ForwardDiff.gradient(UCD, dataset[:,:\"Solar Hot Water Heating \"]);\n",
    "mu_table_df = DataFrame();\n",
    "for i ∈ eachindex(Ū_solarVoltaic)\n",
    "    \n",
    "    row_tuple = (\n",
    "        feature = dataset[i,:\"Feature \"],\n",
    "        S_solarVoltaic = dataset[i,:\"Solar voltaic \"],\n",
    "        MU_solarVoltaic = Ū_solarVoltaic[i],\n",
    "        S_solarWaterHeating = dataset[i,:\"Solar Hot Water Heating \"],\n",
    "        MU_solarWaterHeating = Ū_solarWaterHeating[i]\n",
    "    );\n",
    "\n",
    "    push!(mu_table_df, row_tuple);\n",
    "end\n",
    "mu_table_df\n"
   ]
  },
  {
   "cell_type": "markdown",
   "id": "4e15ce68-a04a-49c5-9bdf-aabfde0bdba3",
   "metadata": {
    "jp-MarkdownHeadingCollapsed": true,
    "tags": []
   },
   "source": [
    "### Check: How good is the numerical estimate of the marginal utlity?"
   ]
  },
  {
   "cell_type": "code",
   "execution_count": 31,
   "id": "e87fd629-eb47-4579-84da-a08b43081032",
   "metadata": {
    "tags": []
   },
   "outputs": [
    {
     "data": {
      "text/html": [
       "<div><div style = \"float: left;\"><span>7×4 DataFrame</span></div><div style = \"clear: both;\"></div></div><div class = \"data-frame\" style = \"overflow-x: scroll;\"><table class = \"data-frame\" style = \"margin-bottom: 6px;\"><thead><tr class = \"header\"><th class = \"rowNumber\" style = \"font-weight: bold; text-align: right;\">Row</th><th style = \"text-align: left;\">feature</th><th style = \"text-align: left;\">S_solarVoltaic</th><th style = \"text-align: left;\">MU_N_solarVoltaic</th><th style = \"text-align: left;\">MU_A_solarVoltaic</th></tr><tr class = \"subheader headerLastRow\"><th class = \"rowNumber\" style = \"font-weight: bold; text-align: right;\"></th><th title = \"String\" style = \"text-align: left;\">String</th><th title = \"Float64\" style = \"text-align: left;\">Float64</th><th title = \"Float64\" style = \"text-align: left;\">Float64</th><th title = \"Float64\" style = \"text-align: left;\">Float64</th></tr></thead><tbody><tr><td class = \"rowNumber\" style = \"font-weight: bold; text-align: right;\">1</td><td style = \"text-align: left;\">Asthetic </td><td style = \"text-align: right;\">8.0</td><td style = \"text-align: right;\">0.030396</td><td style = \"text-align: right;\">0.030396</td></tr><tr><td class = \"rowNumber\" style = \"font-weight: bold; text-align: right;\">2</td><td style = \"text-align: left;\">CO2 emission reduction/Sustainability Factor </td><td style = \"text-align: right;\">4.0</td><td style = \"text-align: right;\">0.364752</td><td style = \"text-align: right;\">0.364752</td></tr><tr><td class = \"rowNumber\" style = \"font-weight: bold; text-align: right;\">3</td><td style = \"text-align: left;\">Accessibility </td><td style = \"text-align: right;\">5.0</td><td style = \"text-align: right;\">0.0486336</td><td style = \"text-align: right;\">0.0486336</td></tr><tr><td class = \"rowNumber\" style = \"font-weight: bold; text-align: right;\">4</td><td style = \"text-align: left;\">Reliability </td><td style = \"text-align: right;\">3.0</td><td style = \"text-align: right;\">0.40528</td><td style = \"text-align: right;\">0.40528</td></tr><tr><td class = \"rowNumber\" style = \"font-weight: bold; text-align: right;\">5</td><td style = \"text-align: left;\">Initial Capital Investment </td><td style = \"text-align: right;\">6.0</td><td style = \"text-align: right;\">0.040528</td><td style = \"text-align: right;\">0.040528</td></tr><tr><td class = \"rowNumber\" style = \"font-weight: bold; text-align: right;\">6</td><td style = \"text-align: left;\">Incentives </td><td style = \"text-align: right;\">8.0</td><td style = \"text-align: right;\">0.15198</td><td style = \"text-align: right;\">0.15198</td></tr><tr><td class = \"rowNumber\" style = \"font-weight: bold; text-align: right;\">7</td><td style = \"text-align: left;\">Emissions from materials</td><td style = \"text-align: right;\">7.0</td><td style = \"text-align: right;\">0.0347383</td><td style = \"text-align: right;\">0.0347383</td></tr></tbody></table></div>"
      ],
      "text/latex": [
       "\\begin{tabular}{r|cccc}\n",
       "\t& feature & S\\_solarVoltaic & MU\\_N\\_solarVoltaic & \\\\\n",
       "\t\\hline\n",
       "\t& String & Float64 & Float64 & \\\\\n",
       "\t\\hline\n",
       "\t1 & Asthetic  & 8.0 & 0.030396 & $\\dots$ \\\\\n",
       "\t2 & CO2 emission reduction/Sustainability Factor  & 4.0 & 0.364752 & $\\dots$ \\\\\n",
       "\t3 & Accessibility  & 5.0 & 0.0486336 & $\\dots$ \\\\\n",
       "\t4 & Reliability  & 3.0 & 0.40528 & $\\dots$ \\\\\n",
       "\t5 & Initial Capital Investment  & 6.0 & 0.040528 & $\\dots$ \\\\\n",
       "\t6 & Incentives  & 8.0 & 0.15198 & $\\dots$ \\\\\n",
       "\t7 & Emissions from materials & 7.0 & 0.0347383 & $\\dots$ \\\\\n",
       "\\end{tabular}\n"
      ],
      "text/plain": [
       "\u001b[1m7×4 DataFrame\u001b[0m\n",
       "\u001b[1m Row \u001b[0m│\u001b[1m feature                           \u001b[0m\u001b[1m S_solarVoltaic \u001b[0m\u001b[1m MU_N_solarVoltaic \u001b[0m\u001b[1m M\u001b[0m ⋯\n",
       "     │\u001b[90m String                            \u001b[0m\u001b[90m Float64        \u001b[0m\u001b[90m Float64           \u001b[0m\u001b[90m F\u001b[0m ⋯\n",
       "─────┼──────────────────────────────────────────────────────────────────────────\n",
       "   1 │ Asthetic                                      8.0          0.030396     ⋯\n",
       "   2 │ CO2 emission reduction/Sustainab…             4.0          0.364752\n",
       "   3 │ Accessibility                                 5.0          0.0486336\n",
       "   4 │ Reliability                                   3.0          0.40528\n",
       "   5 │ Initial Capital Investment                    6.0          0.040528     ⋯\n",
       "   6 │ Incentives                                    8.0          0.15198\n",
       "   7 │ Emissions from materials                      7.0          0.0347383\n",
       "\u001b[36m                                                                1 column omitted\u001b[0m"
      ]
     },
     "execution_count": 31,
     "metadata": {},
     "output_type": "execute_result"
    }
   ],
   "source": [
    "analytical_MU = MUCD(model,dataset[:,\"Solar voltaic \"]);\n",
    "numerical_versus_analytical_df = DataFrame();\n",
    "for i ∈ eachindex(Ū_solarVoltaic)\n",
    "    \n",
    "    row_tuple = (\n",
    "        feature = dataset[i,:\"Feature \"],\n",
    "        S_solarVoltaic = dataset[i,:\"Solar voltaic \"],\n",
    "        MU_N_solarVoltaic = Ū_solarVoltaic[i],\n",
    "        MU_A_solarVoltaic = analytical_MU[i],\n",
    "    );\n",
    "\n",
    "    push!(numerical_versus_analytical_df, row_tuple);\n",
    "end\n",
    "numerical_versus_analytical_df"
   ]
  },
  {
   "cell_type": "markdown",
   "id": "6835316a-e6a5-4276-ae89-0ec11c61416e",
   "metadata": {},
   "source": [
    "### Predicting Utility from feature changes\n",
    "An individual decision-maker (agent) is given a set of $X_{1},\\dotsc, X_{n}$ objects \n",
    "where each object has $m$ possible features $X_{i}=\\left\\{x_{1,i} \\dotsc ,x_{m,i}\\right\\}$.\n",
    "The _local change_ in the utility $U(\\dots)$ near a point $x^{\\star}\\in{X}$ can be computed \n",
    "using the _total differential_ of the utility function $U(\\dots)$:\n",
    "\n",
    "\\begin{equation}\n",
    "dU = \\sum_{i\\in{1\\dots{m}}}\\bar{U}_{x_{i}}\\cdot{dx_{i}}\n",
    "\\end{equation}\n",
    "\n",
    "where $dU\\approx\\left(U - U^{\\star}\\right)$ denotes the local change in utility, \n",
    "$\\bar{U}_{x_{i}}$ denotes the marginal utility of $x_{i}$ evaluated at the point $x^{\\star}\\in{X}$, \n",
    "and $dx_{i}\\approx(x_{i}-x^{\\star}_{i})$ is the change in the feature $x_{i}$. \n",
    "\n",
    "#### Application\n",
    "In this example, the `usefulness` feature has the largest marginal utility for Tesla. What would happen to the Model S utility if Tesla were to increase the `usefulness` feature by `+1`? If all else was held constant (`omnibus paribus`), then the change of `dx` in a single feature `i` gives the new utility:\n",
    "\n",
    "$$\n",
    "\\begin{equation}\n",
    "U = U^{\\star} + \\bar{U}_{i}\\cdot{dx_{i}}\n",
    "\\end{equation}\n",
    "$$"
   ]
  },
  {
   "cell_type": "code",
   "execution_count": 32,
   "id": "6e29482e-7d6b-4562-a989-38b49c50eaaf",
   "metadata": {
    "tags": []
   },
   "outputs": [
    {
     "data": {
      "text/plain": [
       "5.2686382217478425"
      ]
     },
     "execution_count": 32,
     "metadata": {},
     "output_type": "execute_result"
    }
   ],
   "source": [
    "dx = zeros(length(Ū_solarVoltaic));\n",
    "dx[4] = 1.0;\n",
    "U = utility_solarVoltaic + sum(Ū_solarVoltaic.*dx)"
   ]
  },
  {
   "cell_type": "markdown",
   "id": "ea9908b2-57d5-4764-a575-18a46f29e271",
   "metadata": {},
   "source": [
    "## Marginal rate of substitution (MRS)\n",
    "The marginal rate of substitution describes the rate at which a consumer is willing to trade one good (or feature) for another. \n",
    "For a utility function $U:X\\rightarrow\\mathbb{R}$, the marginal rate of substitution between any two goods (or features) $x_{i}$ and $x_{j}$ \n",
    "along an \\textit{indifference curve} with utility $U^{\\star}$, i.e., a curve with utility $U^{\\star}$ and $dU = 0$, is given by:\n",
    "\n",
    "$$\n",
    "\\begin{equation}\n",
    "\\bar{U}_{x_{i}}\\,dx_{i} = -\\bar{U}_{x_{j}}\\,dx_{j}\\qquad{\\forall{i\\neq{j}}}\n",
    "\\end{equation}\n",
    "$$\n",
    "\n",
    "or equivalently:\n",
    "\n",
    "$$\n",
    "\\begin{equation}\n",
    "\\frac{dx_{i}}{dx_{j}} = -\\frac{\\bar{U}_{x_{j}}}{\\bar{U}_{x_{i}}}\\qquad{\\forall{i\\neq{j}}}\n",
    "\\end{equation}\n",
    "$$"
   ]
  },
  {
   "cell_type": "markdown",
   "id": "c381cd06-f9b9-4724-a0f3-4bd78bb49ee1",
   "metadata": {},
   "source": [
    "#### What am I willing to give up for a unit of affordability?"
   ]
  },
  {
   "cell_type": "code",
   "execution_count": 34,
   "id": "332c85ec-6795-4a77-8762-fd5cf03956a2",
   "metadata": {
    "tags": []
   },
   "outputs": [
    {
     "data": {
      "text/html": [
       "<div><div style = \"float: left;\"><span>6×3 DataFrame</span></div><div style = \"clear: both;\"></div></div><div class = \"data-frame\" style = \"overflow-x: scroll;\"><table class = \"data-frame\" style = \"margin-bottom: 6px;\"><thead><tr class = \"header\"><th class = \"rowNumber\" style = \"font-weight: bold; text-align: right;\">Row</th><th style = \"text-align: left;\">feature</th><th style = \"text-align: left;\">affordability</th><th style = \"text-align: left;\">MRS_solarVoltaic</th></tr><tr class = \"subheader headerLastRow\"><th class = \"rowNumber\" style = \"font-weight: bold; text-align: right;\"></th><th title = \"String\" style = \"text-align: left;\">String</th><th title = \"Int64\" style = \"text-align: left;\">Int64</th><th title = \"Float64\" style = \"text-align: left;\">Float64</th></tr></thead><tbody><tr><td class = \"rowNumber\" style = \"font-weight: bold; text-align: right;\">1</td><td style = \"text-align: left;\">Asthetic </td><td style = \"text-align: right;\">1</td><td style = \"text-align: right;\">-12.0</td></tr><tr><td class = \"rowNumber\" style = \"font-weight: bold; text-align: right;\">2</td><td style = \"text-align: left;\">Accessibility </td><td style = \"text-align: right;\">1</td><td style = \"text-align: right;\">-7.5</td></tr><tr><td class = \"rowNumber\" style = \"font-weight: bold; text-align: right;\">3</td><td style = \"text-align: left;\">Reliability </td><td style = \"text-align: right;\">1</td><td style = \"text-align: right;\">-0.9</td></tr><tr><td class = \"rowNumber\" style = \"font-weight: bold; text-align: right;\">4</td><td style = \"text-align: left;\">Initial Capital Investment </td><td style = \"text-align: right;\">1</td><td style = \"text-align: right;\">-9.0</td></tr><tr><td class = \"rowNumber\" style = \"font-weight: bold; text-align: right;\">5</td><td style = \"text-align: left;\">Incentives </td><td style = \"text-align: right;\">1</td><td style = \"text-align: right;\">-2.4</td></tr><tr><td class = \"rowNumber\" style = \"font-weight: bold; text-align: right;\">6</td><td style = \"text-align: left;\">Emissions from materials</td><td style = \"text-align: right;\">1</td><td style = \"text-align: right;\">-10.5</td></tr></tbody></table></div>"
      ],
      "text/latex": [
       "\\begin{tabular}{r|ccc}\n",
       "\t& feature & affordability & MRS\\_solarVoltaic\\\\\n",
       "\t\\hline\n",
       "\t& String & Int64 & Float64\\\\\n",
       "\t\\hline\n",
       "\t1 & Asthetic  & 1 & -12.0 \\\\\n",
       "\t2 & Accessibility  & 1 & -7.5 \\\\\n",
       "\t3 & Reliability  & 1 & -0.9 \\\\\n",
       "\t4 & Initial Capital Investment  & 1 & -9.0 \\\\\n",
       "\t5 & Incentives  & 1 & -2.4 \\\\\n",
       "\t6 & Emissions from materials & 1 & -10.5 \\\\\n",
       "\\end{tabular}\n"
      ],
      "text/plain": [
       "\u001b[1m6×3 DataFrame\u001b[0m\n",
       "\u001b[1m Row \u001b[0m│\u001b[1m feature                     \u001b[0m\u001b[1m affordability \u001b[0m\u001b[1m MRS_solarVoltaic \u001b[0m\n",
       "     │\u001b[90m String                      \u001b[0m\u001b[90m Int64         \u001b[0m\u001b[90m Float64          \u001b[0m\n",
       "─────┼──────────────────────────────────────────────────────────────\n",
       "   1 │ Asthetic                                 1             -12.0\n",
       "   2 │ Accessibility                            1              -7.5\n",
       "   3 │ Reliability                              1              -0.9\n",
       "   4 │ Initial Capital Investment               1              -9.0\n",
       "   5 │ Incentives                               1              -2.4\n",
       "   6 │ Emissions from materials                 1             -10.5"
      ]
     },
     "execution_count": 34,
     "metadata": {},
     "output_type": "execute_result"
    }
   ],
   "source": [
    "dx₂ = 1 ; # change affordability by 1-unit (willing to pay more)\n",
    "feature_range = [1,3,4,5,6,7]; # we've excluded feature 2\n",
    "MRS_tradeoff_table = DataFrame();\n",
    "for i ∈ feature_range\n",
    "    dx = -(Ū_solarVoltaic[2]/Ū_solarVoltaic[i])*dx₂\n",
    "    \n",
    "    results_row = (\n",
    "        feature = dataset[i,:\"Feature \"],\n",
    "        affordability = dx₂,\n",
    "        MRS_solarVoltaic = dx\n",
    "    );\n",
    "    \n",
    "    # store -\n",
    "    push!(MRS_tradeoff_table, results_row);\n",
    "end\n",
    "\n",
    "MRS_tradeoff_table"
   ]
  },
  {
   "cell_type": "code",
   "execution_count": null,
   "id": "a5f88dc2-476a-4ccf-a883-e9ee816a1688",
   "metadata": {},
   "outputs": [],
   "source": []
  }
 ],
 "metadata": {
  "kernelspec": {
   "display_name": "Julia 1.9.3",
   "language": "julia",
   "name": "julia-1.9"
  },
  "language_info": {
   "file_extension": ".jl",
   "mimetype": "application/julia",
   "name": "julia",
   "version": "1.9.3"
  }
 },
 "nbformat": 4,
 "nbformat_minor": 5
}
