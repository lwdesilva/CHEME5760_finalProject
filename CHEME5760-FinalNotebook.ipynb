{
 "cells": [
  {
   "cell_type": "markdown",
   "id": "7ef110f1-5bca-4c61-a783-bbd948bc2a4f",
   "metadata": {},
   "source": [
    "<font size=10> CHEME 5760 Final Project </font><br>\n",
    "<font size=4> December 16th 2023 <br> Alexandra Buren and Lauren de Silva</font>"
   ]
  },
  {
   "cell_type": "markdown",
   "id": "717bfd27-40f1-4328-ad61-fe0145a90764",
   "metadata": {},
   "source": [
    "# Introduction to Our Project\n",
    "In recent years, the undeniable impact of climate change has become increasingly apparent and will undoubtedly continue to shape our generation. While we acknowledge and applaud the significant contributions of the current and preceding generations to the advancement of our society,<br>\n",
    "it's crucial to recognize that their technological endeavors were not always designed with environmental conservation in mind. Now, with the weight of the world on our hands we feel a sense of resposibility to right the wrongs of the past. The chemical engineers of yesteryear have<br>\n",
    "had their hands in some seriously Earth-offending cookie jars. In our time here, we are determined to chart a different course, one that prioritizes sustainability and environmental well-being! With that being said, we are on a mission to use our wisdom gleaned from CHEME 5760 to pursue <br>\n",
    "a career in nonother than consulting of course.<br> \n",
    "\n",
    "Our first client is Lauren's father, Luis. Luis has been solemnly contemplating the imminent milestone of his favorite daughter preparing to don the cap and gown, ready to face the world as a freshly-minted graduate. However, it's not her graduation that brings tears to his eyes, it's <br>\n",
    "rather the anticipation of his post-child-graduation-wealth. While this is a prime time for him to channel resources into retirement savings, he insists on redirecting his money towards home upgrades, specifically investing in those solar PV panels or solar heating that Lauren suggested he get.<br>\n",
    "Being an engineer himself, he not only comprehends the intricacies of these technologies but also finds them utterly fascinating. But what adds an extra layer of fascination? The potential tax breaks he can scrape up from the Maryland State government! Wisely, he understands the importance of seeking <br>\n",
    "counsel before embarking on this green adventure but he will not just take any advice from daughter. Luis demands quantative analysis to solidify his decision. \n",
    "\n",
    "\n",
    "### Guidelines We Promise \n",
    "- Target 1: The juptyer notebook uploaded to the CHEME5760_finalproject Github repository is accessible to Professor Varner and anyone else interested and is able to reproduce the correct results on their computing platform\n",
    "- Target 2: We sucessfully reach the target of utilizing two tools from learned throughout the course to generate a sound proposal \n",
    "- Target 3: Not only do we provide code for each target, but each block of code is accompanied with a interpertation of the data so it can be understood by our clients\n",
    " \n"
   ]
  },
  {
   "cell_type": "markdown",
   "id": "f48d3582-ac69-43c8-9e02-c5b819fc6e8d",
   "metadata": {
    "tags": []
   },
   "source": [
    "## Setup"
   ]
  },
  {
   "cell_type": "code",
   "execution_count": 1,
   "id": "5f0d0218-347a-400f-87bd-71298175dd87",
   "metadata": {
    "tags": []
   },
   "outputs": [
    {
     "name": "stderr",
     "output_type": "stream",
     "text": [
      "\u001b[32m\u001b[1m    Updating\u001b[22m\u001b[39m git-repo `https://github.com/varnerlab/VLDecisionsPackage.jl.git`\n",
      "\u001b[32m\u001b[1m   Resolving\u001b[22m\u001b[39m package versions...\n",
      "\u001b[32m\u001b[1m  No Changes\u001b[22m\u001b[39m to `C:\\Users\\lwdes\\CHEME 5760\\CHEME5760_finalProject\\Project.toml`\n",
      "\u001b[32m\u001b[1m  No Changes\u001b[22m\u001b[39m to `C:\\Users\\lwdes\\CHEME 5760\\CHEME5760_finalProject\\Manifest.toml`\n",
      "\u001b[32m\u001b[1m   Resolving\u001b[22m\u001b[39m package versions...\n",
      "\u001b[32m\u001b[1m  No Changes\u001b[22m\u001b[39m to `C:\\Users\\lwdes\\CHEME 5760\\CHEME5760_finalProject\\Project.toml`\n",
      "\u001b[32m\u001b[1m  No Changes\u001b[22m\u001b[39m to `C:\\Users\\lwdes\\CHEME 5760\\CHEME5760_finalProject\\Manifest.toml`\n",
      "\u001b[32m\u001b[1m   Resolving\u001b[22m\u001b[39m package versions...\n",
      "\u001b[32m\u001b[1m  No Changes\u001b[22m\u001b[39m to `C:\\Users\\lwdes\\CHEME 5760\\CHEME5760_finalProject\\Project.toml`\n",
      "\u001b[32m\u001b[1m  No Changes\u001b[22m\u001b[39m to `C:\\Users\\lwdes\\CHEME 5760\\CHEME5760_finalProject\\Manifest.toml`\n",
      "\u001b[32m\u001b[1m   Resolving\u001b[22m\u001b[39m package versions...\n",
      "\u001b[32m\u001b[1m  No Changes\u001b[22m\u001b[39m to `C:\\Users\\lwdes\\CHEME 5760\\CHEME5760_finalProject\\Project.toml`\n",
      "\u001b[32m\u001b[1m  No Changes\u001b[22m\u001b[39m to `C:\\Users\\lwdes\\CHEME 5760\\CHEME5760_finalProject\\Manifest.toml`\n"
     ]
    }
   ],
   "source": [
    "using Pkg\n",
    "Pkg.add(path=\"https://github.com/varnerlab/VLDecisionsPackage.jl.git\")\n",
    "Pkg.add(\"CSV\")\n",
    "Pkg.add(\"DataFrames\")\n",
    "Pkg.add(\"ForwardDiff\")"
   ]
  },
  {
   "cell_type": "code",
   "execution_count": 2,
   "id": "f6d5a05c-1eb9-4929-9852-8cd23a85e8f7",
   "metadata": {
    "tags": []
   },
   "outputs": [
    {
     "name": "stderr",
     "output_type": "stream",
     "text": [
      "\u001b[32m\u001b[1m  Activating\u001b[22m\u001b[39m project at `C:\\Users\\lwdes\\CHEME 5760\\CHEME5760_finalProject`\n",
      "\u001b[32m\u001b[1m    Updating\u001b[22m\u001b[39m registry at `C:\\Users\\lwdes\\.julia\\registries\\General`\n",
      "\u001b[32m\u001b[1m    Updating\u001b[22m\u001b[39m git-repo `https://github.com/JuliaRegistries/General.git`\n",
      "\u001b[32m\u001b[1m    Updating\u001b[22m\u001b[39m git-repo `https://github.com/varnerlab/VLDecisionsPackage.jl.git`\n",
      "\u001b[32m\u001b[1m  No Changes\u001b[22m\u001b[39m to `C:\\Users\\lwdes\\CHEME 5760\\CHEME5760_finalProject\\Project.toml`\n",
      "\u001b[32m\u001b[1m  No Changes\u001b[22m\u001b[39m to `C:\\Users\\lwdes\\CHEME 5760\\CHEME5760_finalProject\\Manifest.toml`\n"
     ]
    }
   ],
   "source": [
    "include(\"Include.jl\");"
   ]
  },
  {
   "cell_type": "code",
   "execution_count": 3,
   "id": "49a37f36-fd1b-4b15-bf7e-4dc458722d77",
   "metadata": {
    "tags": []
   },
   "outputs": [
    {
     "data": {
      "text/plain": [
       "UCD (generic function with 1 method)"
      ]
     },
     "execution_count": 3,
     "metadata": {},
     "output_type": "execute_result"
    }
   ],
   "source": [
    "function UCD(x)\n",
    "    \n",
    "    # load data -\n",
    "    dataset = SolarPVSet();\n",
    "    α = dataset[:,:\"Exponent \"];\n",
    "    \n",
    "    number_of_features = length(x);\n",
    "    solution = 1.0;\n",
    "\n",
    "    # build the solution -\n",
    "    for i ∈ 1:number_of_features\n",
    "        solution *= x[i]^α[i];\n",
    "    end\n",
    "\n",
    "    # return - \n",
    "    return solution;\n",
    "end"
   ]
  },
  {
   "cell_type": "code",
   "execution_count": 4,
   "id": "6f1dabd2-c475-4d80-8034-80f0e0af9bf5",
   "metadata": {
    "tags": []
   },
   "outputs": [
    {
     "data": {
      "text/plain": [
       "MUCD (generic function with 1 method)"
      ]
     },
     "execution_count": 4,
     "metadata": {},
     "output_type": "execute_result"
    }
   ],
   "source": [
    "function MUCD(model::VLCobbDouglasUtilityFunction, features::Array{Float64,1})::Array{Float64,1}\n",
    "    \n",
    "    # initialize -\n",
    "    number_of_features = length(features);\n",
    "    values = zeros(number_of_features);\n",
    "    α = model.α;\n",
    "    \n",
    "    for i ∈ 1:number_of_features\n",
    "        tmp = prod(features[1:end .!=i].^(α[1:end .!=i]));\n",
    "        values[i] = tmp*(α[i]*features[i]^(α[i]-1))\n",
    "    end\n",
    "    \n",
    "    # return -\n",
    "    return values\n",
    "end"
   ]
  },
  {
   "cell_type": "markdown",
   "id": "6b7c88da-7703-4d47-a120-a00ede742765",
   "metadata": {},
   "source": [
    "## Data"
   ]
  },
  {
   "cell_type": "code",
   "execution_count": 5,
   "id": "e535c1b8-ea19-47eb-9eec-8aa21f43cf28",
   "metadata": {},
   "outputs": [],
   "source": [
    "current_directory=pwd();\n",
    "filename=\"PVvsSolarHeating.csv\";\n",
    "full_path=joinpath(current_directory,filename);"
   ]
  },
  {
   "cell_type": "code",
   "execution_count": 6,
   "id": "f0ccd0e4-3543-4e57-934c-7d6aecd30b2d",
   "metadata": {},
   "outputs": [],
   "source": [
    "using DataFrames\n",
    "using CSV\n",
    "function _load(path::String)::DataFrame\n",
    "    return CSV.read(path, DataFrame);\n",
    "end\n",
    "\n",
    "# short circuit the loading of the data -\n",
    "SolarPVSet() = _load(full_path);"
   ]
  },
  {
   "cell_type": "code",
   "execution_count": 23,
   "id": "ba6146fa-d523-4bb4-82e1-995dd6c79f85",
   "metadata": {},
   "outputs": [
    {
     "data": {
      "text/html": [
       "<div><div style = \"float: left;\"><span>7×5 DataFrame</span></div><div style = \"clear: both;\"></div></div><div class = \"data-frame\" style = \"overflow-x: scroll;\"><table class = \"data-frame\" style = \"margin-bottom: 6px;\"><thead><tr class = \"header\"><th class = \"rowNumber\" style = \"font-weight: bold; text-align: right;\">Row</th><th style = \"text-align: left;\">Row </th><th style = \"text-align: left;\">Feature </th><th style = \"text-align: left;\">Exponent </th><th style = \"text-align: left;\">Solar voltaic </th><th style = \"text-align: left;\">Solar Hot Water Heating </th></tr><tr class = \"subheader headerLastRow\"><th class = \"rowNumber\" style = \"font-weight: bold; text-align: right;\"></th><th title = \"Int64\" style = \"text-align: left;\">Int64</th><th title = \"String\" style = \"text-align: left;\">String</th><th title = \"Float64\" style = \"text-align: left;\">Float64</th><th title = \"Float64\" style = \"text-align: left;\">Float64</th><th title = \"Float64\" style = \"text-align: left;\">Float64</th></tr></thead><tbody><tr><td class = \"rowNumber\" style = \"font-weight: bold; text-align: right;\">1</td><td style = \"text-align: right;\">1</td><td style = \"text-align: left;\">Asthetic </td><td style = \"text-align: right;\">0.1</td><td style = \"text-align: right;\">8.0</td><td style = \"text-align: right;\">4.0</td></tr><tr><td class = \"rowNumber\" style = \"font-weight: bold; text-align: right;\">2</td><td style = \"text-align: right;\">2</td><td style = \"text-align: left;\">CO2 emission reduction/Sustainability Factor </td><td style = \"text-align: right;\">0.3</td><td style = \"text-align: right;\">5.0</td><td style = \"text-align: right;\">7.0</td></tr><tr><td class = \"rowNumber\" style = \"font-weight: bold; text-align: right;\">3</td><td style = \"text-align: right;\">3</td><td style = \"text-align: left;\">Accessibility </td><td style = \"text-align: right;\">0.025</td><td style = \"text-align: right;\">8.0</td><td style = \"text-align: right;\">5.0</td></tr><tr><td class = \"rowNumber\" style = \"font-weight: bold; text-align: right;\">4</td><td style = \"text-align: right;\">4</td><td style = \"text-align: left;\">Reliability </td><td style = \"text-align: right;\">0.25</td><td style = \"text-align: right;\">3.0</td><td style = \"text-align: right;\">4.0</td></tr><tr><td class = \"rowNumber\" style = \"font-weight: bold; text-align: right;\">5</td><td style = \"text-align: right;\">5</td><td style = \"text-align: left;\">Initial Capital Investment </td><td style = \"text-align: right;\">0.05</td><td style = \"text-align: right;\">6.0</td><td style = \"text-align: right;\">7.0</td></tr><tr><td class = \"rowNumber\" style = \"font-weight: bold; text-align: right;\">6</td><td style = \"text-align: right;\">6</td><td style = \"text-align: left;\">Incentives </td><td style = \"text-align: right;\">0.25</td><td style = \"text-align: right;\">8.0</td><td style = \"text-align: right;\">4.0</td></tr><tr><td class = \"rowNumber\" style = \"font-weight: bold; text-align: right;\">7</td><td style = \"text-align: right;\">7</td><td style = \"text-align: left;\">Emissions from materials</td><td style = \"text-align: right;\">0.025</td><td style = \"text-align: right;\">6.0</td><td style = \"text-align: right;\">6.0</td></tr></tbody></table></div>"
      ],
      "text/latex": [
       "\\begin{tabular}{r|ccccc}\n",
       "\t& Row  & Feature  & Exponent  & Solar voltaic  & \\\\\n",
       "\t\\hline\n",
       "\t& Int64 & String & Float64 & Float64 & \\\\\n",
       "\t\\hline\n",
       "\t1 & 1 & Asthetic  & 0.1 & 8.0 & $\\dots$ \\\\\n",
       "\t2 & 2 & CO2 emission reduction/Sustainability Factor  & 0.3 & 5.0 & $\\dots$ \\\\\n",
       "\t3 & 3 & Accessibility  & 0.025 & 8.0 & $\\dots$ \\\\\n",
       "\t4 & 4 & Reliability  & 0.25 & 3.0 & $\\dots$ \\\\\n",
       "\t5 & 5 & Initial Capital Investment  & 0.05 & 6.0 & $\\dots$ \\\\\n",
       "\t6 & 6 & Incentives  & 0.25 & 8.0 & $\\dots$ \\\\\n",
       "\t7 & 7 & Emissions from materials & 0.025 & 6.0 & $\\dots$ \\\\\n",
       "\\end{tabular}\n"
      ],
      "text/plain": [
       "\u001b[1m7×5 DataFrame\u001b[0m\n",
       "\u001b[1m Row \u001b[0m│\u001b[1m Row   \u001b[0m\u001b[1m Feature                           \u001b[0m\u001b[1m Exponent  \u001b[0m\u001b[1m Solar voltaic  \u001b[0m\u001b[1m So\u001b[0m ⋯\n",
       "     │\u001b[90m Int64 \u001b[0m\u001b[90m String                            \u001b[0m\u001b[90m Float64   \u001b[0m\u001b[90m Float64        \u001b[0m\u001b[90m Fl\u001b[0m ⋯\n",
       "─────┼──────────────────────────────────────────────────────────────────────────\n",
       "   1 │     1  Asthetic                               0.1               8.0     ⋯\n",
       "   2 │     2  CO2 emission reduction/Sustainab…      0.3               5.0\n",
       "   3 │     3  Accessibility                          0.025             8.0\n",
       "   4 │     4  Reliability                            0.25              3.0\n",
       "   5 │     5  Initial Capital Investment             0.05              6.0     ⋯\n",
       "   6 │     6  Incentives                             0.25              8.0\n",
       "   7 │     7  Emissions from materials               0.025             6.0\n",
       "\u001b[36m                                                                1 column omitted\u001b[0m"
      ]
     },
     "execution_count": 23,
     "metadata": {},
     "output_type": "execute_result"
    }
   ],
   "source": [
    "dataset=SolarPVSet()"
   ]
  },
  {
   "cell_type": "code",
   "execution_count": 24,
   "id": "fc59c38b-d45b-4189-92be-b2678a3cf996",
   "metadata": {
    "tags": []
   },
   "outputs": [],
   "source": [
    "@assert(sum(dataset[:,:\"Exponent \"]) == 1.0)"
   ]
  },
  {
   "cell_type": "code",
   "execution_count": 25,
   "id": "93300e0a-f160-49b8-85cc-252ba4e7dd2a",
   "metadata": {},
   "outputs": [],
   "source": [
    "# Example evaluate function (replace with actual implementation)\n",
    "(model::VLCobbDouglasUtilityFunction)(x::Vector{Float64}) = evaluate(model, x);"
   ]
  },
  {
   "cell_type": "code",
   "execution_count": 10,
   "id": "1f68623c-e230-47c3-a7e1-b73a918400cb",
   "metadata": {
    "tags": []
   },
   "outputs": [],
   "source": [
    "model = build(VLCobbDouglasUtilityFunction, (\n",
    "        α = dataset[:,:\"Exponent \"],)\n",
    ");"
   ]
  },
  {
   "cell_type": "code",
   "execution_count": 11,
   "id": "e487f006-fcee-416d-8c41-d9be5f81daab",
   "metadata": {
    "tags": []
   },
   "outputs": [
    {
     "name": "stdout",
     "output_type": "stream",
     "text": [
      "The utility of Solar Voltaics = 4.976435734496395 while the utility of the Solar heating = 5.3574120499415585\n"
     ]
    }
   ],
   "source": [
    "utility_solarVoltaic = model(dataset[:,:\"Solar voltaic \"]);\n",
    "utility_solarWaterHeating = model(dataset[:,:\"Solar Hot Water Heating \"]);\n",
    "println(\"The utility of Solar Voltaics = $(utility_solarVoltaic) while the utility of the Solar heating = $(utility_solarWaterHeating)\")"
   ]
  },
  {
   "cell_type": "code",
   "execution_count": 22,
   "id": "cb9101fd-c259-453c-93ce-217f3231a165",
   "metadata": {},
   "outputs": [
    {
     "name": "stdout",
     "output_type": "stream",
     "text": [
      "search: \u001b[0m\u001b[1mV\u001b[22m\u001b[0m\u001b[1mL\u001b[22m\u001b[0m\u001b[1mC\u001b[22m\u001b[0m\u001b[1mo\u001b[22m\u001b[0m\u001b[1mb\u001b[22m\u001b[0m\u001b[1mb\u001b[22m\u001b[0m\u001b[1mD\u001b[22m\u001b[0m\u001b[1mo\u001b[22m\u001b[0m\u001b[1mu\u001b[22m\u001b[0m\u001b[1mg\u001b[22m\u001b[0m\u001b[1ml\u001b[22m\u001b[0m\u001b[1ma\u001b[22m\u001b[0m\u001b[1ms\u001b[22m\u001b[0m\u001b[1mU\u001b[22m\u001b[0m\u001b[1mt\u001b[22m\u001b[0m\u001b[1mi\u001b[22m\u001b[0m\u001b[1ml\u001b[22m\u001b[0m\u001b[1mi\u001b[22m\u001b[0m\u001b[1mt\u001b[22m\u001b[0m\u001b[1my\u001b[22m\u001b[0m\u001b[1mF\u001b[22m\u001b[0m\u001b[1mu\u001b[22m\u001b[0m\u001b[1mn\u001b[22m\u001b[0m\u001b[1mc\u001b[22m\u001b[0m\u001b[1mt\u001b[22m\u001b[0m\u001b[1mi\u001b[22m\u001b[0m\u001b[1mo\u001b[22m\u001b[0m\u001b[1mn\u001b[22m \u001b[0m\u001b[1mV\u001b[22m\u001b[0m\u001b[1mL\u001b[22mLogTransformed\u001b[0m\u001b[1mC\u001b[22m\u001b[0m\u001b[1mo\u001b[22m\u001b[0m\u001b[1mb\u001b[22m\u001b[0m\u001b[1mb\u001b[22m\u001b[0m\u001b[1mD\u001b[22m\u001b[0m\u001b[1mo\u001b[22m\u001b[0m\u001b[1mu\u001b[22m\u001b[0m\u001b[1mg\u001b[22m\u001b[0m\u001b[1ml\u001b[22m\u001b[0m\u001b[1ma\u001b[22m\u001b[0m\u001b[1ms\u001b[22m\u001b[0m\u001b[1mU\u001b[22m\u001b[0m\u001b[1mt\u001b[22m\u001b[0m\u001b[1mi\u001b[22m\u001b[0m\u001b[1ml\u001b[22m\u001b[0m\u001b[1mi\u001b[22m\u001b[0m\u001b[1mt\u001b[22m\u001b[0m\u001b[1my\u001b[22m\u001b[0m\u001b[1mF\u001b[22m\u001b[0m\u001b[1mu\u001b[22m\u001b[0m\u001b[1mn\u001b[22m\u001b[0m\u001b[1mc\u001b[22m\u001b[0m\u001b[1mt\u001b[22m\u001b[0m\u001b[1mi\u001b[22m\u001b[0m\u001b[1mo\u001b[22m\u001b[0m\u001b[1mn\u001b[22m\n",
      "\n"
     ]
    },
    {
     "data": {
      "text/latex": [
       "No documentation found.\n",
       "\n",
       "\\section{Summary}\n",
       "\\begin{verbatim}\n",
       "mutable struct VLCobbDouglasUtilityFunction\n",
       "\\end{verbatim}\n",
       "\\section{Fields}\n",
       "\\begin{verbatim}\n",
       "α :: Union{Nothing, Vector{Float64}}\n",
       "\\end{verbatim}\n",
       "\\section{Supertype Hierarchy}\n",
       "\\begin{verbatim}\n",
       "VLCobbDouglasUtilityFunction <: AbstractUtilityFunctionType <: Any\n",
       "\\end{verbatim}\n"
      ],
      "text/markdown": [
       "No documentation found.\n",
       "\n",
       "# Summary\n",
       "\n",
       "```\n",
       "mutable struct VLCobbDouglasUtilityFunction\n",
       "```\n",
       "\n",
       "# Fields\n",
       "\n",
       "```\n",
       "α :: Union{Nothing, Vector{Float64}}\n",
       "```\n",
       "\n",
       "# Supertype Hierarchy\n",
       "\n",
       "```\n",
       "VLCobbDouglasUtilityFunction <: AbstractUtilityFunctionType <: Any\n",
       "```\n"
      ],
      "text/plain": [
       "  No documentation found.\n",
       "\n",
       "\u001b[1m  Summary\u001b[22m\n",
       "\u001b[1m  ≡≡≡≡≡≡≡≡≡\u001b[22m\n",
       "\n",
       "\u001b[36m  mutable struct VLCobbDouglasUtilityFunction\u001b[39m\n",
       "\n",
       "\u001b[1m  Fields\u001b[22m\n",
       "\u001b[1m  ≡≡≡≡≡≡≡≡\u001b[22m\n",
       "\n",
       "\u001b[36m  α :: Union{Nothing, Vector{Float64}}\u001b[39m\n",
       "\n",
       "\u001b[1m  Supertype Hierarchy\u001b[22m\n",
       "\u001b[1m  ≡≡≡≡≡≡≡≡≡≡≡≡≡≡≡≡≡≡≡≡≡\u001b[22m\n",
       "\n",
       "\u001b[36m  VLCobbDouglasUtilityFunction <: AbstractUtilityFunctionType <: Any\u001b[39m"
      ]
     },
     "execution_count": 22,
     "metadata": {},
     "output_type": "execute_result"
    }
   ],
   "source": []
  },
  {
   "cell_type": "markdown",
   "id": "0c1b17b1-13a6-447e-8f4e-4656c5c7b47e",
   "metadata": {},
   "source": [
    "### Perception model\n",
    "Let's suppose we can perceive differences in utility of 1% or greater"
   ]
  },
  {
   "cell_type": "code",
   "execution_count": 12,
   "id": "00b2c31f-4f7b-4cfc-9133-dd7d9849528f",
   "metadata": {
    "tags": []
   },
   "outputs": [
    {
     "data": {
      "text/plain": [
       "7.655606055640499"
      ]
     },
     "execution_count": 12,
     "metadata": {},
     "output_type": "execute_result"
    }
   ],
   "source": [
    "Δ = ((max(utility_solarVoltaic,utility_solarWaterHeating) - min(utility_solarVoltaic,utility_solarWaterHeating))/min(utility_solarVoltaic,utility_solarWaterHeating))*100"
   ]
  },
  {
   "cell_type": "code",
   "execution_count": 13,
   "id": "cd6f2cd4-0388-49eb-9e5f-6eef116dd338",
   "metadata": {},
   "outputs": [
    {
     "data": {
      "text/html": [
       "<div><div style = \"float: left;\"><span>7×5 DataFrame</span></div><div style = \"clear: both;\"></div></div><div class = \"data-frame\" style = \"overflow-x: scroll;\"><table class = \"data-frame\" style = \"margin-bottom: 6px;\"><thead><tr class = \"header\"><th class = \"rowNumber\" style = \"font-weight: bold; text-align: right;\">Row</th><th style = \"text-align: left;\">feature</th><th style = \"text-align: left;\">S_solarVoltaic</th><th style = \"text-align: left;\">MU_solarVoltaic</th><th style = \"text-align: left;\">S_solarWaterHeating</th><th style = \"text-align: left;\">MU_solarWaterHeating</th></tr><tr class = \"subheader headerLastRow\"><th class = \"rowNumber\" style = \"font-weight: bold; text-align: right;\"></th><th title = \"String\" style = \"text-align: left;\">String</th><th title = \"Float64\" style = \"text-align: left;\">Float64</th><th title = \"Float64\" style = \"text-align: left;\">Float64</th><th title = \"Float64\" style = \"text-align: left;\">Float64</th><th title = \"Float64\" style = \"text-align: left;\">Float64</th></tr></thead><tbody><tr><td class = \"rowNumber\" style = \"font-weight: bold; text-align: right;\">1</td><td style = \"text-align: left;\">Asthetic </td><td style = \"text-align: right;\">8.0</td><td style = \"text-align: right;\">0.0622054</td><td style = \"text-align: right;\">6.0</td><td style = \"text-align: right;\">0.0892902</td></tr><tr><td class = \"rowNumber\" style = \"font-weight: bold; text-align: right;\">2</td><td style = \"text-align: left;\">CO2 emission reduction/Sustainability Factor </td><td style = \"text-align: right;\">4.0</td><td style = \"text-align: right;\">0.373233</td><td style = \"text-align: right;\">8.0</td><td style = \"text-align: right;\">0.200903</td></tr><tr><td class = \"rowNumber\" style = \"font-weight: bold; text-align: right;\">3</td><td style = \"text-align: left;\">Accessibility </td><td style = \"text-align: right;\">8.0</td><td style = \"text-align: right;\">0.0155514</td><td style = \"text-align: right;\">5.0</td><td style = \"text-align: right;\">0.0267871</td></tr><tr><td class = \"rowNumber\" style = \"font-weight: bold; text-align: right;\">4</td><td style = \"text-align: left;\">Reliability </td><td style = \"text-align: right;\">3.0</td><td style = \"text-align: right;\">0.414703</td><td style = \"text-align: right;\">4.0</td><td style = \"text-align: right;\">0.334838</td></tr><tr><td class = \"rowNumber\" style = \"font-weight: bold; text-align: right;\">5</td><td style = \"text-align: left;\">Initial Capital Investment </td><td style = \"text-align: right;\">6.0</td><td style = \"text-align: right;\">0.0414703</td><td style = \"text-align: right;\">7.0</td><td style = \"text-align: right;\">0.0382672</td></tr><tr><td class = \"rowNumber\" style = \"font-weight: bold; text-align: right;\">6</td><td style = \"text-align: left;\">Incentives </td><td style = \"text-align: right;\">8.0</td><td style = \"text-align: right;\">0.155514</td><td style = \"text-align: right;\">4.0</td><td style = \"text-align: right;\">0.334838</td></tr><tr><td class = \"rowNumber\" style = \"font-weight: bold; text-align: right;\">7</td><td style = \"text-align: left;\">Emissions from materials</td><td style = \"text-align: right;\">6.0</td><td style = \"text-align: right;\">0.0207351</td><td style = \"text-align: right;\">6.0</td><td style = \"text-align: right;\">0.0223226</td></tr></tbody></table></div>"
      ],
      "text/latex": [
       "\\begin{tabular}{r|cccc}\n",
       "\t& feature & S\\_solarVoltaic & MU\\_solarVoltaic & \\\\\n",
       "\t\\hline\n",
       "\t& String & Float64 & Float64 & \\\\\n",
       "\t\\hline\n",
       "\t1 & Asthetic  & 8.0 & 0.0622054 & $\\dots$ \\\\\n",
       "\t2 & CO2 emission reduction/Sustainability Factor  & 4.0 & 0.373233 & $\\dots$ \\\\\n",
       "\t3 & Accessibility  & 8.0 & 0.0155514 & $\\dots$ \\\\\n",
       "\t4 & Reliability  & 3.0 & 0.414703 & $\\dots$ \\\\\n",
       "\t5 & Initial Capital Investment  & 6.0 & 0.0414703 & $\\dots$ \\\\\n",
       "\t6 & Incentives  & 8.0 & 0.155514 & $\\dots$ \\\\\n",
       "\t7 & Emissions from materials & 6.0 & 0.0207351 & $\\dots$ \\\\\n",
       "\\end{tabular}\n"
      ],
      "text/plain": [
       "\u001b[1m7×5 DataFrame\u001b[0m\n",
       "\u001b[1m Row \u001b[0m│\u001b[1m feature                           \u001b[0m\u001b[1m S_solarVoltaic \u001b[0m\u001b[1m MU_solarVoltaic \u001b[0m\u001b[1m S_s\u001b[0m ⋯\n",
       "     │\u001b[90m String                            \u001b[0m\u001b[90m Float64        \u001b[0m\u001b[90m Float64         \u001b[0m\u001b[90m Flo\u001b[0m ⋯\n",
       "─────┼──────────────────────────────────────────────────────────────────────────\n",
       "   1 │ Asthetic                                      8.0        0.0622054      ⋯\n",
       "   2 │ CO2 emission reduction/Sustainab…             4.0        0.373233\n",
       "   3 │ Accessibility                                 8.0        0.0155514\n",
       "   4 │ Reliability                                   3.0        0.414703\n",
       "   5 │ Initial Capital Investment                    6.0        0.0414703      ⋯\n",
       "   6 │ Incentives                                    8.0        0.155514\n",
       "   7 │ Emissions from materials                      6.0        0.0207351\n",
       "\u001b[36m                                                               2 columns omitted\u001b[0m"
      ]
     },
     "execution_count": 13,
     "metadata": {},
     "output_type": "execute_result"
    }
   ],
   "source": [
    "using ForwardDiff\n",
    "Ū_solarVoltaic = ForwardDiff.gradient(UCD, dataset[:,:\"Solar voltaic \"]);\n",
    "Ū_solarWaterHeating = ForwardDiff.gradient(UCD, dataset[:,:\"Solar Hot Water Heating \"]);\n",
    "mu_table_df = DataFrame();\n",
    "for i ∈ eachindex(Ū_solarVoltaic)\n",
    "    \n",
    "    row_tuple = (\n",
    "        feature = dataset[i,:\"Feature \"],\n",
    "        S_solarVoltaic = dataset[i,:\"Solar voltaic \"],\n",
    "        MU_solarVoltaic = Ū_solarVoltaic[i],\n",
    "        S_solarWaterHeating = dataset[i,:\"Solar Hot Water Heating \"],\n",
    "        MU_solarWaterHeating = Ū_solarWaterHeating[i]\n",
    "    );\n",
    "\n",
    "    push!(mu_table_df, row_tuple);\n",
    "end\n",
    "mu_table_df\n"
   ]
  },
  {
   "cell_type": "markdown",
   "id": "4e15ce68-a04a-49c5-9bdf-aabfde0bdba3",
   "metadata": {
    "jp-MarkdownHeadingCollapsed": true,
    "tags": []
   },
   "source": [
    "### Check: How good is the numerical estimate of the marginal utlity?"
   ]
  },
  {
   "cell_type": "code",
   "execution_count": 14,
   "id": "e87fd629-eb47-4579-84da-a08b43081032",
   "metadata": {
    "tags": []
   },
   "outputs": [
    {
     "data": {
      "text/html": [
       "<div><div style = \"float: left;\"><span>7×4 DataFrame</span></div><div style = \"clear: both;\"></div></div><div class = \"data-frame\" style = \"overflow-x: scroll;\"><table class = \"data-frame\" style = \"margin-bottom: 6px;\"><thead><tr class = \"header\"><th class = \"rowNumber\" style = \"font-weight: bold; text-align: right;\">Row</th><th style = \"text-align: left;\">feature</th><th style = \"text-align: left;\">S_solarVoltaic</th><th style = \"text-align: left;\">MU_N_solarVoltaic</th><th style = \"text-align: left;\">MU_A_solarVoltaic</th></tr><tr class = \"subheader headerLastRow\"><th class = \"rowNumber\" style = \"font-weight: bold; text-align: right;\"></th><th title = \"String\" style = \"text-align: left;\">String</th><th title = \"Float64\" style = \"text-align: left;\">Float64</th><th title = \"Float64\" style = \"text-align: left;\">Float64</th><th title = \"Float64\" style = \"text-align: left;\">Float64</th></tr></thead><tbody><tr><td class = \"rowNumber\" style = \"font-weight: bold; text-align: right;\">1</td><td style = \"text-align: left;\">Asthetic </td><td style = \"text-align: right;\">8.0</td><td style = \"text-align: right;\">0.0622054</td><td style = \"text-align: right;\">0.0622054</td></tr><tr><td class = \"rowNumber\" style = \"font-weight: bold; text-align: right;\">2</td><td style = \"text-align: left;\">CO2 emission reduction/Sustainability Factor </td><td style = \"text-align: right;\">4.0</td><td style = \"text-align: right;\">0.373233</td><td style = \"text-align: right;\">0.373233</td></tr><tr><td class = \"rowNumber\" style = \"font-weight: bold; text-align: right;\">3</td><td style = \"text-align: left;\">Accessibility </td><td style = \"text-align: right;\">8.0</td><td style = \"text-align: right;\">0.0155514</td><td style = \"text-align: right;\">0.0155514</td></tr><tr><td class = \"rowNumber\" style = \"font-weight: bold; text-align: right;\">4</td><td style = \"text-align: left;\">Reliability </td><td style = \"text-align: right;\">3.0</td><td style = \"text-align: right;\">0.414703</td><td style = \"text-align: right;\">0.414703</td></tr><tr><td class = \"rowNumber\" style = \"font-weight: bold; text-align: right;\">5</td><td style = \"text-align: left;\">Initial Capital Investment </td><td style = \"text-align: right;\">6.0</td><td style = \"text-align: right;\">0.0414703</td><td style = \"text-align: right;\">0.0414703</td></tr><tr><td class = \"rowNumber\" style = \"font-weight: bold; text-align: right;\">6</td><td style = \"text-align: left;\">Incentives </td><td style = \"text-align: right;\">8.0</td><td style = \"text-align: right;\">0.155514</td><td style = \"text-align: right;\">0.155514</td></tr><tr><td class = \"rowNumber\" style = \"font-weight: bold; text-align: right;\">7</td><td style = \"text-align: left;\">Emissions from materials</td><td style = \"text-align: right;\">6.0</td><td style = \"text-align: right;\">0.0207351</td><td style = \"text-align: right;\">0.0207351</td></tr></tbody></table></div>"
      ],
      "text/latex": [
       "\\begin{tabular}{r|cccc}\n",
       "\t& feature & S\\_solarVoltaic & MU\\_N\\_solarVoltaic & \\\\\n",
       "\t\\hline\n",
       "\t& String & Float64 & Float64 & \\\\\n",
       "\t\\hline\n",
       "\t1 & Asthetic  & 8.0 & 0.0622054 & $\\dots$ \\\\\n",
       "\t2 & CO2 emission reduction/Sustainability Factor  & 4.0 & 0.373233 & $\\dots$ \\\\\n",
       "\t3 & Accessibility  & 8.0 & 0.0155514 & $\\dots$ \\\\\n",
       "\t4 & Reliability  & 3.0 & 0.414703 & $\\dots$ \\\\\n",
       "\t5 & Initial Capital Investment  & 6.0 & 0.0414703 & $\\dots$ \\\\\n",
       "\t6 & Incentives  & 8.0 & 0.155514 & $\\dots$ \\\\\n",
       "\t7 & Emissions from materials & 6.0 & 0.0207351 & $\\dots$ \\\\\n",
       "\\end{tabular}\n"
      ],
      "text/plain": [
       "\u001b[1m7×4 DataFrame\u001b[0m\n",
       "\u001b[1m Row \u001b[0m│\u001b[1m feature                           \u001b[0m\u001b[1m S_solarVoltaic \u001b[0m\u001b[1m MU_N_solarVoltaic \u001b[0m\u001b[1m M\u001b[0m ⋯\n",
       "     │\u001b[90m String                            \u001b[0m\u001b[90m Float64        \u001b[0m\u001b[90m Float64           \u001b[0m\u001b[90m F\u001b[0m ⋯\n",
       "─────┼──────────────────────────────────────────────────────────────────────────\n",
       "   1 │ Asthetic                                      8.0          0.0622054    ⋯\n",
       "   2 │ CO2 emission reduction/Sustainab…             4.0          0.373233\n",
       "   3 │ Accessibility                                 8.0          0.0155514\n",
       "   4 │ Reliability                                   3.0          0.414703\n",
       "   5 │ Initial Capital Investment                    6.0          0.0414703    ⋯\n",
       "   6 │ Incentives                                    8.0          0.155514\n",
       "   7 │ Emissions from materials                      6.0          0.0207351\n",
       "\u001b[36m                                                                1 column omitted\u001b[0m"
      ]
     },
     "execution_count": 14,
     "metadata": {},
     "output_type": "execute_result"
    }
   ],
   "source": [
    "analytical_MU = MUCD(model,dataset[:,\"Solar voltaic \"]);\n",
    "numerical_versus_analytical_df = DataFrame();\n",
    "for i ∈ eachindex(Ū_solarVoltaic)\n",
    "    \n",
    "    row_tuple = (\n",
    "        feature = dataset[i,:\"Feature \"],\n",
    "        S_solarVoltaic = dataset[i,:\"Solar voltaic \"],\n",
    "        MU_N_solarVoltaic = Ū_solarVoltaic[i],\n",
    "        MU_A_solarVoltaic = analytical_MU[i],\n",
    "    );\n",
    "\n",
    "    push!(numerical_versus_analytical_df, row_tuple);\n",
    "end\n",
    "numerical_versus_analytical_df"
   ]
  },
  {
   "cell_type": "code",
   "execution_count": 15,
   "id": "6e29482e-7d6b-4562-a989-38b49c50eaaf",
   "metadata": {
    "tags": []
   },
   "outputs": [
    {
     "data": {
      "text/plain": [
       "5.391138712371094"
      ]
     },
     "execution_count": 15,
     "metadata": {},
     "output_type": "execute_result"
    }
   ],
   "source": [
    "dx = zeros(length(Ū_solarVoltaic));\n",
    "dx[4] = 1.0;\n",
    "U = utility_solarVoltaic + sum(Ū_solarVoltaic.*dx)"
   ]
  },
  {
   "cell_type": "markdown",
   "id": "ea9908b2-57d5-4764-a575-18a46f29e271",
   "metadata": {},
   "source": [
    "## Marginal rate of substitution (MRS)\n"
   ]
  },
  {
   "cell_type": "markdown",
   "id": "c381cd06-f9b9-4724-a0f3-4bd78bb49ee1",
   "metadata": {},
   "source": [
    "#### What am I willing to give up for a unit of affordability?"
   ]
  },
  {
   "cell_type": "code",
   "execution_count": 16,
   "id": "332c85ec-6795-4a77-8762-fd5cf03956a2",
   "metadata": {
    "tags": []
   },
   "outputs": [
    {
     "data": {
      "text/html": [
       "<div><div style = \"float: left;\"><span>6×3 DataFrame</span></div><div style = \"clear: both;\"></div></div><div class = \"data-frame\" style = \"overflow-x: scroll;\"><table class = \"data-frame\" style = \"margin-bottom: 6px;\"><thead><tr class = \"header\"><th class = \"rowNumber\" style = \"font-weight: bold; text-align: right;\">Row</th><th style = \"text-align: left;\">feature</th><th style = \"text-align: left;\">affordability</th><th style = \"text-align: left;\">MRS_solarVoltaic</th></tr><tr class = \"subheader headerLastRow\"><th class = \"rowNumber\" style = \"font-weight: bold; text-align: right;\"></th><th title = \"String\" style = \"text-align: left;\">String</th><th title = \"Int64\" style = \"text-align: left;\">Int64</th><th title = \"Float64\" style = \"text-align: left;\">Float64</th></tr></thead><tbody><tr><td class = \"rowNumber\" style = \"font-weight: bold; text-align: right;\">1</td><td style = \"text-align: left;\">Asthetic </td><td style = \"text-align: right;\">1</td><td style = \"text-align: right;\">-6.0</td></tr><tr><td class = \"rowNumber\" style = \"font-weight: bold; text-align: right;\">2</td><td style = \"text-align: left;\">Accessibility </td><td style = \"text-align: right;\">1</td><td style = \"text-align: right;\">-24.0</td></tr><tr><td class = \"rowNumber\" style = \"font-weight: bold; text-align: right;\">3</td><td style = \"text-align: left;\">Reliability </td><td style = \"text-align: right;\">1</td><td style = \"text-align: right;\">-0.9</td></tr><tr><td class = \"rowNumber\" style = \"font-weight: bold; text-align: right;\">4</td><td style = \"text-align: left;\">Initial Capital Investment </td><td style = \"text-align: right;\">1</td><td style = \"text-align: right;\">-9.0</td></tr><tr><td class = \"rowNumber\" style = \"font-weight: bold; text-align: right;\">5</td><td style = \"text-align: left;\">Incentives </td><td style = \"text-align: right;\">1</td><td style = \"text-align: right;\">-2.4</td></tr><tr><td class = \"rowNumber\" style = \"font-weight: bold; text-align: right;\">6</td><td style = \"text-align: left;\">Emissions from materials</td><td style = \"text-align: right;\">1</td><td style = \"text-align: right;\">-18.0</td></tr></tbody></table></div>"
      ],
      "text/latex": [
       "\\begin{tabular}{r|ccc}\n",
       "\t& feature & affordability & MRS\\_solarVoltaic\\\\\n",
       "\t\\hline\n",
       "\t& String & Int64 & Float64\\\\\n",
       "\t\\hline\n",
       "\t1 & Asthetic  & 1 & -6.0 \\\\\n",
       "\t2 & Accessibility  & 1 & -24.0 \\\\\n",
       "\t3 & Reliability  & 1 & -0.9 \\\\\n",
       "\t4 & Initial Capital Investment  & 1 & -9.0 \\\\\n",
       "\t5 & Incentives  & 1 & -2.4 \\\\\n",
       "\t6 & Emissions from materials & 1 & -18.0 \\\\\n",
       "\\end{tabular}\n"
      ],
      "text/plain": [
       "\u001b[1m6×3 DataFrame\u001b[0m\n",
       "\u001b[1m Row \u001b[0m│\u001b[1m feature                     \u001b[0m\u001b[1m affordability \u001b[0m\u001b[1m MRS_solarVoltaic \u001b[0m\n",
       "     │\u001b[90m String                      \u001b[0m\u001b[90m Int64         \u001b[0m\u001b[90m Float64          \u001b[0m\n",
       "─────┼──────────────────────────────────────────────────────────────\n",
       "   1 │ Asthetic                                 1              -6.0\n",
       "   2 │ Accessibility                            1             -24.0\n",
       "   3 │ Reliability                              1              -0.9\n",
       "   4 │ Initial Capital Investment               1              -9.0\n",
       "   5 │ Incentives                               1              -2.4\n",
       "   6 │ Emissions from materials                 1             -18.0"
      ]
     },
     "execution_count": 16,
     "metadata": {},
     "output_type": "execute_result"
    }
   ],
   "source": [
    "dx₂ = 1 ; # change affordability by 1-unit (willing to pay more)\n",
    "feature_range = [1,3,4,5,6,7]; # we've excluded feature 2\n",
    "MRS_tradeoff_table = DataFrame();\n",
    "for i ∈ feature_range\n",
    "    dx = -(Ū_solarVoltaic[2]/Ū_solarVoltaic[i])*dx₂\n",
    "    \n",
    "    results_row = (\n",
    "        feature = dataset[i,:\"Feature \"],\n",
    "        affordability = dx₂,\n",
    "        MRS_solarVoltaic = dx\n",
    "    );\n",
    "    \n",
    "    # store -\n",
    "    push!(MRS_tradeoff_table, results_row);\n",
    "end\n",
    "\n",
    "MRS_tradeoff_table"
   ]
  },
  {
   "cell_type": "markdown",
   "id": "76c47a8c-d9a4-4466-8051-395f0e2ba8e7",
   "metadata": {},
   "source": [
    "## Declaration of generative AI and AI-assisted technologies in the generation of this project\n",
    "During the preparation of this work, both authors, Lauren de Silva and Alexandra Bruen, used ChatGPT for debugging and Julia syntax purposes. ChatGPT was also used for the polishing of some language. All \n",
    "material was thoroughly reviewed by the authors. The authors take full responsibility for their work."
   ]
  },
  {
   "cell_type": "code",
   "execution_count": null,
   "id": "37ab2e45-279d-4f15-afd7-0877b6c2e909",
   "metadata": {},
   "outputs": [],
   "source": []
  },
  {
   "cell_type": "code",
   "execution_count": 3,
   "id": "d68a4730-a89d-4878-a179-db57274fd0ff",
   "metadata": {
    "tags": []
   },
   "outputs": [],
   "source": [
    "α = 0.11; # the ratio of the premium paid to the insurance company\n",
    "β = 0.90; # level of damaget that could ovvur as a fraction of the value of the object \n",
    "W = 12448.00; # the cost of the solar PV \n",
    "d = β*W \n",
    "r = α*d;\n",
    "number_of_trials = 50000;\n",
    "number_of_points = 100;"
   ]
  }
 ],
 "metadata": {
  "kernelspec": {
   "display_name": "Julia 1.9.3",
   "language": "julia",
   "name": "julia-1.9"
  },
  "language_info": {
   "file_extension": ".jl",
   "mimetype": "application/julia",
   "name": "julia",
   "version": "1.9.3"
  }
 },
 "nbformat": 4,
 "nbformat_minor": 5
}
