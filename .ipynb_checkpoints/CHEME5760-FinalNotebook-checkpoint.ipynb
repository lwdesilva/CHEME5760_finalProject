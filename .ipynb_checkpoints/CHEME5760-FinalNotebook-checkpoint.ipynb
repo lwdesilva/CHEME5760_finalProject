{
 "cells": [
  {
   "cell_type": "markdown",
   "id": "7ef110f1-5bca-4c61-a783-bbd948bc2a4f",
   "metadata": {},
   "source": [
    "<font size=8> Quantitative Evaluation o Utility for Solar Photovoltaics Installed for Electricity Use vs. Heating Use </font><br>\n",
    "<font size=5> **CHEME 5760 Final Project** </font><br>\n",
    "<font size=4> December 16th 2023 <br> Alexandra Buren and Lauren de Silva</font>"
   ]
  },
  {
   "cell_type": "markdown",
   "id": "717bfd27-40f1-4328-ad61-fe0145a90764",
   "metadata": {},
   "source": [
    "# Introduction to Our Project\n",
    "In recent years, the undeniable impact of climate change has become increasingly apparent and will undoubtedly continue to shape our generation. While we acknowledge and applaud the significant contributions of the current and preceding generations to the advancement of our society,<br>\n",
    "it's crucial to recognize that their technological endeavors were not always designed with environmental conservation in mind. Now, with the weight of the world on our hands we feel a sense of resposibility to right the wrongs of the past. The chemical engineers of yesteryear have<br>\n",
    "had their hands in some seriously Earth-offending cookie jars. In our time here, we are determined to chart a different course, one that prioritizes sustainability and environmental well-being! With that being said, we are on a mission to use our wisdom gleaned from CHEME 5760 to pursue <br>\n",
    "a career in nonother than consulting of course.<br> \n",
    "\n",
    "Our first client is Lauren's father, Luis. Luis has been solemnly contemplating the imminent milestone of his favorite daughter preparing to don the cap and gown, ready to face the world as a freshly-minted graduate. However, it's not her graduation that brings tears to his eyes, it's <br>\n",
    "rather the anticipation of his post-child-graduation-wealth. While this is a prime time for him to channel resources into retirement savings, he insists on redirecting his money towards home upgrades, specifically investing in those solar PV panels or solar heating that Lauren suggested he get.<br>\n",
    "Being an engineer himself, he not only comprehends the intricacies of these technologies but also finds them utterly fascinating. But what adds an extra layer of fascination? The potential tax breaks he can scrape up from the Maryland State government! Wisely, he understands the importance of seeking <br>\n",
    "counsel before embarking on this green adventure but he will not just take any advice from daughter. Luis demands quantative analysis to solidify his decision. \n",
    "\n",
    "\n",
    "### Guidelines We Promise \n",
    "- Target 1: The juptyer notebook uploaded to the CHEME5760_finalproject Github repository is accessible to Professor Varner and anyone else interested and is able to reproduce the correct results on their computing platform\n",
    "- Target 2: We sucessfully reach the target of utilizing two tools from learned throughout the course to generate a sound proposal \n",
    "- Target 3: Not only do we provide code for each target, but each block of code is accompanied with a interpertation of the data so it can be understood by our clients\n",
    " \n"
   ]
  },
  {
   "cell_type": "markdown",
   "id": "f48d3582-ac69-43c8-9e02-c5b819fc6e8d",
   "metadata": {
    "tags": []
   },
   "source": [
    "## Setup"
   ]
  },
  {
   "cell_type": "code",
   "execution_count": 1,
   "id": "5f0d0218-347a-400f-87bd-71298175dd87",
   "metadata": {
    "tags": []
   },
   "outputs": [
    {
     "name": "stderr",
     "output_type": "stream",
     "text": [
      "\u001b[32m\u001b[1m    Updating\u001b[22m\u001b[39m git-repo `https://github.com/varnerlab/VLDecisionsPackage.jl.git`\n",
      "\u001b[32m\u001b[1m   Resolving\u001b[22m\u001b[39m package versions...\n",
      "\u001b[32m\u001b[1m  No Changes\u001b[22m\u001b[39m to `C:\\Users\\lwdes\\CHEME 5760\\CHEME5760_finalProject\\Project.toml`\n",
      "\u001b[32m\u001b[1m  No Changes\u001b[22m\u001b[39m to `C:\\Users\\lwdes\\CHEME 5760\\CHEME5760_finalProject\\Manifest.toml`\n",
      "\u001b[32m\u001b[1m   Resolving\u001b[22m\u001b[39m package versions...\n",
      "\u001b[32m\u001b[1m  No Changes\u001b[22m\u001b[39m to `C:\\Users\\lwdes\\CHEME 5760\\CHEME5760_finalProject\\Project.toml`\n",
      "\u001b[32m\u001b[1m  No Changes\u001b[22m\u001b[39m to `C:\\Users\\lwdes\\CHEME 5760\\CHEME5760_finalProject\\Manifest.toml`\n",
      "\u001b[32m\u001b[1m   Resolving\u001b[22m\u001b[39m package versions...\n",
      "\u001b[32m\u001b[1m  No Changes\u001b[22m\u001b[39m to `C:\\Users\\lwdes\\CHEME 5760\\CHEME5760_finalProject\\Project.toml`\n",
      "\u001b[32m\u001b[1m  No Changes\u001b[22m\u001b[39m to `C:\\Users\\lwdes\\CHEME 5760\\CHEME5760_finalProject\\Manifest.toml`\n",
      "\u001b[32m\u001b[1m   Resolving\u001b[22m\u001b[39m package versions...\n",
      "\u001b[32m\u001b[1m  No Changes\u001b[22m\u001b[39m to `C:\\Users\\lwdes\\CHEME 5760\\CHEME5760_finalProject\\Project.toml`\n",
      "\u001b[32m\u001b[1m  No Changes\u001b[22m\u001b[39m to `C:\\Users\\lwdes\\CHEME 5760\\CHEME5760_finalProject\\Manifest.toml`\n",
      "\u001b[32m\u001b[1m   Resolving\u001b[22m\u001b[39m package versions...\n",
      "\u001b[32m\u001b[1m  No Changes\u001b[22m\u001b[39m to `C:\\Users\\lwdes\\CHEME 5760\\CHEME5760_finalProject\\Project.toml`\n",
      "\u001b[32m\u001b[1m  No Changes\u001b[22m\u001b[39m to `C:\\Users\\lwdes\\CHEME 5760\\CHEME5760_finalProject\\Manifest.toml`\n",
      "\u001b[32m\u001b[1m   Resolving\u001b[22m\u001b[39m package versions...\n",
      "\u001b[32m\u001b[1m  No Changes\u001b[22m\u001b[39m to `C:\\Users\\lwdes\\CHEME 5760\\CHEME5760_finalProject\\Project.toml`\n",
      "\u001b[32m\u001b[1m  No Changes\u001b[22m\u001b[39m to `C:\\Users\\lwdes\\CHEME 5760\\CHEME5760_finalProject\\Manifest.toml`\n",
      "\u001b[32m\u001b[1m   Resolving\u001b[22m\u001b[39m package versions...\n",
      "\u001b[32m\u001b[1m  No Changes\u001b[22m\u001b[39m to `C:\\Users\\lwdes\\CHEME 5760\\CHEME5760_finalProject\\Project.toml`\n",
      "\u001b[32m\u001b[1m  No Changes\u001b[22m\u001b[39m to `C:\\Users\\lwdes\\CHEME 5760\\CHEME5760_finalProject\\Manifest.toml`\n",
      "\u001b[32m\u001b[1m   Resolving\u001b[22m\u001b[39m package versions...\n",
      "\u001b[32m\u001b[1m  No Changes\u001b[22m\u001b[39m to `C:\\Users\\lwdes\\CHEME 5760\\CHEME5760_finalProject\\Project.toml`\n",
      "\u001b[32m\u001b[1m  No Changes\u001b[22m\u001b[39m to `C:\\Users\\lwdes\\CHEME 5760\\CHEME5760_finalProject\\Manifest.toml`\n",
      "\u001b[32m\u001b[1m   Resolving\u001b[22m\u001b[39m package versions...\n",
      "\u001b[32m\u001b[1m  No Changes\u001b[22m\u001b[39m to `C:\\Users\\lwdes\\CHEME 5760\\CHEME5760_finalProject\\Project.toml`\n",
      "\u001b[32m\u001b[1m  No Changes\u001b[22m\u001b[39m to `C:\\Users\\lwdes\\CHEME 5760\\CHEME5760_finalProject\\Manifest.toml`\n",
      "\u001b[32m\u001b[1m   Resolving\u001b[22m\u001b[39m package versions...\n",
      "\u001b[32m\u001b[1m  No Changes\u001b[22m\u001b[39m to `C:\\Users\\lwdes\\CHEME 5760\\CHEME5760_finalProject\\Project.toml`\n",
      "\u001b[32m\u001b[1m  No Changes\u001b[22m\u001b[39m to `C:\\Users\\lwdes\\CHEME 5760\\CHEME5760_finalProject\\Manifest.toml`\n",
      "\u001b[32m\u001b[1m   Resolving\u001b[22m\u001b[39m package versions...\n",
      "\u001b[32m\u001b[1m  No Changes\u001b[22m\u001b[39m to `C:\\Users\\lwdes\\CHEME 5760\\CHEME5760_finalProject\\Project.toml`\n",
      "\u001b[32m\u001b[1m  No Changes\u001b[22m\u001b[39m to `C:\\Users\\lwdes\\CHEME 5760\\CHEME5760_finalProject\\Manifest.toml`\n",
      "\u001b[32m\u001b[1m   Resolving\u001b[22m\u001b[39m package versions...\n",
      "\u001b[32m\u001b[1m  No Changes\u001b[22m\u001b[39m to `C:\\Users\\lwdes\\CHEME 5760\\CHEME5760_finalProject\\Project.toml`\n",
      "\u001b[32m\u001b[1m  No Changes\u001b[22m\u001b[39m to `C:\\Users\\lwdes\\CHEME 5760\\CHEME5760_finalProject\\Manifest.toml`\n",
      "\u001b[32m\u001b[1m   Resolving\u001b[22m\u001b[39m package versions...\n",
      "\u001b[32m\u001b[1m  No Changes\u001b[22m\u001b[39m to `C:\\Users\\lwdes\\CHEME 5760\\CHEME5760_finalProject\\Project.toml`\n",
      "\u001b[32m\u001b[1m  No Changes\u001b[22m\u001b[39m to `C:\\Users\\lwdes\\CHEME 5760\\CHEME5760_finalProject\\Manifest.toml`\n",
      "\u001b[32m\u001b[1m   Resolving\u001b[22m\u001b[39m package versions...\n",
      "\u001b[32m\u001b[1m  No Changes\u001b[22m\u001b[39m to `C:\\Users\\lwdes\\CHEME 5760\\CHEME5760_finalProject\\Project.toml`\n",
      "\u001b[32m\u001b[1m  No Changes\u001b[22m\u001b[39m to `C:\\Users\\lwdes\\CHEME 5760\\CHEME5760_finalProject\\Manifest.toml`\n",
      "\u001b[32m\u001b[1m   Resolving\u001b[22m\u001b[39m package versions...\n",
      "\u001b[32m\u001b[1m  No Changes\u001b[22m\u001b[39m to `C:\\Users\\lwdes\\CHEME 5760\\CHEME5760_finalProject\\Project.toml`\n",
      "\u001b[32m\u001b[1m  No Changes\u001b[22m\u001b[39m to `C:\\Users\\lwdes\\CHEME 5760\\CHEME5760_finalProject\\Manifest.toml`\n"
     ]
    }
   ],
   "source": [
    "using Pkg\n",
    "Pkg.add(path=\"https://github.com/varnerlab/VLDecisionsPackage.jl.git\")\n",
    "Pkg.add(\"CSV\")\n",
    "Pkg.add(\"DataFrames\")\n",
    "Pkg.add(\"ForwardDiff\")\n",
    "Pkg.add(\"Distributions\")\n",
    "Pkg.add(\"PrettyTables\")\n",
    "Pkg.add(\"Plots\")\n",
    "Pkg.add(\"Colors\")\n",
    "Pkg.add(\"JLD2\")\n",
    "Pkg.add(\"FileIO\")\n",
    "Pkg.add(\"Statistics\")\n",
    "Pkg.add(\"LinearAlgebra\")\n",
    "Pkg.add(\"MathOptInterface\")\n",
    "Pkg.add(\"DataStructures\")\n",
    "Pkg.add(\"Flux\")\n",
    "\n",
    "using VLDecisionsPackage \n",
    "using VLDecisionsPackage\n",
    "using CSV\n",
    "using DataFrames\n",
    "using ForwardDiff\n",
    "using PrettyTables\n",
    "using Plots\n",
    "using Colors\n",
    "using Distributions\n",
    "using JLD2\n",
    "using FileIO\n",
    "using Statistics\n",
    "using LinearAlgebra\n",
    "using MathOptInterface\n",
    "using DataStructures\n",
    "using Flux\n"
   ]
  },
  {
   "cell_type": "markdown",
   "id": "6c2f3d12-725c-41c9-bcce-9683d0e19864",
   "metadata": {
    "jp-MarkdownHeadingCollapsed": true,
    "tags": []
   },
   "source": [
    "## Evaluating the Utility of Solar Photovoltacis for Electricty Generation vs. Solar Photovoltaics for Heating \n",
    "To evalauate wether our client should invest in solar PV for electricity vs. solar PV for heating a detailed utility analysis will be performed. Our decision agent is modeled after the preferences of our client. The client is provided with 2 options, solar PV vs. solar heating and asked to come up with their top 7 most imporart features that will influence their decision. The 7 features include: \n",
    "1. **Asthetic** - How does the solar pannels look on the roof of the house?\n",
    "2. **CO2 emissision reducation/sustianability factor**- How much CO2 is this technology going to prevent us from emitting?\n",
    "3. **Accessibility**- How easy is it to source affordable, knowledgeable contractors in our area to help pursue this project?\n",
    "4. **Reliability**- What is the failure rate of these technologies? How often do they require maintence?\n",
    "5. **Initial Capital Investment**- How much do we have to pay out of pocket for the installation and maintence? \n",
    "6. **Incentives** - How much of the intial captial investment will the government pay for? \n",
    "7. **Emissisions from materials**- With a simiplified LCA, what CO2 emissions are related to the manufacturing of these technologies? Are they recyclable in the future? <br>\n",
    "\n",
    "The agent is then asked to rank how each option performs for each feature on a scale of 1-10. In addition, the agent assign each feature a weight of how important they value one feature over another. It is assumed that the agent has done their appropriate research to inform their ranking. The data collected is as follows: "
   ]
  },
  {
   "cell_type": "code",
   "execution_count": 2,
   "id": "1dd8806f-ac2c-4c8f-9721-a925c5afd634",
   "metadata": {},
   "outputs": [
    {
     "name": "stderr",
     "output_type": "stream",
     "text": [
      "\u001b[32m\u001b[1m    Updating\u001b[22m\u001b[39m git-repo `https://github.com/varnerlab/VLDecisionsPackage.jl.git`\n",
      "\u001b[32m\u001b[1m   Resolving\u001b[22m\u001b[39m package versions...\n",
      "\u001b[32m\u001b[1m  No Changes\u001b[22m\u001b[39m to `C:\\Users\\lwdes\\CHEME 5760\\CHEME5760_finalProject\\Project.toml`\n",
      "\u001b[32m\u001b[1m  No Changes\u001b[22m\u001b[39m to `C:\\Users\\lwdes\\CHEME 5760\\CHEME5760_finalProject\\Manifest.toml`\n",
      "\u001b[32m\u001b[1m  Activating\u001b[22m\u001b[39m project at `C:\\Users\\lwdes\\CHEME 5760\\CHEME5760_finalProject`\n",
      "\u001b[32m\u001b[1m    Updating\u001b[22m\u001b[39m registry at `C:\\Users\\lwdes\\.julia\\registries\\General`\n",
      "\u001b[32m\u001b[1m    Updating\u001b[22m\u001b[39m git-repo `https://github.com/JuliaRegistries/General.git`\n",
      "\u001b[32m\u001b[1m    Updating\u001b[22m\u001b[39m git-repo `https://github.com/varnerlab/VLDecisionsPackage.jl.git`\n",
      "\u001b[32m\u001b[1m  No Changes\u001b[22m\u001b[39m to `C:\\Users\\lwdes\\CHEME 5760\\CHEME5760_finalProject\\Project.toml`\n",
      "\u001b[32m\u001b[1m  No Changes\u001b[22m\u001b[39m to `C:\\Users\\lwdes\\CHEME 5760\\CHEME5760_finalProject\\Manifest.toml`\n"
     ]
    },
    {
     "ename": "LoadError",
     "evalue": "LoadError: SystemError: opening file \"C:\\\\Users\\\\lwdes\\\\CHEME 5760\\\\CHEME5760_finalProject\\\\src\\\\Compute.jl\": No such file or directory\nin expression starting at C:\\Users\\lwdes\\CHEME 5760\\CHEME5760_finalProject\\Include.jl:36",
     "output_type": "error",
     "traceback": [
      "LoadError: SystemError: opening file \"C:\\\\Users\\\\lwdes\\\\CHEME 5760\\\\CHEME5760_finalProject\\\\src\\\\Compute.jl\": No such file or directory\nin expression starting at C:\\Users\\lwdes\\CHEME 5760\\CHEME5760_finalProject\\Include.jl:36",
      "",
      "Stacktrace:",
      "  [1] systemerror(p::String, errno::Int32; extrainfo::Nothing)",
      "    @ Base .\\error.jl:176",
      "  [2] #systemerror#82",
      "    @ .\\error.jl:175 [inlined]",
      "  [3] systemerror",
      "    @ .\\error.jl:175 [inlined]",
      "  [4] open(fname::String; lock::Bool, read::Nothing, write::Nothing, create::Nothing, truncate::Nothing, append::Nothing)",
      "    @ Base .\\iostream.jl:293",
      "  [5] open",
      "    @ .\\iostream.jl:275 [inlined]",
      "  [6] open(f::Base.var\"#418#419\"{String}, args::String; kwargs::Base.Pairs{Symbol, Union{}, Tuple{}, NamedTuple{(), Tuple{}}})",
      "    @ Base .\\io.jl:393",
      "  [7] open",
      "    @ .\\io.jl:392 [inlined]",
      "  [8] read",
      "    @ .\\io.jl:473 [inlined]",
      "  [9] _include(mapexpr::Function, mod::Module, _path::String)",
      "    @ Base .\\loading.jl:1959",
      " [10] include(fname::String)",
      "    @ Base.MainInclude .\\client.jl:478",
      " [11] top-level scope",
      "    @ C:\\Users\\lwdes\\CHEME 5760\\CHEME5760_finalProject\\Include.jl:36",
      " [12] include(fname::String)",
      "    @ Base.MainInclude .\\client.jl:478",
      " [13] top-level scope",
      "    @ In[2]:1"
     ]
    }
   ],
   "source": [
    "include(\"Include.jl\");"
   ]
  },
  {
   "cell_type": "markdown",
   "id": "6b7c88da-7703-4d47-a120-a00ede742765",
   "metadata": {},
   "source": [
    "## Agent's Preference Data "
   ]
  },
  {
   "cell_type": "code",
   "execution_count": 3,
   "id": "e535c1b8-ea19-47eb-9eec-8aa21f43cf28",
   "metadata": {},
   "outputs": [],
   "source": [
    "current_directory=pwd();\n",
    "filename=\"PVvsSolarHeating.csv\";\n",
    "full_path=joinpath(current_directory,filename);"
   ]
  },
  {
   "cell_type": "code",
   "execution_count": 4,
   "id": "f0ccd0e4-3543-4e57-934c-7d6aecd30b2d",
   "metadata": {},
   "outputs": [],
   "source": [
    "using DataFrames\n",
    "using CSV\n",
    "\n",
    "function _load(path::String)::DataFrame\n",
    "    return CSV.read(path, DataFrame);\n",
    "end\n",
    "\n",
    "# short circuit the loading of the data -\n",
    "SolarPVSet() = _load(full_path);"
   ]
  },
  {
   "cell_type": "code",
   "execution_count": 5,
   "id": "ba6146fa-d523-4bb4-82e1-995dd6c79f85",
   "metadata": {},
   "outputs": [
    {
     "data": {
      "text/html": [
       "<div><div style = \"float: left;\"><span>7×5 DataFrame</span></div><div style = \"clear: both;\"></div></div><div class = \"data-frame\" style = \"overflow-x: scroll;\"><table class = \"data-frame\" style = \"margin-bottom: 6px;\"><thead><tr class = \"header\"><th class = \"rowNumber\" style = \"font-weight: bold; text-align: right;\">Row</th><th style = \"text-align: left;\">Row </th><th style = \"text-align: left;\">Feature </th><th style = \"text-align: left;\">Exponent </th><th style = \"text-align: left;\">Solar voltaic </th><th style = \"text-align: left;\">Solar Hot Water Heating </th></tr><tr class = \"subheader headerLastRow\"><th class = \"rowNumber\" style = \"font-weight: bold; text-align: right;\"></th><th title = \"Int64\" style = \"text-align: left;\">Int64</th><th title = \"String\" style = \"text-align: left;\">String</th><th title = \"Float64\" style = \"text-align: left;\">Float64</th><th title = \"Float64\" style = \"text-align: left;\">Float64</th><th title = \"Float64\" style = \"text-align: left;\">Float64</th></tr></thead><tbody><tr><td class = \"rowNumber\" style = \"font-weight: bold; text-align: right;\">1</td><td style = \"text-align: right;\">1</td><td style = \"text-align: left;\">Asthetic </td><td style = \"text-align: right;\">0.1</td><td style = \"text-align: right;\">8.0</td><td style = \"text-align: right;\">6.0</td></tr><tr><td class = \"rowNumber\" style = \"font-weight: bold; text-align: right;\">2</td><td style = \"text-align: right;\">2</td><td style = \"text-align: left;\">CO2 emission reduction/Sustainability Factor </td><td style = \"text-align: right;\">0.3</td><td style = \"text-align: right;\">7.0</td><td style = \"text-align: right;\">5.0</td></tr><tr><td class = \"rowNumber\" style = \"font-weight: bold; text-align: right;\">3</td><td style = \"text-align: right;\">3</td><td style = \"text-align: left;\">Accessibility </td><td style = \"text-align: right;\">0.025</td><td style = \"text-align: right;\">8.0</td><td style = \"text-align: right;\">5.0</td></tr><tr><td class = \"rowNumber\" style = \"font-weight: bold; text-align: right;\">4</td><td style = \"text-align: right;\">4</td><td style = \"text-align: left;\">Reliability </td><td style = \"text-align: right;\">0.25</td><td style = \"text-align: right;\">4.0</td><td style = \"text-align: right;\">3.0</td></tr><tr><td class = \"rowNumber\" style = \"font-weight: bold; text-align: right;\">5</td><td style = \"text-align: right;\">5</td><td style = \"text-align: left;\">Initial Capital Investment </td><td style = \"text-align: right;\">0.05</td><td style = \"text-align: right;\">6.0</td><td style = \"text-align: right;\">9.0</td></tr><tr><td class = \"rowNumber\" style = \"font-weight: bold; text-align: right;\">6</td><td style = \"text-align: right;\">6</td><td style = \"text-align: left;\">Incentives </td><td style = \"text-align: right;\">0.25</td><td style = \"text-align: right;\">8.0</td><td style = \"text-align: right;\">4.0</td></tr><tr><td class = \"rowNumber\" style = \"font-weight: bold; text-align: right;\">7</td><td style = \"text-align: right;\">7</td><td style = \"text-align: left;\">Emissions from materials</td><td style = \"text-align: right;\">0.025</td><td style = \"text-align: right;\">6.0</td><td style = \"text-align: right;\">6.0</td></tr></tbody></table></div>"
      ],
      "text/latex": [
       "\\begin{tabular}{r|ccccc}\n",
       "\t& Row  & Feature  & Exponent  & Solar voltaic  & \\\\\n",
       "\t\\hline\n",
       "\t& Int64 & String & Float64 & Float64 & \\\\\n",
       "\t\\hline\n",
       "\t1 & 1 & Asthetic  & 0.1 & 8.0 & $\\dots$ \\\\\n",
       "\t2 & 2 & CO2 emission reduction/Sustainability Factor  & 0.3 & 7.0 & $\\dots$ \\\\\n",
       "\t3 & 3 & Accessibility  & 0.025 & 8.0 & $\\dots$ \\\\\n",
       "\t4 & 4 & Reliability  & 0.25 & 4.0 & $\\dots$ \\\\\n",
       "\t5 & 5 & Initial Capital Investment  & 0.05 & 6.0 & $\\dots$ \\\\\n",
       "\t6 & 6 & Incentives  & 0.25 & 8.0 & $\\dots$ \\\\\n",
       "\t7 & 7 & Emissions from materials & 0.025 & 6.0 & $\\dots$ \\\\\n",
       "\\end{tabular}\n"
      ],
      "text/plain": [
       "\u001b[1m7×5 DataFrame\u001b[0m\n",
       "\u001b[1m Row \u001b[0m│\u001b[1m Row   \u001b[0m\u001b[1m Feature                           \u001b[0m\u001b[1m Exponent  \u001b[0m\u001b[1m Solar voltaic  \u001b[0m\u001b[1m So\u001b[0m ⋯\n",
       "     │\u001b[90m Int64 \u001b[0m\u001b[90m String                            \u001b[0m\u001b[90m Float64   \u001b[0m\u001b[90m Float64        \u001b[0m\u001b[90m Fl\u001b[0m ⋯\n",
       "─────┼──────────────────────────────────────────────────────────────────────────\n",
       "   1 │     1  Asthetic                               0.1               8.0     ⋯\n",
       "   2 │     2  CO2 emission reduction/Sustainab…      0.3               7.0\n",
       "   3 │     3  Accessibility                          0.025             8.0\n",
       "   4 │     4  Reliability                            0.25              4.0\n",
       "   5 │     5  Initial Capital Investment             0.05              6.0     ⋯\n",
       "   6 │     6  Incentives                             0.25              8.0\n",
       "   7 │     7  Emissions from materials               0.025             6.0\n",
       "\u001b[36m                                                                1 column omitted\u001b[0m"
      ]
     },
     "execution_count": 5,
     "metadata": {},
     "output_type": "execute_result"
    }
   ],
   "source": [
    "dataset=SolarPVSet()"
   ]
  },
  {
   "cell_type": "markdown",
   "id": "a2faa89a-6405-4e07-8344-f0fe86b1c04b",
   "metadata": {},
   "source": [
    "## Building the Utility Function\n",
    "Using the preference data from our client, we are going to model the utility of each option using the `Cobb-Douglas Utility Function`. The Cobb-Douglas utility is a powerful function capable of accounting for mutliple features simultaneously when calcualting utility. The utility is calculated by assingning weights/exponents to each feature and summing the values. The sum of the exponents are equal to 1.0. \n",
    "\n",
    "\\begin{equation}\n",
    "U(x_{1},\\dots,x_{m}) = \\prod_{i\\in{1\\dots{m}}}{x_{i}^{\\alpha_{i}}}\n",
    "\\end{equation}"
   ]
  },
  {
   "cell_type": "code",
   "execution_count": 6,
   "id": "fc59c38b-d45b-4189-92be-b2678a3cf996",
   "metadata": {
    "tags": []
   },
   "outputs": [],
   "source": [
    "@assert(sum(dataset[:,:\"Exponent \"]) == 1.0)"
   ]
  },
  {
   "cell_type": "code",
   "execution_count": 7,
   "id": "49a37f36-fd1b-4b15-bf7e-4dc458722d77",
   "metadata": {
    "tags": []
   },
   "outputs": [
    {
     "data": {
      "text/plain": [
       "UCD (generic function with 1 method)"
      ]
     },
     "execution_count": 7,
     "metadata": {},
     "output_type": "execute_result"
    }
   ],
   "source": [
    "function UCD(x)\n",
    "    \n",
    "    # load data -\n",
    "    dataset = SolarPVSet();\n",
    "    α = dataset[:,:\"Exponent \"];\n",
    "    \n",
    "    number_of_features = length(x);\n",
    "    solution = 1.0;\n",
    "\n",
    "    # build the solution -\n",
    "    for i ∈ 1:number_of_features\n",
    "        solution *= x[i]^α[i];\n",
    "    end\n",
    "\n",
    "    # return - \n",
    "    return solution;\n",
    "end"
   ]
  },
  {
   "cell_type": "code",
   "execution_count": 8,
   "id": "6f1dabd2-c475-4d80-8034-80f0e0af9bf5",
   "metadata": {
    "tags": []
   },
   "outputs": [
    {
     "data": {
      "text/plain": [
       "MUCD (generic function with 1 method)"
      ]
     },
     "execution_count": 8,
     "metadata": {},
     "output_type": "execute_result"
    }
   ],
   "source": [
    "function MUCD(model::VLCobbDouglasUtilityFunction, features::Array{Float64,1})::Array{Float64,1}\n",
    "    \n",
    "    # initialize -\n",
    "    number_of_features = length(features);\n",
    "    values = zeros(number_of_features);\n",
    "    α = model.α;\n",
    "    \n",
    "    for i ∈ 1:number_of_features\n",
    "        tmp = prod(features[1:end .!=i].^(α[1:end .!=i]));\n",
    "        values[i] = tmp*(α[i]*features[i]^(α[i]-1))\n",
    "    end\n",
    "    \n",
    "    # return -\n",
    "    return values\n",
    "end"
   ]
  },
  {
   "cell_type": "code",
   "execution_count": 9,
   "id": "93300e0a-f160-49b8-85cc-252ba4e7dd2a",
   "metadata": {},
   "outputs": [],
   "source": [
    "# Example evaluate function (replace with actual implementation)\n",
    "(model::VLCobbDouglasUtilityFunction)(x::Vector{Float64}) = evaluate(model, x);"
   ]
  },
  {
   "cell_type": "code",
   "execution_count": 10,
   "id": "1f68623c-e230-47c3-a7e1-b73a918400cb",
   "metadata": {
    "tags": []
   },
   "outputs": [],
   "source": [
    "model = build(VLCobbDouglasUtilityFunction, (\n",
    "        α = dataset[:,:\"Exponent \"],)\n",
    ");"
   ]
  },
  {
   "cell_type": "code",
   "execution_count": 11,
   "id": "e487f006-fcee-416d-8c41-d9be5f81daab",
   "metadata": {
    "tags": []
   },
   "outputs": [
    {
     "name": "stdout",
     "output_type": "stream",
     "text": [
      "The utility of Solar Voltaics = 6.325057802573403 while the utility of the Solar heating = 4.384717267315756\n"
     ]
    }
   ],
   "source": [
    "utility_solarVoltaic = model(dataset[:,:\"Solar voltaic \"]);\n",
    "utility_solarWaterHeating = model(dataset[:,:\"Solar Hot Water Heating \"]);\n",
    "println(\"The utility of Solar Voltaics = $(utility_solarVoltaic) while the utility of the Solar heating = $(utility_solarWaterHeating)\")"
   ]
  },
  {
   "cell_type": "markdown",
   "id": "a7bc1014-ded3-4ec7-bec2-77368945c630",
   "metadata": {},
   "source": [
    "## Results from Utility Model\n",
    "Based on the results of the utility model we conclude that the **client should invest in solar voltaics for electricity** rather than solar heating. The utility of solar voltaics is 6.325 where as the utility of the solar heating is only 4.384.\n",
    "\n",
    "*Note: We are making the assumption that the client beahaves in accordance with the `rational choice theory` which assumes that individual always act rationally and act on the decision that maximizes their utility.*\n",
    "\n",
    "In the context of our client, and as a sanity check, this decision does make sense. The govenrment gives a large discount on electricity and $\\$18,500$ dollars tax credit from federal, state and local government. (Solar Energy World Proposal) From the installation of solar PV itself, the client gets an avoided cost of electricy/yr of ~$\\$3,600$ and a yearly credit income of $\\$1200$. While the initial investment is large, it is offsetted by the increased home value. Solar heating is still a great investment, but it only provides centralized heating for the resident themselves thus there is no heating credit provided to the client. In addition, heating is only used for ~6 out of the 12 months and in those 6 months, the efficency and coefficent of perfromance makes heating a less desireable option."
   ]
  },
  {
   "cell_type": "markdown",
   "id": "0c1b17b1-13a6-447e-8f4e-4656c5c7b47e",
   "metadata": {},
   "source": [
    "### Perception model\n",
    "Let's suppose we can perceive differences in utility of 1% or greater"
   ]
  },
  {
   "cell_type": "code",
   "execution_count": 12,
   "id": "00b2c31f-4f7b-4cfc-9133-dd7d9849528f",
   "metadata": {
    "tags": []
   },
   "outputs": [],
   "source": [
    "# Δ = ((max(utility_solarVoltaic,utility_solarWaterHeating) - min(utility_solarVoltaic,utility_solarWaterHeating))/min(utility_solarVoltaic,utility_solarWaterHeating))*100"
   ]
  },
  {
   "cell_type": "code",
   "execution_count": 32,
   "id": "cd6f2cd4-0388-49eb-9e5f-6eef116dd338",
   "metadata": {},
   "outputs": [],
   "source": [
    "# using ForwardDiff\n",
    "\n",
    "# Ū_solarWaterHeating = ForwardDiff.gradient(UCD, dataset[:,:\"Solar Hot Water Heating \"]);\n",
    "# mu_table_df = DataFrame();\n"
   ]
  },
  {
   "cell_type": "code",
   "execution_count": 14,
   "id": "6e29482e-7d6b-4562-a989-38b49c50eaaf",
   "metadata": {
    "tags": []
   },
   "outputs": [],
   "source": [
    "# dx = zeros(length(Ū_solarVoltaic));\n",
    "# dx[4] = 1.0;\n",
    "# U = utility_solarVoltaic + sum(Ū_solarVoltaic.*dx)"
   ]
  },
  {
   "cell_type": "markdown",
   "id": "ea9908b2-57d5-4764-a575-18a46f29e271",
   "metadata": {},
   "source": [
    "## Marginal rate of substitution (MRS)\n"
   ]
  },
  {
   "cell_type": "markdown",
   "id": "c381cd06-f9b9-4724-a0f3-4bd78bb49ee1",
   "metadata": {},
   "source": [
    "#### What am I willing to give up for a unit of affordability?"
   ]
  },
  {
   "cell_type": "code",
   "execution_count": 34,
   "id": "332c85ec-6795-4a77-8762-fd5cf03956a2",
   "metadata": {
    "tags": []
   },
   "outputs": [
    {
     "data": {
      "text/html": [
       "<div><div style = \"float: left;\"><span>7×3 DataFrame</span></div><div style = \"clear: both;\"></div></div><div class = \"data-frame\" style = \"overflow-x: scroll;\"><table class = \"data-frame\" style = \"margin-bottom: 6px;\"><thead><tr class = \"header\"><th class = \"rowNumber\" style = \"font-weight: bold; text-align: right;\">Row</th><th style = \"text-align: left;\">feature</th><th style = \"text-align: left;\">affordability</th><th style = \"text-align: left;\">MRS_solarVoltaic</th></tr><tr class = \"subheader headerLastRow\"><th class = \"rowNumber\" style = \"font-weight: bold; text-align: right;\"></th><th title = \"String\" style = \"text-align: left;\">String</th><th title = \"Int64\" style = \"text-align: left;\">Int64</th><th title = \"Float64\" style = \"text-align: left;\">Float64</th></tr></thead><tbody><tr><td class = \"rowNumber\" style = \"font-weight: bold; text-align: right;\">1</td><td style = \"text-align: left;\">Asthetic </td><td style = \"text-align: right;\">1</td><td style = \"text-align: right;\">-3.42857</td></tr><tr><td class = \"rowNumber\" style = \"font-weight: bold; text-align: right;\">2</td><td style = \"text-align: left;\">CO2 emission reduction/Sustainability Factor </td><td style = \"text-align: right;\">1</td><td style = \"text-align: right;\">-1.0</td></tr><tr><td class = \"rowNumber\" style = \"font-weight: bold; text-align: right;\">3</td><td style = \"text-align: left;\">Accessibility </td><td style = \"text-align: right;\">1</td><td style = \"text-align: right;\">-13.7143</td></tr><tr><td class = \"rowNumber\" style = \"font-weight: bold; text-align: right;\">4</td><td style = \"text-align: left;\">Reliability </td><td style = \"text-align: right;\">1</td><td style = \"text-align: right;\">-0.685714</td></tr><tr><td class = \"rowNumber\" style = \"font-weight: bold; text-align: right;\">5</td><td style = \"text-align: left;\">Initial Capital Investment </td><td style = \"text-align: right;\">1</td><td style = \"text-align: right;\">-5.14286</td></tr><tr><td class = \"rowNumber\" style = \"font-weight: bold; text-align: right;\">6</td><td style = \"text-align: left;\">Incentives </td><td style = \"text-align: right;\">1</td><td style = \"text-align: right;\">-1.37143</td></tr><tr><td class = \"rowNumber\" style = \"font-weight: bold; text-align: right;\">7</td><td style = \"text-align: left;\">Emissions from materials</td><td style = \"text-align: right;\">1</td><td style = \"text-align: right;\">-10.2857</td></tr></tbody></table></div>"
      ],
      "text/latex": [
       "\\begin{tabular}{r|ccc}\n",
       "\t& feature & affordability & MRS\\_solarVoltaic\\\\\n",
       "\t\\hline\n",
       "\t& String & Int64 & Float64\\\\\n",
       "\t\\hline\n",
       "\t1 & Asthetic  & 1 & -3.42857 \\\\\n",
       "\t2 & CO2 emission reduction/Sustainability Factor  & 1 & -1.0 \\\\\n",
       "\t3 & Accessibility  & 1 & -13.7143 \\\\\n",
       "\t4 & Reliability  & 1 & -0.685714 \\\\\n",
       "\t5 & Initial Capital Investment  & 1 & -5.14286 \\\\\n",
       "\t6 & Incentives  & 1 & -1.37143 \\\\\n",
       "\t7 & Emissions from materials & 1 & -10.2857 \\\\\n",
       "\\end{tabular}\n"
      ],
      "text/plain": [
       "\u001b[1m7×3 DataFrame\u001b[0m\n",
       "\u001b[1m Row \u001b[0m│\u001b[1m feature                           \u001b[0m\u001b[1m affordability \u001b[0m\u001b[1m MRS_solarVoltaic \u001b[0m\n",
       "     │\u001b[90m String                            \u001b[0m\u001b[90m Int64         \u001b[0m\u001b[90m Float64          \u001b[0m\n",
       "─────┼────────────────────────────────────────────────────────────────────\n",
       "   1 │ Asthetic                                       1         -3.42857\n",
       "   2 │ CO2 emission reduction/Sustainab…              1         -1.0\n",
       "   3 │ Accessibility                                  1        -13.7143\n",
       "   4 │ Reliability                                    1         -0.685714\n",
       "   5 │ Initial Capital Investment                     1         -5.14286\n",
       "   6 │ Incentives                                     1         -1.37143\n",
       "   7 │ Emissions from materials                       1        -10.2857"
      ]
     },
     "execution_count": 34,
     "metadata": {},
     "output_type": "execute_result"
    }
   ],
   "source": [
    "Ū_solarVoltaic = ForwardDiff.gradient(UCD, dataset[:,:\"Solar voltaic \"]);\n",
    "dx₂ = 1 ; # change affordability by 1-unit (willing to pay more)\n",
    "feature_range = [1,2,3,4,5,6,7];\n",
    "MRS_tradeoff_table = DataFrame();\n",
    "for i ∈ feature_range\n",
    "    dx = -(Ū_solarVoltaic[2]/Ū_solarVoltaic[i])*dx₂\n",
    "    \n",
    "    results_row = (\n",
    "        feature = dataset[i,:\"Feature \"],\n",
    "        affordability = dx₂,\n",
    "        MRS_solarVoltaic = dx\n",
    "    );\n",
    "    \n",
    "    # store -\n",
    "    push!(MRS_tradeoff_table, results_row);\n",
    "end\n",
    "\n",
    "MRS_tradeoff_table"
   ]
  },
  {
   "cell_type": "markdown",
   "id": "b3fbe3a6-c1f6-413e-815d-270839800099",
   "metadata": {},
   "source": [
    "# Purchasing Additional Insurance\n",
    "With the addition of solar pannels added to the property it may be possible that the client will need to raise coverage limits to account for the replacment cost of the solar panels. This will likely result in an increase in the premium. In addition, the additional value added the house after the instillation of the solar pannels could result in a raise in the homeowner's insurance. Becuase we don't have access to exact insurance quote, approximations will be made to estimate the ratio of the premum paid to the insurance company. It is estimate that an additinal $\\$150,000$ in insruance on average costs between $\\$450$-$\\$850$. For the purposes of this project, we will estimate annual increase insurance of $\\$600$. We will also estimate that the client will pay the additonal $\\$600$ for 15 more years while they live in the residence. If we estimate a payback time of 8 years for the pannels then if we total the insurance over the 15 years and average it over the 8 years they are financing the pannels, the ratio of preium paid to the insurace company is approxiamtey 23%.\n",
    "\n",
    "*Note: The insurance is a very rough estimate.*"
   ]
  },
  {
   "cell_type": "code",
   "execution_count": 16,
   "id": "d68a4730-a89d-4878-a179-db57274fd0ff",
   "metadata": {
    "tags": []
   },
   "outputs": [],
   "source": [
    "α = 0.23; # the ratio of the premium paid to the insurance company\n",
    "β = 0.90; # level of damage that could occur as a fraction of the value of the object \n",
    "W = 39947.00; # the cost of the solar PV wihtout incentive. With incentive is $39,947\n",
    "d = β*W \n",
    "r = α*d;\n",
    "number_of_trials = 50000;\n",
    "number_of_points = 100;"
   ]
  },
  {
   "cell_type": "code",
   "execution_count": 17,
   "id": "803baac7-9e8d-4998-949f-e890e18e1b69",
   "metadata": {
    "tags": []
   },
   "outputs": [],
   "source": [
    "p₁ = 0.05; # probability that of entering the damage state (From NREL Citation (1))\n",
    "d₁ = Bernoulli(p₁);"
   ]
  },
  {
   "cell_type": "markdown",
   "id": "96cd955d-47dc-420d-a65c-9149b51b8ac4",
   "metadata": {},
   "source": [
    "We use a `for` loop to take `number_of_trials` samples from the `Bernoulli` distribution, and save the results in the `expected_value_simulation_archive` variable, which is a `number_of_trials` $\\times$ `2` array. During each trial, we:\n",
    "- Generate a sample from the `Bernoulli` distribution and store it in the `future_state` variable.\n",
    "- If `future_state` is equal to 1, indicating an accident state, we calculate the values for `Scenario A (no insurance)` (column 1) and `Scenario B (insurance)` (column 2) for the accident state.\n",
    "- If `future_state` is equal to 0, indicating a normal state, we calculate the values for `Scenario A (no insurance)` (column 1) and `Scenario B (insurance)` (column 2) for the normal state."
   ]
  },
  {
   "cell_type": "code",
   "execution_count": 18,
   "id": "d054ba82-a260-4435-8047-a6bef1793dfd",
   "metadata": {
    "tags": []
   },
   "outputs": [],
   "source": [
    "expected_value_simulation_archive = Array{Float64,2}(undef, number_of_trials, 2);\n",
    "for i ∈ 1:number_of_trials\n",
    "    \n",
    "    # role a random future state -\n",
    "    future_state = rand(d₁);\n",
    "    if (future_state == 1)\n",
    "        expected_value_simulation_archive[i,1] = W - d\n",
    "        expected_value_simulation_archive[i,2] = W - r\n",
    "    else\n",
    "        expected_value_simulation_archive[i,1] = W\n",
    "        expected_value_simulation_archive[i,2] = W - r\n",
    "    end\n",
    "end"
   ]
  },
  {
   "cell_type": "markdown",
   "id": "2829a47c-6d31-4538-9b1d-70cc3ec3429e",
   "metadata": {},
   "source": [
    "#### Decision: Numerical expected value\n",
    "Finally, we compute the expected value for each the scenarios using the `mean(...)` function from the [Statistics.jl](https://docs.julialang.org/en/v1/stdlib/Statistics/) package:"
   ]
  },
  {
   "cell_type": "code",
   "execution_count": 19,
   "id": "f5977279-8834-4391-8b13-9c45f4f751cf",
   "metadata": {
    "tags": []
   },
   "outputs": [
    {
     "name": "stdout",
     "output_type": "stream",
     "text": [
      "𝔼(A) = 38178.865886 ≥ 𝔼(B) = 31677.970999999994 => Don't purchase insurance\n"
     ]
    }
   ],
   "source": [
    "μ₁ = mean(expected_value_simulation_archive,dims=1) |> vec;\n",
    "if (μ₁[1] ≥ μ₁[2])\n",
    "    println(\"𝔼(A) = $(μ₁[1]) ≥ 𝔼(B) = $(μ₁[2]) => Don't purchase insurance\")\n",
    "else\n",
    "    println(\"𝔼(A) = $(μ₁[1]) < 𝔼(B) = $(μ₁[2]) => Purchase insurance\")\n",
    "end"
   ]
  },
  {
   "cell_type": "markdown",
   "id": "21e5d5ca-4963-4d19-a7c5-73e79f4f5326",
   "metadata": {},
   "source": [
    "##### Check: Analytical expected value\n",
    "We check the sampling algorithm above by computing the analytical value of the expectation for each scenario. The expected value for `Scenario A (no insurance)` is given by:\n",
    "\n",
    "$$\n",
    "\\begin{equation}\n",
    "\\mathbb{E}(A) = p\\cdot\\left(W-d\\right)+(1-p)\\cdot{W}\n",
    "\\end{equation}\n",
    "$$\n",
    "\n",
    "while the expected value for `Scenario B (insurance)` is given by $\\mathbb{E}(B) = W - r$."
   ]
  },
  {
   "cell_type": "code",
   "execution_count": 20,
   "id": "0803e4ae-30e6-454c-a91a-384300ba78c6",
   "metadata": {
    "tags": []
   },
   "outputs": [
    {
     "name": "stdout",
     "output_type": "stream",
     "text": [
      "𝔼(A) = 38149.385 ≥ 𝔼(B) = 31677.970999999998 => Don't purchase insurance\n"
     ]
    }
   ],
   "source": [
    "expected_value_case_A = p₁*(W - d)+(1-p₁)*W;\n",
    "expected_value_case_B = (W - r)\n",
    "if (expected_value_case_A ≥ expected_value_case_B)\n",
    "    println(\"𝔼(A) = $(expected_value_case_A) ≥ 𝔼(B) = $(expected_value_case_B) => Don't purchase insurance\")\n",
    "else\n",
    "    println(\"𝔼(A) = $(expected_value_case_A) < 𝔼(B) = $(expected_value_case_A) => Purchase insurance\")\n",
    "end"
   ]
  },
  {
   "cell_type": "markdown",
   "id": "a2e807e0-d190-4aa5-8d65-57d58f4ab72d",
   "metadata": {},
   "source": [
    "### Expected Utility Simulation\n",
    "To compute the expected utility of each scenario, we use the instance of the `Bernoulli` distribution exported from the [Distributions.jl](https://github.com/JuliaStats/Distributions.jl) package that we constructed above, a similar sampling algorithm and a utility function. Let's begin by defining a utility function $U(x,s)$ and the inverse of the utility function $IU(x,s)$. Finally, we specify a value for the risk-aversion parameter $\\tau$:"
   ]
  },
  {
   "cell_type": "code",
   "execution_count": 21,
   "id": "345ef3c4-81f0-4076-a5c6-a661e48be4d5",
   "metadata": {
    "tags": []
   },
   "outputs": [],
   "source": [
    "τ = 0.60\n",
    "U1(x,s) = x^(s)\n",
    "IU(x,s) = x^(1/s);"
   ]
  },
  {
   "cell_type": "markdown",
   "id": "8516957d-80b4-47ad-b35c-f50095221555",
   "metadata": {},
   "source": [
    "We use a `for` loop to take `number_of_trials` samples from the `Bernoulli` distribution, and save the results in the `expected_utility_simulation_archive` variable, which is a `number_of_trials` $\\times$ `2` array. During each trial, we:\n",
    "- Generate a sample from the `Bernoulli` distribution and store it in the `future_state` variable.\n",
    "- If `future_state` is equal to 1, indicating an accident state, we calculate the utility for `Scenario A (no insurance)` (column 1) and `Scenario B (insurance)` (column 2) for the accident state.\n",
    "- If `future_state` is equal to 0, indicating a normal state, we calculate the utility for `Scenario A (no insurance)` (column 1) and `Scenario B (insurance)` (column 2) for the normal state."
   ]
  },
  {
   "cell_type": "code",
   "execution_count": 22,
   "id": "2d437bcb-8958-44e0-b437-ffef01992f9b",
   "metadata": {
    "tags": []
   },
   "outputs": [],
   "source": [
    "expected_utility_simulation_archive = Array{Float64,2}(undef, number_of_trials, 2);\n",
    "for i ∈ 1:number_of_trials\n",
    "    \n",
    "    # role a random future state -\n",
    "    future_state = rand(d₁);\n",
    "    if (future_state == 1)\n",
    "        expected_utility_simulation_archive[i,1] = U1(W - d, τ)\n",
    "        expected_utility_simulation_archive[i,2] = U1(W - r, τ)\n",
    "    else\n",
    "        expected_utility_simulation_archive[i,1] = U1(W, τ)\n",
    "        expected_utility_simulation_archive[i,2] = U1(W - r, τ)\n",
    "    end\n",
    "end"
   ]
  },
  {
   "cell_type": "markdown",
   "id": "d985aaa6-2e29-444b-907a-8592b528adcf",
   "metadata": {},
   "source": [
    "Finally, we compute the expected utility for each the scenarios using the `mean(...)` function from the [Statistics.jl](https://docs.julialang.org/en/v1/stdlib/Statistics/) package:"
   ]
  },
  {
   "cell_type": "code",
   "execution_count": 23,
   "id": "5ec17144-bec1-4c69-a088-8d49af585cb1",
   "metadata": {
    "tags": []
   },
   "outputs": [
    {
     "name": "stdout",
     "output_type": "stream",
     "text": [
      "𝔼𝕌(A) = 554.8334231607971 ≥ 𝔼𝕌(B) = 501.7119139139577 => Don't purchase insurance\n"
     ]
    }
   ],
   "source": [
    "μ₂ = mean(expected_utility_simulation_archive,dims=1) |> vec;\n",
    "if (μ₂[1] ≥ μ₂[2])\n",
    "    \n",
    "    println(\"𝔼𝕌(A) = $(μ₂[1]) ≥ 𝔼𝕌(B) = $(μ₂[2]) => Don't purchase insurance\")\n",
    "else\n",
    "    println(\"𝔼𝕌(A) = $(μ₂[1]) < 𝔼𝕌(B) = $(μ₂[2]) => Purchase insurance\")\n",
    "end"
   ]
  },
  {
   "cell_type": "markdown",
   "id": "8ef09bbd-e501-43cd-a662-5d323d256926",
   "metadata": {},
   "source": [
    "##### Check: Analytical expected utility value\n",
    "We check the sampling algorithm above by computing the analytical value of the expected utility for each scenario. The expected utility for `Scenario A (no insurance)` is given by:\n",
    "\n",
    "$$\n",
    "\\begin{equation}\n",
    "\\mathbb{EU}(A) = p\\cdot{U}\\left(W-d, \\tau\\right)+(1-p)\\cdot{U(W, \\tau)}\n",
    "\\end{equation}\n",
    "$$\n",
    "\n",
    "while the expected value for `Scenario B (insurance)` is given by $\\mathbb{EU}(B) = U(W - r, \\tau)$."
   ]
  },
  {
   "cell_type": "code",
   "execution_count": 24,
   "id": "0a8b0fd6-5fb4-47af-ac23-76000cea5942",
   "metadata": {
    "tags": []
   },
   "outputs": [
    {
     "name": "stdout",
     "output_type": "stream",
     "text": [
      "𝔼𝕌(A) = 555.0320421447649 ≥ 𝔼𝕌(B) = 501.71191391395786 => Don't purchase insurance\n"
     ]
    }
   ],
   "source": [
    "expected_utility_case_A = p₁*U1(W - d, τ)+(1-p₁)*U1(W, τ);\n",
    "expected_utility_case_B = U1(W - r, τ)\n",
    "if (expected_utility_case_A ≥ expected_utility_case_B)\n",
    "    \n",
    "    println(\"𝔼𝕌(A) = $(expected_utility_case_A) ≥ 𝔼𝕌(B) = $(expected_utility_case_B) => Don't purchase insurance\")\n",
    "else\n",
    "    println(\"𝔼𝕌(A) = $(expected_utility_case_A) < 𝔼𝕌(B) = $(expected_utility_case_B) => Purchase insurance\")\n",
    "end"
   ]
  },
  {
   "cell_type": "markdown",
   "id": "d568ae4d-b23d-43a6-8082-6ebd12f8804a",
   "metadata": {},
   "source": [
    "### Computing the Certainty Equivalent and the Risk Premium\n",
    "The certainty equivalent (CE) is a guaranteed level of wealth that provides the same utility as the expected utility of a risky scenario. For example, in the insurance problem, the certainty equivalent is given by:\n",
    "\n",
    "$$\n",
    "\\begin{equation}\n",
    "\\text{CE} = \\mathbb{E}(A) - R_{P}\n",
    "\\end{equation}\n",
    "$$\n",
    "\n",
    "where $\\mathbb{E}(A)$ denotes the expected value of scenario $A$ (no insurance), and $R_{P}$ represents the risk premium, the \n",
    "amount that a risk-averse decision-maker will pay to avoid taking a risk. We have already computed the expected value $\\mathbb{E}(A)$.\n",
    "However, to compute the risk premium, we need to know the amount of money we would be willing to give up to eliminate the risk.\n",
    "\n",
    "#### Implementation\n",
    "First, let's compute the wealth `W` associated with the expected value of the no insurance case $\\mathbb{EU}(\\text{A})$ by inverting the utility function $W = \\Bigl(\\mathbb{EU}(\\text{A})\\Bigr)^{1/\\tau}$:"
   ]
  },
  {
   "cell_type": "code",
   "execution_count": 25,
   "id": "9d331fff-82c0-478b-b583-219cd7f0aae7",
   "metadata": {
    "tags": []
   },
   "outputs": [
    {
     "name": "stdout",
     "output_type": "stream",
     "text": [
      "The wealth value of 𝔼𝕌(A) is given by 37485.51 USD\n"
     ]
    }
   ],
   "source": [
    "Ŵ = IU(expected_utility_case_A, τ);\n",
    "println(\"The wealth value of 𝔼𝕌(A) is given by $(round(Ŵ, digits=3)) USD\")"
   ]
  },
  {
   "cell_type": "markdown",
   "id": "0e969e41-c31c-41b5-9063-cbd74db97469",
   "metadata": {},
   "source": [
    "Next, let's compute the indifferent utility value. To do this, we compute our position on the expected utility line by interpolating the wealth value:"
   ]
  },
  {
   "cell_type": "code",
   "execution_count": 26,
   "id": "067375ec-1d49-4125-bcfb-1ab8bc69a8be",
   "metadata": {
    "tags": []
   },
   "outputs": [
    {
     "name": "stdout",
     "output_type": "stream",
     "text": [
      "The utility of having 37485.51 USD is U_indiff = 547.0590300167867\n"
     ]
    }
   ],
   "source": [
    "L₁ = W - d\n",
    "L₂ = W\n",
    "θ̂ = (Ŵ - L₁)/(L₂ - L₁)\n",
    "U_indifferent = θ̂*U1(W,τ) + (1-θ̂)*U1(W-d,τ)\n",
    "println(\"The utility of having $(round(Ŵ, digits=3)) USD is U_indiff = $(U_indifferent)\")"
   ]
  },
  {
   "cell_type": "code",
   "execution_count": 27,
   "id": "8043eef9-bb4f-4098-abef-c45d27df2abc",
   "metadata": {
    "tags": []
   },
   "outputs": [
    {
     "name": "stdout",
     "output_type": "stream",
     "text": [
      "The certainty equivalent (CE) = 36592.3514542821 USD\n"
     ]
    }
   ],
   "source": [
    "CE = IU(U_indifferent,τ);\n",
    "println(\"The certainty equivalent (CE) = $(CE) USD\")"
   ]
  },
  {
   "cell_type": "markdown",
   "id": "1e81874c-0f99-4c33-9e05-af52f80c54ef",
   "metadata": {},
   "source": [
    "#### Visualize"
   ]
  },
  {
   "cell_type": "code",
   "execution_count": 28,
   "id": "da4b7819-6864-42a3-aea0-563258b978ea",
   "metadata": {
    "tags": []
   },
   "outputs": [],
   "source": [
    "utility_array = Array{Float64,2}(undef,number_of_points,2);\n",
    "WA = range(0.8*(W-d), stop = 1.2*W, length = number_of_points) |> collect;\n",
    "for i ∈ 1:number_of_points\n",
    "    utility_array[i,1] = WA[i];\n",
    "    utility_array[i,2] = U1(WA[i],τ);\n",
    "end\n",
    "\n",
    "tie_line = Array{Float64,2}(undef,number_of_points,2);\n",
    "θ = range(0,1,length = number_of_points) |> collect;\n",
    "for i ∈ 1:number_of_points\n",
    "    θᵢ = θ[i];\n",
    "    tie_line[i,1] = θᵢ*W + (1-θᵢ)*(W-d)\n",
    "    tie_line[i,2] = θᵢ*U1(W,τ) + (1-θᵢ)*U1(W-d,τ)\n",
    "end\n",
    "\n",
    "VLINE₁ = zeros(number_of_points, 2);\n",
    "VLINE₁[:,1] .= IU(expected_utility_case_A,τ)*ones(number_of_points);\n",
    "VLINE₁[:,2] .= range(minimum(utility_array[:,2]), maximum(utility_array[:,2]), length=number_of_points) |> collect;\n",
    "\n",
    "point_A = [IU(expected_utility_case_A, τ), expected_utility_case_A];\n",
    "\n",
    "B₁ = W - d\n",
    "B₂ = W\n",
    "γ = (IU(expected_utility_case_A,τ) - B₁)/(B₂ - B₁)\n",
    "point_B = [IU(expected_utility_case_A,τ), γ*U1(W,τ) + (1-γ)*U1(W-d,τ)];\n",
    "\n",
    "point_C = [IU(point_B[2],τ), point_B[2]];\n",
    "CE = point_C[1];\n",
    "\n",
    "VLINE₂ = zeros(number_of_points, 2);\n",
    "VLINE₂[:,1] .= point_C[1]*ones(number_of_points);\n",
    "VLINE₂[:,2] .= range(minimum(utility_array[:,2]), maximum(utility_array[:,2]), length=number_of_points) |> collect;\n",
    "\n",
    "HLINE = zeros(number_of_points, 2);\n",
    "HLINE[:,1] .= range(0.8*(W-d), 1.2*(W), length=number_of_points) |> collect;\n",
    "HLINE[:,2] .= point_B[2]*ones(number_of_points);"
   ]
  },
  {
   "cell_type": "code",
   "execution_count": 29,
   "id": "c6ce9ca9-fdcb-426d-aacb-ecdf22b2d4fa",
   "metadata": {
    "tags": []
   },
   "outputs": [
    {
     "data": {
      "image/png": "[encoded data removed]",
      "image/svg+xml": [
       "<?xml version=\"1.0\" encoding=\"utf-8\"?>\n",
       "<svg xmlns=\"http://www.w3.org/2000/svg\" xmlns:xlink=\"http://www.w3.org/1999/xlink\" width=\"600\" height=\"400\" viewBox=\"0 0 2400 1600\">\n",
       "<defs>\n",
       "  <clipPath id=\"clip050\">\n",
       "    <rect x=\"0\" y=\"0\" width=\"2400\" height=\"1600\"/>\n",
       "  </clipPath>\n",
       "</defs>\n",
       "<path clip-path=\"url(#clip050)\" d=\"M0 1600 L2400 1600 L2400 0 L0 0  Z\" fill=\"#ffffff\" fill-rule=\"evenodd\" fill-opacity=\"1\"/>\n",
       "<defs>\n",
       "  <clipPath id=\"clip051\">\n",
       "    <rect x=\"480\" y=\"0\" width=\"1681\" height=\"1600\"/>\n",
       "  </clipPath>\n",
       "</defs>\n",
       "<path clip-path=\"url(#clip050)\" d=\"M235.283 1410.9 L2352.76 1410.9 L2352.76 47.2441 L235.283 47.2441  Z\" fill=\"#ffffff\" fill-rule=\"evenodd\" fill-opacity=\"1\"/>\n",
       "<defs>\n",
       "  <clipPath id=\"clip052\">\n",
       "    <rect x=\"235\" y=\"47\" width=\"2118\" height=\"1365\"/>\n",
       "  </clipPath>\n",
       "</defs>\n",
       "<polyline clip-path=\"url(#clip052)\" style=\"stroke:#000000; stroke-linecap:round; stroke-linejoin:round; stroke-width:2; stroke-opacity:0.1; fill:none\" points=\"599.013,1410.9 599.013,47.2441 \"/>\n",
       "<polyline clip-path=\"url(#clip052)\" style=\"stroke:#000000; stroke-linecap:round; stroke-linejoin:round; stroke-width:2; stroke-opacity:0.1; fill:none\" points=\"1045.5,1410.9 1045.5,47.2441 \"/>\n",
       "<polyline clip-path=\"url(#clip052)\" style=\"stroke:#000000; stroke-linecap:round; stroke-linejoin:round; stroke-width:2; stroke-opacity:0.1; fill:none\" points=\"1491.99,1410.9 1491.99,47.2441 \"/>\n",
       "<polyline clip-path=\"url(#clip052)\" style=\"stroke:#000000; stroke-linecap:round; stroke-linejoin:round; stroke-width:2; stroke-opacity:0.1; fill:none\" points=\"1938.48,1410.9 1938.48,47.2441 \"/>\n",
       "<polyline clip-path=\"url(#clip050)\" style=\"stroke:#000000; stroke-linecap:round; stroke-linejoin:round; stroke-width:4; stroke-opacity:1; fill:none\" points=\"235.283,1410.9 2352.76,1410.9 \"/>\n",
       "<polyline clip-path=\"url(#clip050)\" style=\"stroke:#000000; stroke-linecap:round; stroke-linejoin:round; stroke-width:4; stroke-opacity:1; fill:none\" points=\"599.013,1410.9 599.013,1392 \"/>\n",
       "<polyline clip-path=\"url(#clip050)\" style=\"stroke:#000000; stroke-linecap:round; stroke-linejoin:round; stroke-width:4; stroke-opacity:1; fill:none\" points=\"1045.5,1410.9 1045.5,1392 \"/>\n",
       "<polyline clip-path=\"url(#clip050)\" style=\"stroke:#000000; stroke-linecap:round; stroke-linejoin:round; stroke-width:4; stroke-opacity:1; fill:none\" points=\"1491.99,1410.9 1491.99,1392 \"/>\n",
       "<polyline clip-path=\"url(#clip050)\" style=\"stroke:#000000; stroke-linecap:round; stroke-linejoin:round; stroke-width:4; stroke-opacity:1; fill:none\" points=\"1938.48,1410.9 1938.48,1392 \"/>\n",
       "<path clip-path=\"url(#clip050)\" d=\"M505.911 1485.02 L513.55 1485.02 L513.55 1458.66 L505.24 1460.32 L505.24 1456.06 L513.504 1454.4 L518.18 1454.4 L518.18 1485.02 L525.818 1485.02 L525.818 1488.96 L505.911 1488.96 L505.911 1485.02 Z\" fill=\"#000000\" fill-rule=\"nonzero\" fill-opacity=\"1\" /><path clip-path=\"url(#clip050)\" d=\"M535.263 1483.08 L540.147 1483.08 L540.147 1488.96 L535.263 1488.96 L535.263 1483.08 Z\" fill=\"#000000\" fill-rule=\"nonzero\" fill-opacity=\"1\" /><path clip-path=\"url(#clip050)\" d=\"M560.332 1457.48 Q556.721 1457.48 554.892 1461.04 Q553.087 1464.58 553.087 1471.71 Q553.087 1478.82 554.892 1482.38 Q556.721 1485.92 560.332 1485.92 Q563.966 1485.92 565.772 1482.38 Q567.601 1478.82 567.601 1471.71 Q567.601 1464.58 565.772 1461.04 Q563.966 1457.48 560.332 1457.48 M560.332 1453.77 Q566.142 1453.77 569.198 1458.38 Q572.277 1462.96 572.277 1471.71 Q572.277 1480.44 569.198 1485.04 Q566.142 1489.63 560.332 1489.63 Q554.522 1489.63 551.443 1485.04 Q548.388 1480.44 548.388 1471.71 Q548.388 1462.96 551.443 1458.38 Q554.522 1453.77 560.332 1453.77 Z\" fill=\"#000000\" fill-rule=\"nonzero\" fill-opacity=\"1\" /><path clip-path=\"url(#clip050)\" d=\"M608.665 1463.49 L598.087 1474.12 L608.665 1484.7 L605.911 1487.5 L595.286 1476.87 L584.661 1487.5 L581.929 1484.7 L592.485 1474.12 L581.929 1463.49 L584.661 1460.69 L595.286 1471.32 L605.911 1460.69 L608.665 1463.49 Z\" fill=\"#000000\" fill-rule=\"nonzero\" fill-opacity=\"1\" /><path clip-path=\"url(#clip050)\" d=\"M621.026 1485.02 L628.665 1485.02 L628.665 1458.66 L620.355 1460.32 L620.355 1456.06 L628.619 1454.4 L633.295 1454.4 L633.295 1485.02 L640.934 1485.02 L640.934 1488.96 L621.026 1488.96 L621.026 1485.02 Z\" fill=\"#000000\" fill-rule=\"nonzero\" fill-opacity=\"1\" /><path clip-path=\"url(#clip050)\" d=\"M660.378 1457.48 Q656.767 1457.48 654.938 1461.04 Q653.133 1464.58 653.133 1471.71 Q653.133 1478.82 654.938 1482.38 Q656.767 1485.92 660.378 1485.92 Q664.012 1485.92 665.818 1482.38 Q667.646 1478.82 667.646 1471.71 Q667.646 1464.58 665.818 1461.04 Q664.012 1457.48 660.378 1457.48 M660.378 1453.77 Q666.188 1453.77 669.244 1458.38 Q672.322 1462.96 672.322 1471.71 Q672.322 1480.44 669.244 1485.04 Q666.188 1489.63 660.378 1489.63 Q654.568 1489.63 651.489 1485.04 Q648.434 1480.44 648.434 1471.71 Q648.434 1462.96 651.489 1458.38 Q654.568 1453.77 660.378 1453.77 Z\" fill=\"#000000\" fill-rule=\"nonzero\" fill-opacity=\"1\" /><path clip-path=\"url(#clip050)\" d=\"M684.999 1436.78 L675.407 1451.77 L684.999 1451.77 L684.999 1436.78 M684.002 1433.47 L688.779 1433.47 L688.779 1451.77 L692.785 1451.77 L692.785 1454.93 L688.779 1454.93 L688.779 1461.55 L684.999 1461.55 L684.999 1454.93 L672.322 1454.93 L672.322 1451.26 L684.002 1433.47 Z\" fill=\"#000000\" fill-rule=\"nonzero\" fill-opacity=\"1\" /><path clip-path=\"url(#clip050)\" d=\"M956.485 1485.02 L972.804 1485.02 L972.804 1488.96 L950.86 1488.96 L950.86 1485.02 Q953.522 1482.27 958.105 1477.64 Q962.712 1472.98 963.892 1471.64 Q966.138 1469.12 967.017 1467.38 Q967.92 1465.62 967.92 1463.93 Q967.92 1461.18 965.976 1459.44 Q964.054 1457.71 960.952 1457.71 Q958.753 1457.71 956.3 1458.47 Q953.869 1459.23 951.091 1460.79 L951.091 1456.06 Q953.915 1454.93 956.369 1454.35 Q958.823 1453.77 960.86 1453.77 Q966.23 1453.77 969.425 1456.46 Q972.619 1459.14 972.619 1463.63 Q972.619 1465.76 971.809 1467.68 Q971.022 1469.58 968.915 1472.17 Q968.337 1472.85 965.235 1476.06 Q962.133 1479.26 956.485 1485.02 Z\" fill=\"#000000\" fill-rule=\"nonzero\" fill-opacity=\"1\" /><path clip-path=\"url(#clip050)\" d=\"M982.619 1483.08 L987.503 1483.08 L987.503 1488.96 L982.619 1488.96 L982.619 1483.08 Z\" fill=\"#000000\" fill-rule=\"nonzero\" fill-opacity=\"1\" /><path clip-path=\"url(#clip050)\" d=\"M1007.69 1457.48 Q1004.08 1457.48 1002.25 1461.04 Q1000.44 1464.58 1000.44 1471.71 Q1000.44 1478.82 1002.25 1482.38 Q1004.08 1485.92 1007.69 1485.92 Q1011.32 1485.92 1013.13 1482.38 Q1014.96 1478.82 1014.96 1471.71 Q1014.96 1464.58 1013.13 1461.04 Q1011.32 1457.48 1007.69 1457.48 M1007.69 1453.77 Q1013.5 1453.77 1016.55 1458.38 Q1019.63 1462.96 1019.63 1471.71 Q1019.63 1480.44 1016.55 1485.04 Q1013.5 1489.63 1007.69 1489.63 Q1001.88 1489.63 998.799 1485.04 Q995.744 1480.44 995.744 1471.71 Q995.744 1462.96 998.799 1458.38 Q1001.88 1453.77 1007.69 1453.77 Z\" fill=\"#000000\" fill-rule=\"nonzero\" fill-opacity=\"1\" /><path clip-path=\"url(#clip050)\" d=\"M1056.02 1463.49 L1045.44 1474.12 L1056.02 1484.7 L1053.27 1487.5 L1042.64 1476.87 L1032.02 1487.5 L1029.29 1484.7 L1039.84 1474.12 L1029.29 1463.49 L1032.02 1460.69 L1042.64 1471.32 L1053.27 1460.69 L1056.02 1463.49 Z\" fill=\"#000000\" fill-rule=\"nonzero\" fill-opacity=\"1\" /><path clip-path=\"url(#clip050)\" d=\"M1068.38 1485.02 L1076.02 1485.02 L1076.02 1458.66 L1067.71 1460.32 L1067.71 1456.06 L1075.97 1454.4 L1080.65 1454.4 L1080.65 1485.02 L1088.29 1485.02 L1088.29 1488.96 L1068.38 1488.96 L1068.38 1485.02 Z\" fill=\"#000000\" fill-rule=\"nonzero\" fill-opacity=\"1\" /><path clip-path=\"url(#clip050)\" d=\"M1107.73 1457.48 Q1104.12 1457.48 1102.29 1461.04 Q1100.49 1464.58 1100.49 1471.71 Q1100.49 1478.82 1102.29 1482.38 Q1104.12 1485.92 1107.73 1485.92 Q1111.37 1485.92 1113.17 1482.38 Q1115 1478.82 1115 1471.71 Q1115 1464.58 1113.17 1461.04 Q1111.37 1457.48 1107.73 1457.48 M1107.73 1453.77 Q1113.54 1453.77 1116.6 1458.38 Q1119.68 1462.96 1119.68 1471.71 Q1119.68 1480.44 1116.6 1485.04 Q1113.54 1489.63 1107.73 1489.63 Q1101.92 1489.63 1098.85 1485.04 Q1095.79 1480.44 1095.79 1471.71 Q1095.79 1462.96 1098.85 1458.38 Q1101.92 1453.77 1107.73 1453.77 Z\" fill=\"#000000\" fill-rule=\"nonzero\" fill-opacity=\"1\" /><path clip-path=\"url(#clip050)\" d=\"M1132.35 1436.78 L1122.76 1451.77 L1132.35 1451.77 L1132.35 1436.78 M1131.36 1433.47 L1136.14 1433.47 L1136.14 1451.77 L1140.14 1451.77 L1140.14 1454.93 L1136.14 1454.93 L1136.14 1461.55 L1132.35 1461.55 L1132.35 1454.93 L1119.68 1454.93 L1119.68 1451.26 L1131.36 1433.47 Z\" fill=\"#000000\" fill-rule=\"nonzero\" fill-opacity=\"1\" /><path clip-path=\"url(#clip050)\" d=\"M1413.04 1470.32 Q1416.4 1471.04 1418.27 1473.31 Q1420.17 1475.58 1420.17 1478.91 Q1420.17 1484.03 1416.65 1486.83 Q1413.13 1489.63 1406.65 1489.63 Q1404.48 1489.63 1402.16 1489.19 Q1399.87 1488.77 1397.42 1487.91 L1397.42 1483.4 Q1399.36 1484.54 1401.68 1485.11 Q1403.99 1485.69 1406.51 1485.69 Q1410.91 1485.69 1413.2 1483.96 Q1415.52 1482.22 1415.52 1478.91 Q1415.52 1475.85 1413.37 1474.14 Q1411.24 1472.41 1407.42 1472.41 L1403.39 1472.41 L1403.39 1468.56 L1407.6 1468.56 Q1411.05 1468.56 1412.88 1467.2 Q1414.71 1465.81 1414.71 1463.22 Q1414.71 1460.55 1412.81 1459.14 Q1410.94 1457.71 1407.42 1457.71 Q1405.5 1457.71 1403.3 1458.12 Q1401.1 1458.54 1398.46 1459.42 L1398.46 1455.25 Q1401.12 1454.51 1403.44 1454.14 Q1405.77 1453.77 1407.83 1453.77 Q1413.16 1453.77 1416.26 1456.2 Q1419.36 1458.61 1419.36 1462.73 Q1419.36 1465.6 1417.72 1467.59 Q1416.07 1469.56 1413.04 1470.32 Z\" fill=\"#000000\" fill-rule=\"nonzero\" fill-opacity=\"1\" /><path clip-path=\"url(#clip050)\" d=\"M1429.04 1483.08 L1433.92 1483.08 L1433.92 1488.96 L1429.04 1488.96 L1429.04 1483.08 Z\" fill=\"#000000\" fill-rule=\"nonzero\" fill-opacity=\"1\" /><path clip-path=\"url(#clip050)\" d=\"M1454.11 1457.48 Q1450.5 1457.48 1448.67 1461.04 Q1446.86 1464.58 1446.86 1471.71 Q1446.86 1478.82 1448.67 1482.38 Q1450.5 1485.92 1454.11 1485.92 Q1457.74 1485.92 1459.55 1482.38 Q1461.38 1478.82 1461.38 1471.71 Q1461.38 1464.58 1459.55 1461.04 Q1457.74 1457.48 1454.11 1457.48 M1454.11 1453.77 Q1459.92 1453.77 1462.97 1458.38 Q1466.05 1462.96 1466.05 1471.71 Q1466.05 1480.44 1462.97 1485.04 Q1459.92 1489.63 1454.11 1489.63 Q1448.3 1489.63 1445.22 1485.04 Q1442.16 1480.44 1442.16 1471.71 Q1442.16 1462.96 1445.22 1458.38 Q1448.3 1453.77 1454.11 1453.77 Z\" fill=\"#000000\" fill-rule=\"nonzero\" fill-opacity=\"1\" /><path clip-path=\"url(#clip050)\" d=\"M1502.44 1463.49 L1491.86 1474.12 L1502.44 1484.7 L1499.69 1487.5 L1489.06 1476.87 L1478.44 1487.5 L1475.7 1484.7 L1486.26 1474.12 L1475.7 1463.49 L1478.44 1460.69 L1489.06 1471.32 L1499.69 1460.69 L1502.44 1463.49 Z\" fill=\"#000000\" fill-rule=\"nonzero\" fill-opacity=\"1\" /><path clip-path=\"url(#clip050)\" d=\"M1514.8 1485.02 L1522.44 1485.02 L1522.44 1458.66 L1514.13 1460.32 L1514.13 1456.06 L1522.39 1454.4 L1527.07 1454.4 L1527.07 1485.02 L1534.71 1485.02 L1534.71 1488.96 L1514.8 1488.96 L1514.8 1485.02 Z\" fill=\"#000000\" fill-rule=\"nonzero\" fill-opacity=\"1\" /><path clip-path=\"url(#clip050)\" d=\"M1554.15 1457.48 Q1550.54 1457.48 1548.71 1461.04 Q1546.91 1464.58 1546.91 1471.71 Q1546.91 1478.82 1548.71 1482.38 Q1550.54 1485.92 1554.15 1485.92 Q1557.79 1485.92 1559.59 1482.38 Q1561.42 1478.82 1561.42 1471.71 Q1561.42 1464.58 1559.59 1461.04 Q1557.79 1457.48 1554.15 1457.48 M1554.15 1453.77 Q1559.96 1453.77 1563.02 1458.38 Q1566.1 1462.96 1566.1 1471.71 Q1566.1 1480.44 1563.02 1485.04 Q1559.96 1489.63 1554.15 1489.63 Q1548.34 1489.63 1545.26 1485.04 Q1542.21 1480.44 1542.21 1471.71 Q1542.21 1462.96 1545.26 1458.38 Q1548.34 1453.77 1554.15 1453.77 Z\" fill=\"#000000\" fill-rule=\"nonzero\" fill-opacity=\"1\" /><path clip-path=\"url(#clip050)\" d=\"M1578.77 1436.78 L1569.18 1451.77 L1578.77 1451.77 L1578.77 1436.78 M1577.78 1433.47 L1582.55 1433.47 L1582.55 1451.77 L1586.56 1451.77 L1586.56 1454.93 L1582.55 1454.93 L1582.55 1461.55 L1578.77 1461.55 L1578.77 1454.93 L1566.1 1454.93 L1566.1 1451.26 L1577.78 1433.47 Z\" fill=\"#000000\" fill-rule=\"nonzero\" fill-opacity=\"1\" /><path clip-path=\"url(#clip050)\" d=\"M1858.86 1458.47 L1847.05 1476.92 L1858.86 1476.92 L1858.86 1458.47 M1857.63 1454.4 L1863.51 1454.4 L1863.51 1476.92 L1868.44 1476.92 L1868.44 1480.81 L1863.51 1480.81 L1863.51 1488.96 L1858.86 1488.96 L1858.86 1480.81 L1843.26 1480.81 L1843.26 1476.29 L1857.63 1454.4 Z\" fill=\"#000000\" fill-rule=\"nonzero\" fill-opacity=\"1\" /><path clip-path=\"url(#clip050)\" d=\"M1876.17 1483.08 L1881.06 1483.08 L1881.06 1488.96 L1876.17 1488.96 L1876.17 1483.08 Z\" fill=\"#000000\" fill-rule=\"nonzero\" fill-opacity=\"1\" /><path clip-path=\"url(#clip050)\" d=\"M1901.24 1457.48 Q1897.63 1457.48 1895.8 1461.04 Q1894 1464.58 1894 1471.71 Q1894 1478.82 1895.8 1482.38 Q1897.63 1485.92 1901.24 1485.92 Q1904.88 1485.92 1906.68 1482.38 Q1908.51 1478.82 1908.51 1471.71 Q1908.51 1464.58 1906.68 1461.04 Q1904.88 1457.48 1901.24 1457.48 M1901.24 1453.77 Q1907.05 1453.77 1910.11 1458.38 Q1913.19 1462.96 1913.19 1471.71 Q1913.19 1480.44 1910.11 1485.04 Q1907.05 1489.63 1901.24 1489.63 Q1895.43 1489.63 1892.35 1485.04 Q1889.3 1480.44 1889.3 1471.71 Q1889.3 1462.96 1892.35 1458.38 Q1895.43 1453.77 1901.24 1453.77 Z\" fill=\"#000000\" fill-rule=\"nonzero\" fill-opacity=\"1\" /><path clip-path=\"url(#clip050)\" d=\"M1949.58 1463.49 L1939 1474.12 L1949.58 1484.7 L1946.82 1487.5 L1936.2 1476.87 L1925.57 1487.5 L1922.84 1484.7 L1933.4 1474.12 L1922.84 1463.49 L1925.57 1460.69 L1936.2 1471.32 L1946.82 1460.69 L1949.58 1463.49 Z\" fill=\"#000000\" fill-rule=\"nonzero\" fill-opacity=\"1\" /><path clip-path=\"url(#clip050)\" d=\"M1961.94 1485.02 L1969.58 1485.02 L1969.58 1458.66 L1961.27 1460.32 L1961.27 1456.06 L1969.53 1454.4 L1974.21 1454.4 L1974.21 1485.02 L1981.84 1485.02 L1981.84 1488.96 L1961.94 1488.96 L1961.94 1485.02 Z\" fill=\"#000000\" fill-rule=\"nonzero\" fill-opacity=\"1\" /><path clip-path=\"url(#clip050)\" d=\"M2001.29 1457.48 Q1997.68 1457.48 1995.85 1461.04 Q1994.04 1464.58 1994.04 1471.71 Q1994.04 1478.82 1995.85 1482.38 Q1997.68 1485.92 2001.29 1485.92 Q2004.92 1485.92 2006.73 1482.38 Q2008.56 1478.82 2008.56 1471.71 Q2008.56 1464.58 2006.73 1461.04 Q2004.92 1457.48 2001.29 1457.48 M2001.29 1453.77 Q2007.1 1453.77 2010.15 1458.38 Q2013.23 1462.96 2013.23 1471.71 Q2013.23 1480.44 2010.15 1485.04 Q2007.1 1489.63 2001.29 1489.63 Q1995.48 1489.63 1992.4 1485.04 Q1989.34 1480.44 1989.34 1471.71 Q1989.34 1462.96 1992.4 1458.38 Q1995.48 1453.77 2001.29 1453.77 Z\" fill=\"#000000\" fill-rule=\"nonzero\" fill-opacity=\"1\" /><path clip-path=\"url(#clip050)\" d=\"M2025.91 1436.78 L2016.32 1451.77 L2025.91 1451.77 L2025.91 1436.78 M2024.91 1433.47 L2029.69 1433.47 L2029.69 1451.77 L2033.7 1451.77 L2033.7 1454.93 L2029.69 1454.93 L2029.69 1461.55 L2025.91 1461.55 L2025.91 1454.93 L2013.23 1454.93 L2013.23 1451.26 L2024.91 1433.47 Z\" fill=\"#000000\" fill-rule=\"nonzero\" fill-opacity=\"1\" /><path clip-path=\"url(#clip050)\" d=\"M1104.19 1526.67 L1110.69 1526.67 L1120.68 1566.83 L1130.64 1526.67 L1137.87 1526.67 L1147.86 1566.83 L1157.83 1526.67 L1164.35 1526.67 L1152.41 1574.19 L1144.33 1574.19 L1134.3 1532.94 L1124.18 1574.19 L1116.1 1574.19 L1104.19 1526.67 Z\" fill=\"#000000\" fill-rule=\"nonzero\" fill-opacity=\"1\" /><path clip-path=\"url(#clip050)\" d=\"M1199.3 1554.9 L1199.3 1557.76 L1172.37 1557.76 Q1172.75 1563.81 1176 1566.99 Q1179.28 1570.14 1185.1 1570.14 Q1188.48 1570.14 1191.63 1569.32 Q1194.81 1568.49 1197.93 1566.83 L1197.93 1572.37 Q1194.78 1573.71 1191.47 1574.41 Q1188.16 1575.11 1184.75 1575.11 Q1176.22 1575.11 1171.22 1570.14 Q1166.26 1565.18 1166.26 1556.71 Q1166.26 1547.96 1170.97 1542.83 Q1175.71 1537.68 1183.73 1537.68 Q1190.93 1537.68 1195.1 1542.33 Q1199.3 1546.94 1199.3 1554.9 M1193.44 1553.18 Q1193.38 1548.37 1190.74 1545.51 Q1188.13 1542.64 1183.8 1542.64 Q1178.9 1542.64 1175.94 1545.41 Q1173.01 1548.18 1172.56 1553.21 L1193.44 1553.18 Z\" fill=\"#000000\" fill-rule=\"nonzero\" fill-opacity=\"1\" /><path clip-path=\"url(#clip050)\" d=\"M1225.11 1556.27 Q1218.01 1556.27 1215.28 1557.89 Q1212.54 1559.51 1212.54 1563.43 Q1212.54 1566.55 1214.58 1568.39 Q1216.64 1570.21 1220.18 1570.21 Q1225.05 1570.21 1227.98 1566.77 Q1230.94 1563.3 1230.94 1557.57 L1230.94 1556.27 L1225.11 1556.27 M1236.79 1553.85 L1236.79 1574.19 L1230.94 1574.19 L1230.94 1568.77 Q1228.93 1572.02 1225.94 1573.58 Q1222.95 1575.11 1218.62 1575.11 Q1213.14 1575.11 1209.9 1572.05 Q1206.68 1568.97 1206.68 1563.81 Q1206.68 1557.79 1210.69 1554.74 Q1214.73 1551.68 1222.72 1551.68 L1230.94 1551.68 L1230.94 1551.11 Q1230.94 1547.07 1228.26 1544.87 Q1225.62 1542.64 1220.81 1542.64 Q1217.76 1542.64 1214.86 1543.38 Q1211.97 1544.11 1209.29 1545.57 L1209.29 1540.16 Q1212.51 1538.92 1215.53 1538.31 Q1218.55 1537.68 1221.42 1537.68 Q1229.15 1537.68 1232.97 1541.69 Q1236.79 1545.7 1236.79 1553.85 Z\" fill=\"#000000\" fill-rule=\"nonzero\" fill-opacity=\"1\" /><path clip-path=\"url(#clip050)\" d=\"M1248.85 1524.66 L1254.71 1524.66 L1254.71 1574.19 L1248.85 1574.19 L1248.85 1524.66 Z\" fill=\"#000000\" fill-rule=\"nonzero\" fill-opacity=\"1\" /><path clip-path=\"url(#clip050)\" d=\"M1272.76 1528.42 L1272.76 1538.54 L1284.82 1538.54 L1284.82 1543.09 L1272.76 1543.09 L1272.76 1562.44 Q1272.76 1566.8 1273.94 1568.04 Q1275.15 1569.28 1278.81 1569.28 L1284.82 1569.28 L1284.82 1574.19 L1278.81 1574.19 Q1272.03 1574.19 1269.45 1571.67 Q1266.87 1569.12 1266.87 1562.44 L1266.87 1543.09 L1262.57 1543.09 L1262.57 1538.54 L1266.87 1538.54 L1266.87 1528.42 L1272.76 1528.42 Z\" fill=\"#000000\" fill-rule=\"nonzero\" fill-opacity=\"1\" /><path clip-path=\"url(#clip050)\" d=\"M1322.16 1552.67 L1322.16 1574.19 L1316.3 1574.19 L1316.3 1552.86 Q1316.3 1547.8 1314.33 1545.29 Q1312.35 1542.77 1308.41 1542.77 Q1303.66 1542.77 1300.93 1545.79 Q1298.19 1548.82 1298.19 1554.04 L1298.19 1574.19 L1292.3 1574.19 L1292.3 1524.66 L1298.19 1524.66 L1298.19 1544.08 Q1300.29 1540.86 1303.12 1539.27 Q1305.99 1537.68 1309.71 1537.68 Q1315.85 1537.68 1319 1541.5 Q1322.16 1545.29 1322.16 1552.67 Z\" fill=\"#000000\" fill-rule=\"nonzero\" fill-opacity=\"1\" /><path clip-path=\"url(#clip050)\" d=\"M1354.08 1526.67 L1360.54 1526.67 L1360.54 1555.53 Q1360.54 1563.17 1363.31 1566.55 Q1366.08 1569.89 1372.29 1569.89 Q1378.46 1569.89 1381.23 1566.55 Q1384 1563.17 1384 1555.53 L1384 1526.67 L1390.46 1526.67 L1390.46 1556.33 Q1390.46 1565.62 1385.84 1570.37 Q1381.26 1575.11 1372.29 1575.11 Q1363.28 1575.11 1358.66 1570.37 Q1354.08 1565.62 1354.08 1556.33 L1354.08 1526.67 Z\" fill=\"#000000\" fill-rule=\"nonzero\" fill-opacity=\"1\" /><path clip-path=\"url(#clip050)\" d=\"M1431.01 1528.23 L1431.01 1534.5 Q1427.35 1532.74 1424.1 1531.89 Q1420.86 1531.03 1417.83 1531.03 Q1412.58 1531.03 1409.72 1533.06 Q1406.88 1535.1 1406.88 1538.86 Q1406.88 1542.01 1408.76 1543.63 Q1410.67 1545.22 1415.95 1546.21 L1419.84 1547 Q1427.03 1548.37 1430.44 1551.84 Q1433.87 1555.28 1433.87 1561.07 Q1433.87 1567.98 1429.23 1571.54 Q1424.61 1575.11 1415.67 1575.11 Q1412.29 1575.11 1408.47 1574.34 Q1404.69 1573.58 1400.61 1572.08 L1400.61 1565.46 Q1404.53 1567.66 1408.28 1568.77 Q1412.04 1569.89 1415.67 1569.89 Q1421.17 1569.89 1424.17 1567.72 Q1427.16 1565.56 1427.16 1561.55 Q1427.16 1558.05 1424.99 1556.08 Q1422.86 1554.1 1417.96 1553.11 L1414.04 1552.35 Q1406.85 1550.92 1403.64 1547.86 Q1400.42 1544.81 1400.42 1539.37 Q1400.42 1533.06 1404.85 1529.43 Q1409.3 1525.81 1417.1 1525.81 Q1420.44 1525.81 1423.91 1526.41 Q1427.38 1527.02 1431.01 1528.23 Z\" fill=\"#000000\" fill-rule=\"nonzero\" fill-opacity=\"1\" /><path clip-path=\"url(#clip050)\" d=\"M1450.33 1531.95 L1450.33 1568.9 L1458.1 1568.9 Q1467.93 1568.9 1472.48 1564.45 Q1477.07 1559.99 1477.07 1550.38 Q1477.07 1540.83 1472.48 1536.4 Q1467.93 1531.95 1458.1 1531.95 L1450.33 1531.95 M1443.9 1526.67 L1457.11 1526.67 Q1470.92 1526.67 1477.38 1532.43 Q1483.84 1538.16 1483.84 1550.38 Q1483.84 1562.66 1477.35 1568.42 Q1470.86 1574.19 1457.11 1574.19 L1443.9 1574.19 L1443.9 1526.67 Z\" fill=\"#000000\" fill-rule=\"nonzero\" fill-opacity=\"1\" /><polyline clip-path=\"url(#clip052)\" style=\"stroke:#000000; stroke-linecap:round; stroke-linejoin:round; stroke-width:2; stroke-opacity:0.1; fill:none\" points=\"235.283,1189.74 2352.76,1189.74 \"/>\n",
       "<polyline clip-path=\"url(#clip052)\" style=\"stroke:#000000; stroke-linecap:round; stroke-linejoin:round; stroke-width:2; stroke-opacity:0.1; fill:none\" points=\"235.283,940.709 2352.76,940.709 \"/>\n",
       "<polyline clip-path=\"url(#clip052)\" style=\"stroke:#000000; stroke-linecap:round; stroke-linejoin:round; stroke-width:2; stroke-opacity:0.1; fill:none\" points=\"235.283,691.678 2352.76,691.678 \"/>\n",
       "<polyline clip-path=\"url(#clip052)\" style=\"stroke:#000000; stroke-linecap:round; stroke-linejoin:round; stroke-width:2; stroke-opacity:0.1; fill:none\" points=\"235.283,442.647 2352.76,442.647 \"/>\n",
       "<polyline clip-path=\"url(#clip052)\" style=\"stroke:#000000; stroke-linecap:round; stroke-linejoin:round; stroke-width:2; stroke-opacity:0.1; fill:none\" points=\"235.283,193.616 2352.76,193.616 \"/>\n",
       "<polyline clip-path=\"url(#clip050)\" style=\"stroke:#000000; stroke-linecap:round; stroke-linejoin:round; stroke-width:4; stroke-opacity:1; fill:none\" points=\"235.283,1410.9 235.283,47.2441 \"/>\n",
       "<polyline clip-path=\"url(#clip050)\" style=\"stroke:#000000; stroke-linecap:round; stroke-linejoin:round; stroke-width:4; stroke-opacity:1; fill:none\" points=\"235.283,1189.74 254.18,1189.74 \"/>\n",
       "<polyline clip-path=\"url(#clip050)\" style=\"stroke:#000000; stroke-linecap:round; stroke-linejoin:round; stroke-width:4; stroke-opacity:1; fill:none\" points=\"235.283,940.709 254.18,940.709 \"/>\n",
       "<polyline clip-path=\"url(#clip050)\" style=\"stroke:#000000; stroke-linecap:round; stroke-linejoin:round; stroke-width:4; stroke-opacity:1; fill:none\" points=\"235.283,691.678 254.18,691.678 \"/>\n",
       "<polyline clip-path=\"url(#clip050)\" style=\"stroke:#000000; stroke-linecap:round; stroke-linejoin:round; stroke-width:4; stroke-opacity:1; fill:none\" points=\"235.283,442.647 254.18,442.647 \"/>\n",
       "<polyline clip-path=\"url(#clip050)\" style=\"stroke:#000000; stroke-linecap:round; stroke-linejoin:round; stroke-width:4; stroke-opacity:1; fill:none\" points=\"235.283,193.616 254.18,193.616 \"/>\n",
       "<path clip-path=\"url(#clip050)\" d=\"M121.043 1203.08 L137.362 1203.08 L137.362 1207.02 L115.418 1207.02 L115.418 1203.08 Q118.08 1200.33 122.663 1195.7 Q127.269 1191.05 128.45 1189.7 Q130.695 1187.18 131.575 1185.45 Q132.478 1183.69 132.478 1182 Q132.478 1179.24 130.533 1177.51 Q128.612 1175.77 125.51 1175.77 Q123.311 1175.77 120.857 1176.53 Q118.427 1177.3 115.649 1178.85 L115.649 1174.13 Q118.473 1172.99 120.927 1172.41 Q123.38 1171.83 125.418 1171.83 Q130.788 1171.83 133.982 1174.52 Q137.177 1177.2 137.177 1181.7 Q137.177 1183.83 136.367 1185.75 Q135.579 1187.64 133.473 1190.24 Q132.894 1190.91 129.792 1194.13 Q126.691 1197.32 121.043 1203.08 Z\" fill=\"#000000\" fill-rule=\"nonzero\" fill-opacity=\"1\" /><path clip-path=\"url(#clip050)\" d=\"M157.177 1175.54 Q153.566 1175.54 151.737 1179.1 Q149.931 1182.64 149.931 1189.77 Q149.931 1196.88 151.737 1200.45 Q153.566 1203.99 157.177 1203.99 Q160.811 1203.99 162.616 1200.45 Q164.445 1196.88 164.445 1189.77 Q164.445 1182.64 162.616 1179.1 Q160.811 1175.54 157.177 1175.54 M157.177 1171.83 Q162.987 1171.83 166.042 1176.44 Q169.121 1181.02 169.121 1189.77 Q169.121 1198.5 166.042 1203.11 Q162.987 1207.69 157.177 1207.69 Q151.366 1207.69 148.288 1203.11 Q145.232 1198.5 145.232 1189.77 Q145.232 1181.02 148.288 1176.44 Q151.366 1171.83 157.177 1171.83 Z\" fill=\"#000000\" fill-rule=\"nonzero\" fill-opacity=\"1\" /><path clip-path=\"url(#clip050)\" d=\"M187.338 1175.54 Q183.727 1175.54 181.899 1179.1 Q180.093 1182.64 180.093 1189.77 Q180.093 1196.88 181.899 1200.45 Q183.727 1203.99 187.338 1203.99 Q190.973 1203.99 192.778 1200.45 Q194.607 1196.88 194.607 1189.77 Q194.607 1182.64 192.778 1179.1 Q190.973 1175.54 187.338 1175.54 M187.338 1171.83 Q193.149 1171.83 196.204 1176.44 Q199.283 1181.02 199.283 1189.77 Q199.283 1198.5 196.204 1203.11 Q193.149 1207.69 187.338 1207.69 Q181.528 1207.69 178.45 1203.11 Q175.394 1198.5 175.394 1189.77 Q175.394 1181.02 178.45 1176.44 Q181.528 1171.83 187.338 1171.83 Z\" fill=\"#000000\" fill-rule=\"nonzero\" fill-opacity=\"1\" /><path clip-path=\"url(#clip050)\" d=\"M131.181 939.355 Q134.538 940.072 136.413 942.341 Q138.311 944.609 138.311 947.942 Q138.311 953.058 134.792 955.859 Q131.274 958.66 124.793 958.66 Q122.617 958.66 120.302 958.22 Q118.01 957.803 115.556 956.947 L115.556 952.433 Q117.501 953.567 119.816 954.146 Q122.13 954.725 124.654 954.725 Q129.052 954.725 131.343 952.989 Q133.658 951.253 133.658 947.942 Q133.658 944.887 131.505 943.174 Q129.376 941.438 125.556 941.438 L121.529 941.438 L121.529 937.595 L125.742 937.595 Q129.191 937.595 131.019 936.23 Q132.848 934.841 132.848 932.248 Q132.848 929.586 130.95 928.174 Q129.075 926.739 125.556 926.739 Q123.635 926.739 121.436 927.155 Q119.237 927.572 116.598 928.452 L116.598 924.285 Q119.26 923.544 121.575 923.174 Q123.913 922.804 125.973 922.804 Q131.297 922.804 134.399 925.234 Q137.501 927.642 137.501 931.762 Q137.501 934.632 135.857 936.623 Q134.214 938.591 131.181 939.355 Z\" fill=\"#000000\" fill-rule=\"nonzero\" fill-opacity=\"1\" /><path clip-path=\"url(#clip050)\" d=\"M157.177 926.507 Q153.566 926.507 151.737 930.072 Q149.931 933.614 149.931 940.743 Q149.931 947.85 151.737 951.415 Q153.566 954.956 157.177 954.956 Q160.811 954.956 162.616 951.415 Q164.445 947.85 164.445 940.743 Q164.445 933.614 162.616 930.072 Q160.811 926.507 157.177 926.507 M157.177 922.804 Q162.987 922.804 166.042 927.41 Q169.121 931.993 169.121 940.743 Q169.121 949.47 166.042 954.077 Q162.987 958.66 157.177 958.66 Q151.366 958.66 148.288 954.077 Q145.232 949.47 145.232 940.743 Q145.232 931.993 148.288 927.41 Q151.366 922.804 157.177 922.804 Z\" fill=\"#000000\" fill-rule=\"nonzero\" fill-opacity=\"1\" /><path clip-path=\"url(#clip050)\" d=\"M187.338 926.507 Q183.727 926.507 181.899 930.072 Q180.093 933.614 180.093 940.743 Q180.093 947.85 181.899 951.415 Q183.727 954.956 187.338 954.956 Q190.973 954.956 192.778 951.415 Q194.607 947.85 194.607 940.743 Q194.607 933.614 192.778 930.072 Q190.973 926.507 187.338 926.507 M187.338 922.804 Q193.149 922.804 196.204 927.41 Q199.283 931.993 199.283 940.743 Q199.283 949.47 196.204 954.077 Q193.149 958.66 187.338 958.66 Q181.528 958.66 178.45 954.077 Q175.394 949.47 175.394 940.743 Q175.394 931.993 178.45 927.41 Q181.528 922.804 187.338 922.804 Z\" fill=\"#000000\" fill-rule=\"nonzero\" fill-opacity=\"1\" /><path clip-path=\"url(#clip050)\" d=\"M129.862 678.472 L118.056 696.921 L129.862 696.921 L129.862 678.472 M128.635 674.398 L134.515 674.398 L134.515 696.921 L139.445 696.921 L139.445 700.81 L134.515 700.81 L134.515 708.958 L129.862 708.958 L129.862 700.81 L114.26 700.81 L114.26 696.296 L128.635 674.398 Z\" fill=\"#000000\" fill-rule=\"nonzero\" fill-opacity=\"1\" /><path clip-path=\"url(#clip050)\" d=\"M157.177 677.476 Q153.566 677.476 151.737 681.041 Q149.931 684.583 149.931 691.712 Q149.931 698.819 151.737 702.384 Q153.566 705.925 157.177 705.925 Q160.811 705.925 162.616 702.384 Q164.445 698.819 164.445 691.712 Q164.445 684.583 162.616 681.041 Q160.811 677.476 157.177 677.476 M157.177 673.773 Q162.987 673.773 166.042 678.379 Q169.121 682.962 169.121 691.712 Q169.121 700.439 166.042 705.046 Q162.987 709.629 157.177 709.629 Q151.366 709.629 148.288 705.046 Q145.232 700.439 145.232 691.712 Q145.232 682.962 148.288 678.379 Q151.366 673.773 157.177 673.773 Z\" fill=\"#000000\" fill-rule=\"nonzero\" fill-opacity=\"1\" /><path clip-path=\"url(#clip050)\" d=\"M187.338 677.476 Q183.727 677.476 181.899 681.041 Q180.093 684.583 180.093 691.712 Q180.093 698.819 181.899 702.384 Q183.727 705.925 187.338 705.925 Q190.973 705.925 192.778 702.384 Q194.607 698.819 194.607 691.712 Q194.607 684.583 192.778 681.041 Q190.973 677.476 187.338 677.476 M187.338 673.773 Q193.149 673.773 196.204 678.379 Q199.283 682.962 199.283 691.712 Q199.283 700.439 196.204 705.046 Q193.149 709.629 187.338 709.629 Q181.528 709.629 178.45 705.046 Q175.394 700.439 175.394 691.712 Q175.394 682.962 178.45 678.379 Q181.528 673.773 187.338 673.773 Z\" fill=\"#000000\" fill-rule=\"nonzero\" fill-opacity=\"1\" /><path clip-path=\"url(#clip050)\" d=\"M117.061 425.367 L135.417 425.367 L135.417 429.302 L121.343 429.302 L121.343 437.774 Q122.362 437.427 123.38 437.265 Q124.399 437.08 125.418 437.08 Q131.205 437.08 134.584 440.251 Q137.964 443.422 137.964 448.839 Q137.964 454.417 134.492 457.519 Q131.019 460.598 124.7 460.598 Q122.524 460.598 120.255 460.228 Q118.01 459.857 115.603 459.117 L115.603 454.417 Q117.686 455.552 119.908 456.107 Q122.13 456.663 124.607 456.663 Q128.612 456.663 130.95 454.556 Q133.288 452.45 133.288 448.839 Q133.288 445.228 130.95 443.121 Q128.612 441.015 124.607 441.015 Q122.732 441.015 120.857 441.431 Q119.006 441.848 117.061 442.728 L117.061 425.367 Z\" fill=\"#000000\" fill-rule=\"nonzero\" fill-opacity=\"1\" /><path clip-path=\"url(#clip050)\" d=\"M157.177 428.445 Q153.566 428.445 151.737 432.01 Q149.931 435.552 149.931 442.681 Q149.931 449.788 151.737 453.353 Q153.566 456.894 157.177 456.894 Q160.811 456.894 162.616 453.353 Q164.445 449.788 164.445 442.681 Q164.445 435.552 162.616 432.01 Q160.811 428.445 157.177 428.445 M157.177 424.742 Q162.987 424.742 166.042 429.348 Q169.121 433.931 169.121 442.681 Q169.121 451.408 166.042 456.015 Q162.987 460.598 157.177 460.598 Q151.366 460.598 148.288 456.015 Q145.232 451.408 145.232 442.681 Q145.232 433.931 148.288 429.348 Q151.366 424.742 157.177 424.742 Z\" fill=\"#000000\" fill-rule=\"nonzero\" fill-opacity=\"1\" /><path clip-path=\"url(#clip050)\" d=\"M187.338 428.445 Q183.727 428.445 181.899 432.01 Q180.093 435.552 180.093 442.681 Q180.093 449.788 181.899 453.353 Q183.727 456.894 187.338 456.894 Q190.973 456.894 192.778 453.353 Q194.607 449.788 194.607 442.681 Q194.607 435.552 192.778 432.01 Q190.973 428.445 187.338 428.445 M187.338 424.742 Q193.149 424.742 196.204 429.348 Q199.283 433.931 199.283 442.681 Q199.283 451.408 196.204 456.015 Q193.149 460.598 187.338 460.598 Q181.528 460.598 178.45 456.015 Q175.394 451.408 175.394 442.681 Q175.394 433.931 178.45 429.348 Q181.528 424.742 187.338 424.742 Z\" fill=\"#000000\" fill-rule=\"nonzero\" fill-opacity=\"1\" /><path clip-path=\"url(#clip050)\" d=\"M127.593 191.752 Q124.445 191.752 122.593 193.905 Q120.765 196.058 120.765 199.808 Q120.765 203.535 122.593 205.711 Q124.445 207.863 127.593 207.863 Q130.742 207.863 132.57 205.711 Q134.422 203.535 134.422 199.808 Q134.422 196.058 132.57 193.905 Q130.742 191.752 127.593 191.752 M136.876 177.1 L136.876 181.359 Q135.117 180.525 133.311 180.086 Q131.529 179.646 129.769 179.646 Q125.14 179.646 122.686 182.771 Q120.255 185.896 119.908 192.215 Q121.274 190.201 123.334 189.137 Q125.394 188.049 127.871 188.049 Q133.08 188.049 136.089 191.22 Q139.121 194.368 139.121 199.808 Q139.121 205.132 135.973 208.349 Q132.825 211.567 127.593 211.567 Q121.598 211.567 118.427 206.984 Q115.256 202.377 115.256 193.65 Q115.256 185.456 119.144 180.595 Q123.033 175.711 129.584 175.711 Q131.343 175.711 133.126 176.058 Q134.931 176.405 136.876 177.1 Z\" fill=\"#000000\" fill-rule=\"nonzero\" fill-opacity=\"1\" /><path clip-path=\"url(#clip050)\" d=\"M157.177 179.414 Q153.566 179.414 151.737 182.979 Q149.931 186.521 149.931 193.65 Q149.931 200.757 151.737 204.322 Q153.566 207.863 157.177 207.863 Q160.811 207.863 162.616 204.322 Q164.445 200.757 164.445 193.65 Q164.445 186.521 162.616 182.979 Q160.811 179.414 157.177 179.414 M157.177 175.711 Q162.987 175.711 166.042 180.317 Q169.121 184.9 169.121 193.65 Q169.121 202.377 166.042 206.984 Q162.987 211.567 157.177 211.567 Q151.366 211.567 148.288 206.984 Q145.232 202.377 145.232 193.65 Q145.232 184.9 148.288 180.317 Q151.366 175.711 157.177 175.711 Z\" fill=\"#000000\" fill-rule=\"nonzero\" fill-opacity=\"1\" /><path clip-path=\"url(#clip050)\" d=\"M187.338 179.414 Q183.727 179.414 181.899 182.979 Q180.093 186.521 180.093 193.65 Q180.093 200.757 181.899 204.322 Q183.727 207.863 187.338 207.863 Q190.973 207.863 192.778 204.322 Q194.607 200.757 194.607 193.65 Q194.607 186.521 192.778 182.979 Q190.973 179.414 187.338 179.414 M187.338 175.711 Q193.149 175.711 196.204 180.317 Q199.283 184.9 199.283 193.65 Q199.283 202.377 196.204 206.984 Q193.149 211.567 187.338 211.567 Q181.528 211.567 178.45 206.984 Q175.394 202.377 175.394 193.65 Q175.394 184.9 178.45 180.317 Q181.528 175.711 187.338 175.711 Z\" fill=\"#000000\" fill-rule=\"nonzero\" fill-opacity=\"1\" /><path clip-path=\"url(#clip050)\" d=\"M16.4842 906.642 L16.4842 900.181 L45.3526 900.181 Q52.9915 900.181 56.3653 897.411 Q59.7073 894.642 59.7073 888.436 Q59.7073 882.261 56.3653 879.492 Q52.9915 876.723 45.3526 876.723 L16.4842 876.723 L16.4842 870.262 L46.1484 870.262 Q55.4423 870.262 60.1847 874.877 Q64.9272 879.46 64.9272 888.436 Q64.9272 897.443 60.1847 902.058 Q55.4423 906.642 46.1484 906.642 L16.4842 906.642 Z\" fill=\"#000000\" fill-rule=\"nonzero\" fill-opacity=\"1\" /><path clip-path=\"url(#clip050)\" d=\"M18.2347 852.661 L28.3562 852.661 L28.3562 840.598 L32.9077 840.598 L32.9077 852.661 L52.2594 852.661 Q56.6199 852.661 57.8613 851.483 Q59.1026 850.273 59.1026 846.613 L59.1026 840.598 L64.0042 840.598 L64.0042 846.613 Q64.0042 853.393 61.4897 855.971 Q58.9434 858.549 52.2594 858.549 L32.9077 858.549 L32.9077 862.846 L28.3562 862.846 L28.3562 858.549 L18.2347 858.549 L18.2347 852.661 Z\" fill=\"#000000\" fill-rule=\"nonzero\" fill-opacity=\"1\" /><path clip-path=\"url(#clip050)\" d=\"M28.3562 832.895 L28.3562 827.039 L64.0042 827.039 L64.0042 832.895 L28.3562 832.895 M14.479 832.895 L14.479 827.039 L21.895 827.039 L21.895 832.895 L14.479 832.895 Z\" fill=\"#000000\" fill-rule=\"nonzero\" fill-opacity=\"1\" /><path clip-path=\"url(#clip050)\" d=\"M14.479 814.785 L14.479 808.928 L64.0042 808.928 L64.0042 814.785 L14.479 814.785 Z\" fill=\"#000000\" fill-rule=\"nonzero\" fill-opacity=\"1\" /><path clip-path=\"url(#clip050)\" d=\"M28.3562 796.674 L28.3562 790.818 L64.0042 790.818 L64.0042 796.674 L28.3562 796.674 M14.479 796.674 L14.479 790.818 L21.895 790.818 L21.895 796.674 L14.479 796.674 Z\" fill=\"#000000\" fill-rule=\"nonzero\" fill-opacity=\"1\" /><path clip-path=\"url(#clip050)\" d=\"M18.2347 772.771 L28.3562 772.771 L28.3562 760.708 L32.9077 760.708 L32.9077 772.771 L52.2594 772.771 Q56.6199 772.771 57.8613 771.593 Q59.1026 770.384 59.1026 766.724 L59.1026 760.708 L64.0042 760.708 L64.0042 766.724 Q64.0042 773.503 61.4897 776.081 Q58.9434 778.659 52.2594 778.659 L32.9077 778.659 L32.9077 782.956 L28.3562 782.956 L28.3562 778.659 L18.2347 778.659 L18.2347 772.771 Z\" fill=\"#000000\" fill-rule=\"nonzero\" fill-opacity=\"1\" /><path clip-path=\"url(#clip050)\" d=\"M67.3143 738.173 Q73.68 740.656 75.6216 743.011 Q77.5631 745.367 77.5631 749.313 L77.5631 753.992 L72.6615 753.992 L72.6615 750.555 Q72.6615 748.136 71.5157 746.799 Q70.3699 745.462 66.1048 743.839 L63.4312 742.788 L28.3562 757.207 L28.3562 751 L56.238 739.86 L28.3562 728.72 L28.3562 722.514 L67.3143 738.173 Z\" fill=\"#000000\" fill-rule=\"nonzero\" fill-opacity=\"1\" /><path clip-path=\"url(#clip050)\" d=\"M14.5426 679.641 Q21.8632 683.906 29.0246 685.975 Q36.186 688.043 43.5384 688.043 Q50.8908 688.043 58.1159 685.975 Q65.3091 683.874 72.5979 679.641 L72.5979 684.733 Q65.1182 689.508 57.8931 691.895 Q50.668 694.25 43.5384 694.25 Q36.4406 694.25 29.2474 691.895 Q22.0542 689.539 14.5426 684.733 L14.5426 679.641 Z\" fill=\"#000000\" fill-rule=\"nonzero\" fill-opacity=\"1\" /><path clip-path=\"url(#clip050)\" d=\"M49.9359 668.883 L28.3562 668.883 L28.3562 663.026 L49.7131 663.026 Q54.7739 663.026 57.3202 661.053 Q59.8346 659.079 59.8346 655.133 Q59.8346 650.39 56.8109 647.653 Q53.7872 644.884 48.5673 644.884 L28.3562 644.884 L28.3562 639.027 L64.0042 639.027 L64.0042 644.884 L58.5296 644.884 Q61.7762 647.016 63.3676 649.849 Q64.9272 652.65 64.9272 656.374 Q64.9272 662.517 61.1078 665.7 Q57.2883 668.883 49.9359 668.883 M27.4968 654.146 L27.4968 654.146 Z\" fill=\"#000000\" fill-rule=\"nonzero\" fill-opacity=\"1\" /><path clip-path=\"url(#clip050)\" d=\"M18.2347 621.172 L28.3562 621.172 L28.3562 609.109 L32.9077 609.109 L32.9077 621.172 L52.2594 621.172 Q56.6199 621.172 57.8613 619.994 Q59.1026 618.785 59.1026 615.124 L59.1026 609.109 L64.0042 609.109 L64.0042 615.124 Q64.0042 621.904 61.4897 624.482 Q58.9434 627.06 52.2594 627.06 L32.9077 627.06 L32.9077 631.357 L28.3562 631.357 L28.3562 627.06 L18.2347 627.06 L18.2347 621.172 Z\" fill=\"#000000\" fill-rule=\"nonzero\" fill-opacity=\"1\" /><path clip-path=\"url(#clip050)\" d=\"M28.3562 601.406 L28.3562 595.55 L64.0042 595.55 L64.0042 601.406 L28.3562 601.406 M14.479 601.406 L14.479 595.55 L21.895 595.55 L21.895 601.406 L14.479 601.406 Z\" fill=\"#000000\" fill-rule=\"nonzero\" fill-opacity=\"1\" /><path clip-path=\"url(#clip050)\" d=\"M14.479 583.296 L14.479 577.439 L64.0042 577.439 L64.0042 583.296 L14.479 583.296 Z\" fill=\"#000000\" fill-rule=\"nonzero\" fill-opacity=\"1\" /><path clip-path=\"url(#clip050)\" d=\"M14.5426 566.108 L14.5426 561.016 Q22.0542 556.241 29.2474 553.886 Q36.4406 551.499 43.5384 551.499 Q50.668 551.499 57.8931 553.886 Q65.1182 556.241 72.5979 561.016 L72.5979 566.108 Q65.3091 561.875 58.1159 559.806 Q50.8908 557.706 43.5384 557.706 Q36.186 557.706 29.0246 559.806 Q21.8632 561.875 14.5426 566.108 Z\" fill=\"#000000\" fill-rule=\"nonzero\" fill-opacity=\"1\" /><polyline clip-path=\"url(#clip052)\" style=\"stroke:#000000; stroke-linecap:round; stroke-linejoin:round; stroke-width:12; stroke-opacity:1; fill:none\" points=\"295.211,1372.3 315.389,1346.24 335.567,1321.45 355.745,1297.73 375.923,1274.93 396.101,1252.94 416.279,1231.67 436.457,1211.05 456.635,1191 476.813,1171.47 496.991,1152.43 517.169,1133.83 537.347,1115.63 557.525,1097.82 577.702,1080.35 597.88,1063.22 618.058,1046.39 638.236,1029.85 658.414,1013.58 678.592,997.574 698.77,981.809 718.948,966.275 739.126,950.961 759.304,935.857 779.482,920.952 799.66,906.238 819.838,891.706 840.016,877.349 860.194,863.159 880.372,849.131 900.55,835.257 920.727,821.532 940.905,807.951 961.083,794.507 981.261,781.198 1001.44,768.017 1021.62,754.962 1041.8,742.027 1061.97,729.208 1082.15,716.503 1102.33,703.908 1122.51,691.42 1142.68,679.035 1162.86,666.75 1183.04,654.564 1203.22,642.472 1223.4,630.473 1243.57,618.564 1263.75,606.743 1283.93,595.007 1304.11,583.355 1324.29,571.784 1344.46,560.292 1364.64,548.879 1384.82,537.541 1405,526.276 1425.18,515.085 1445.35,503.964 1465.53,492.912 1485.71,481.928 1505.89,471.01 1526.07,460.157 1546.24,449.368 1566.42,438.641 1586.6,427.975 1606.78,417.369 1626.96,406.822 1647.13,396.333 1667.31,385.899 1687.49,375.522 1707.67,365.198 1727.85,354.928 1748.02,344.711 1768.2,334.545 1788.38,324.43 1808.56,314.364 1828.73,304.348 1848.91,294.38 1869.09,284.459 1889.27,274.584 1909.45,264.755 1929.62,254.972 1949.8,245.232 1969.98,235.537 1990.16,225.884 2010.34,216.274 2030.51,206.705 2050.69,197.177 2070.87,187.69 2091.05,178.242 2111.23,168.834 2131.4,159.465 2151.58,150.133 2171.76,140.84 2191.94,131.583 2212.12,122.363 2232.29,113.179 2252.47,104.03 2272.65,94.9168 2292.83,85.838 \"/>\n",
       "<polyline clip-path=\"url(#clip052)\" style=\"stroke:#b0b0b0; stroke-linecap:round; stroke-linejoin:round; stroke-width:12; stroke-opacity:1; fill:none\" stroke-dasharray=\"48, 30\" points=\"330.883,1327.1 347.097,1316.24 363.312,1305.38 379.526,1294.52 395.741,1283.66 411.955,1272.8 428.17,1261.94 444.384,1251.07 460.598,1240.21 476.813,1229.35 493.027,1218.49 509.242,1207.63 525.456,1196.77 541.67,1185.91 557.885,1175.05 574.099,1164.18 590.314,1153.32 606.528,1142.46 622.743,1131.6 638.957,1120.74 655.171,1109.88 671.386,1099.02 687.6,1088.16 703.815,1077.29 720.029,1066.43 736.243,1055.57 752.458,1044.71 768.672,1033.85 784.887,1022.99 801.101,1012.13 817.316,1001.27 833.53,990.404 849.744,979.542 865.959,968.681 882.173,957.82 898.388,946.959 914.602,936.097 930.816,925.236 947.031,914.375 963.245,903.513 979.46,892.652 995.674,881.791 1011.89,870.93 1028.1,860.068 1044.32,849.207 1060.53,838.346 1076.75,827.484 1092.96,816.623 1109.18,805.762 1125.39,794.901 1141.6,784.039 1157.82,773.178 1174.03,762.317 1190.25,751.456 1206.46,740.594 1222.68,729.733 1238.89,718.872 1255.1,708.01 1271.32,697.149 1287.53,686.288 1303.75,675.427 1319.96,664.565 1336.18,653.704 1352.39,642.843 1368.61,631.981 1384.82,621.12 1401.03,610.259 1417.25,599.398 1433.46,588.536 1449.68,577.675 1465.89,566.814 1482.11,555.952 1498.32,545.091 1514.54,534.23 1530.75,523.369 1546.96,512.507 1563.18,501.646 1579.39,490.785 1595.61,479.923 1611.82,469.062 1628.04,458.201 1644.25,447.34 1660.47,436.478 1676.68,425.617 1692.89,414.756 1709.11,403.894 1725.32,393.033 1741.54,382.172 1757.75,371.311 1773.97,360.449 1790.18,349.588 1806.39,338.727 1822.61,327.865 1838.82,317.004 1855.04,306.143 1871.25,295.282 1887.47,284.42 1903.68,273.559 1919.9,262.698 1936.11,251.836 \"/>\n",
       "<polyline clip-path=\"url(#clip052)\" style=\"stroke:#000080; stroke-linecap:round; stroke-linejoin:round; stroke-width:4; stroke-opacity:1; fill:none\" stroke-dasharray=\"16, 10\" points=\"1826.21,1372.3 1826.21,1359.31 1826.21,1346.31 1826.21,1333.32 1826.21,1320.32 1826.21,1307.33 1826.21,1294.34 1826.21,1281.34 1826.21,1268.35 1826.21,1255.35 1826.21,1242.36 1826.21,1229.36 1826.21,1216.37 1826.21,1203.37 1826.21,1190.38 1826.21,1177.38 1826.21,1164.39 1826.21,1151.39 1826.21,1138.4 1826.21,1125.41 1826.21,1112.41 1826.21,1099.42 1826.21,1086.42 1826.21,1073.43 1826.21,1060.43 1826.21,1047.44 1826.21,1034.44 1826.21,1021.45 1826.21,1008.45 1826.21,995.46 1826.21,982.465 1826.21,969.47 1826.21,956.476 1826.21,943.481 1826.21,930.487 1826.21,917.492 1826.21,904.497 1826.21,891.503 1826.21,878.508 1826.21,865.514 1826.21,852.519 1826.21,839.524 1826.21,826.53 1826.21,813.535 1826.21,800.541 1826.21,787.546 1826.21,774.551 1826.21,761.557 1826.21,748.562 1826.21,735.568 1826.21,722.573 1826.21,709.578 1826.21,696.584 1826.21,683.589 1826.21,670.595 1826.21,657.6 1826.21,644.606 1826.21,631.611 1826.21,618.616 1826.21,605.622 1826.21,592.627 1826.21,579.633 1826.21,566.638 1826.21,553.643 1826.21,540.649 1826.21,527.654 1826.21,514.66 1826.21,501.665 1826.21,488.67 1826.21,475.676 1826.21,462.681 1826.21,449.687 1826.21,436.692 1826.21,423.697 1826.21,410.703 1826.21,397.708 1826.21,384.714 1826.21,371.719 1826.21,358.724 1826.21,345.73 1826.21,332.735 1826.21,319.741 1826.21,306.746 1826.21,293.752 1826.21,280.757 1826.21,267.762 1826.21,254.768 1826.21,241.773 1826.21,228.779 1826.21,215.784 1826.21,202.789 1826.21,189.795 1826.21,176.8 1826.21,163.806 1826.21,150.811 1826.21,137.816 1826.21,124.822 1826.21,111.827 1826.21,98.8326 1826.21,85.838 \"/>\n",
       "<polyline clip-path=\"url(#clip052)\" style=\"stroke:#ff0000; stroke-linecap:round; stroke-linejoin:round; stroke-width:4; stroke-opacity:1; fill:none\" stroke-dasharray=\"16, 10\" points=\"1786.33,1372.3 1786.33,1359.31 1786.33,1346.31 1786.33,1333.32 1786.33,1320.32 1786.33,1307.33 1786.33,1294.34 1786.33,1281.34 1786.33,1268.35 1786.33,1255.35 1786.33,1242.36 1786.33,1229.36 1786.33,1216.37 1786.33,1203.37 1786.33,1190.38 1786.33,1177.38 1786.33,1164.39 1786.33,1151.39 1786.33,1138.4 1786.33,1125.41 1786.33,1112.41 1786.33,1099.42 1786.33,1086.42 1786.33,1073.43 1786.33,1060.43 1786.33,1047.44 1786.33,1034.44 1786.33,1021.45 1786.33,1008.45 1786.33,995.46 1786.33,982.465 1786.33,969.47 1786.33,956.476 1786.33,943.481 1786.33,930.487 1786.33,917.492 1786.33,904.497 1786.33,891.503 1786.33,878.508 1786.33,865.514 1786.33,852.519 1786.33,839.524 1786.33,826.53 1786.33,813.535 1786.33,800.541 1786.33,787.546 1786.33,774.551 1786.33,761.557 1786.33,748.562 1786.33,735.568 1786.33,722.573 1786.33,709.578 1786.33,696.584 1786.33,683.589 1786.33,670.595 1786.33,657.6 1786.33,644.606 1786.33,631.611 1786.33,618.616 1786.33,605.622 1786.33,592.627 1786.33,579.633 1786.33,566.638 1786.33,553.643 1786.33,540.649 1786.33,527.654 1786.33,514.66 1786.33,501.665 1786.33,488.67 1786.33,475.676 1786.33,462.681 1786.33,449.687 1786.33,436.692 1786.33,423.697 1786.33,410.703 1786.33,397.708 1786.33,384.714 1786.33,371.719 1786.33,358.724 1786.33,345.73 1786.33,332.735 1786.33,319.741 1786.33,306.746 1786.33,293.752 1786.33,280.757 1786.33,267.762 1786.33,254.768 1786.33,241.773 1786.33,228.779 1786.33,215.784 1786.33,202.789 1786.33,189.795 1786.33,176.8 1786.33,163.806 1786.33,150.811 1786.33,137.816 1786.33,124.822 1786.33,111.827 1786.33,98.8326 1786.33,85.838 \"/>\n",
       "<polyline clip-path=\"url(#clip052)\" style=\"stroke:#b0b0b0; stroke-linecap:round; stroke-linejoin:round; stroke-width:4; stroke-opacity:1; fill:none\" stroke-dasharray=\"16, 10\" points=\"295.211,325.455 315.389,325.455 335.567,325.455 355.745,325.455 375.923,325.455 396.101,325.455 416.279,325.455 436.457,325.455 456.635,325.455 476.813,325.455 496.991,325.455 517.169,325.455 537.347,325.455 557.525,325.455 577.702,325.455 597.88,325.455 618.058,325.455 638.236,325.455 658.414,325.455 678.592,325.455 698.77,325.455 718.948,325.455 739.126,325.455 759.304,325.455 779.482,325.455 799.66,325.455 819.838,325.455 840.016,325.455 860.194,325.455 880.372,325.455 900.55,325.455 920.727,325.455 940.905,325.455 961.083,325.455 981.261,325.455 1001.44,325.455 1021.62,325.455 1041.8,325.455 1061.97,325.455 1082.15,325.455 1102.33,325.455 1122.51,325.455 1142.68,325.455 1162.86,325.455 1183.04,325.455 1203.22,325.455 1223.4,325.455 1243.57,325.455 1263.75,325.455 1283.93,325.455 1304.11,325.455 1324.29,325.455 1344.46,325.455 1364.64,325.455 1384.82,325.455 1405,325.455 1425.18,325.455 1445.35,325.455 1465.53,325.455 1485.71,325.455 1505.89,325.455 1526.07,325.455 1546.24,325.455 1566.42,325.455 1586.6,325.455 1606.78,325.455 1626.96,325.455 1647.13,325.455 1667.31,325.455 1687.49,325.455 1707.67,325.455 1727.85,325.455 1748.02,325.455 1768.2,325.455 1788.38,325.455 1808.56,325.455 1828.73,325.455 1848.91,325.455 1869.09,325.455 1889.27,325.455 1909.45,325.455 1929.62,325.455 1949.8,325.455 1969.98,325.455 1990.16,325.455 2010.34,325.455 2030.51,325.455 2050.69,325.455 2070.87,325.455 2091.05,325.455 2111.23,325.455 2131.4,325.455 2151.58,325.455 2171.76,325.455 2191.94,325.455 2212.12,325.455 2232.29,325.455 2252.47,325.455 2272.65,325.455 2292.83,325.455 \"/>\n",
       "<circle clip-path=\"url(#clip052)\" cx=\"330.883\" cy=\"1327.1\" r=\"14.4\" fill=\"#ffffff\" fill-rule=\"evenodd\" fill-opacity=\"1\" stroke=\"#000000\" stroke-opacity=\"1\" stroke-width=\"3.2\"/>\n",
       "<circle clip-path=\"url(#clip052)\" cx=\"1936.11\" cy=\"251.836\" r=\"14.4\" fill=\"#ffffff\" fill-rule=\"evenodd\" fill-opacity=\"1\" stroke=\"#000000\" stroke-opacity=\"1\" stroke-width=\"3.2\"/>\n",
       "<circle clip-path=\"url(#clip052)\" cx=\"1826.21\" cy=\"305.6\" r=\"14.4\" fill=\"#ffffff\" fill-rule=\"evenodd\" fill-opacity=\"1\" stroke=\"#000080\" stroke-opacity=\"1\" stroke-width=\"3.2\"/>\n",
       "<circle clip-path=\"url(#clip052)\" cx=\"1826.21\" cy=\"325.455\" r=\"14.4\" fill=\"#ffffff\" fill-rule=\"evenodd\" fill-opacity=\"1\" stroke=\"#b0b0b0\" stroke-opacity=\"1\" stroke-width=\"3.2\"/>\n",
       "<circle clip-path=\"url(#clip052)\" cx=\"1786.33\" cy=\"325.455\" r=\"18\" fill=\"#ff0000\" fill-rule=\"evenodd\" fill-opacity=\"1\" stroke=\"none\"/>\n",
       "<path clip-path=\"url(#clip050)\" d=\"M1600.41 1365.44 L2282.17 1365.44 L2282.17 1054.4 L1600.41 1054.4  Z\" fill=\"#ffffff\" fill-rule=\"evenodd\" fill-opacity=\"1\"/>\n",
       "<polyline clip-path=\"url(#clip050)\" style=\"stroke:#000000; stroke-linecap:round; stroke-linejoin:round; stroke-width:4; stroke-opacity:1; fill:none\" points=\"1600.41,1365.44 2282.17,1365.44 2282.17,1054.4 1600.41,1054.4 1600.41,1365.44 \"/>\n",
       "<polyline clip-path=\"url(#clip050)\" style=\"stroke:#000000; stroke-linecap:round; stroke-linejoin:round; stroke-width:12; stroke-opacity:1; fill:none\" points=\"1623.93,1106.24 1765.1,1106.24 \"/>\n",
       "<path clip-path=\"url(#clip050)\" d=\"M1788.63 1088.96 L1793.32 1088.96 L1793.32 1109.96 Q1793.32 1115.51 1795.34 1117.97 Q1797.35 1120.4 1801.87 1120.4 Q1806.36 1120.4 1808.37 1117.97 Q1810.38 1115.51 1810.38 1109.96 L1810.38 1088.96 L1815.08 1088.96 L1815.08 1110.54 Q1815.08 1117.29 1811.73 1120.74 Q1808.39 1124.19 1801.87 1124.19 Q1795.32 1124.19 1791.96 1120.74 Q1788.63 1117.29 1788.63 1110.54 L1788.63 1088.96 Z\" fill=\"#000000\" fill-rule=\"nonzero\" fill-opacity=\"1\" /><path clip-path=\"url(#clip050)\" d=\"M1833.9 1087.55 Q1830.8 1092.87 1829.3 1098.08 Q1827.79 1103.29 1827.79 1108.64 Q1827.79 1113.98 1829.3 1119.24 Q1830.82 1124.47 1833.9 1129.77 L1830.2 1129.77 Q1826.73 1124.33 1824.99 1119.08 Q1823.28 1113.82 1823.28 1108.64 Q1823.28 1103.48 1824.99 1098.24 Q1826.7 1093.01 1830.2 1087.55 L1833.9 1087.55 Z\" fill=\"#000000\" fill-rule=\"nonzero\" fill-opacity=\"1\" /><path clip-path=\"url(#clip050)\" d=\"M1839.27 1088.96 L1844 1088.96 L1851.26 1118.17 L1858.51 1088.96 L1863.76 1088.96 L1871.03 1118.17 L1878.28 1088.96 L1883.02 1088.96 L1874.34 1123.52 L1868.46 1123.52 L1861.17 1093.52 L1853.81 1123.52 L1847.93 1123.52 L1839.27 1088.96 Z\" fill=\"#000000\" fill-rule=\"nonzero\" fill-opacity=\"1\" /><path clip-path=\"url(#clip050)\" d=\"M1888.37 1087.55 L1892.07 1087.55 Q1895.55 1093.01 1897.26 1098.24 Q1899 1103.48 1899 1108.64 Q1899 1113.82 1897.26 1119.08 Q1895.55 1124.33 1892.07 1129.77 L1888.37 1129.77 Q1891.45 1124.47 1892.95 1119.24 Q1894.48 1113.98 1894.48 1108.64 Q1894.48 1103.29 1892.95 1098.08 Q1891.45 1092.87 1888.37 1087.55 Z\" fill=\"#000000\" fill-rule=\"nonzero\" fill-opacity=\"1\" /><polyline clip-path=\"url(#clip050)\" style=\"stroke:#b0b0b0; stroke-linecap:round; stroke-linejoin:round; stroke-width:12; stroke-opacity:1; fill:none\" stroke-dasharray=\"48, 30\" points=\"1623.93,1158.08 1765.1,1158.08 \"/>\n",
       "<path clip-path=\"url(#clip050)\" d=\"M1790.94 1143.12 L1790.94 1173.05 L1795.62 1173.05 L1795.62 1143.12 L1790.94 1143.12 M1788.63 1140.8 L1815.11 1140.8 L1815.11 1143.12 L1797.93 1143.12 L1797.93 1155.62 L1814.39 1155.62 L1814.39 1157.93 L1797.93 1157.93 L1797.93 1173.05 L1815.52 1173.05 L1815.52 1175.36 L1788.63 1175.36 L1788.63 1140.8 Z\" fill=\"#000000\" fill-rule=\"nonzero\" fill-opacity=\"1\" /><path clip-path=\"url(#clip050)\" d=\"M1846.84 1143.12 L1846.84 1163.28 Q1846.84 1169.81 1844.81 1172.82 Q1851.5 1170.55 1851.5 1162.38 L1851.5 1143.12 L1846.84 1143.12 M1824.97 1143.12 L1824.97 1162.38 Q1824.97 1170.57 1831.66 1172.79 Q1829.6 1169.92 1829.62 1163.28 L1829.62 1143.12 L1824.97 1143.12 M1822.65 1140.8 L1831.94 1140.8 L1831.94 1163.28 Q1831.94 1168.83 1833.42 1171.29 Q1834.9 1173.72 1838.23 1173.72 Q1841.56 1173.72 1843.05 1171.29 Q1844.53 1168.83 1844.53 1163.28 L1844.53 1140.8 L1853.81 1140.8 L1853.81 1162.38 Q1853.81 1169.13 1849.88 1172.58 Q1845.94 1176.03 1838.23 1176.03 Q1830.52 1176.03 1826.59 1172.58 Q1822.65 1169.13 1822.65 1162.38 L1822.65 1140.8 Z\" fill=\"#000000\" fill-rule=\"nonzero\" fill-opacity=\"1\" /><path clip-path=\"url(#clip050)\" d=\"M1872.61 1139.39 Q1869.5 1144.71 1868 1149.92 Q1866.5 1155.13 1866.5 1160.48 Q1866.5 1165.82 1868 1171.08 Q1869.53 1176.31 1872.61 1181.61 L1868.9 1181.61 Q1865.43 1176.17 1863.69 1170.92 Q1861.98 1165.66 1861.98 1160.48 Q1861.98 1155.32 1863.69 1150.08 Q1865.41 1144.85 1868.9 1139.39 L1872.61 1139.39 Z\" fill=\"#000000\" fill-rule=\"nonzero\" fill-opacity=\"1\" /><path clip-path=\"url(#clip050)\" d=\"M1892.61 1145.41 L1886.26 1162.61 L1898.97 1162.61 L1892.61 1145.41 M1889.97 1140.8 L1895.27 1140.8 L1908.44 1175.36 L1903.58 1175.36 L1900.43 1166.5 L1884.85 1166.5 L1881.7 1175.36 L1876.77 1175.36 L1889.97 1140.8 Z\" fill=\"#000000\" fill-rule=\"nonzero\" fill-opacity=\"1\" /><path clip-path=\"url(#clip050)\" d=\"M1912.63 1139.39 L1916.33 1139.39 Q1919.81 1144.85 1921.52 1150.08 Q1923.25 1155.32 1923.25 1160.48 Q1923.25 1165.66 1921.52 1170.92 Q1919.81 1176.17 1916.33 1181.61 L1912.63 1181.61 Q1915.71 1176.31 1917.21 1171.08 Q1918.74 1165.82 1918.74 1160.48 Q1918.74 1155.13 1917.21 1149.92 Q1915.71 1144.71 1912.63 1139.39 Z\" fill=\"#000000\" fill-rule=\"nonzero\" fill-opacity=\"1\" /><circle clip-path=\"url(#clip050)\" cx=\"1694.52\" cy=\"1209.92\" r=\"20.48\" fill=\"#ffffff\" fill-rule=\"evenodd\" fill-opacity=\"1\" stroke=\"#000080\" stroke-opacity=\"1\" stroke-width=\"4.55111\"/>\n",
       "<path clip-path=\"url(#clip050)\" d=\"M1804.46 1197.25 L1798.12 1214.45 L1810.82 1214.45 L1804.46 1197.25 M1801.82 1192.64 L1807.12 1192.64 L1820.29 1227.2 L1815.43 1227.2 L1812.28 1218.34 L1796.7 1218.34 L1793.56 1227.2 L1788.63 1227.2 L1801.82 1192.64 Z\" fill=\"#000000\" fill-rule=\"nonzero\" fill-opacity=\"1\" /><path clip-path=\"url(#clip050)\" d=\"M1840.78 1205.67 L1870.45 1205.67 L1870.45 1209.56 L1840.78 1209.56 L1840.78 1205.67 M1840.78 1215.12 L1870.45 1215.12 L1870.45 1219.05 L1840.78 1219.05 L1840.78 1215.12 Z\" fill=\"#000000\" fill-rule=\"nonzero\" fill-opacity=\"1\" /><path clip-path=\"url(#clip050)\" d=\"M1909.78 1208.57 Q1913.14 1209.28 1915.01 1211.55 Q1916.91 1213.82 1916.91 1217.16 Q1916.91 1222.27 1913.39 1225.07 Q1909.87 1227.87 1903.39 1227.87 Q1901.22 1227.87 1898.9 1227.43 Q1896.61 1227.02 1894.16 1226.16 L1894.16 1221.65 Q1896.1 1222.78 1898.42 1223.36 Q1900.73 1223.94 1903.25 1223.94 Q1907.65 1223.94 1909.94 1222.2 Q1912.26 1220.47 1912.26 1217.16 Q1912.26 1214.1 1910.11 1212.39 Q1907.98 1210.65 1904.16 1210.65 L1900.13 1210.65 L1900.13 1206.81 L1904.34 1206.81 Q1907.79 1206.81 1909.62 1205.44 Q1911.45 1204.05 1911.45 1201.46 Q1911.45 1198.8 1909.55 1197.39 Q1907.68 1195.95 1904.16 1195.95 Q1902.24 1195.95 1900.04 1196.37 Q1897.84 1196.79 1895.2 1197.66 L1895.2 1193.5 Q1897.86 1192.76 1900.18 1192.39 Q1902.51 1192.02 1904.57 1192.02 Q1909.9 1192.02 1913 1194.45 Q1916.1 1196.85 1916.1 1200.97 Q1916.1 1203.85 1914.46 1205.84 Q1912.81 1207.8 1909.78 1208.57 Z\" fill=\"#000000\" fill-rule=\"nonzero\" fill-opacity=\"1\" /><path clip-path=\"url(#clip050)\" d=\"M1924.6 1192.64 L1946.82 1192.64 L1946.82 1194.63 L1934.27 1227.2 L1929.39 1227.2 L1941.19 1196.58 L1924.6 1196.58 L1924.6 1192.64 Z\" fill=\"#000000\" fill-rule=\"nonzero\" fill-opacity=\"1\" /><path clip-path=\"url(#clip050)\" d=\"M1968.79 1196.72 L1956.98 1215.16 L1968.79 1215.16 L1968.79 1196.72 M1967.56 1192.64 L1973.44 1192.64 L1973.44 1215.16 L1978.37 1215.16 L1978.37 1219.05 L1973.44 1219.05 L1973.44 1227.2 L1968.79 1227.2 L1968.79 1219.05 L1953.18 1219.05 L1953.18 1214.54 L1967.56 1192.64 Z\" fill=\"#000000\" fill-rule=\"nonzero\" fill-opacity=\"1\" /><path clip-path=\"url(#clip050)\" d=\"M1996.1 1210.79 Q1992.77 1210.79 1990.85 1212.57 Q1988.95 1214.35 1988.95 1217.48 Q1988.95 1220.6 1990.85 1222.39 Q1992.77 1224.17 1996.1 1224.17 Q1999.43 1224.17 2001.36 1222.39 Q2003.28 1220.58 2003.28 1217.48 Q2003.28 1214.35 2001.36 1212.57 Q1999.46 1210.79 1996.1 1210.79 M1991.43 1208.8 Q1988.42 1208.06 1986.73 1206 Q1985.06 1203.94 1985.06 1200.97 Q1985.06 1196.83 1988 1194.42 Q1990.96 1192.02 1996.1 1192.02 Q2001.26 1192.02 2004.2 1194.42 Q2007.14 1196.83 2007.14 1200.97 Q2007.14 1203.94 2005.45 1206 Q2003.79 1208.06 2000.8 1208.8 Q2004.18 1209.59 2006.05 1211.88 Q2007.95 1214.17 2007.95 1217.48 Q2007.95 1222.5 2004.87 1225.19 Q2001.82 1227.87 1996.1 1227.87 Q1990.38 1227.87 1987.3 1225.19 Q1984.25 1222.5 1984.25 1217.48 Q1984.25 1214.17 1986.15 1211.88 Q1988.05 1209.59 1991.43 1208.8 M1989.71 1201.41 Q1989.71 1204.1 1991.38 1205.6 Q1993.07 1207.11 1996.1 1207.11 Q1999.11 1207.11 2000.8 1205.6 Q2002.51 1204.1 2002.51 1201.41 Q2002.51 1198.73 2000.8 1197.22 Q1999.11 1195.72 1996.1 1195.72 Q1993.07 1195.72 1991.38 1197.22 Q1989.71 1198.73 1989.71 1201.41 Z\" fill=\"#000000\" fill-rule=\"nonzero\" fill-opacity=\"1\" /><path clip-path=\"url(#clip050)\" d=\"M2016.31 1192.64 L2034.67 1192.64 L2034.67 1196.58 L2020.59 1196.58 L2020.59 1205.05 Q2021.61 1204.7 2022.63 1204.54 Q2023.65 1204.35 2024.67 1204.35 Q2030.45 1204.35 2033.83 1207.53 Q2037.21 1210.7 2037.21 1216.11 Q2037.21 1221.69 2033.74 1224.79 Q2030.27 1227.87 2023.95 1227.87 Q2021.77 1227.87 2019.5 1227.5 Q2017.26 1227.13 2014.85 1226.39 L2014.85 1221.69 Q2016.93 1222.83 2019.16 1223.38 Q2021.38 1223.94 2023.86 1223.94 Q2027.86 1223.94 2030.2 1221.83 Q2032.54 1219.72 2032.54 1216.11 Q2032.54 1212.5 2030.2 1210.4 Q2027.86 1208.29 2023.86 1208.29 Q2021.98 1208.29 2020.11 1208.71 Q2018.25 1209.12 2016.31 1210 L2016.31 1192.64 Z\" fill=\"#000000\" fill-rule=\"nonzero\" fill-opacity=\"1\" /><path clip-path=\"url(#clip050)\" d=\"M2046.42 1221.32 L2051.31 1221.32 L2051.31 1227.2 L2046.42 1227.2 L2046.42 1221.32 Z\" fill=\"#000000\" fill-rule=\"nonzero\" fill-opacity=\"1\" /><path clip-path=\"url(#clip050)\" d=\"M2061.54 1192.64 L2079.9 1192.64 L2079.9 1196.58 L2065.82 1196.58 L2065.82 1205.05 Q2066.84 1204.7 2067.86 1204.54 Q2068.88 1204.35 2069.9 1204.35 Q2075.68 1204.35 2079.06 1207.53 Q2082.44 1210.7 2082.44 1216.11 Q2082.44 1221.69 2078.97 1224.79 Q2075.5 1227.87 2069.18 1227.87 Q2067 1227.87 2064.73 1227.5 Q2062.49 1227.13 2060.08 1226.39 L2060.08 1221.69 Q2062.17 1222.83 2064.39 1223.38 Q2066.61 1223.94 2069.09 1223.94 Q2073.09 1223.94 2075.43 1221.83 Q2077.77 1219.72 2077.77 1216.11 Q2077.77 1212.5 2075.43 1210.4 Q2073.09 1208.29 2069.09 1208.29 Q2067.21 1208.29 2065.34 1208.71 Q2063.49 1209.12 2061.54 1210 L2061.54 1192.64 Z\" fill=\"#000000\" fill-rule=\"nonzero\" fill-opacity=\"1\" /><path clip-path=\"url(#clip050)\" d=\"M2092.47 1223.27 L2100.11 1223.27 L2100.11 1196.9 L2091.8 1198.57 L2091.8 1194.31 L2100.06 1192.64 L2104.73 1192.64 L2104.73 1223.27 L2112.37 1223.27 L2112.37 1227.2 L2092.47 1227.2 L2092.47 1223.27 Z\" fill=\"#000000\" fill-rule=\"nonzero\" fill-opacity=\"1\" /><path clip-path=\"url(#clip050)\" d=\"M2135.94 1192.64 L2140.64 1192.64 L2140.64 1213.64 Q2140.64 1219.19 2142.65 1221.65 Q2144.67 1224.08 2149.18 1224.08 Q2153.67 1224.08 2155.68 1221.65 Q2157.7 1219.19 2157.7 1213.64 L2157.7 1192.64 L2162.4 1192.64 L2162.4 1214.22 Q2162.4 1220.97 2159.04 1224.42 Q2155.71 1227.87 2149.18 1227.87 Q2142.63 1227.87 2139.27 1224.42 Q2135.94 1220.97 2135.94 1214.22 L2135.94 1192.64 Z\" fill=\"#000000\" fill-rule=\"nonzero\" fill-opacity=\"1\" /><path clip-path=\"url(#clip050)\" d=\"M2191.89 1193.78 L2191.89 1198.34 Q2189.23 1197.06 2186.86 1196.44 Q2184.5 1195.81 2182.3 1195.81 Q2178.48 1195.81 2176.4 1197.29 Q2174.34 1198.78 2174.34 1201.51 Q2174.34 1203.8 2175.71 1204.98 Q2177.1 1206.14 2180.94 1206.85 L2183.76 1207.43 Q2188.99 1208.43 2191.47 1210.95 Q2193.97 1213.45 2193.97 1217.66 Q2193.97 1222.69 2190.59 1225.28 Q2187.23 1227.87 2180.73 1227.87 Q2178.28 1227.87 2175.5 1227.32 Q2172.74 1226.76 2169.78 1225.67 L2169.78 1220.86 Q2172.63 1222.46 2175.36 1223.27 Q2178.09 1224.08 2180.73 1224.08 Q2184.73 1224.08 2186.91 1222.5 Q2189.09 1220.93 2189.09 1218.01 Q2189.09 1215.47 2187.51 1214.03 Q2185.96 1212.6 2182.4 1211.88 L2179.55 1211.32 Q2174.32 1210.28 2171.98 1208.06 Q2169.64 1205.84 2169.64 1201.88 Q2169.64 1197.29 2172.86 1194.66 Q2176.1 1192.02 2181.77 1192.02 Q2184.2 1192.02 2186.73 1192.46 Q2189.25 1192.9 2191.89 1193.78 Z\" fill=\"#000000\" fill-rule=\"nonzero\" fill-opacity=\"1\" /><path clip-path=\"url(#clip050)\" d=\"M2205.94 1196.48 L2205.94 1223.36 L2211.59 1223.36 Q2218.74 1223.36 2222.05 1220.12 Q2225.38 1216.88 2225.38 1209.89 Q2225.38 1202.94 2222.05 1199.72 Q2218.74 1196.48 2211.59 1196.48 L2205.94 1196.48 M2201.26 1192.64 L2210.87 1192.64 Q2220.91 1192.64 2225.61 1196.83 Q2230.31 1201 2230.31 1209.89 Q2230.31 1218.82 2225.59 1223.01 Q2220.87 1227.2 2210.87 1227.2 L2201.26 1227.2 L2201.26 1192.64 Z\" fill=\"#000000\" fill-rule=\"nonzero\" fill-opacity=\"1\" /><circle clip-path=\"url(#clip050)\" cx=\"1694.52\" cy=\"1261.76\" r=\"20.48\" fill=\"#ffffff\" fill-rule=\"evenodd\" fill-opacity=\"1\" stroke=\"#b0b0b0\" stroke-opacity=\"1\" stroke-width=\"4.55111\"/>\n",
       "<path clip-path=\"url(#clip050)\" d=\"M1793.3 1262.54 L1793.3 1275.2 L1800.8 1275.2 Q1804.57 1275.2 1806.38 1273.65 Q1808.21 1272.07 1808.21 1268.86 Q1808.21 1265.62 1806.38 1264.09 Q1804.57 1262.54 1800.8 1262.54 L1793.3 1262.54 M1793.3 1248.32 L1793.3 1258.74 L1800.22 1258.74 Q1803.65 1258.74 1805.32 1257.47 Q1807 1256.17 1807 1253.53 Q1807 1250.92 1805.32 1249.62 Q1803.65 1248.32 1800.22 1248.32 L1793.3 1248.32 M1788.63 1244.48 L1800.57 1244.48 Q1805.92 1244.48 1808.81 1246.7 Q1811.7 1248.93 1811.7 1253.02 Q1811.7 1256.19 1810.22 1258.07 Q1808.74 1259.94 1805.87 1260.41 Q1809.32 1261.15 1811.22 1263.51 Q1813.14 1265.85 1813.14 1269.37 Q1813.14 1274 1809.99 1276.52 Q1806.84 1279.04 1801.03 1279.04 L1788.63 1279.04 L1788.63 1244.48 Z\" fill=\"#000000\" fill-rule=\"nonzero\" fill-opacity=\"1\" /><path clip-path=\"url(#clip050)\" d=\"M1836.59 1257.51 L1866.26 1257.51 L1866.26 1261.4 L1836.59 1261.4 L1836.59 1257.51 M1836.59 1266.96 L1866.26 1266.96 L1866.26 1270.89 L1836.59 1270.89 L1836.59 1266.96 Z\" fill=\"#000000\" fill-rule=\"nonzero\" fill-opacity=\"1\" /><path clip-path=\"url(#clip050)\" d=\"M1905.59 1260.41 Q1908.95 1261.12 1910.82 1263.39 Q1912.72 1265.66 1912.72 1269 Q1912.72 1274.11 1909.2 1276.91 Q1905.68 1279.71 1899.2 1279.71 Q1897.03 1279.71 1894.71 1279.27 Q1892.42 1278.86 1889.97 1278 L1889.97 1273.49 Q1891.91 1274.62 1894.23 1275.2 Q1896.54 1275.78 1899.06 1275.78 Q1903.46 1275.78 1905.75 1274.04 Q1908.07 1272.31 1908.07 1269 Q1908.07 1265.94 1905.92 1264.23 Q1903.79 1262.49 1899.97 1262.49 L1895.94 1262.49 L1895.94 1258.65 L1900.15 1258.65 Q1903.6 1258.65 1905.43 1257.28 Q1907.26 1255.89 1907.26 1253.3 Q1907.26 1250.64 1905.36 1249.23 Q1903.49 1247.79 1899.97 1247.79 Q1898.05 1247.79 1895.85 1248.21 Q1893.65 1248.63 1891.01 1249.5 L1891.01 1245.34 Q1893.67 1244.6 1895.99 1244.23 Q1898.32 1243.86 1900.38 1243.86 Q1905.71 1243.86 1908.81 1246.29 Q1911.91 1248.69 1911.91 1252.81 Q1911.91 1255.69 1910.27 1257.68 Q1908.62 1259.64 1905.59 1260.41 Z\" fill=\"#000000\" fill-rule=\"nonzero\" fill-opacity=\"1\" /><path clip-path=\"url(#clip050)\" d=\"M1920.41 1244.48 L1942.63 1244.48 L1942.63 1246.47 L1930.08 1279.04 L1925.2 1279.04 L1937 1248.42 L1920.41 1248.42 L1920.41 1244.48 Z\" fill=\"#000000\" fill-rule=\"nonzero\" fill-opacity=\"1\" /><path clip-path=\"url(#clip050)\" d=\"M1964.6 1248.56 L1952.79 1267 L1964.6 1267 L1964.6 1248.56 M1963.37 1244.48 L1969.25 1244.48 L1969.25 1267 L1974.18 1267 L1974.18 1270.89 L1969.25 1270.89 L1969.25 1279.04 L1964.6 1279.04 L1964.6 1270.89 L1948.99 1270.89 L1948.99 1266.38 L1963.37 1244.48 Z\" fill=\"#000000\" fill-rule=\"nonzero\" fill-opacity=\"1\" /><path clip-path=\"url(#clip050)\" d=\"M1991.91 1262.63 Q1988.58 1262.63 1986.66 1264.41 Q1984.76 1266.19 1984.76 1269.32 Q1984.76 1272.44 1986.66 1274.23 Q1988.58 1276.01 1991.91 1276.01 Q1995.24 1276.01 1997.17 1274.23 Q1999.09 1272.42 1999.09 1269.32 Q1999.09 1266.19 1997.17 1264.41 Q1995.27 1262.63 1991.91 1262.63 M1987.24 1260.64 Q1984.23 1259.9 1982.54 1257.84 Q1980.87 1255.78 1980.87 1252.81 Q1980.87 1248.67 1983.81 1246.26 Q1986.77 1243.86 1991.91 1243.86 Q1997.07 1243.86 2000.01 1246.26 Q2002.95 1248.67 2002.95 1252.81 Q2002.95 1255.78 2001.26 1257.84 Q1999.6 1259.9 1996.61 1260.64 Q1999.99 1261.43 2001.86 1263.72 Q2003.76 1266.01 2003.76 1269.32 Q2003.76 1274.34 2000.68 1277.03 Q1997.63 1279.71 1991.91 1279.71 Q1986.19 1279.71 1983.12 1277.03 Q1980.06 1274.34 1980.06 1269.32 Q1980.06 1266.01 1981.96 1263.72 Q1983.86 1261.43 1987.24 1260.64 M1985.52 1253.25 Q1985.52 1255.94 1987.19 1257.44 Q1988.88 1258.95 1991.91 1258.95 Q1994.92 1258.95 1996.61 1257.44 Q1998.32 1255.94 1998.32 1253.25 Q1998.32 1250.57 1996.61 1249.06 Q1994.92 1247.56 1991.91 1247.56 Q1988.88 1247.56 1987.19 1249.06 Q1985.52 1250.57 1985.52 1253.25 Z\" fill=\"#000000\" fill-rule=\"nonzero\" fill-opacity=\"1\" /><path clip-path=\"url(#clip050)\" d=\"M2012.12 1244.48 L2030.48 1244.48 L2030.48 1248.42 L2016.4 1248.42 L2016.4 1256.89 Q2017.42 1256.54 2018.44 1256.38 Q2019.46 1256.19 2020.48 1256.19 Q2026.26 1256.19 2029.64 1259.37 Q2033.02 1262.54 2033.02 1267.95 Q2033.02 1273.53 2029.55 1276.63 Q2026.08 1279.71 2019.76 1279.71 Q2017.58 1279.71 2015.31 1279.34 Q2013.07 1278.97 2010.66 1278.23 L2010.66 1273.53 Q2012.74 1274.67 2014.97 1275.22 Q2017.19 1275.78 2019.67 1275.78 Q2023.67 1275.78 2026.01 1273.67 Q2028.35 1271.56 2028.35 1267.95 Q2028.35 1264.34 2026.01 1262.24 Q2023.67 1260.13 2019.67 1260.13 Q2017.79 1260.13 2015.92 1260.55 Q2014.06 1260.96 2012.12 1261.84 L2012.12 1244.48 Z\" fill=\"#000000\" fill-rule=\"nonzero\" fill-opacity=\"1\" /><path clip-path=\"url(#clip050)\" d=\"M2042.24 1273.16 L2047.12 1273.16 L2047.12 1279.04 L2042.24 1279.04 L2042.24 1273.16 Z\" fill=\"#000000\" fill-rule=\"nonzero\" fill-opacity=\"1\" /><path clip-path=\"url(#clip050)\" d=\"M2057.35 1244.48 L2075.71 1244.48 L2075.71 1248.42 L2061.63 1248.42 L2061.63 1256.89 Q2062.65 1256.54 2063.67 1256.38 Q2064.69 1256.19 2065.71 1256.19 Q2071.49 1256.19 2074.87 1259.37 Q2078.25 1262.54 2078.25 1267.95 Q2078.25 1273.53 2074.78 1276.63 Q2071.31 1279.71 2064.99 1279.71 Q2062.81 1279.71 2060.55 1279.34 Q2058.3 1278.97 2055.89 1278.23 L2055.89 1273.53 Q2057.98 1274.67 2060.2 1275.22 Q2062.42 1275.78 2064.9 1275.78 Q2068.9 1275.78 2071.24 1273.67 Q2073.58 1271.56 2073.58 1267.95 Q2073.58 1264.34 2071.24 1262.24 Q2068.9 1260.13 2064.9 1260.13 Q2063.02 1260.13 2061.15 1260.55 Q2059.3 1260.96 2057.35 1261.84 L2057.35 1244.48 Z\" fill=\"#000000\" fill-rule=\"nonzero\" fill-opacity=\"1\" /><path clip-path=\"url(#clip050)\" d=\"M2088.28 1275.11 L2095.92 1275.11 L2095.92 1248.74 L2087.61 1250.41 L2087.61 1246.15 L2095.87 1244.48 L2100.54 1244.48 L2100.54 1275.11 L2108.18 1275.11 L2108.18 1279.04 L2088.28 1279.04 L2088.28 1275.11 Z\" fill=\"#000000\" fill-rule=\"nonzero\" fill-opacity=\"1\" /><path clip-path=\"url(#clip050)\" d=\"M2131.75 1244.48 L2136.45 1244.48 L2136.45 1265.48 Q2136.45 1271.03 2138.46 1273.49 Q2140.48 1275.92 2144.99 1275.92 Q2149.48 1275.92 2151.49 1273.49 Q2153.51 1271.03 2153.51 1265.48 L2153.51 1244.48 L2158.21 1244.48 L2158.21 1266.06 Q2158.21 1272.81 2154.85 1276.26 Q2151.52 1279.71 2144.99 1279.71 Q2138.44 1279.71 2135.08 1276.26 Q2131.75 1272.81 2131.75 1266.06 L2131.75 1244.48 Z\" fill=\"#000000\" fill-rule=\"nonzero\" fill-opacity=\"1\" /><path clip-path=\"url(#clip050)\" d=\"M2187.7 1245.62 L2187.7 1250.18 Q2185.04 1248.9 2182.67 1248.28 Q2180.31 1247.65 2178.11 1247.65 Q2174.29 1247.65 2172.21 1249.13 Q2170.15 1250.62 2170.15 1253.35 Q2170.15 1255.64 2171.52 1256.82 Q2172.91 1257.98 2176.75 1258.69 L2179.57 1259.27 Q2184.8 1260.27 2187.28 1262.79 Q2189.78 1265.29 2189.78 1269.5 Q2189.78 1274.53 2186.4 1277.12 Q2183.04 1279.71 2176.54 1279.71 Q2174.09 1279.71 2171.31 1279.16 Q2168.55 1278.6 2165.59 1277.51 L2165.59 1272.7 Q2168.44 1274.3 2171.17 1275.11 Q2173.9 1275.92 2176.54 1275.92 Q2180.54 1275.92 2182.72 1274.34 Q2184.9 1272.77 2184.9 1269.85 Q2184.9 1267.31 2183.32 1265.87 Q2181.77 1264.44 2178.21 1263.72 L2175.36 1263.16 Q2170.13 1262.12 2167.79 1259.9 Q2165.45 1257.68 2165.45 1253.72 Q2165.45 1249.13 2168.67 1246.5 Q2171.91 1243.86 2177.58 1243.86 Q2180.01 1243.86 2182.54 1244.3 Q2185.06 1244.74 2187.7 1245.62 Z\" fill=\"#000000\" fill-rule=\"nonzero\" fill-opacity=\"1\" /><path clip-path=\"url(#clip050)\" d=\"M2201.75 1248.32 L2201.75 1275.2 L2207.4 1275.2 Q2214.55 1275.2 2217.86 1271.96 Q2221.19 1268.72 2221.19 1261.73 Q2221.19 1254.78 2217.86 1251.56 Q2214.55 1248.32 2207.4 1248.32 L2201.75 1248.32 M2197.07 1244.48 L2206.68 1244.48 Q2216.72 1244.48 2221.42 1248.67 Q2226.12 1252.84 2226.12 1261.73 Q2226.12 1270.66 2221.4 1274.85 Q2216.68 1279.04 2206.68 1279.04 L2197.07 1279.04 L2197.07 1244.48 Z\" fill=\"#000000\" fill-rule=\"nonzero\" fill-opacity=\"1\" /><circle clip-path=\"url(#clip050)\" cx=\"1694.52\" cy=\"1313.6\" r=\"20.9455\" fill=\"#ff0000\" fill-rule=\"evenodd\" fill-opacity=\"1\" stroke=\"none\"/>\n",
       "<path clip-path=\"url(#clip050)\" d=\"M1816.5 1298.98 L1816.5 1303.91 Q1814.13 1301.72 1811.45 1300.63 Q1808.79 1299.54 1805.78 1299.54 Q1799.85 1299.54 1796.7 1303.17 Q1793.56 1306.78 1793.56 1313.64 Q1793.56 1320.46 1796.7 1324.1 Q1799.85 1327.71 1805.78 1327.71 Q1808.79 1327.71 1811.45 1326.62 Q1814.13 1325.53 1816.5 1323.34 L1816.5 1328.22 Q1814.04 1329.89 1811.29 1330.72 Q1808.56 1331.55 1805.5 1331.55 Q1797.65 1331.55 1793.14 1326.76 Q1788.63 1321.95 1788.63 1313.64 Q1788.63 1305.3 1793.14 1300.51 Q1797.65 1295.7 1805.5 1295.7 Q1808.6 1295.7 1811.33 1296.53 Q1814.09 1297.34 1816.5 1298.98 Z\" fill=\"#000000\" fill-rule=\"nonzero\" fill-opacity=\"1\" /><path clip-path=\"url(#clip050)\" d=\"M1823.72 1296.32 L1845.57 1296.32 L1845.57 1300.26 L1828.39 1300.26 L1828.39 1310.49 L1844.85 1310.49 L1844.85 1314.42 L1828.39 1314.42 L1828.39 1326.95 L1845.99 1326.95 L1845.99 1330.88 L1823.72 1330.88 L1823.72 1296.32 Z\" fill=\"#000000\" fill-rule=\"nonzero\" fill-opacity=\"1\" /><path clip-path=\"url(#clip050)\" d=\"M1869.11 1309.35 L1898.79 1309.35 L1898.79 1313.24 L1869.11 1313.24 L1869.11 1309.35 M1869.11 1318.8 L1898.79 1318.8 L1898.79 1322.73 L1869.11 1322.73 L1869.11 1318.8 Z\" fill=\"#000000\" fill-rule=\"nonzero\" fill-opacity=\"1\" /><path clip-path=\"url(#clip050)\" d=\"M1938.12 1312.25 Q1941.47 1312.96 1943.35 1315.23 Q1945.24 1317.5 1945.24 1320.84 Q1945.24 1325.95 1941.73 1328.75 Q1938.21 1331.55 1931.73 1331.55 Q1929.55 1331.55 1927.24 1331.11 Q1924.94 1330.7 1922.49 1329.84 L1922.49 1325.33 Q1924.43 1326.46 1926.75 1327.04 Q1929.06 1327.62 1931.59 1327.62 Q1935.99 1327.62 1938.28 1325.88 Q1940.59 1324.15 1940.59 1320.84 Q1940.59 1317.78 1938.44 1316.07 Q1936.31 1314.33 1932.49 1314.33 L1928.46 1314.33 L1928.46 1310.49 L1932.68 1310.49 Q1936.12 1310.49 1937.95 1309.12 Q1939.78 1307.73 1939.78 1305.14 Q1939.78 1302.48 1937.88 1301.07 Q1936.01 1299.63 1932.49 1299.63 Q1930.57 1299.63 1928.37 1300.05 Q1926.17 1300.47 1923.53 1301.34 L1923.53 1297.18 Q1926.19 1296.44 1928.51 1296.07 Q1930.85 1295.7 1932.91 1295.7 Q1938.23 1295.7 1941.33 1298.13 Q1944.43 1300.53 1944.43 1304.65 Q1944.43 1307.53 1942.79 1309.52 Q1941.15 1311.48 1938.12 1312.25 Z\" fill=\"#000000\" fill-rule=\"nonzero\" fill-opacity=\"1\" /><path clip-path=\"url(#clip050)\" d=\"M1964.69 1311.74 Q1961.54 1311.74 1959.69 1313.89 Q1957.86 1316.04 1957.86 1319.79 Q1957.86 1323.52 1959.69 1325.7 Q1961.54 1327.85 1964.69 1327.85 Q1967.84 1327.85 1969.67 1325.7 Q1971.52 1323.52 1971.52 1319.79 Q1971.52 1316.04 1969.67 1313.89 Q1967.84 1311.74 1964.69 1311.74 M1973.97 1297.09 L1973.97 1301.34 Q1972.21 1300.51 1970.41 1300.07 Q1968.62 1299.63 1966.87 1299.63 Q1962.24 1299.63 1959.78 1302.76 Q1957.35 1305.88 1957 1312.2 Q1958.37 1310.19 1960.43 1309.12 Q1962.49 1308.03 1964.97 1308.03 Q1970.18 1308.03 1973.18 1311.21 Q1976.22 1314.35 1976.22 1319.79 Q1976.22 1325.12 1973.07 1328.34 Q1969.92 1331.55 1964.69 1331.55 Q1958.69 1331.55 1955.52 1326.97 Q1952.35 1322.36 1952.35 1313.64 Q1952.35 1305.44 1956.24 1300.58 Q1960.13 1295.7 1966.68 1295.7 Q1968.44 1295.7 1970.22 1296.04 Q1972.03 1296.39 1973.97 1297.09 Z\" fill=\"#000000\" fill-rule=\"nonzero\" fill-opacity=\"1\" /><path clip-path=\"url(#clip050)\" d=\"M1984.32 1296.32 L2002.68 1296.32 L2002.68 1300.26 L1988.6 1300.26 L1988.6 1308.73 Q1989.62 1308.38 1990.64 1308.22 Q1991.66 1308.03 1992.68 1308.03 Q1998.46 1308.03 2001.84 1311.21 Q2005.22 1314.38 2005.22 1319.79 Q2005.22 1325.37 2001.75 1328.47 Q1998.28 1331.55 1991.96 1331.55 Q1989.78 1331.55 1987.51 1331.18 Q1985.27 1330.81 1982.86 1330.07 L1982.86 1325.37 Q1984.94 1326.51 1987.17 1327.06 Q1989.39 1327.62 1991.87 1327.62 Q1995.87 1327.62 1998.21 1325.51 Q2000.55 1323.4 2000.55 1319.79 Q2000.55 1316.18 1998.21 1314.08 Q1995.87 1311.97 1991.87 1311.97 Q1989.99 1311.97 1988.12 1312.39 Q1986.26 1312.8 1984.32 1313.68 L1984.32 1296.32 Z\" fill=\"#000000\" fill-rule=\"nonzero\" fill-opacity=\"1\" /><path clip-path=\"url(#clip050)\" d=\"M2014.57 1330.16 L2014.57 1325.9 Q2016.33 1326.74 2018.14 1327.18 Q2019.94 1327.62 2021.68 1327.62 Q2026.31 1327.62 2028.74 1324.52 Q2031.19 1321.39 2031.54 1315.05 Q2030.2 1317.04 2028.14 1318.1 Q2026.08 1319.17 2023.58 1319.17 Q2018.39 1319.17 2015.36 1316.04 Q2012.35 1312.9 2012.35 1307.46 Q2012.35 1302.13 2015.5 1298.91 Q2018.65 1295.7 2023.88 1295.7 Q2029.87 1295.7 2033.02 1300.3 Q2036.19 1304.89 2036.19 1313.64 Q2036.19 1321.81 2032.3 1326.69 Q2028.44 1331.55 2021.89 1331.55 Q2020.13 1331.55 2018.32 1331.21 Q2016.52 1330.86 2014.57 1330.16 M2023.88 1315.51 Q2027.03 1315.51 2028.86 1313.36 Q2030.71 1311.21 2030.71 1307.46 Q2030.71 1303.73 2028.86 1301.58 Q2027.03 1299.4 2023.88 1299.4 Q2020.73 1299.4 2018.88 1301.58 Q2017.05 1303.73 2017.05 1307.46 Q2017.05 1311.21 2018.88 1313.36 Q2020.73 1315.51 2023.88 1315.51 Z\" fill=\"#000000\" fill-rule=\"nonzero\" fill-opacity=\"1\" /><path clip-path=\"url(#clip050)\" d=\"M2048.62 1326.95 L2064.94 1326.95 L2064.94 1330.88 L2043 1330.88 L2043 1326.95 Q2045.66 1324.19 2050.24 1319.56 Q2054.85 1314.91 2056.03 1313.57 Q2058.28 1311.04 2059.16 1309.31 Q2060.06 1307.55 2060.06 1305.86 Q2060.06 1303.1 2058.11 1301.37 Q2056.19 1299.63 2053.09 1299.63 Q2050.89 1299.63 2048.44 1300.4 Q2046.01 1301.16 2043.23 1302.71 L2043.23 1297.99 Q2046.05 1296.85 2048.51 1296.28 Q2050.96 1295.7 2053 1295.7 Q2058.37 1295.7 2061.56 1298.38 Q2064.76 1301.07 2064.76 1305.56 Q2064.76 1307.69 2063.95 1309.61 Q2063.16 1311.51 2061.05 1314.1 Q2060.48 1314.77 2057.37 1317.99 Q2054.27 1321.18 2048.62 1326.95 Z\" fill=\"#000000\" fill-rule=\"nonzero\" fill-opacity=\"1\" /><path clip-path=\"url(#clip050)\" d=\"M2074.76 1325 L2079.64 1325 L2079.64 1330.88 L2074.76 1330.88 L2074.76 1325 Z\" fill=\"#000000\" fill-rule=\"nonzero\" fill-opacity=\"1\" /><path clip-path=\"url(#clip050)\" d=\"M2103.99 1312.25 Q2107.35 1312.96 2109.23 1315.23 Q2111.12 1317.5 2111.12 1320.84 Q2111.12 1325.95 2107.61 1328.75 Q2104.09 1331.55 2097.61 1331.55 Q2095.43 1331.55 2093.11 1331.11 Q2090.82 1330.7 2088.37 1329.84 L2088.37 1325.33 Q2090.31 1326.46 2092.63 1327.04 Q2094.94 1327.62 2097.47 1327.62 Q2101.86 1327.62 2104.16 1325.88 Q2106.47 1324.15 2106.47 1320.84 Q2106.47 1317.78 2104.32 1316.07 Q2102.19 1314.33 2098.37 1314.33 L2094.34 1314.33 L2094.34 1310.49 L2098.55 1310.49 Q2102 1310.49 2103.83 1309.12 Q2105.66 1307.73 2105.66 1305.14 Q2105.66 1302.48 2103.76 1301.07 Q2101.89 1299.63 2098.37 1299.63 Q2096.45 1299.63 2094.25 1300.05 Q2092.05 1300.47 2089.41 1301.34 L2089.41 1297.18 Q2092.07 1296.44 2094.39 1296.07 Q2096.73 1295.7 2098.79 1295.7 Q2104.11 1295.7 2107.21 1298.13 Q2110.31 1300.53 2110.31 1304.65 Q2110.31 1307.53 2108.67 1309.52 Q2107.03 1311.48 2103.99 1312.25 Z\" fill=\"#000000\" fill-rule=\"nonzero\" fill-opacity=\"1\" /><path clip-path=\"url(#clip050)\" d=\"M2120.04 1296.32 L2138.39 1296.32 L2138.39 1300.26 L2124.32 1300.26 L2124.32 1308.73 Q2125.34 1308.38 2126.36 1308.22 Q2127.37 1308.03 2128.39 1308.03 Q2134.18 1308.03 2137.56 1311.21 Q2140.94 1314.38 2140.94 1319.79 Q2140.94 1325.37 2137.47 1328.47 Q2133.99 1331.55 2127.67 1331.55 Q2125.5 1331.55 2123.23 1331.18 Q2120.98 1330.81 2118.58 1330.07 L2118.58 1325.37 Q2120.66 1326.51 2122.88 1327.06 Q2125.11 1327.62 2127.58 1327.62 Q2131.59 1327.62 2133.92 1325.51 Q2136.26 1323.4 2136.26 1319.79 Q2136.26 1316.18 2133.92 1314.08 Q2131.59 1311.97 2127.58 1311.97 Q2125.71 1311.97 2123.83 1312.39 Q2121.98 1312.8 2120.04 1313.68 L2120.04 1296.32 Z\" fill=\"#000000\" fill-rule=\"nonzero\" fill-opacity=\"1\" /><path clip-path=\"url(#clip050)\" d=\"M2164.27 1296.32 L2168.97 1296.32 L2168.97 1317.32 Q2168.97 1322.87 2170.98 1325.33 Q2173 1327.76 2177.51 1327.76 Q2182 1327.76 2184.02 1325.33 Q2186.03 1322.87 2186.03 1317.32 L2186.03 1296.32 L2190.73 1296.32 L2190.73 1317.9 Q2190.73 1324.65 2187.37 1328.1 Q2184.04 1331.55 2177.51 1331.55 Q2170.96 1331.55 2167.6 1328.1 Q2164.27 1324.65 2164.27 1317.9 L2164.27 1296.32 Z\" fill=\"#000000\" fill-rule=\"nonzero\" fill-opacity=\"1\" /><path clip-path=\"url(#clip050)\" d=\"M2220.22 1297.46 L2220.22 1302.02 Q2217.56 1300.74 2215.2 1300.12 Q2212.84 1299.49 2210.64 1299.49 Q2206.82 1299.49 2204.73 1300.97 Q2202.67 1302.46 2202.67 1305.19 Q2202.67 1307.48 2204.04 1308.66 Q2205.43 1309.82 2209.27 1310.53 L2212.1 1311.11 Q2217.33 1312.11 2219.8 1314.63 Q2222.3 1317.13 2222.3 1321.34 Q2222.3 1326.37 2218.92 1328.96 Q2215.57 1331.55 2209.06 1331.55 Q2206.61 1331.55 2203.83 1331 Q2201.08 1330.44 2198.11 1329.35 L2198.11 1324.54 Q2200.96 1326.14 2203.69 1326.95 Q2206.42 1327.76 2209.06 1327.76 Q2213.07 1327.76 2215.24 1326.18 Q2217.42 1324.61 2217.42 1321.69 Q2217.42 1319.15 2215.85 1317.71 Q2214.29 1316.28 2210.73 1315.56 L2207.88 1315 Q2202.65 1313.96 2200.31 1311.74 Q2197.98 1309.52 2197.98 1305.56 Q2197.98 1300.97 2201.19 1298.34 Q2204.43 1295.7 2210.1 1295.7 Q2212.54 1295.7 2215.06 1296.14 Q2217.58 1296.58 2220.22 1297.46 Z\" fill=\"#000000\" fill-rule=\"nonzero\" fill-opacity=\"1\" /><path clip-path=\"url(#clip050)\" d=\"M2234.27 1300.16 L2234.27 1327.04 L2239.92 1327.04 Q2247.07 1327.04 2250.38 1323.8 Q2253.72 1320.56 2253.72 1313.57 Q2253.72 1306.62 2250.38 1303.4 Q2247.07 1300.16 2239.92 1300.16 L2234.27 1300.16 M2229.6 1296.32 L2239.2 1296.32 Q2249.25 1296.32 2253.95 1300.51 Q2258.65 1304.68 2258.65 1313.57 Q2258.65 1322.5 2253.92 1326.69 Q2249.2 1330.88 2239.2 1330.88 L2229.6 1330.88 L2229.6 1296.32 Z\" fill=\"#000000\" fill-rule=\"nonzero\" fill-opacity=\"1\" /></svg>\n"
      ],
      "text/html": [
       "<?xml version=\"1.0\" encoding=\"utf-8\"?>\n",
       "<svg xmlns=\"http://www.w3.org/2000/svg\" xmlns:xlink=\"http://www.w3.org/1999/xlink\" width=\"600\" height=\"400\" viewBox=\"0 0 2400 1600\">\n",
       "<defs>\n",
       "  <clipPath id=\"clip100\">\n",
       "    <rect x=\"0\" y=\"0\" width=\"2400\" height=\"1600\"/>\n",
       "  </clipPath>\n",
       "</defs>\n",
       "<path clip-path=\"url(#clip100)\" d=\"M0 1600 L2400 1600 L2400 0 L0 0  Z\" fill=\"#ffffff\" fill-rule=\"evenodd\" fill-opacity=\"1\"/>\n",
       "<defs>\n",
       "  <clipPath id=\"clip101\">\n",
       "    <rect x=\"480\" y=\"0\" width=\"1681\" height=\"1600\"/>\n",
       "  </clipPath>\n",
       "</defs>\n",
       "<path clip-path=\"url(#clip100)\" d=\"M235.283 1410.9 L2352.76 1410.9 L2352.76 47.2441 L235.283 47.2441  Z\" fill=\"#ffffff\" fill-rule=\"evenodd\" fill-opacity=\"1\"/>\n",
       "<defs>\n",
       "  <clipPath id=\"clip102\">\n",
       "    <rect x=\"235\" y=\"47\" width=\"2118\" height=\"1365\"/>\n",
       "  </clipPath>\n",
       "</defs>\n",
       "<polyline clip-path=\"url(#clip102)\" style=\"stroke:#000000; stroke-linecap:round; stroke-linejoin:round; stroke-width:2; stroke-opacity:0.1; fill:none\" points=\"599.013,1410.9 599.013,47.2441 \"/>\n",
       "<polyline clip-path=\"url(#clip102)\" style=\"stroke:#000000; stroke-linecap:round; stroke-linejoin:round; stroke-width:2; stroke-opacity:0.1; fill:none\" points=\"1045.5,1410.9 1045.5,47.2441 \"/>\n",
       "<polyline clip-path=\"url(#clip102)\" style=\"stroke:#000000; stroke-linecap:round; stroke-linejoin:round; stroke-width:2; stroke-opacity:0.1; fill:none\" points=\"1491.99,1410.9 1491.99,47.2441 \"/>\n",
       "<polyline clip-path=\"url(#clip102)\" style=\"stroke:#000000; stroke-linecap:round; stroke-linejoin:round; stroke-width:2; stroke-opacity:0.1; fill:none\" points=\"1938.48,1410.9 1938.48,47.2441 \"/>\n",
       "<polyline clip-path=\"url(#clip100)\" style=\"stroke:#000000; stroke-linecap:round; stroke-linejoin:round; stroke-width:4; stroke-opacity:1; fill:none\" points=\"235.283,1410.9 2352.76,1410.9 \"/>\n",
       "<polyline clip-path=\"url(#clip100)\" style=\"stroke:#000000; stroke-linecap:round; stroke-linejoin:round; stroke-width:4; stroke-opacity:1; fill:none\" points=\"599.013,1410.9 599.013,1392 \"/>\n",
       "<polyline clip-path=\"url(#clip100)\" style=\"stroke:#000000; stroke-linecap:round; stroke-linejoin:round; stroke-width:4; stroke-opacity:1; fill:none\" points=\"1045.5,1410.9 1045.5,1392 \"/>\n",
       "<polyline clip-path=\"url(#clip100)\" style=\"stroke:#000000; stroke-linecap:round; stroke-linejoin:round; stroke-width:4; stroke-opacity:1; fill:none\" points=\"1491.99,1410.9 1491.99,1392 \"/>\n",
       "<polyline clip-path=\"url(#clip100)\" style=\"stroke:#000000; stroke-linecap:round; stroke-linejoin:round; stroke-width:4; stroke-opacity:1; fill:none\" points=\"1938.48,1410.9 1938.48,1392 \"/>\n",
       "<path clip-path=\"url(#clip100)\" d=\"M505.911 1485.02 L513.55 1485.02 L513.55 1458.66 L505.24 1460.32 L505.24 1456.06 L513.504 1454.4 L518.18 1454.4 L518.18 1485.02 L525.818 1485.02 L525.818 1488.96 L505.911 1488.96 L505.911 1485.02 Z\" fill=\"#000000\" fill-rule=\"nonzero\" fill-opacity=\"1\" /><path clip-path=\"url(#clip100)\" d=\"M535.263 1483.08 L540.147 1483.08 L540.147 1488.96 L535.263 1488.96 L535.263 1483.08 Z\" fill=\"#000000\" fill-rule=\"nonzero\" fill-opacity=\"1\" /><path clip-path=\"url(#clip100)\" d=\"M560.332 1457.48 Q556.721 1457.48 554.892 1461.04 Q553.087 1464.58 553.087 1471.71 Q553.087 1478.82 554.892 1482.38 Q556.721 1485.92 560.332 1485.92 Q563.966 1485.92 565.772 1482.38 Q567.601 1478.82 567.601 1471.71 Q567.601 1464.58 565.772 1461.04 Q563.966 1457.48 560.332 1457.48 M560.332 1453.77 Q566.142 1453.77 569.198 1458.38 Q572.277 1462.96 572.277 1471.71 Q572.277 1480.44 569.198 1485.04 Q566.142 1489.63 560.332 1489.63 Q554.522 1489.63 551.443 1485.04 Q548.388 1480.44 548.388 1471.71 Q548.388 1462.96 551.443 1458.38 Q554.522 1453.77 560.332 1453.77 Z\" fill=\"#000000\" fill-rule=\"nonzero\" fill-opacity=\"1\" /><path clip-path=\"url(#clip100)\" d=\"M608.665 1463.49 L598.087 1474.12 L608.665 1484.7 L605.911 1487.5 L595.286 1476.87 L584.661 1487.5 L581.929 1484.7 L592.485 1474.12 L581.929 1463.49 L584.661 1460.69 L595.286 1471.32 L605.911 1460.69 L608.665 1463.49 Z\" fill=\"#000000\" fill-rule=\"nonzero\" fill-opacity=\"1\" /><path clip-path=\"url(#clip100)\" d=\"M621.026 1485.02 L628.665 1485.02 L628.665 1458.66 L620.355 1460.32 L620.355 1456.06 L628.619 1454.4 L633.295 1454.4 L633.295 1485.02 L640.934 1485.02 L640.934 1488.96 L621.026 1488.96 L621.026 1485.02 Z\" fill=\"#000000\" fill-rule=\"nonzero\" fill-opacity=\"1\" /><path clip-path=\"url(#clip100)\" d=\"M660.378 1457.48 Q656.767 1457.48 654.938 1461.04 Q653.133 1464.58 653.133 1471.71 Q653.133 1478.82 654.938 1482.38 Q656.767 1485.92 660.378 1485.92 Q664.012 1485.92 665.818 1482.38 Q667.646 1478.82 667.646 1471.71 Q667.646 1464.58 665.818 1461.04 Q664.012 1457.48 660.378 1457.48 M660.378 1453.77 Q666.188 1453.77 669.244 1458.38 Q672.322 1462.96 672.322 1471.71 Q672.322 1480.44 669.244 1485.04 Q666.188 1489.63 660.378 1489.63 Q654.568 1489.63 651.489 1485.04 Q648.434 1480.44 648.434 1471.71 Q648.434 1462.96 651.489 1458.38 Q654.568 1453.77 660.378 1453.77 Z\" fill=\"#000000\" fill-rule=\"nonzero\" fill-opacity=\"1\" /><path clip-path=\"url(#clip100)\" d=\"M684.999 1436.78 L675.407 1451.77 L684.999 1451.77 L684.999 1436.78 M684.002 1433.47 L688.779 1433.47 L688.779 1451.77 L692.785 1451.77 L692.785 1454.93 L688.779 1454.93 L688.779 1461.55 L684.999 1461.55 L684.999 1454.93 L672.322 1454.93 L672.322 1451.26 L684.002 1433.47 Z\" fill=\"#000000\" fill-rule=\"nonzero\" fill-opacity=\"1\" /><path clip-path=\"url(#clip100)\" d=\"M956.485 1485.02 L972.804 1485.02 L972.804 1488.96 L950.86 1488.96 L950.86 1485.02 Q953.522 1482.27 958.105 1477.64 Q962.712 1472.98 963.892 1471.64 Q966.138 1469.12 967.017 1467.38 Q967.92 1465.62 967.92 1463.93 Q967.92 1461.18 965.976 1459.44 Q964.054 1457.71 960.952 1457.71 Q958.753 1457.71 956.3 1458.47 Q953.869 1459.23 951.091 1460.79 L951.091 1456.06 Q953.915 1454.93 956.369 1454.35 Q958.823 1453.77 960.86 1453.77 Q966.23 1453.77 969.425 1456.46 Q972.619 1459.14 972.619 1463.63 Q972.619 1465.76 971.809 1467.68 Q971.022 1469.58 968.915 1472.17 Q968.337 1472.85 965.235 1476.06 Q962.133 1479.26 956.485 1485.02 Z\" fill=\"#000000\" fill-rule=\"nonzero\" fill-opacity=\"1\" /><path clip-path=\"url(#clip100)\" d=\"M982.619 1483.08 L987.503 1483.08 L987.503 1488.96 L982.619 1488.96 L982.619 1483.08 Z\" fill=\"#000000\" fill-rule=\"nonzero\" fill-opacity=\"1\" /><path clip-path=\"url(#clip100)\" d=\"M1007.69 1457.48 Q1004.08 1457.48 1002.25 1461.04 Q1000.44 1464.58 1000.44 1471.71 Q1000.44 1478.82 1002.25 1482.38 Q1004.08 1485.92 1007.69 1485.92 Q1011.32 1485.92 1013.13 1482.38 Q1014.96 1478.82 1014.96 1471.71 Q1014.96 1464.58 1013.13 1461.04 Q1011.32 1457.48 1007.69 1457.48 M1007.69 1453.77 Q1013.5 1453.77 1016.55 1458.38 Q1019.63 1462.96 1019.63 1471.71 Q1019.63 1480.44 1016.55 1485.04 Q1013.5 1489.63 1007.69 1489.63 Q1001.88 1489.63 998.799 1485.04 Q995.744 1480.44 995.744 1471.71 Q995.744 1462.96 998.799 1458.38 Q1001.88 1453.77 1007.69 1453.77 Z\" fill=\"#000000\" fill-rule=\"nonzero\" fill-opacity=\"1\" /><path clip-path=\"url(#clip100)\" d=\"M1056.02 1463.49 L1045.44 1474.12 L1056.02 1484.7 L1053.27 1487.5 L1042.64 1476.87 L1032.02 1487.5 L1029.29 1484.7 L1039.84 1474.12 L1029.29 1463.49 L1032.02 1460.69 L1042.64 1471.32 L1053.27 1460.69 L1056.02 1463.49 Z\" fill=\"#000000\" fill-rule=\"nonzero\" fill-opacity=\"1\" /><path clip-path=\"url(#clip100)\" d=\"M1068.38 1485.02 L1076.02 1485.02 L1076.02 1458.66 L1067.71 1460.32 L1067.71 1456.06 L1075.97 1454.4 L1080.65 1454.4 L1080.65 1485.02 L1088.29 1485.02 L1088.29 1488.96 L1068.38 1488.96 L1068.38 1485.02 Z\" fill=\"#000000\" fill-rule=\"nonzero\" fill-opacity=\"1\" /><path clip-path=\"url(#clip100)\" d=\"M1107.73 1457.48 Q1104.12 1457.48 1102.29 1461.04 Q1100.49 1464.58 1100.49 1471.71 Q1100.49 1478.82 1102.29 1482.38 Q1104.12 1485.92 1107.73 1485.92 Q1111.37 1485.92 1113.17 1482.38 Q1115 1478.82 1115 1471.71 Q1115 1464.58 1113.17 1461.04 Q1111.37 1457.48 1107.73 1457.48 M1107.73 1453.77 Q1113.54 1453.77 1116.6 1458.38 Q1119.68 1462.96 1119.68 1471.71 Q1119.68 1480.44 1116.6 1485.04 Q1113.54 1489.63 1107.73 1489.63 Q1101.92 1489.63 1098.85 1485.04 Q1095.79 1480.44 1095.79 1471.71 Q1095.79 1462.96 1098.85 1458.38 Q1101.92 1453.77 1107.73 1453.77 Z\" fill=\"#000000\" fill-rule=\"nonzero\" fill-opacity=\"1\" /><path clip-path=\"url(#clip100)\" d=\"M1132.35 1436.78 L1122.76 1451.77 L1132.35 1451.77 L1132.35 1436.78 M1131.36 1433.47 L1136.14 1433.47 L1136.14 1451.77 L1140.14 1451.77 L1140.14 1454.93 L1136.14 1454.93 L1136.14 1461.55 L1132.35 1461.55 L1132.35 1454.93 L1119.68 1454.93 L1119.68 1451.26 L1131.36 1433.47 Z\" fill=\"#000000\" fill-rule=\"nonzero\" fill-opacity=\"1\" /><path clip-path=\"url(#clip100)\" d=\"M1413.04 1470.32 Q1416.4 1471.04 1418.27 1473.31 Q1420.17 1475.58 1420.17 1478.91 Q1420.17 1484.03 1416.65 1486.83 Q1413.13 1489.63 1406.65 1489.63 Q1404.48 1489.63 1402.16 1489.19 Q1399.87 1488.77 1397.42 1487.91 L1397.42 1483.4 Q1399.36 1484.54 1401.68 1485.11 Q1403.99 1485.69 1406.51 1485.69 Q1410.91 1485.69 1413.2 1483.96 Q1415.52 1482.22 1415.52 1478.91 Q1415.52 1475.85 1413.37 1474.14 Q1411.24 1472.41 1407.42 1472.41 L1403.39 1472.41 L1403.39 1468.56 L1407.6 1468.56 Q1411.05 1468.56 1412.88 1467.2 Q1414.71 1465.81 1414.71 1463.22 Q1414.71 1460.55 1412.81 1459.14 Q1410.94 1457.71 1407.42 1457.71 Q1405.5 1457.71 1403.3 1458.12 Q1401.1 1458.54 1398.46 1459.42 L1398.46 1455.25 Q1401.12 1454.51 1403.44 1454.14 Q1405.77 1453.77 1407.83 1453.77 Q1413.16 1453.77 1416.26 1456.2 Q1419.36 1458.61 1419.36 1462.73 Q1419.36 1465.6 1417.72 1467.59 Q1416.07 1469.56 1413.04 1470.32 Z\" fill=\"#000000\" fill-rule=\"nonzero\" fill-opacity=\"1\" /><path clip-path=\"url(#clip100)\" d=\"M1429.04 1483.08 L1433.92 1483.08 L1433.92 1488.96 L1429.04 1488.96 L1429.04 1483.08 Z\" fill=\"#000000\" fill-rule=\"nonzero\" fill-opacity=\"1\" /><path clip-path=\"url(#clip100)\" d=\"M1454.11 1457.48 Q1450.5 1457.48 1448.67 1461.04 Q1446.86 1464.58 1446.86 1471.71 Q1446.86 1478.82 1448.67 1482.38 Q1450.5 1485.92 1454.11 1485.92 Q1457.74 1485.92 1459.55 1482.38 Q1461.38 1478.82 1461.38 1471.71 Q1461.38 1464.58 1459.55 1461.04 Q1457.74 1457.48 1454.11 1457.48 M1454.11 1453.77 Q1459.92 1453.77 1462.97 1458.38 Q1466.05 1462.96 1466.05 1471.71 Q1466.05 1480.44 1462.97 1485.04 Q1459.92 1489.63 1454.11 1489.63 Q1448.3 1489.63 1445.22 1485.04 Q1442.16 1480.44 1442.16 1471.71 Q1442.16 1462.96 1445.22 1458.38 Q1448.3 1453.77 1454.11 1453.77 Z\" fill=\"#000000\" fill-rule=\"nonzero\" fill-opacity=\"1\" /><path clip-path=\"url(#clip100)\" d=\"M1502.44 1463.49 L1491.86 1474.12 L1502.44 1484.7 L1499.69 1487.5 L1489.06 1476.87 L1478.44 1487.5 L1475.7 1484.7 L1486.26 1474.12 L1475.7 1463.49 L1478.44 1460.69 L1489.06 1471.32 L1499.69 1460.69 L1502.44 1463.49 Z\" fill=\"#000000\" fill-rule=\"nonzero\" fill-opacity=\"1\" /><path clip-path=\"url(#clip100)\" d=\"M1514.8 1485.02 L1522.44 1485.02 L1522.44 1458.66 L1514.13 1460.32 L1514.13 1456.06 L1522.39 1454.4 L1527.07 1454.4 L1527.07 1485.02 L1534.71 1485.02 L1534.71 1488.96 L1514.8 1488.96 L1514.8 1485.02 Z\" fill=\"#000000\" fill-rule=\"nonzero\" fill-opacity=\"1\" /><path clip-path=\"url(#clip100)\" d=\"M1554.15 1457.48 Q1550.54 1457.48 1548.71 1461.04 Q1546.91 1464.58 1546.91 1471.71 Q1546.91 1478.82 1548.71 1482.38 Q1550.54 1485.92 1554.15 1485.92 Q1557.79 1485.92 1559.59 1482.38 Q1561.42 1478.82 1561.42 1471.71 Q1561.42 1464.58 1559.59 1461.04 Q1557.79 1457.48 1554.15 1457.48 M1554.15 1453.77 Q1559.96 1453.77 1563.02 1458.38 Q1566.1 1462.96 1566.1 1471.71 Q1566.1 1480.44 1563.02 1485.04 Q1559.96 1489.63 1554.15 1489.63 Q1548.34 1489.63 1545.26 1485.04 Q1542.21 1480.44 1542.21 1471.71 Q1542.21 1462.96 1545.26 1458.38 Q1548.34 1453.77 1554.15 1453.77 Z\" fill=\"#000000\" fill-rule=\"nonzero\" fill-opacity=\"1\" /><path clip-path=\"url(#clip100)\" d=\"M1578.77 1436.78 L1569.18 1451.77 L1578.77 1451.77 L1578.77 1436.78 M1577.78 1433.47 L1582.55 1433.47 L1582.55 1451.77 L1586.56 1451.77 L1586.56 1454.93 L1582.55 1454.93 L1582.55 1461.55 L1578.77 1461.55 L1578.77 1454.93 L1566.1 1454.93 L1566.1 1451.26 L1577.78 1433.47 Z\" fill=\"#000000\" fill-rule=\"nonzero\" fill-opacity=\"1\" /><path clip-path=\"url(#clip100)\" d=\"M1858.86 1458.47 L1847.05 1476.92 L1858.86 1476.92 L1858.86 1458.47 M1857.63 1454.4 L1863.51 1454.4 L1863.51 1476.92 L1868.44 1476.92 L1868.44 1480.81 L1863.51 1480.81 L1863.51 1488.96 L1858.86 1488.96 L1858.86 1480.81 L1843.26 1480.81 L1843.26 1476.29 L1857.63 1454.4 Z\" fill=\"#000000\" fill-rule=\"nonzero\" fill-opacity=\"1\" /><path clip-path=\"url(#clip100)\" d=\"M1876.17 1483.08 L1881.06 1483.08 L1881.06 1488.96 L1876.17 1488.96 L1876.17 1483.08 Z\" fill=\"#000000\" fill-rule=\"nonzero\" fill-opacity=\"1\" /><path clip-path=\"url(#clip100)\" d=\"M1901.24 1457.48 Q1897.63 1457.48 1895.8 1461.04 Q1894 1464.58 1894 1471.71 Q1894 1478.82 1895.8 1482.38 Q1897.63 1485.92 1901.24 1485.92 Q1904.88 1485.92 1906.68 1482.38 Q1908.51 1478.82 1908.51 1471.71 Q1908.51 1464.58 1906.68 1461.04 Q1904.88 1457.48 1901.24 1457.48 M1901.24 1453.77 Q1907.05 1453.77 1910.11 1458.38 Q1913.19 1462.96 1913.19 1471.71 Q1913.19 1480.44 1910.11 1485.04 Q1907.05 1489.63 1901.24 1489.63 Q1895.43 1489.63 1892.35 1485.04 Q1889.3 1480.44 1889.3 1471.71 Q1889.3 1462.96 1892.35 1458.38 Q1895.43 1453.77 1901.24 1453.77 Z\" fill=\"#000000\" fill-rule=\"nonzero\" fill-opacity=\"1\" /><path clip-path=\"url(#clip100)\" d=\"M1949.58 1463.49 L1939 1474.12 L1949.58 1484.7 L1946.82 1487.5 L1936.2 1476.87 L1925.57 1487.5 L1922.84 1484.7 L1933.4 1474.12 L1922.84 1463.49 L1925.57 1460.69 L1936.2 1471.32 L1946.82 1460.69 L1949.58 1463.49 Z\" fill=\"#000000\" fill-rule=\"nonzero\" fill-opacity=\"1\" /><path clip-path=\"url(#clip100)\" d=\"M1961.94 1485.02 L1969.58 1485.02 L1969.58 1458.66 L1961.27 1460.32 L1961.27 1456.06 L1969.53 1454.4 L1974.21 1454.4 L1974.21 1485.02 L1981.84 1485.02 L1981.84 1488.96 L1961.94 1488.96 L1961.94 1485.02 Z\" fill=\"#000000\" fill-rule=\"nonzero\" fill-opacity=\"1\" /><path clip-path=\"url(#clip100)\" d=\"M2001.29 1457.48 Q1997.68 1457.48 1995.85 1461.04 Q1994.04 1464.58 1994.04 1471.71 Q1994.04 1478.82 1995.85 1482.38 Q1997.68 1485.92 2001.29 1485.92 Q2004.92 1485.92 2006.73 1482.38 Q2008.56 1478.82 2008.56 1471.71 Q2008.56 1464.58 2006.73 1461.04 Q2004.92 1457.48 2001.29 1457.48 M2001.29 1453.77 Q2007.1 1453.77 2010.15 1458.38 Q2013.23 1462.96 2013.23 1471.71 Q2013.23 1480.44 2010.15 1485.04 Q2007.1 1489.63 2001.29 1489.63 Q1995.48 1489.63 1992.4 1485.04 Q1989.34 1480.44 1989.34 1471.71 Q1989.34 1462.96 1992.4 1458.38 Q1995.48 1453.77 2001.29 1453.77 Z\" fill=\"#000000\" fill-rule=\"nonzero\" fill-opacity=\"1\" /><path clip-path=\"url(#clip100)\" d=\"M2025.91 1436.78 L2016.32 1451.77 L2025.91 1451.77 L2025.91 1436.78 M2024.91 1433.47 L2029.69 1433.47 L2029.69 1451.77 L2033.7 1451.77 L2033.7 1454.93 L2029.69 1454.93 L2029.69 1461.55 L2025.91 1461.55 L2025.91 1454.93 L2013.23 1454.93 L2013.23 1451.26 L2024.91 1433.47 Z\" fill=\"#000000\" fill-rule=\"nonzero\" fill-opacity=\"1\" /><path clip-path=\"url(#clip100)\" d=\"M1104.19 1526.67 L1110.69 1526.67 L1120.68 1566.83 L1130.64 1526.67 L1137.87 1526.67 L1147.86 1566.83 L1157.83 1526.67 L1164.35 1526.67 L1152.41 1574.19 L1144.33 1574.19 L1134.3 1532.94 L1124.18 1574.19 L1116.1 1574.19 L1104.19 1526.67 Z\" fill=\"#000000\" fill-rule=\"nonzero\" fill-opacity=\"1\" /><path clip-path=\"url(#clip100)\" d=\"M1199.3 1554.9 L1199.3 1557.76 L1172.37 1557.76 Q1172.75 1563.81 1176 1566.99 Q1179.28 1570.14 1185.1 1570.14 Q1188.48 1570.14 1191.63 1569.32 Q1194.81 1568.49 1197.93 1566.83 L1197.93 1572.37 Q1194.78 1573.71 1191.47 1574.41 Q1188.16 1575.11 1184.75 1575.11 Q1176.22 1575.11 1171.22 1570.14 Q1166.26 1565.18 1166.26 1556.71 Q1166.26 1547.96 1170.97 1542.83 Q1175.71 1537.68 1183.73 1537.68 Q1190.93 1537.68 1195.1 1542.33 Q1199.3 1546.94 1199.3 1554.9 M1193.44 1553.18 Q1193.38 1548.37 1190.74 1545.51 Q1188.13 1542.64 1183.8 1542.64 Q1178.9 1542.64 1175.94 1545.41 Q1173.01 1548.18 1172.56 1553.21 L1193.44 1553.18 Z\" fill=\"#000000\" fill-rule=\"nonzero\" fill-opacity=\"1\" /><path clip-path=\"url(#clip100)\" d=\"M1225.11 1556.27 Q1218.01 1556.27 1215.28 1557.89 Q1212.54 1559.51 1212.54 1563.43 Q1212.54 1566.55 1214.58 1568.39 Q1216.64 1570.21 1220.18 1570.21 Q1225.05 1570.21 1227.98 1566.77 Q1230.94 1563.3 1230.94 1557.57 L1230.94 1556.27 L1225.11 1556.27 M1236.79 1553.85 L1236.79 1574.19 L1230.94 1574.19 L1230.94 1568.77 Q1228.93 1572.02 1225.94 1573.58 Q1222.95 1575.11 1218.62 1575.11 Q1213.14 1575.11 1209.9 1572.05 Q1206.68 1568.97 1206.68 1563.81 Q1206.68 1557.79 1210.69 1554.74 Q1214.73 1551.68 1222.72 1551.68 L1230.94 1551.68 L1230.94 1551.11 Q1230.94 1547.07 1228.26 1544.87 Q1225.62 1542.64 1220.81 1542.64 Q1217.76 1542.64 1214.86 1543.38 Q1211.97 1544.11 1209.29 1545.57 L1209.29 1540.16 Q1212.51 1538.92 1215.53 1538.31 Q1218.55 1537.68 1221.42 1537.68 Q1229.15 1537.68 1232.97 1541.69 Q1236.79 1545.7 1236.79 1553.85 Z\" fill=\"#000000\" fill-rule=\"nonzero\" fill-opacity=\"1\" /><path clip-path=\"url(#clip100)\" d=\"M1248.85 1524.66 L1254.71 1524.66 L1254.71 1574.19 L1248.85 1574.19 L1248.85 1524.66 Z\" fill=\"#000000\" fill-rule=\"nonzero\" fill-opacity=\"1\" /><path clip-path=\"url(#clip100)\" d=\"M1272.76 1528.42 L1272.76 1538.54 L1284.82 1538.54 L1284.82 1543.09 L1272.76 1543.09 L1272.76 1562.44 Q1272.76 1566.8 1273.94 1568.04 Q1275.15 1569.28 1278.81 1569.28 L1284.82 1569.28 L1284.82 1574.19 L1278.81 1574.19 Q1272.03 1574.19 1269.45 1571.67 Q1266.87 1569.12 1266.87 1562.44 L1266.87 1543.09 L1262.57 1543.09 L1262.57 1538.54 L1266.87 1538.54 L1266.87 1528.42 L1272.76 1528.42 Z\" fill=\"#000000\" fill-rule=\"nonzero\" fill-opacity=\"1\" /><path clip-path=\"url(#clip100)\" d=\"M1322.16 1552.67 L1322.16 1574.19 L1316.3 1574.19 L1316.3 1552.86 Q1316.3 1547.8 1314.33 1545.29 Q1312.35 1542.77 1308.41 1542.77 Q1303.66 1542.77 1300.93 1545.79 Q1298.19 1548.82 1298.19 1554.04 L1298.19 1574.19 L1292.3 1574.19 L1292.3 1524.66 L1298.19 1524.66 L1298.19 1544.08 Q1300.29 1540.86 1303.12 1539.27 Q1305.99 1537.68 1309.71 1537.68 Q1315.85 1537.68 1319 1541.5 Q1322.16 1545.29 1322.16 1552.67 Z\" fill=\"#000000\" fill-rule=\"nonzero\" fill-opacity=\"1\" /><path clip-path=\"url(#clip100)\" d=\"M1354.08 1526.67 L1360.54 1526.67 L1360.54 1555.53 Q1360.54 1563.17 1363.31 1566.55 Q1366.08 1569.89 1372.29 1569.89 Q1378.46 1569.89 1381.23 1566.55 Q1384 1563.17 1384 1555.53 L1384 1526.67 L1390.46 1526.67 L1390.46 1556.33 Q1390.46 1565.62 1385.84 1570.37 Q1381.26 1575.11 1372.29 1575.11 Q1363.28 1575.11 1358.66 1570.37 Q1354.08 1565.62 1354.08 1556.33 L1354.08 1526.67 Z\" fill=\"#000000\" fill-rule=\"nonzero\" fill-opacity=\"1\" /><path clip-path=\"url(#clip100)\" d=\"M1431.01 1528.23 L1431.01 1534.5 Q1427.35 1532.74 1424.1 1531.89 Q1420.86 1531.03 1417.83 1531.03 Q1412.58 1531.03 1409.72 1533.06 Q1406.88 1535.1 1406.88 1538.86 Q1406.88 1542.01 1408.76 1543.63 Q1410.67 1545.22 1415.95 1546.21 L1419.84 1547 Q1427.03 1548.37 1430.44 1551.84 Q1433.87 1555.28 1433.87 1561.07 Q1433.87 1567.98 1429.23 1571.54 Q1424.61 1575.11 1415.67 1575.11 Q1412.29 1575.11 1408.47 1574.34 Q1404.69 1573.58 1400.61 1572.08 L1400.61 1565.46 Q1404.53 1567.66 1408.28 1568.77 Q1412.04 1569.89 1415.67 1569.89 Q1421.17 1569.89 1424.17 1567.72 Q1427.16 1565.56 1427.16 1561.55 Q1427.16 1558.05 1424.99 1556.08 Q1422.86 1554.1 1417.96 1553.11 L1414.04 1552.35 Q1406.85 1550.92 1403.64 1547.86 Q1400.42 1544.81 1400.42 1539.37 Q1400.42 1533.06 1404.85 1529.43 Q1409.3 1525.81 1417.1 1525.81 Q1420.44 1525.81 1423.91 1526.41 Q1427.38 1527.02 1431.01 1528.23 Z\" fill=\"#000000\" fill-rule=\"nonzero\" fill-opacity=\"1\" /><path clip-path=\"url(#clip100)\" d=\"M1450.33 1531.95 L1450.33 1568.9 L1458.1 1568.9 Q1467.93 1568.9 1472.48 1564.45 Q1477.07 1559.99 1477.07 1550.38 Q1477.07 1540.83 1472.48 1536.4 Q1467.93 1531.95 1458.1 1531.95 L1450.33 1531.95 M1443.9 1526.67 L1457.11 1526.67 Q1470.92 1526.67 1477.38 1532.43 Q1483.84 1538.16 1483.84 1550.38 Q1483.84 1562.66 1477.35 1568.42 Q1470.86 1574.19 1457.11 1574.19 L1443.9 1574.19 L1443.9 1526.67 Z\" fill=\"#000000\" fill-rule=\"nonzero\" fill-opacity=\"1\" /><polyline clip-path=\"url(#clip102)\" style=\"stroke:#000000; stroke-linecap:round; stroke-linejoin:round; stroke-width:2; stroke-opacity:0.1; fill:none\" points=\"235.283,1189.74 2352.76,1189.74 \"/>\n",
       "<polyline clip-path=\"url(#clip102)\" style=\"stroke:#000000; stroke-linecap:round; stroke-linejoin:round; stroke-width:2; stroke-opacity:0.1; fill:none\" points=\"235.283,940.709 2352.76,940.709 \"/>\n",
       "<polyline clip-path=\"url(#clip102)\" style=\"stroke:#000000; stroke-linecap:round; stroke-linejoin:round; stroke-width:2; stroke-opacity:0.1; fill:none\" points=\"235.283,691.678 2352.76,691.678 \"/>\n",
       "<polyline clip-path=\"url(#clip102)\" style=\"stroke:#000000; stroke-linecap:round; stroke-linejoin:round; stroke-width:2; stroke-opacity:0.1; fill:none\" points=\"235.283,442.647 2352.76,442.647 \"/>\n",
       "<polyline clip-path=\"url(#clip102)\" style=\"stroke:#000000; stroke-linecap:round; stroke-linejoin:round; stroke-width:2; stroke-opacity:0.1; fill:none\" points=\"235.283,193.616 2352.76,193.616 \"/>\n",
       "<polyline clip-path=\"url(#clip100)\" style=\"stroke:#000000; stroke-linecap:round; stroke-linejoin:round; stroke-width:4; stroke-opacity:1; fill:none\" points=\"235.283,1410.9 235.283,47.2441 \"/>\n",
       "<polyline clip-path=\"url(#clip100)\" style=\"stroke:#000000; stroke-linecap:round; stroke-linejoin:round; stroke-width:4; stroke-opacity:1; fill:none\" points=\"235.283,1189.74 254.18,1189.74 \"/>\n",
       "<polyline clip-path=\"url(#clip100)\" style=\"stroke:#000000; stroke-linecap:round; stroke-linejoin:round; stroke-width:4; stroke-opacity:1; fill:none\" points=\"235.283,940.709 254.18,940.709 \"/>\n",
       "<polyline clip-path=\"url(#clip100)\" style=\"stroke:#000000; stroke-linecap:round; stroke-linejoin:round; stroke-width:4; stroke-opacity:1; fill:none\" points=\"235.283,691.678 254.18,691.678 \"/>\n",
       "<polyline clip-path=\"url(#clip100)\" style=\"stroke:#000000; stroke-linecap:round; stroke-linejoin:round; stroke-width:4; stroke-opacity:1; fill:none\" points=\"235.283,442.647 254.18,442.647 \"/>\n",
       "<polyline clip-path=\"url(#clip100)\" style=\"stroke:#000000; stroke-linecap:round; stroke-linejoin:round; stroke-width:4; stroke-opacity:1; fill:none\" points=\"235.283,193.616 254.18,193.616 \"/>\n",
       "<path clip-path=\"url(#clip100)\" d=\"M121.043 1203.08 L137.362 1203.08 L137.362 1207.02 L115.418 1207.02 L115.418 1203.08 Q118.08 1200.33 122.663 1195.7 Q127.269 1191.05 128.45 1189.7 Q130.695 1187.18 131.575 1185.45 Q132.478 1183.69 132.478 1182 Q132.478 1179.24 130.533 1177.51 Q128.612 1175.77 125.51 1175.77 Q123.311 1175.77 120.857 1176.53 Q118.427 1177.3 115.649 1178.85 L115.649 1174.13 Q118.473 1172.99 120.927 1172.41 Q123.38 1171.83 125.418 1171.83 Q130.788 1171.83 133.982 1174.52 Q137.177 1177.2 137.177 1181.7 Q137.177 1183.83 136.367 1185.75 Q135.579 1187.64 133.473 1190.24 Q132.894 1190.91 129.792 1194.13 Q126.691 1197.32 121.043 1203.08 Z\" fill=\"#000000\" fill-rule=\"nonzero\" fill-opacity=\"1\" /><path clip-path=\"url(#clip100)\" d=\"M157.177 1175.54 Q153.566 1175.54 151.737 1179.1 Q149.931 1182.64 149.931 1189.77 Q149.931 1196.88 151.737 1200.45 Q153.566 1203.99 157.177 1203.99 Q160.811 1203.99 162.616 1200.45 Q164.445 1196.88 164.445 1189.77 Q164.445 1182.64 162.616 1179.1 Q160.811 1175.54 157.177 1175.54 M157.177 1171.83 Q162.987 1171.83 166.042 1176.44 Q169.121 1181.02 169.121 1189.77 Q169.121 1198.5 166.042 1203.11 Q162.987 1207.69 157.177 1207.69 Q151.366 1207.69 148.288 1203.11 Q145.232 1198.5 145.232 1189.77 Q145.232 1181.02 148.288 1176.44 Q151.366 1171.83 157.177 1171.83 Z\" fill=\"#000000\" fill-rule=\"nonzero\" fill-opacity=\"1\" /><path clip-path=\"url(#clip100)\" d=\"M187.338 1175.54 Q183.727 1175.54 181.899 1179.1 Q180.093 1182.64 180.093 1189.77 Q180.093 1196.88 181.899 1200.45 Q183.727 1203.99 187.338 1203.99 Q190.973 1203.99 192.778 1200.45 Q194.607 1196.88 194.607 1189.77 Q194.607 1182.64 192.778 1179.1 Q190.973 1175.54 187.338 1175.54 M187.338 1171.83 Q193.149 1171.83 196.204 1176.44 Q199.283 1181.02 199.283 1189.77 Q199.283 1198.5 196.204 1203.11 Q193.149 1207.69 187.338 1207.69 Q181.528 1207.69 178.45 1203.11 Q175.394 1198.5 175.394 1189.77 Q175.394 1181.02 178.45 1176.44 Q181.528 1171.83 187.338 1171.83 Z\" fill=\"#000000\" fill-rule=\"nonzero\" fill-opacity=\"1\" /><path clip-path=\"url(#clip100)\" d=\"M131.181 939.355 Q134.538 940.072 136.413 942.341 Q138.311 944.609 138.311 947.942 Q138.311 953.058 134.792 955.859 Q131.274 958.66 124.793 958.66 Q122.617 958.66 120.302 958.22 Q118.01 957.803 115.556 956.947 L115.556 952.433 Q117.501 953.567 119.816 954.146 Q122.13 954.725 124.654 954.725 Q129.052 954.725 131.343 952.989 Q133.658 951.253 133.658 947.942 Q133.658 944.887 131.505 943.174 Q129.376 941.438 125.556 941.438 L121.529 941.438 L121.529 937.595 L125.742 937.595 Q129.191 937.595 131.019 936.23 Q132.848 934.841 132.848 932.248 Q132.848 929.586 130.95 928.174 Q129.075 926.739 125.556 926.739 Q123.635 926.739 121.436 927.155 Q119.237 927.572 116.598 928.452 L116.598 924.285 Q119.26 923.544 121.575 923.174 Q123.913 922.804 125.973 922.804 Q131.297 922.804 134.399 925.234 Q137.501 927.642 137.501 931.762 Q137.501 934.632 135.857 936.623 Q134.214 938.591 131.181 939.355 Z\" fill=\"#000000\" fill-rule=\"nonzero\" fill-opacity=\"1\" /><path clip-path=\"url(#clip100)\" d=\"M157.177 926.507 Q153.566 926.507 151.737 930.072 Q149.931 933.614 149.931 940.743 Q149.931 947.85 151.737 951.415 Q153.566 954.956 157.177 954.956 Q160.811 954.956 162.616 951.415 Q164.445 947.85 164.445 940.743 Q164.445 933.614 162.616 930.072 Q160.811 926.507 157.177 926.507 M157.177 922.804 Q162.987 922.804 166.042 927.41 Q169.121 931.993 169.121 940.743 Q169.121 949.47 166.042 954.077 Q162.987 958.66 157.177 958.66 Q151.366 958.66 148.288 954.077 Q145.232 949.47 145.232 940.743 Q145.232 931.993 148.288 927.41 Q151.366 922.804 157.177 922.804 Z\" fill=\"#000000\" fill-rule=\"nonzero\" fill-opacity=\"1\" /><path clip-path=\"url(#clip100)\" d=\"M187.338 926.507 Q183.727 926.507 181.899 930.072 Q180.093 933.614 180.093 940.743 Q180.093 947.85 181.899 951.415 Q183.727 954.956 187.338 954.956 Q190.973 954.956 192.778 951.415 Q194.607 947.85 194.607 940.743 Q194.607 933.614 192.778 930.072 Q190.973 926.507 187.338 926.507 M187.338 922.804 Q193.149 922.804 196.204 927.41 Q199.283 931.993 199.283 940.743 Q199.283 949.47 196.204 954.077 Q193.149 958.66 187.338 958.66 Q181.528 958.66 178.45 954.077 Q175.394 949.47 175.394 940.743 Q175.394 931.993 178.45 927.41 Q181.528 922.804 187.338 922.804 Z\" fill=\"#000000\" fill-rule=\"nonzero\" fill-opacity=\"1\" /><path clip-path=\"url(#clip100)\" d=\"M129.862 678.472 L118.056 696.921 L129.862 696.921 L129.862 678.472 M128.635 674.398 L134.515 674.398 L134.515 696.921 L139.445 696.921 L139.445 700.81 L134.515 700.81 L134.515 708.958 L129.862 708.958 L129.862 700.81 L114.26 700.81 L114.26 696.296 L128.635 674.398 Z\" fill=\"#000000\" fill-rule=\"nonzero\" fill-opacity=\"1\" /><path clip-path=\"url(#clip100)\" d=\"M157.177 677.476 Q153.566 677.476 151.737 681.041 Q149.931 684.583 149.931 691.712 Q149.931 698.819 151.737 702.384 Q153.566 705.925 157.177 705.925 Q160.811 705.925 162.616 702.384 Q164.445 698.819 164.445 691.712 Q164.445 684.583 162.616 681.041 Q160.811 677.476 157.177 677.476 M157.177 673.773 Q162.987 673.773 166.042 678.379 Q169.121 682.962 169.121 691.712 Q169.121 700.439 166.042 705.046 Q162.987 709.629 157.177 709.629 Q151.366 709.629 148.288 705.046 Q145.232 700.439 145.232 691.712 Q145.232 682.962 148.288 678.379 Q151.366 673.773 157.177 673.773 Z\" fill=\"#000000\" fill-rule=\"nonzero\" fill-opacity=\"1\" /><path clip-path=\"url(#clip100)\" d=\"M187.338 677.476 Q183.727 677.476 181.899 681.041 Q180.093 684.583 180.093 691.712 Q180.093 698.819 181.899 702.384 Q183.727 705.925 187.338 705.925 Q190.973 705.925 192.778 702.384 Q194.607 698.819 194.607 691.712 Q194.607 684.583 192.778 681.041 Q190.973 677.476 187.338 677.476 M187.338 673.773 Q193.149 673.773 196.204 678.379 Q199.283 682.962 199.283 691.712 Q199.283 700.439 196.204 705.046 Q193.149 709.629 187.338 709.629 Q181.528 709.629 178.45 705.046 Q175.394 700.439 175.394 691.712 Q175.394 682.962 178.45 678.379 Q181.528 673.773 187.338 673.773 Z\" fill=\"#000000\" fill-rule=\"nonzero\" fill-opacity=\"1\" /><path clip-path=\"url(#clip100)\" d=\"M117.061 425.367 L135.417 425.367 L135.417 429.302 L121.343 429.302 L121.343 437.774 Q122.362 437.427 123.38 437.265 Q124.399 437.08 125.418 437.08 Q131.205 437.08 134.584 440.251 Q137.964 443.422 137.964 448.839 Q137.964 454.417 134.492 457.519 Q131.019 460.598 124.7 460.598 Q122.524 460.598 120.255 460.228 Q118.01 459.857 115.603 459.117 L115.603 454.417 Q117.686 455.552 119.908 456.107 Q122.13 456.663 124.607 456.663 Q128.612 456.663 130.95 454.556 Q133.288 452.45 133.288 448.839 Q133.288 445.228 130.95 443.121 Q128.612 441.015 124.607 441.015 Q122.732 441.015 120.857 441.431 Q119.006 441.848 117.061 442.728 L117.061 425.367 Z\" fill=\"#000000\" fill-rule=\"nonzero\" fill-opacity=\"1\" /><path clip-path=\"url(#clip100)\" d=\"M157.177 428.445 Q153.566 428.445 151.737 432.01 Q149.931 435.552 149.931 442.681 Q149.931 449.788 151.737 453.353 Q153.566 456.894 157.177 456.894 Q160.811 456.894 162.616 453.353 Q164.445 449.788 164.445 442.681 Q164.445 435.552 162.616 432.01 Q160.811 428.445 157.177 428.445 M157.177 424.742 Q162.987 424.742 166.042 429.348 Q169.121 433.931 169.121 442.681 Q169.121 451.408 166.042 456.015 Q162.987 460.598 157.177 460.598 Q151.366 460.598 148.288 456.015 Q145.232 451.408 145.232 442.681 Q145.232 433.931 148.288 429.348 Q151.366 424.742 157.177 424.742 Z\" fill=\"#000000\" fill-rule=\"nonzero\" fill-opacity=\"1\" /><path clip-path=\"url(#clip100)\" d=\"M187.338 428.445 Q183.727 428.445 181.899 432.01 Q180.093 435.552 180.093 442.681 Q180.093 449.788 181.899 453.353 Q183.727 456.894 187.338 456.894 Q190.973 456.894 192.778 453.353 Q194.607 449.788 194.607 442.681 Q194.607 435.552 192.778 432.01 Q190.973 428.445 187.338 428.445 M187.338 424.742 Q193.149 424.742 196.204 429.348 Q199.283 433.931 199.283 442.681 Q199.283 451.408 196.204 456.015 Q193.149 460.598 187.338 460.598 Q181.528 460.598 178.45 456.015 Q175.394 451.408 175.394 442.681 Q175.394 433.931 178.45 429.348 Q181.528 424.742 187.338 424.742 Z\" fill=\"#000000\" fill-rule=\"nonzero\" fill-opacity=\"1\" /><path clip-path=\"url(#clip100)\" d=\"M127.593 191.752 Q124.445 191.752 122.593 193.905 Q120.765 196.058 120.765 199.808 Q120.765 203.535 122.593 205.711 Q124.445 207.863 127.593 207.863 Q130.742 207.863 132.57 205.711 Q134.422 203.535 134.422 199.808 Q134.422 196.058 132.57 193.905 Q130.742 191.752 127.593 191.752 M136.876 177.1 L136.876 181.359 Q135.117 180.525 133.311 180.086 Q131.529 179.646 129.769 179.646 Q125.14 179.646 122.686 182.771 Q120.255 185.896 119.908 192.215 Q121.274 190.201 123.334 189.137 Q125.394 188.049 127.871 188.049 Q133.08 188.049 136.089 191.22 Q139.121 194.368 139.121 199.808 Q139.121 205.132 135.973 208.349 Q132.825 211.567 127.593 211.567 Q121.598 211.567 118.427 206.984 Q115.256 202.377 115.256 193.65 Q115.256 185.456 119.144 180.595 Q123.033 175.711 129.584 175.711 Q131.343 175.711 133.126 176.058 Q134.931 176.405 136.876 177.1 Z\" fill=\"#000000\" fill-rule=\"nonzero\" fill-opacity=\"1\" /><path clip-path=\"url(#clip100)\" d=\"M157.177 179.414 Q153.566 179.414 151.737 182.979 Q149.931 186.521 149.931 193.65 Q149.931 200.757 151.737 204.322 Q153.566 207.863 157.177 207.863 Q160.811 207.863 162.616 204.322 Q164.445 200.757 164.445 193.65 Q164.445 186.521 162.616 182.979 Q160.811 179.414 157.177 179.414 M157.177 175.711 Q162.987 175.711 166.042 180.317 Q169.121 184.9 169.121 193.65 Q169.121 202.377 166.042 206.984 Q162.987 211.567 157.177 211.567 Q151.366 211.567 148.288 206.984 Q145.232 202.377 145.232 193.65 Q145.232 184.9 148.288 180.317 Q151.366 175.711 157.177 175.711 Z\" fill=\"#000000\" fill-rule=\"nonzero\" fill-opacity=\"1\" /><path clip-path=\"url(#clip100)\" d=\"M187.338 179.414 Q183.727 179.414 181.899 182.979 Q180.093 186.521 180.093 193.65 Q180.093 200.757 181.899 204.322 Q183.727 207.863 187.338 207.863 Q190.973 207.863 192.778 204.322 Q194.607 200.757 194.607 193.65 Q194.607 186.521 192.778 182.979 Q190.973 179.414 187.338 179.414 M187.338 175.711 Q193.149 175.711 196.204 180.317 Q199.283 184.9 199.283 193.65 Q199.283 202.377 196.204 206.984 Q193.149 211.567 187.338 211.567 Q181.528 211.567 178.45 206.984 Q175.394 202.377 175.394 193.65 Q175.394 184.9 178.45 180.317 Q181.528 175.711 187.338 175.711 Z\" fill=\"#000000\" fill-rule=\"nonzero\" fill-opacity=\"1\" /><path clip-path=\"url(#clip100)\" d=\"M16.4842 906.642 L16.4842 900.181 L45.3526 900.181 Q52.9915 900.181 56.3653 897.411 Q59.7073 894.642 59.7073 888.436 Q59.7073 882.261 56.3653 879.492 Q52.9915 876.723 45.3526 876.723 L16.4842 876.723 L16.4842 870.262 L46.1484 870.262 Q55.4423 870.262 60.1847 874.877 Q64.9272 879.46 64.9272 888.436 Q64.9272 897.443 60.1847 902.058 Q55.4423 906.642 46.1484 906.642 L16.4842 906.642 Z\" fill=\"#000000\" fill-rule=\"nonzero\" fill-opacity=\"1\" /><path clip-path=\"url(#clip100)\" d=\"M18.2347 852.661 L28.3562 852.661 L28.3562 840.598 L32.9077 840.598 L32.9077 852.661 L52.2594 852.661 Q56.6199 852.661 57.8613 851.483 Q59.1026 850.273 59.1026 846.613 L59.1026 840.598 L64.0042 840.598 L64.0042 846.613 Q64.0042 853.393 61.4897 855.971 Q58.9434 858.549 52.2594 858.549 L32.9077 858.549 L32.9077 862.846 L28.3562 862.846 L28.3562 858.549 L18.2347 858.549 L18.2347 852.661 Z\" fill=\"#000000\" fill-rule=\"nonzero\" fill-opacity=\"1\" /><path clip-path=\"url(#clip100)\" d=\"M28.3562 832.895 L28.3562 827.039 L64.0042 827.039 L64.0042 832.895 L28.3562 832.895 M14.479 832.895 L14.479 827.039 L21.895 827.039 L21.895 832.895 L14.479 832.895 Z\" fill=\"#000000\" fill-rule=\"nonzero\" fill-opacity=\"1\" /><path clip-path=\"url(#clip100)\" d=\"M14.479 814.785 L14.479 808.928 L64.0042 808.928 L64.0042 814.785 L14.479 814.785 Z\" fill=\"#000000\" fill-rule=\"nonzero\" fill-opacity=\"1\" /><path clip-path=\"url(#clip100)\" d=\"M28.3562 796.674 L28.3562 790.818 L64.0042 790.818 L64.0042 796.674 L28.3562 796.674 M14.479 796.674 L14.479 790.818 L21.895 790.818 L21.895 796.674 L14.479 796.674 Z\" fill=\"#000000\" fill-rule=\"nonzero\" fill-opacity=\"1\" /><path clip-path=\"url(#clip100)\" d=\"M18.2347 772.771 L28.3562 772.771 L28.3562 760.708 L32.9077 760.708 L32.9077 772.771 L52.2594 772.771 Q56.6199 772.771 57.8613 771.593 Q59.1026 770.384 59.1026 766.724 L59.1026 760.708 L64.0042 760.708 L64.0042 766.724 Q64.0042 773.503 61.4897 776.081 Q58.9434 778.659 52.2594 778.659 L32.9077 778.659 L32.9077 782.956 L28.3562 782.956 L28.3562 778.659 L18.2347 778.659 L18.2347 772.771 Z\" fill=\"#000000\" fill-rule=\"nonzero\" fill-opacity=\"1\" /><path clip-path=\"url(#clip100)\" d=\"M67.3143 738.173 Q73.68 740.656 75.6216 743.011 Q77.5631 745.367 77.5631 749.313 L77.5631 753.992 L72.6615 753.992 L72.6615 750.555 Q72.6615 748.136 71.5157 746.799 Q70.3699 745.462 66.1048 743.839 L63.4312 742.788 L28.3562 757.207 L28.3562 751 L56.238 739.86 L28.3562 728.72 L28.3562 722.514 L67.3143 738.173 Z\" fill=\"#000000\" fill-rule=\"nonzero\" fill-opacity=\"1\" /><path clip-path=\"url(#clip100)\" d=\"M14.5426 679.641 Q21.8632 683.906 29.0246 685.975 Q36.186 688.043 43.5384 688.043 Q50.8908 688.043 58.1159 685.975 Q65.3091 683.874 72.5979 679.641 L72.5979 684.733 Q65.1182 689.508 57.8931 691.895 Q50.668 694.25 43.5384 694.25 Q36.4406 694.25 29.2474 691.895 Q22.0542 689.539 14.5426 684.733 L14.5426 679.641 Z\" fill=\"#000000\" fill-rule=\"nonzero\" fill-opacity=\"1\" /><path clip-path=\"url(#clip100)\" d=\"M49.9359 668.883 L28.3562 668.883 L28.3562 663.026 L49.7131 663.026 Q54.7739 663.026 57.3202 661.053 Q59.8346 659.079 59.8346 655.133 Q59.8346 650.39 56.8109 647.653 Q53.7872 644.884 48.5673 644.884 L28.3562 644.884 L28.3562 639.027 L64.0042 639.027 L64.0042 644.884 L58.5296 644.884 Q61.7762 647.016 63.3676 649.849 Q64.9272 652.65 64.9272 656.374 Q64.9272 662.517 61.1078 665.7 Q57.2883 668.883 49.9359 668.883 M27.4968 654.146 L27.4968 654.146 Z\" fill=\"#000000\" fill-rule=\"nonzero\" fill-opacity=\"1\" /><path clip-path=\"url(#clip100)\" d=\"M18.2347 621.172 L28.3562 621.172 L28.3562 609.109 L32.9077 609.109 L32.9077 621.172 L52.2594 621.172 Q56.6199 621.172 57.8613 619.994 Q59.1026 618.785 59.1026 615.124 L59.1026 609.109 L64.0042 609.109 L64.0042 615.124 Q64.0042 621.904 61.4897 624.482 Q58.9434 627.06 52.2594 627.06 L32.9077 627.06 L32.9077 631.357 L28.3562 631.357 L28.3562 627.06 L18.2347 627.06 L18.2347 621.172 Z\" fill=\"#000000\" fill-rule=\"nonzero\" fill-opacity=\"1\" /><path clip-path=\"url(#clip100)\" d=\"M28.3562 601.406 L28.3562 595.55 L64.0042 595.55 L64.0042 601.406 L28.3562 601.406 M14.479 601.406 L14.479 595.55 L21.895 595.55 L21.895 601.406 L14.479 601.406 Z\" fill=\"#000000\" fill-rule=\"nonzero\" fill-opacity=\"1\" /><path clip-path=\"url(#clip100)\" d=\"M14.479 583.296 L14.479 577.439 L64.0042 577.439 L64.0042 583.296 L14.479 583.296 Z\" fill=\"#000000\" fill-rule=\"nonzero\" fill-opacity=\"1\" /><path clip-path=\"url(#clip100)\" d=\"M14.5426 566.108 L14.5426 561.016 Q22.0542 556.241 29.2474 553.886 Q36.4406 551.499 43.5384 551.499 Q50.668 551.499 57.8931 553.886 Q65.1182 556.241 72.5979 561.016 L72.5979 566.108 Q65.3091 561.875 58.1159 559.806 Q50.8908 557.706 43.5384 557.706 Q36.186 557.706 29.0246 559.806 Q21.8632 561.875 14.5426 566.108 Z\" fill=\"#000000\" fill-rule=\"nonzero\" fill-opacity=\"1\" /><polyline clip-path=\"url(#clip102)\" style=\"stroke:#000000; stroke-linecap:round; stroke-linejoin:round; stroke-width:12; stroke-opacity:1; fill:none\" points=\"295.211,1372.3 315.389,1346.24 335.567,1321.45 355.745,1297.73 375.923,1274.93 396.101,1252.94 416.279,1231.67 436.457,1211.05 456.635,1191 476.813,1171.47 496.991,1152.43 517.169,1133.83 537.347,1115.63 557.525,1097.82 577.702,1080.35 597.88,1063.22 618.058,1046.39 638.236,1029.85 658.414,1013.58 678.592,997.574 698.77,981.809 718.948,966.275 739.126,950.961 759.304,935.857 779.482,920.952 799.66,906.238 819.838,891.706 840.016,877.349 860.194,863.159 880.372,849.131 900.55,835.257 920.727,821.532 940.905,807.951 961.083,794.507 981.261,781.198 1001.44,768.017 1021.62,754.962 1041.8,742.027 1061.97,729.208 1082.15,716.503 1102.33,703.908 1122.51,691.42 1142.68,679.035 1162.86,666.75 1183.04,654.564 1203.22,642.472 1223.4,630.473 1243.57,618.564 1263.75,606.743 1283.93,595.007 1304.11,583.355 1324.29,571.784 1344.46,560.292 1364.64,548.879 1384.82,537.541 1405,526.276 1425.18,515.085 1445.35,503.964 1465.53,492.912 1485.71,481.928 1505.89,471.01 1526.07,460.157 1546.24,449.368 1566.42,438.641 1586.6,427.975 1606.78,417.369 1626.96,406.822 1647.13,396.333 1667.31,385.899 1687.49,375.522 1707.67,365.198 1727.85,354.928 1748.02,344.711 1768.2,334.545 1788.38,324.43 1808.56,314.364 1828.73,304.348 1848.91,294.38 1869.09,284.459 1889.27,274.584 1909.45,264.755 1929.62,254.972 1949.8,245.232 1969.98,235.537 1990.16,225.884 2010.34,216.274 2030.51,206.705 2050.69,197.177 2070.87,187.69 2091.05,178.242 2111.23,168.834 2131.4,159.465 2151.58,150.133 2171.76,140.84 2191.94,131.583 2212.12,122.363 2232.29,113.179 2252.47,104.03 2272.65,94.9168 2292.83,85.838 \"/>\n",
       "<polyline clip-path=\"url(#clip102)\" style=\"stroke:#b0b0b0; stroke-linecap:round; stroke-linejoin:round; stroke-width:12; stroke-opacity:1; fill:none\" stroke-dasharray=\"48, 30\" points=\"330.883,1327.1 347.097,1316.24 363.312,1305.38 379.526,1294.52 395.741,1283.66 411.955,1272.8 428.17,1261.94 444.384,1251.07 460.598,1240.21 476.813,1229.35 493.027,1218.49 509.242,1207.63 525.456,1196.77 541.67,1185.91 557.885,1175.05 574.099,1164.18 590.314,1153.32 606.528,1142.46 622.743,1131.6 638.957,1120.74 655.171,1109.88 671.386,1099.02 687.6,1088.16 703.815,1077.29 720.029,1066.43 736.243,1055.57 752.458,1044.71 768.672,1033.85 784.887,1022.99 801.101,1012.13 817.316,1001.27 833.53,990.404 849.744,979.542 865.959,968.681 882.173,957.82 898.388,946.959 914.602,936.097 930.816,925.236 947.031,914.375 963.245,903.513 979.46,892.652 995.674,881.791 1011.89,870.93 1028.1,860.068 1044.32,849.207 1060.53,838.346 1076.75,827.484 1092.96,816.623 1109.18,805.762 1125.39,794.901 1141.6,784.039 1157.82,773.178 1174.03,762.317 1190.25,751.456 1206.46,740.594 1222.68,729.733 1238.89,718.872 1255.1,708.01 1271.32,697.149 1287.53,686.288 1303.75,675.427 1319.96,664.565 1336.18,653.704 1352.39,642.843 1368.61,631.981 1384.82,621.12 1401.03,610.259 1417.25,599.398 1433.46,588.536 1449.68,577.675 1465.89,566.814 1482.11,555.952 1498.32,545.091 1514.54,534.23 1530.75,523.369 1546.96,512.507 1563.18,501.646 1579.39,490.785 1595.61,479.923 1611.82,469.062 1628.04,458.201 1644.25,447.34 1660.47,436.478 1676.68,425.617 1692.89,414.756 1709.11,403.894 1725.32,393.033 1741.54,382.172 1757.75,371.311 1773.97,360.449 1790.18,349.588 1806.39,338.727 1822.61,327.865 1838.82,317.004 1855.04,306.143 1871.25,295.282 1887.47,284.42 1903.68,273.559 1919.9,262.698 1936.11,251.836 \"/>\n",
       "<polyline clip-path=\"url(#clip102)\" style=\"stroke:#000080; stroke-linecap:round; stroke-linejoin:round; stroke-width:4; stroke-opacity:1; fill:none\" stroke-dasharray=\"16, 10\" points=\"1826.21,1372.3 1826.21,1359.31 1826.21,1346.31 1826.21,1333.32 1826.21,1320.32 1826.21,1307.33 1826.21,1294.34 1826.21,1281.34 1826.21,1268.35 1826.21,1255.35 1826.21,1242.36 1826.21,1229.36 1826.21,1216.37 1826.21,1203.37 1826.21,1190.38 1826.21,1177.38 1826.21,1164.39 1826.21,1151.39 1826.21,1138.4 1826.21,1125.41 1826.21,1112.41 1826.21,1099.42 1826.21,1086.42 1826.21,1073.43 1826.21,1060.43 1826.21,1047.44 1826.21,1034.44 1826.21,1021.45 1826.21,1008.45 1826.21,995.46 1826.21,982.465 1826.21,969.47 1826.21,956.476 1826.21,943.481 1826.21,930.487 1826.21,917.492 1826.21,904.497 1826.21,891.503 1826.21,878.508 1826.21,865.514 1826.21,852.519 1826.21,839.524 1826.21,826.53 1826.21,813.535 1826.21,800.541 1826.21,787.546 1826.21,774.551 1826.21,761.557 1826.21,748.562 1826.21,735.568 1826.21,722.573 1826.21,709.578 1826.21,696.584 1826.21,683.589 1826.21,670.595 1826.21,657.6 1826.21,644.606 1826.21,631.611 1826.21,618.616 1826.21,605.622 1826.21,592.627 1826.21,579.633 1826.21,566.638 1826.21,553.643 1826.21,540.649 1826.21,527.654 1826.21,514.66 1826.21,501.665 1826.21,488.67 1826.21,475.676 1826.21,462.681 1826.21,449.687 1826.21,436.692 1826.21,423.697 1826.21,410.703 1826.21,397.708 1826.21,384.714 1826.21,371.719 1826.21,358.724 1826.21,345.73 1826.21,332.735 1826.21,319.741 1826.21,306.746 1826.21,293.752 1826.21,280.757 1826.21,267.762 1826.21,254.768 1826.21,241.773 1826.21,228.779 1826.21,215.784 1826.21,202.789 1826.21,189.795 1826.21,176.8 1826.21,163.806 1826.21,150.811 1826.21,137.816 1826.21,124.822 1826.21,111.827 1826.21,98.8326 1826.21,85.838 \"/>\n",
       "<polyline clip-path=\"url(#clip102)\" style=\"stroke:#ff0000; stroke-linecap:round; stroke-linejoin:round; stroke-width:4; stroke-opacity:1; fill:none\" stroke-dasharray=\"16, 10\" points=\"1786.33,1372.3 1786.33,1359.31 1786.33,1346.31 1786.33,1333.32 1786.33,1320.32 1786.33,1307.33 1786.33,1294.34 1786.33,1281.34 1786.33,1268.35 1786.33,1255.35 1786.33,1242.36 1786.33,1229.36 1786.33,1216.37 1786.33,1203.37 1786.33,1190.38 1786.33,1177.38 1786.33,1164.39 1786.33,1151.39 1786.33,1138.4 1786.33,1125.41 1786.33,1112.41 1786.33,1099.42 1786.33,1086.42 1786.33,1073.43 1786.33,1060.43 1786.33,1047.44 1786.33,1034.44 1786.33,1021.45 1786.33,1008.45 1786.33,995.46 1786.33,982.465 1786.33,969.47 1786.33,956.476 1786.33,943.481 1786.33,930.487 1786.33,917.492 1786.33,904.497 1786.33,891.503 1786.33,878.508 1786.33,865.514 1786.33,852.519 1786.33,839.524 1786.33,826.53 1786.33,813.535 1786.33,800.541 1786.33,787.546 1786.33,774.551 1786.33,761.557 1786.33,748.562 1786.33,735.568 1786.33,722.573 1786.33,709.578 1786.33,696.584 1786.33,683.589 1786.33,670.595 1786.33,657.6 1786.33,644.606 1786.33,631.611 1786.33,618.616 1786.33,605.622 1786.33,592.627 1786.33,579.633 1786.33,566.638 1786.33,553.643 1786.33,540.649 1786.33,527.654 1786.33,514.66 1786.33,501.665 1786.33,488.67 1786.33,475.676 1786.33,462.681 1786.33,449.687 1786.33,436.692 1786.33,423.697 1786.33,410.703 1786.33,397.708 1786.33,384.714 1786.33,371.719 1786.33,358.724 1786.33,345.73 1786.33,332.735 1786.33,319.741 1786.33,306.746 1786.33,293.752 1786.33,280.757 1786.33,267.762 1786.33,254.768 1786.33,241.773 1786.33,228.779 1786.33,215.784 1786.33,202.789 1786.33,189.795 1786.33,176.8 1786.33,163.806 1786.33,150.811 1786.33,137.816 1786.33,124.822 1786.33,111.827 1786.33,98.8326 1786.33,85.838 \"/>\n",
       "<polyline clip-path=\"url(#clip102)\" style=\"stroke:#b0b0b0; stroke-linecap:round; stroke-linejoin:round; stroke-width:4; stroke-opacity:1; fill:none\" stroke-dasharray=\"16, 10\" points=\"295.211,325.455 315.389,325.455 335.567,325.455 355.745,325.455 375.923,325.455 396.101,325.455 416.279,325.455 436.457,325.455 456.635,325.455 476.813,325.455 496.991,325.455 517.169,325.455 537.347,325.455 557.525,325.455 577.702,325.455 597.88,325.455 618.058,325.455 638.236,325.455 658.414,325.455 678.592,325.455 698.77,325.455 718.948,325.455 739.126,325.455 759.304,325.455 779.482,325.455 799.66,325.455 819.838,325.455 840.016,325.455 860.194,325.455 880.372,325.455 900.55,325.455 920.727,325.455 940.905,325.455 961.083,325.455 981.261,325.455 1001.44,325.455 1021.62,325.455 1041.8,325.455 1061.97,325.455 1082.15,325.455 1102.33,325.455 1122.51,325.455 1142.68,325.455 1162.86,325.455 1183.04,325.455 1203.22,325.455 1223.4,325.455 1243.57,325.455 1263.75,325.455 1283.93,325.455 1304.11,325.455 1324.29,325.455 1344.46,325.455 1364.64,325.455 1384.82,325.455 1405,325.455 1425.18,325.455 1445.35,325.455 1465.53,325.455 1485.71,325.455 1505.89,325.455 1526.07,325.455 1546.24,325.455 1566.42,325.455 1586.6,325.455 1606.78,325.455 1626.96,325.455 1647.13,325.455 1667.31,325.455 1687.49,325.455 1707.67,325.455 1727.85,325.455 1748.02,325.455 1768.2,325.455 1788.38,325.455 1808.56,325.455 1828.73,325.455 1848.91,325.455 1869.09,325.455 1889.27,325.455 1909.45,325.455 1929.62,325.455 1949.8,325.455 1969.98,325.455 1990.16,325.455 2010.34,325.455 2030.51,325.455 2050.69,325.455 2070.87,325.455 2091.05,325.455 2111.23,325.455 2131.4,325.455 2151.58,325.455 2171.76,325.455 2191.94,325.455 2212.12,325.455 2232.29,325.455 2252.47,325.455 2272.65,325.455 2292.83,325.455 \"/>\n",
       "<circle clip-path=\"url(#clip102)\" cx=\"330.883\" cy=\"1327.1\" r=\"14.4\" fill=\"#ffffff\" fill-rule=\"evenodd\" fill-opacity=\"1\" stroke=\"#000000\" stroke-opacity=\"1\" stroke-width=\"3.2\"/>\n",
       "<circle clip-path=\"url(#clip102)\" cx=\"1936.11\" cy=\"251.836\" r=\"14.4\" fill=\"#ffffff\" fill-rule=\"evenodd\" fill-opacity=\"1\" stroke=\"#000000\" stroke-opacity=\"1\" stroke-width=\"3.2\"/>\n",
       "<circle clip-path=\"url(#clip102)\" cx=\"1826.21\" cy=\"305.6\" r=\"14.4\" fill=\"#ffffff\" fill-rule=\"evenodd\" fill-opacity=\"1\" stroke=\"#000080\" stroke-opacity=\"1\" stroke-width=\"3.2\"/>\n",
       "<circle clip-path=\"url(#clip102)\" cx=\"1826.21\" cy=\"325.455\" r=\"14.4\" fill=\"#ffffff\" fill-rule=\"evenodd\" fill-opacity=\"1\" stroke=\"#b0b0b0\" stroke-opacity=\"1\" stroke-width=\"3.2\"/>\n",
       "<circle clip-path=\"url(#clip102)\" cx=\"1786.33\" cy=\"325.455\" r=\"18\" fill=\"#ff0000\" fill-rule=\"evenodd\" fill-opacity=\"1\" stroke=\"none\"/>\n",
       "<path clip-path=\"url(#clip100)\" d=\"M1600.41 1365.44 L2282.17 1365.44 L2282.17 1054.4 L1600.41 1054.4  Z\" fill=\"#ffffff\" fill-rule=\"evenodd\" fill-opacity=\"1\"/>\n",
       "<polyline clip-path=\"url(#clip100)\" style=\"stroke:#000000; stroke-linecap:round; stroke-linejoin:round; stroke-width:4; stroke-opacity:1; fill:none\" points=\"1600.41,1365.44 2282.17,1365.44 2282.17,1054.4 1600.41,1054.4 1600.41,1365.44 \"/>\n",
       "<polyline clip-path=\"url(#clip100)\" style=\"stroke:#000000; stroke-linecap:round; stroke-linejoin:round; stroke-width:12; stroke-opacity:1; fill:none\" points=\"1623.93,1106.24 1765.1,1106.24 \"/>\n",
       "<path clip-path=\"url(#clip100)\" d=\"M1788.63 1088.96 L1793.32 1088.96 L1793.32 1109.96 Q1793.32 1115.51 1795.34 1117.97 Q1797.35 1120.4 1801.87 1120.4 Q1806.36 1120.4 1808.37 1117.97 Q1810.38 1115.51 1810.38 1109.96 L1810.38 1088.96 L1815.08 1088.96 L1815.08 1110.54 Q1815.08 1117.29 1811.73 1120.74 Q1808.39 1124.19 1801.87 1124.19 Q1795.32 1124.19 1791.96 1120.74 Q1788.63 1117.29 1788.63 1110.54 L1788.63 1088.96 Z\" fill=\"#000000\" fill-rule=\"nonzero\" fill-opacity=\"1\" /><path clip-path=\"url(#clip100)\" d=\"M1833.9 1087.55 Q1830.8 1092.87 1829.3 1098.08 Q1827.79 1103.29 1827.79 1108.64 Q1827.79 1113.98 1829.3 1119.24 Q1830.82 1124.47 1833.9 1129.77 L1830.2 1129.77 Q1826.73 1124.33 1824.99 1119.08 Q1823.28 1113.82 1823.28 1108.64 Q1823.28 1103.48 1824.99 1098.24 Q1826.7 1093.01 1830.2 1087.55 L1833.9 1087.55 Z\" fill=\"#000000\" fill-rule=\"nonzero\" fill-opacity=\"1\" /><path clip-path=\"url(#clip100)\" d=\"M1839.27 1088.96 L1844 1088.96 L1851.26 1118.17 L1858.51 1088.96 L1863.76 1088.96 L1871.03 1118.17 L1878.28 1088.96 L1883.02 1088.96 L1874.34 1123.52 L1868.46 1123.52 L1861.17 1093.52 L1853.81 1123.52 L1847.93 1123.52 L1839.27 1088.96 Z\" fill=\"#000000\" fill-rule=\"nonzero\" fill-opacity=\"1\" /><path clip-path=\"url(#clip100)\" d=\"M1888.37 1087.55 L1892.07 1087.55 Q1895.55 1093.01 1897.26 1098.24 Q1899 1103.48 1899 1108.64 Q1899 1113.82 1897.26 1119.08 Q1895.55 1124.33 1892.07 1129.77 L1888.37 1129.77 Q1891.45 1124.47 1892.95 1119.24 Q1894.48 1113.98 1894.48 1108.64 Q1894.48 1103.29 1892.95 1098.08 Q1891.45 1092.87 1888.37 1087.55 Z\" fill=\"#000000\" fill-rule=\"nonzero\" fill-opacity=\"1\" /><polyline clip-path=\"url(#clip100)\" style=\"stroke:#b0b0b0; stroke-linecap:round; stroke-linejoin:round; stroke-width:12; stroke-opacity:1; fill:none\" stroke-dasharray=\"48, 30\" points=\"1623.93,1158.08 1765.1,1158.08 \"/>\n",
       "<path clip-path=\"url(#clip100)\" d=\"M1790.94 1143.12 L1790.94 1173.05 L1795.62 1173.05 L1795.62 1143.12 L1790.94 1143.12 M1788.63 1140.8 L1815.11 1140.8 L1815.11 1143.12 L1797.93 1143.12 L1797.93 1155.62 L1814.39 1155.62 L1814.39 1157.93 L1797.93 1157.93 L1797.93 1173.05 L1815.52 1173.05 L1815.52 1175.36 L1788.63 1175.36 L1788.63 1140.8 Z\" fill=\"#000000\" fill-rule=\"nonzero\" fill-opacity=\"1\" /><path clip-path=\"url(#clip100)\" d=\"M1846.84 1143.12 L1846.84 1163.28 Q1846.84 1169.81 1844.81 1172.82 Q1851.5 1170.55 1851.5 1162.38 L1851.5 1143.12 L1846.84 1143.12 M1824.97 1143.12 L1824.97 1162.38 Q1824.97 1170.57 1831.66 1172.79 Q1829.6 1169.92 1829.62 1163.28 L1829.62 1143.12 L1824.97 1143.12 M1822.65 1140.8 L1831.94 1140.8 L1831.94 1163.28 Q1831.94 1168.83 1833.42 1171.29 Q1834.9 1173.72 1838.23 1173.72 Q1841.56 1173.72 1843.05 1171.29 Q1844.53 1168.83 1844.53 1163.28 L1844.53 1140.8 L1853.81 1140.8 L1853.81 1162.38 Q1853.81 1169.13 1849.88 1172.58 Q1845.94 1176.03 1838.23 1176.03 Q1830.52 1176.03 1826.59 1172.58 Q1822.65 1169.13 1822.65 1162.38 L1822.65 1140.8 Z\" fill=\"#000000\" fill-rule=\"nonzero\" fill-opacity=\"1\" /><path clip-path=\"url(#clip100)\" d=\"M1872.61 1139.39 Q1869.5 1144.71 1868 1149.92 Q1866.5 1155.13 1866.5 1160.48 Q1866.5 1165.82 1868 1171.08 Q1869.53 1176.31 1872.61 1181.61 L1868.9 1181.61 Q1865.43 1176.17 1863.69 1170.92 Q1861.98 1165.66 1861.98 1160.48 Q1861.98 1155.32 1863.69 1150.08 Q1865.41 1144.85 1868.9 1139.39 L1872.61 1139.39 Z\" fill=\"#000000\" fill-rule=\"nonzero\" fill-opacity=\"1\" /><path clip-path=\"url(#clip100)\" d=\"M1892.61 1145.41 L1886.26 1162.61 L1898.97 1162.61 L1892.61 1145.41 M1889.97 1140.8 L1895.27 1140.8 L1908.44 1175.36 L1903.58 1175.36 L1900.43 1166.5 L1884.85 1166.5 L1881.7 1175.36 L1876.77 1175.36 L1889.97 1140.8 Z\" fill=\"#000000\" fill-rule=\"nonzero\" fill-opacity=\"1\" /><path clip-path=\"url(#clip100)\" d=\"M1912.63 1139.39 L1916.33 1139.39 Q1919.81 1144.85 1921.52 1150.08 Q1923.25 1155.32 1923.25 1160.48 Q1923.25 1165.66 1921.52 1170.92 Q1919.81 1176.17 1916.33 1181.61 L1912.63 1181.61 Q1915.71 1176.31 1917.21 1171.08 Q1918.74 1165.82 1918.74 1160.48 Q1918.74 1155.13 1917.21 1149.92 Q1915.71 1144.71 1912.63 1139.39 Z\" fill=\"#000000\" fill-rule=\"nonzero\" fill-opacity=\"1\" /><circle clip-path=\"url(#clip100)\" cx=\"1694.52\" cy=\"1209.92\" r=\"20.48\" fill=\"#ffffff\" fill-rule=\"evenodd\" fill-opacity=\"1\" stroke=\"#000080\" stroke-opacity=\"1\" stroke-width=\"4.55111\"/>\n",
       "<path clip-path=\"url(#clip100)\" d=\"M1804.46 1197.25 L1798.12 1214.45 L1810.82 1214.45 L1804.46 1197.25 M1801.82 1192.64 L1807.12 1192.64 L1820.29 1227.2 L1815.43 1227.2 L1812.28 1218.34 L1796.7 1218.34 L1793.56 1227.2 L1788.63 1227.2 L1801.82 1192.64 Z\" fill=\"#000000\" fill-rule=\"nonzero\" fill-opacity=\"1\" /><path clip-path=\"url(#clip100)\" d=\"M1840.78 1205.67 L1870.45 1205.67 L1870.45 1209.56 L1840.78 1209.56 L1840.78 1205.67 M1840.78 1215.12 L1870.45 1215.12 L1870.45 1219.05 L1840.78 1219.05 L1840.78 1215.12 Z\" fill=\"#000000\" fill-rule=\"nonzero\" fill-opacity=\"1\" /><path clip-path=\"url(#clip100)\" d=\"M1909.78 1208.57 Q1913.14 1209.28 1915.01 1211.55 Q1916.91 1213.82 1916.91 1217.16 Q1916.91 1222.27 1913.39 1225.07 Q1909.87 1227.87 1903.39 1227.87 Q1901.22 1227.87 1898.9 1227.43 Q1896.61 1227.02 1894.16 1226.16 L1894.16 1221.65 Q1896.1 1222.78 1898.42 1223.36 Q1900.73 1223.94 1903.25 1223.94 Q1907.65 1223.94 1909.94 1222.2 Q1912.26 1220.47 1912.26 1217.16 Q1912.26 1214.1 1910.11 1212.39 Q1907.98 1210.65 1904.16 1210.65 L1900.13 1210.65 L1900.13 1206.81 L1904.34 1206.81 Q1907.79 1206.81 1909.62 1205.44 Q1911.45 1204.05 1911.45 1201.46 Q1911.45 1198.8 1909.55 1197.39 Q1907.68 1195.95 1904.16 1195.95 Q1902.24 1195.95 1900.04 1196.37 Q1897.84 1196.79 1895.2 1197.66 L1895.2 1193.5 Q1897.86 1192.76 1900.18 1192.39 Q1902.51 1192.02 1904.57 1192.02 Q1909.9 1192.02 1913 1194.45 Q1916.1 1196.85 1916.1 1200.97 Q1916.1 1203.85 1914.46 1205.84 Q1912.81 1207.8 1909.78 1208.57 Z\" fill=\"#000000\" fill-rule=\"nonzero\" fill-opacity=\"1\" /><path clip-path=\"url(#clip100)\" d=\"M1924.6 1192.64 L1946.82 1192.64 L1946.82 1194.63 L1934.27 1227.2 L1929.39 1227.2 L1941.19 1196.58 L1924.6 1196.58 L1924.6 1192.64 Z\" fill=\"#000000\" fill-rule=\"nonzero\" fill-opacity=\"1\" /><path clip-path=\"url(#clip100)\" d=\"M1968.79 1196.72 L1956.98 1215.16 L1968.79 1215.16 L1968.79 1196.72 M1967.56 1192.64 L1973.44 1192.64 L1973.44 1215.16 L1978.37 1215.16 L1978.37 1219.05 L1973.44 1219.05 L1973.44 1227.2 L1968.79 1227.2 L1968.79 1219.05 L1953.18 1219.05 L1953.18 1214.54 L1967.56 1192.64 Z\" fill=\"#000000\" fill-rule=\"nonzero\" fill-opacity=\"1\" /><path clip-path=\"url(#clip100)\" d=\"M1996.1 1210.79 Q1992.77 1210.79 1990.85 1212.57 Q1988.95 1214.35 1988.95 1217.48 Q1988.95 1220.6 1990.85 1222.39 Q1992.77 1224.17 1996.1 1224.17 Q1999.43 1224.17 2001.36 1222.39 Q2003.28 1220.58 2003.28 1217.48 Q2003.28 1214.35 2001.36 1212.57 Q1999.46 1210.79 1996.1 1210.79 M1991.43 1208.8 Q1988.42 1208.06 1986.73 1206 Q1985.06 1203.94 1985.06 1200.97 Q1985.06 1196.83 1988 1194.42 Q1990.96 1192.02 1996.1 1192.02 Q2001.26 1192.02 2004.2 1194.42 Q2007.14 1196.83 2007.14 1200.97 Q2007.14 1203.94 2005.45 1206 Q2003.79 1208.06 2000.8 1208.8 Q2004.18 1209.59 2006.05 1211.88 Q2007.95 1214.17 2007.95 1217.48 Q2007.95 1222.5 2004.87 1225.19 Q2001.82 1227.87 1996.1 1227.87 Q1990.38 1227.87 1987.3 1225.19 Q1984.25 1222.5 1984.25 1217.48 Q1984.25 1214.17 1986.15 1211.88 Q1988.05 1209.59 1991.43 1208.8 M1989.71 1201.41 Q1989.71 1204.1 1991.38 1205.6 Q1993.07 1207.11 1996.1 1207.11 Q1999.11 1207.11 2000.8 1205.6 Q2002.51 1204.1 2002.51 1201.41 Q2002.51 1198.73 2000.8 1197.22 Q1999.11 1195.72 1996.1 1195.72 Q1993.07 1195.72 1991.38 1197.22 Q1989.71 1198.73 1989.71 1201.41 Z\" fill=\"#000000\" fill-rule=\"nonzero\" fill-opacity=\"1\" /><path clip-path=\"url(#clip100)\" d=\"M2016.31 1192.64 L2034.67 1192.64 L2034.67 1196.58 L2020.59 1196.58 L2020.59 1205.05 Q2021.61 1204.7 2022.63 1204.54 Q2023.65 1204.35 2024.67 1204.35 Q2030.45 1204.35 2033.83 1207.53 Q2037.21 1210.7 2037.21 1216.11 Q2037.21 1221.69 2033.74 1224.79 Q2030.27 1227.87 2023.95 1227.87 Q2021.77 1227.87 2019.5 1227.5 Q2017.26 1227.13 2014.85 1226.39 L2014.85 1221.69 Q2016.93 1222.83 2019.16 1223.38 Q2021.38 1223.94 2023.86 1223.94 Q2027.86 1223.94 2030.2 1221.83 Q2032.54 1219.72 2032.54 1216.11 Q2032.54 1212.5 2030.2 1210.4 Q2027.86 1208.29 2023.86 1208.29 Q2021.98 1208.29 2020.11 1208.71 Q2018.25 1209.12 2016.31 1210 L2016.31 1192.64 Z\" fill=\"#000000\" fill-rule=\"nonzero\" fill-opacity=\"1\" /><path clip-path=\"url(#clip100)\" d=\"M2046.42 1221.32 L2051.31 1221.32 L2051.31 1227.2 L2046.42 1227.2 L2046.42 1221.32 Z\" fill=\"#000000\" fill-rule=\"nonzero\" fill-opacity=\"1\" /><path clip-path=\"url(#clip100)\" d=\"M2061.54 1192.64 L2079.9 1192.64 L2079.9 1196.58 L2065.82 1196.58 L2065.82 1205.05 Q2066.84 1204.7 2067.86 1204.54 Q2068.88 1204.35 2069.9 1204.35 Q2075.68 1204.35 2079.06 1207.53 Q2082.44 1210.7 2082.44 1216.11 Q2082.44 1221.69 2078.97 1224.79 Q2075.5 1227.87 2069.18 1227.87 Q2067 1227.87 2064.73 1227.5 Q2062.49 1227.13 2060.08 1226.39 L2060.08 1221.69 Q2062.17 1222.83 2064.39 1223.38 Q2066.61 1223.94 2069.09 1223.94 Q2073.09 1223.94 2075.43 1221.83 Q2077.77 1219.72 2077.77 1216.11 Q2077.77 1212.5 2075.43 1210.4 Q2073.09 1208.29 2069.09 1208.29 Q2067.21 1208.29 2065.34 1208.71 Q2063.49 1209.12 2061.54 1210 L2061.54 1192.64 Z\" fill=\"#000000\" fill-rule=\"nonzero\" fill-opacity=\"1\" /><path clip-path=\"url(#clip100)\" d=\"M2092.47 1223.27 L2100.11 1223.27 L2100.11 1196.9 L2091.8 1198.57 L2091.8 1194.31 L2100.06 1192.64 L2104.73 1192.64 L2104.73 1223.27 L2112.37 1223.27 L2112.37 1227.2 L2092.47 1227.2 L2092.47 1223.27 Z\" fill=\"#000000\" fill-rule=\"nonzero\" fill-opacity=\"1\" /><path clip-path=\"url(#clip100)\" d=\"M2135.94 1192.64 L2140.64 1192.64 L2140.64 1213.64 Q2140.64 1219.19 2142.65 1221.65 Q2144.67 1224.08 2149.18 1224.08 Q2153.67 1224.08 2155.68 1221.65 Q2157.7 1219.19 2157.7 1213.64 L2157.7 1192.64 L2162.4 1192.64 L2162.4 1214.22 Q2162.4 1220.97 2159.04 1224.42 Q2155.71 1227.87 2149.18 1227.87 Q2142.63 1227.87 2139.27 1224.42 Q2135.94 1220.97 2135.94 1214.22 L2135.94 1192.64 Z\" fill=\"#000000\" fill-rule=\"nonzero\" fill-opacity=\"1\" /><path clip-path=\"url(#clip100)\" d=\"M2191.89 1193.78 L2191.89 1198.34 Q2189.23 1197.06 2186.86 1196.44 Q2184.5 1195.81 2182.3 1195.81 Q2178.48 1195.81 2176.4 1197.29 Q2174.34 1198.78 2174.34 1201.51 Q2174.34 1203.8 2175.71 1204.98 Q2177.1 1206.14 2180.94 1206.85 L2183.76 1207.43 Q2188.99 1208.43 2191.47 1210.95 Q2193.97 1213.45 2193.97 1217.66 Q2193.97 1222.69 2190.59 1225.28 Q2187.23 1227.87 2180.73 1227.87 Q2178.28 1227.87 2175.5 1227.32 Q2172.74 1226.76 2169.78 1225.67 L2169.78 1220.86 Q2172.63 1222.46 2175.36 1223.27 Q2178.09 1224.08 2180.73 1224.08 Q2184.73 1224.08 2186.91 1222.5 Q2189.09 1220.93 2189.09 1218.01 Q2189.09 1215.47 2187.51 1214.03 Q2185.96 1212.6 2182.4 1211.88 L2179.55 1211.32 Q2174.32 1210.28 2171.98 1208.06 Q2169.64 1205.84 2169.64 1201.88 Q2169.64 1197.29 2172.86 1194.66 Q2176.1 1192.02 2181.77 1192.02 Q2184.2 1192.02 2186.73 1192.46 Q2189.25 1192.9 2191.89 1193.78 Z\" fill=\"#000000\" fill-rule=\"nonzero\" fill-opacity=\"1\" /><path clip-path=\"url(#clip100)\" d=\"M2205.94 1196.48 L2205.94 1223.36 L2211.59 1223.36 Q2218.74 1223.36 2222.05 1220.12 Q2225.38 1216.88 2225.38 1209.89 Q2225.38 1202.94 2222.05 1199.72 Q2218.74 1196.48 2211.59 1196.48 L2205.94 1196.48 M2201.26 1192.64 L2210.87 1192.64 Q2220.91 1192.64 2225.61 1196.83 Q2230.31 1201 2230.31 1209.89 Q2230.31 1218.82 2225.59 1223.01 Q2220.87 1227.2 2210.87 1227.2 L2201.26 1227.2 L2201.26 1192.64 Z\" fill=\"#000000\" fill-rule=\"nonzero\" fill-opacity=\"1\" /><circle clip-path=\"url(#clip100)\" cx=\"1694.52\" cy=\"1261.76\" r=\"20.48\" fill=\"#ffffff\" fill-rule=\"evenodd\" fill-opacity=\"1\" stroke=\"#b0b0b0\" stroke-opacity=\"1\" stroke-width=\"4.55111\"/>\n",
       "<path clip-path=\"url(#clip100)\" d=\"M1793.3 1262.54 L1793.3 1275.2 L1800.8 1275.2 Q1804.57 1275.2 1806.38 1273.65 Q1808.21 1272.07 1808.21 1268.86 Q1808.21 1265.62 1806.38 1264.09 Q1804.57 1262.54 1800.8 1262.54 L1793.3 1262.54 M1793.3 1248.32 L1793.3 1258.74 L1800.22 1258.74 Q1803.65 1258.74 1805.32 1257.47 Q1807 1256.17 1807 1253.53 Q1807 1250.92 1805.32 1249.62 Q1803.65 1248.32 1800.22 1248.32 L1793.3 1248.32 M1788.63 1244.48 L1800.57 1244.48 Q1805.92 1244.48 1808.81 1246.7 Q1811.7 1248.93 1811.7 1253.02 Q1811.7 1256.19 1810.22 1258.07 Q1808.74 1259.94 1805.87 1260.41 Q1809.32 1261.15 1811.22 1263.51 Q1813.14 1265.85 1813.14 1269.37 Q1813.14 1274 1809.99 1276.52 Q1806.84 1279.04 1801.03 1279.04 L1788.63 1279.04 L1788.63 1244.48 Z\" fill=\"#000000\" fill-rule=\"nonzero\" fill-opacity=\"1\" /><path clip-path=\"url(#clip100)\" d=\"M1836.59 1257.51 L1866.26 1257.51 L1866.26 1261.4 L1836.59 1261.4 L1836.59 1257.51 M1836.59 1266.96 L1866.26 1266.96 L1866.26 1270.89 L1836.59 1270.89 L1836.59 1266.96 Z\" fill=\"#000000\" fill-rule=\"nonzero\" fill-opacity=\"1\" /><path clip-path=\"url(#clip100)\" d=\"M1905.59 1260.41 Q1908.95 1261.12 1910.82 1263.39 Q1912.72 1265.66 1912.72 1269 Q1912.72 1274.11 1909.2 1276.91 Q1905.68 1279.71 1899.2 1279.71 Q1897.03 1279.71 1894.71 1279.27 Q1892.42 1278.86 1889.97 1278 L1889.97 1273.49 Q1891.91 1274.62 1894.23 1275.2 Q1896.54 1275.78 1899.06 1275.78 Q1903.46 1275.78 1905.75 1274.04 Q1908.07 1272.31 1908.07 1269 Q1908.07 1265.94 1905.92 1264.23 Q1903.79 1262.49 1899.97 1262.49 L1895.94 1262.49 L1895.94 1258.65 L1900.15 1258.65 Q1903.6 1258.65 1905.43 1257.28 Q1907.26 1255.89 1907.26 1253.3 Q1907.26 1250.64 1905.36 1249.23 Q1903.49 1247.79 1899.97 1247.79 Q1898.05 1247.79 1895.85 1248.21 Q1893.65 1248.63 1891.01 1249.5 L1891.01 1245.34 Q1893.67 1244.6 1895.99 1244.23 Q1898.32 1243.86 1900.38 1243.86 Q1905.71 1243.86 1908.81 1246.29 Q1911.91 1248.69 1911.91 1252.81 Q1911.91 1255.69 1910.27 1257.68 Q1908.62 1259.64 1905.59 1260.41 Z\" fill=\"#000000\" fill-rule=\"nonzero\" fill-opacity=\"1\" /><path clip-path=\"url(#clip100)\" d=\"M1920.41 1244.48 L1942.63 1244.48 L1942.63 1246.47 L1930.08 1279.04 L1925.2 1279.04 L1937 1248.42 L1920.41 1248.42 L1920.41 1244.48 Z\" fill=\"#000000\" fill-rule=\"nonzero\" fill-opacity=\"1\" /><path clip-path=\"url(#clip100)\" d=\"M1964.6 1248.56 L1952.79 1267 L1964.6 1267 L1964.6 1248.56 M1963.37 1244.48 L1969.25 1244.48 L1969.25 1267 L1974.18 1267 L1974.18 1270.89 L1969.25 1270.89 L1969.25 1279.04 L1964.6 1279.04 L1964.6 1270.89 L1948.99 1270.89 L1948.99 1266.38 L1963.37 1244.48 Z\" fill=\"#000000\" fill-rule=\"nonzero\" fill-opacity=\"1\" /><path clip-path=\"url(#clip100)\" d=\"M1991.91 1262.63 Q1988.58 1262.63 1986.66 1264.41 Q1984.76 1266.19 1984.76 1269.32 Q1984.76 1272.44 1986.66 1274.23 Q1988.58 1276.01 1991.91 1276.01 Q1995.24 1276.01 1997.17 1274.23 Q1999.09 1272.42 1999.09 1269.32 Q1999.09 1266.19 1997.17 1264.41 Q1995.27 1262.63 1991.91 1262.63 M1987.24 1260.64 Q1984.23 1259.9 1982.54 1257.84 Q1980.87 1255.78 1980.87 1252.81 Q1980.87 1248.67 1983.81 1246.26 Q1986.77 1243.86 1991.91 1243.86 Q1997.07 1243.86 2000.01 1246.26 Q2002.95 1248.67 2002.95 1252.81 Q2002.95 1255.78 2001.26 1257.84 Q1999.6 1259.9 1996.61 1260.64 Q1999.99 1261.43 2001.86 1263.72 Q2003.76 1266.01 2003.76 1269.32 Q2003.76 1274.34 2000.68 1277.03 Q1997.63 1279.71 1991.91 1279.71 Q1986.19 1279.71 1983.12 1277.03 Q1980.06 1274.34 1980.06 1269.32 Q1980.06 1266.01 1981.96 1263.72 Q1983.86 1261.43 1987.24 1260.64 M1985.52 1253.25 Q1985.52 1255.94 1987.19 1257.44 Q1988.88 1258.95 1991.91 1258.95 Q1994.92 1258.95 1996.61 1257.44 Q1998.32 1255.94 1998.32 1253.25 Q1998.32 1250.57 1996.61 1249.06 Q1994.92 1247.56 1991.91 1247.56 Q1988.88 1247.56 1987.19 1249.06 Q1985.52 1250.57 1985.52 1253.25 Z\" fill=\"#000000\" fill-rule=\"nonzero\" fill-opacity=\"1\" /><path clip-path=\"url(#clip100)\" d=\"M2012.12 1244.48 L2030.48 1244.48 L2030.48 1248.42 L2016.4 1248.42 L2016.4 1256.89 Q2017.42 1256.54 2018.44 1256.38 Q2019.46 1256.19 2020.48 1256.19 Q2026.26 1256.19 2029.64 1259.37 Q2033.02 1262.54 2033.02 1267.95 Q2033.02 1273.53 2029.55 1276.63 Q2026.08 1279.71 2019.76 1279.71 Q2017.58 1279.71 2015.31 1279.34 Q2013.07 1278.97 2010.66 1278.23 L2010.66 1273.53 Q2012.74 1274.67 2014.97 1275.22 Q2017.19 1275.78 2019.67 1275.78 Q2023.67 1275.78 2026.01 1273.67 Q2028.35 1271.56 2028.35 1267.95 Q2028.35 1264.34 2026.01 1262.24 Q2023.67 1260.13 2019.67 1260.13 Q2017.79 1260.13 2015.92 1260.55 Q2014.06 1260.96 2012.12 1261.84 L2012.12 1244.48 Z\" fill=\"#000000\" fill-rule=\"nonzero\" fill-opacity=\"1\" /><path clip-path=\"url(#clip100)\" d=\"M2042.24 1273.16 L2047.12 1273.16 L2047.12 1279.04 L2042.24 1279.04 L2042.24 1273.16 Z\" fill=\"#000000\" fill-rule=\"nonzero\" fill-opacity=\"1\" /><path clip-path=\"url(#clip100)\" d=\"M2057.35 1244.48 L2075.71 1244.48 L2075.71 1248.42 L2061.63 1248.42 L2061.63 1256.89 Q2062.65 1256.54 2063.67 1256.38 Q2064.69 1256.19 2065.71 1256.19 Q2071.49 1256.19 2074.87 1259.37 Q2078.25 1262.54 2078.25 1267.95 Q2078.25 1273.53 2074.78 1276.63 Q2071.31 1279.71 2064.99 1279.71 Q2062.81 1279.71 2060.55 1279.34 Q2058.3 1278.97 2055.89 1278.23 L2055.89 1273.53 Q2057.98 1274.67 2060.2 1275.22 Q2062.42 1275.78 2064.9 1275.78 Q2068.9 1275.78 2071.24 1273.67 Q2073.58 1271.56 2073.58 1267.95 Q2073.58 1264.34 2071.24 1262.24 Q2068.9 1260.13 2064.9 1260.13 Q2063.02 1260.13 2061.15 1260.55 Q2059.3 1260.96 2057.35 1261.84 L2057.35 1244.48 Z\" fill=\"#000000\" fill-rule=\"nonzero\" fill-opacity=\"1\" /><path clip-path=\"url(#clip100)\" d=\"M2088.28 1275.11 L2095.92 1275.11 L2095.92 1248.74 L2087.61 1250.41 L2087.61 1246.15 L2095.87 1244.48 L2100.54 1244.48 L2100.54 1275.11 L2108.18 1275.11 L2108.18 1279.04 L2088.28 1279.04 L2088.28 1275.11 Z\" fill=\"#000000\" fill-rule=\"nonzero\" fill-opacity=\"1\" /><path clip-path=\"url(#clip100)\" d=\"M2131.75 1244.48 L2136.45 1244.48 L2136.45 1265.48 Q2136.45 1271.03 2138.46 1273.49 Q2140.48 1275.92 2144.99 1275.92 Q2149.48 1275.92 2151.49 1273.49 Q2153.51 1271.03 2153.51 1265.48 L2153.51 1244.48 L2158.21 1244.48 L2158.21 1266.06 Q2158.21 1272.81 2154.85 1276.26 Q2151.52 1279.71 2144.99 1279.71 Q2138.44 1279.71 2135.08 1276.26 Q2131.75 1272.81 2131.75 1266.06 L2131.75 1244.48 Z\" fill=\"#000000\" fill-rule=\"nonzero\" fill-opacity=\"1\" /><path clip-path=\"url(#clip100)\" d=\"M2187.7 1245.62 L2187.7 1250.18 Q2185.04 1248.9 2182.67 1248.28 Q2180.31 1247.65 2178.11 1247.65 Q2174.29 1247.65 2172.21 1249.13 Q2170.15 1250.62 2170.15 1253.35 Q2170.15 1255.64 2171.52 1256.82 Q2172.91 1257.98 2176.75 1258.69 L2179.57 1259.27 Q2184.8 1260.27 2187.28 1262.79 Q2189.78 1265.29 2189.78 1269.5 Q2189.78 1274.53 2186.4 1277.12 Q2183.04 1279.71 2176.54 1279.71 Q2174.09 1279.71 2171.31 1279.16 Q2168.55 1278.6 2165.59 1277.51 L2165.59 1272.7 Q2168.44 1274.3 2171.17 1275.11 Q2173.9 1275.92 2176.54 1275.92 Q2180.54 1275.92 2182.72 1274.34 Q2184.9 1272.77 2184.9 1269.85 Q2184.9 1267.31 2183.32 1265.87 Q2181.77 1264.44 2178.21 1263.72 L2175.36 1263.16 Q2170.13 1262.12 2167.79 1259.9 Q2165.45 1257.68 2165.45 1253.72 Q2165.45 1249.13 2168.67 1246.5 Q2171.91 1243.86 2177.58 1243.86 Q2180.01 1243.86 2182.54 1244.3 Q2185.06 1244.74 2187.7 1245.62 Z\" fill=\"#000000\" fill-rule=\"nonzero\" fill-opacity=\"1\" /><path clip-path=\"url(#clip100)\" d=\"M2201.75 1248.32 L2201.75 1275.2 L2207.4 1275.2 Q2214.55 1275.2 2217.86 1271.96 Q2221.19 1268.72 2221.19 1261.73 Q2221.19 1254.78 2217.86 1251.56 Q2214.55 1248.32 2207.4 1248.32 L2201.75 1248.32 M2197.07 1244.48 L2206.68 1244.48 Q2216.72 1244.48 2221.42 1248.67 Q2226.12 1252.84 2226.12 1261.73 Q2226.12 1270.66 2221.4 1274.85 Q2216.68 1279.04 2206.68 1279.04 L2197.07 1279.04 L2197.07 1244.48 Z\" fill=\"#000000\" fill-rule=\"nonzero\" fill-opacity=\"1\" /><circle clip-path=\"url(#clip100)\" cx=\"1694.52\" cy=\"1313.6\" r=\"20.9455\" fill=\"#ff0000\" fill-rule=\"evenodd\" fill-opacity=\"1\" stroke=\"none\"/>\n",
       "<path clip-path=\"url(#clip100)\" d=\"M1816.5 1298.98 L1816.5 1303.91 Q1814.13 1301.72 1811.45 1300.63 Q1808.79 1299.54 1805.78 1299.54 Q1799.85 1299.54 1796.7 1303.17 Q1793.56 1306.78 1793.56 1313.64 Q1793.56 1320.46 1796.7 1324.1 Q1799.85 1327.71 1805.78 1327.71 Q1808.79 1327.71 1811.45 1326.62 Q1814.13 1325.53 1816.5 1323.34 L1816.5 1328.22 Q1814.04 1329.89 1811.29 1330.72 Q1808.56 1331.55 1805.5 1331.55 Q1797.65 1331.55 1793.14 1326.76 Q1788.63 1321.95 1788.63 1313.64 Q1788.63 1305.3 1793.14 1300.51 Q1797.65 1295.7 1805.5 1295.7 Q1808.6 1295.7 1811.33 1296.53 Q1814.09 1297.34 1816.5 1298.98 Z\" fill=\"#000000\" fill-rule=\"nonzero\" fill-opacity=\"1\" /><path clip-path=\"url(#clip100)\" d=\"M1823.72 1296.32 L1845.57 1296.32 L1845.57 1300.26 L1828.39 1300.26 L1828.39 1310.49 L1844.85 1310.49 L1844.85 1314.42 L1828.39 1314.42 L1828.39 1326.95 L1845.99 1326.95 L1845.99 1330.88 L1823.72 1330.88 L1823.72 1296.32 Z\" fill=\"#000000\" fill-rule=\"nonzero\" fill-opacity=\"1\" /><path clip-path=\"url(#clip100)\" d=\"M1869.11 1309.35 L1898.79 1309.35 L1898.79 1313.24 L1869.11 1313.24 L1869.11 1309.35 M1869.11 1318.8 L1898.79 1318.8 L1898.79 1322.73 L1869.11 1322.73 L1869.11 1318.8 Z\" fill=\"#000000\" fill-rule=\"nonzero\" fill-opacity=\"1\" /><path clip-path=\"url(#clip100)\" d=\"M1938.12 1312.25 Q1941.47 1312.96 1943.35 1315.23 Q1945.24 1317.5 1945.24 1320.84 Q1945.24 1325.95 1941.73 1328.75 Q1938.21 1331.55 1931.73 1331.55 Q1929.55 1331.55 1927.24 1331.11 Q1924.94 1330.7 1922.49 1329.84 L1922.49 1325.33 Q1924.43 1326.46 1926.75 1327.04 Q1929.06 1327.62 1931.59 1327.62 Q1935.99 1327.62 1938.28 1325.88 Q1940.59 1324.15 1940.59 1320.84 Q1940.59 1317.78 1938.44 1316.07 Q1936.31 1314.33 1932.49 1314.33 L1928.46 1314.33 L1928.46 1310.49 L1932.68 1310.49 Q1936.12 1310.49 1937.95 1309.12 Q1939.78 1307.73 1939.78 1305.14 Q1939.78 1302.48 1937.88 1301.07 Q1936.01 1299.63 1932.49 1299.63 Q1930.57 1299.63 1928.37 1300.05 Q1926.17 1300.47 1923.53 1301.34 L1923.53 1297.18 Q1926.19 1296.44 1928.51 1296.07 Q1930.85 1295.7 1932.91 1295.7 Q1938.23 1295.7 1941.33 1298.13 Q1944.43 1300.53 1944.43 1304.65 Q1944.43 1307.53 1942.79 1309.52 Q1941.15 1311.48 1938.12 1312.25 Z\" fill=\"#000000\" fill-rule=\"nonzero\" fill-opacity=\"1\" /><path clip-path=\"url(#clip100)\" d=\"M1964.69 1311.74 Q1961.54 1311.74 1959.69 1313.89 Q1957.86 1316.04 1957.86 1319.79 Q1957.86 1323.52 1959.69 1325.7 Q1961.54 1327.85 1964.69 1327.85 Q1967.84 1327.85 1969.67 1325.7 Q1971.52 1323.52 1971.52 1319.79 Q1971.52 1316.04 1969.67 1313.89 Q1967.84 1311.74 1964.69 1311.74 M1973.97 1297.09 L1973.97 1301.34 Q1972.21 1300.51 1970.41 1300.07 Q1968.62 1299.63 1966.87 1299.63 Q1962.24 1299.63 1959.78 1302.76 Q1957.35 1305.88 1957 1312.2 Q1958.37 1310.19 1960.43 1309.12 Q1962.49 1308.03 1964.97 1308.03 Q1970.18 1308.03 1973.18 1311.21 Q1976.22 1314.35 1976.22 1319.79 Q1976.22 1325.12 1973.07 1328.34 Q1969.92 1331.55 1964.69 1331.55 Q1958.69 1331.55 1955.52 1326.97 Q1952.35 1322.36 1952.35 1313.64 Q1952.35 1305.44 1956.24 1300.58 Q1960.13 1295.7 1966.68 1295.7 Q1968.44 1295.7 1970.22 1296.04 Q1972.03 1296.39 1973.97 1297.09 Z\" fill=\"#000000\" fill-rule=\"nonzero\" fill-opacity=\"1\" /><path clip-path=\"url(#clip100)\" d=\"M1984.32 1296.32 L2002.68 1296.32 L2002.68 1300.26 L1988.6 1300.26 L1988.6 1308.73 Q1989.62 1308.38 1990.64 1308.22 Q1991.66 1308.03 1992.68 1308.03 Q1998.46 1308.03 2001.84 1311.21 Q2005.22 1314.38 2005.22 1319.79 Q2005.22 1325.37 2001.75 1328.47 Q1998.28 1331.55 1991.96 1331.55 Q1989.78 1331.55 1987.51 1331.18 Q1985.27 1330.81 1982.86 1330.07 L1982.86 1325.37 Q1984.94 1326.51 1987.17 1327.06 Q1989.39 1327.62 1991.87 1327.62 Q1995.87 1327.62 1998.21 1325.51 Q2000.55 1323.4 2000.55 1319.79 Q2000.55 1316.18 1998.21 1314.08 Q1995.87 1311.97 1991.87 1311.97 Q1989.99 1311.97 1988.12 1312.39 Q1986.26 1312.8 1984.32 1313.68 L1984.32 1296.32 Z\" fill=\"#000000\" fill-rule=\"nonzero\" fill-opacity=\"1\" /><path clip-path=\"url(#clip100)\" d=\"M2014.57 1330.16 L2014.57 1325.9 Q2016.33 1326.74 2018.14 1327.18 Q2019.94 1327.62 2021.68 1327.62 Q2026.31 1327.62 2028.74 1324.52 Q2031.19 1321.39 2031.54 1315.05 Q2030.2 1317.04 2028.14 1318.1 Q2026.08 1319.17 2023.58 1319.17 Q2018.39 1319.17 2015.36 1316.04 Q2012.35 1312.9 2012.35 1307.46 Q2012.35 1302.13 2015.5 1298.91 Q2018.65 1295.7 2023.88 1295.7 Q2029.87 1295.7 2033.02 1300.3 Q2036.19 1304.89 2036.19 1313.64 Q2036.19 1321.81 2032.3 1326.69 Q2028.44 1331.55 2021.89 1331.55 Q2020.13 1331.55 2018.32 1331.21 Q2016.52 1330.86 2014.57 1330.16 M2023.88 1315.51 Q2027.03 1315.51 2028.86 1313.36 Q2030.71 1311.21 2030.71 1307.46 Q2030.71 1303.73 2028.86 1301.58 Q2027.03 1299.4 2023.88 1299.4 Q2020.73 1299.4 2018.88 1301.58 Q2017.05 1303.73 2017.05 1307.46 Q2017.05 1311.21 2018.88 1313.36 Q2020.73 1315.51 2023.88 1315.51 Z\" fill=\"#000000\" fill-rule=\"nonzero\" fill-opacity=\"1\" /><path clip-path=\"url(#clip100)\" d=\"M2048.62 1326.95 L2064.94 1326.95 L2064.94 1330.88 L2043 1330.88 L2043 1326.95 Q2045.66 1324.19 2050.24 1319.56 Q2054.85 1314.91 2056.03 1313.57 Q2058.28 1311.04 2059.16 1309.31 Q2060.06 1307.55 2060.06 1305.86 Q2060.06 1303.1 2058.11 1301.37 Q2056.19 1299.63 2053.09 1299.63 Q2050.89 1299.63 2048.44 1300.4 Q2046.01 1301.16 2043.23 1302.71 L2043.23 1297.99 Q2046.05 1296.85 2048.51 1296.28 Q2050.96 1295.7 2053 1295.7 Q2058.37 1295.7 2061.56 1298.38 Q2064.76 1301.07 2064.76 1305.56 Q2064.76 1307.69 2063.95 1309.61 Q2063.16 1311.51 2061.05 1314.1 Q2060.48 1314.77 2057.37 1317.99 Q2054.27 1321.18 2048.62 1326.95 Z\" fill=\"#000000\" fill-rule=\"nonzero\" fill-opacity=\"1\" /><path clip-path=\"url(#clip100)\" d=\"M2074.76 1325 L2079.64 1325 L2079.64 1330.88 L2074.76 1330.88 L2074.76 1325 Z\" fill=\"#000000\" fill-rule=\"nonzero\" fill-opacity=\"1\" /><path clip-path=\"url(#clip100)\" d=\"M2103.99 1312.25 Q2107.35 1312.96 2109.23 1315.23 Q2111.12 1317.5 2111.12 1320.84 Q2111.12 1325.95 2107.61 1328.75 Q2104.09 1331.55 2097.61 1331.55 Q2095.43 1331.55 2093.11 1331.11 Q2090.82 1330.7 2088.37 1329.84 L2088.37 1325.33 Q2090.31 1326.46 2092.63 1327.04 Q2094.94 1327.62 2097.47 1327.62 Q2101.86 1327.62 2104.16 1325.88 Q2106.47 1324.15 2106.47 1320.84 Q2106.47 1317.78 2104.32 1316.07 Q2102.19 1314.33 2098.37 1314.33 L2094.34 1314.33 L2094.34 1310.49 L2098.55 1310.49 Q2102 1310.49 2103.83 1309.12 Q2105.66 1307.73 2105.66 1305.14 Q2105.66 1302.48 2103.76 1301.07 Q2101.89 1299.63 2098.37 1299.63 Q2096.45 1299.63 2094.25 1300.05 Q2092.05 1300.47 2089.41 1301.34 L2089.41 1297.18 Q2092.07 1296.44 2094.39 1296.07 Q2096.73 1295.7 2098.79 1295.7 Q2104.11 1295.7 2107.21 1298.13 Q2110.31 1300.53 2110.31 1304.65 Q2110.31 1307.53 2108.67 1309.52 Q2107.03 1311.48 2103.99 1312.25 Z\" fill=\"#000000\" fill-rule=\"nonzero\" fill-opacity=\"1\" /><path clip-path=\"url(#clip100)\" d=\"M2120.04 1296.32 L2138.39 1296.32 L2138.39 1300.26 L2124.32 1300.26 L2124.32 1308.73 Q2125.34 1308.38 2126.36 1308.22 Q2127.37 1308.03 2128.39 1308.03 Q2134.18 1308.03 2137.56 1311.21 Q2140.94 1314.38 2140.94 1319.79 Q2140.94 1325.37 2137.47 1328.47 Q2133.99 1331.55 2127.67 1331.55 Q2125.5 1331.55 2123.23 1331.18 Q2120.98 1330.81 2118.58 1330.07 L2118.58 1325.37 Q2120.66 1326.51 2122.88 1327.06 Q2125.11 1327.62 2127.58 1327.62 Q2131.59 1327.62 2133.92 1325.51 Q2136.26 1323.4 2136.26 1319.79 Q2136.26 1316.18 2133.92 1314.08 Q2131.59 1311.97 2127.58 1311.97 Q2125.71 1311.97 2123.83 1312.39 Q2121.98 1312.8 2120.04 1313.68 L2120.04 1296.32 Z\" fill=\"#000000\" fill-rule=\"nonzero\" fill-opacity=\"1\" /><path clip-path=\"url(#clip100)\" d=\"M2164.27 1296.32 L2168.97 1296.32 L2168.97 1317.32 Q2168.97 1322.87 2170.98 1325.33 Q2173 1327.76 2177.51 1327.76 Q2182 1327.76 2184.02 1325.33 Q2186.03 1322.87 2186.03 1317.32 L2186.03 1296.32 L2190.73 1296.32 L2190.73 1317.9 Q2190.73 1324.65 2187.37 1328.1 Q2184.04 1331.55 2177.51 1331.55 Q2170.96 1331.55 2167.6 1328.1 Q2164.27 1324.65 2164.27 1317.9 L2164.27 1296.32 Z\" fill=\"#000000\" fill-rule=\"nonzero\" fill-opacity=\"1\" /><path clip-path=\"url(#clip100)\" d=\"M2220.22 1297.46 L2220.22 1302.02 Q2217.56 1300.74 2215.2 1300.12 Q2212.84 1299.49 2210.64 1299.49 Q2206.82 1299.49 2204.73 1300.97 Q2202.67 1302.46 2202.67 1305.19 Q2202.67 1307.48 2204.04 1308.66 Q2205.43 1309.82 2209.27 1310.53 L2212.1 1311.11 Q2217.33 1312.11 2219.8 1314.63 Q2222.3 1317.13 2222.3 1321.34 Q2222.3 1326.37 2218.92 1328.96 Q2215.57 1331.55 2209.06 1331.55 Q2206.61 1331.55 2203.83 1331 Q2201.08 1330.44 2198.11 1329.35 L2198.11 1324.54 Q2200.96 1326.14 2203.69 1326.95 Q2206.42 1327.76 2209.06 1327.76 Q2213.07 1327.76 2215.24 1326.18 Q2217.42 1324.61 2217.42 1321.69 Q2217.42 1319.15 2215.85 1317.71 Q2214.29 1316.28 2210.73 1315.56 L2207.88 1315 Q2202.65 1313.96 2200.31 1311.74 Q2197.98 1309.52 2197.98 1305.56 Q2197.98 1300.97 2201.19 1298.34 Q2204.43 1295.7 2210.1 1295.7 Q2212.54 1295.7 2215.06 1296.14 Q2217.58 1296.58 2220.22 1297.46 Z\" fill=\"#000000\" fill-rule=\"nonzero\" fill-opacity=\"1\" /><path clip-path=\"url(#clip100)\" d=\"M2234.27 1300.16 L2234.27 1327.04 L2239.92 1327.04 Q2247.07 1327.04 2250.38 1323.8 Q2253.72 1320.56 2253.72 1313.57 Q2253.72 1306.62 2250.38 1303.4 Q2247.07 1300.16 2239.92 1300.16 L2234.27 1300.16 M2229.6 1296.32 L2239.2 1296.32 Q2249.25 1296.32 2253.95 1300.51 Q2258.65 1304.68 2258.65 1313.57 Q2258.65 1322.5 2253.92 1326.69 Q2249.2 1330.88 2239.2 1330.88 L2229.6 1330.88 L2229.6 1296.32 Z\" fill=\"#000000\" fill-rule=\"nonzero\" fill-opacity=\"1\" /></svg>\n"
      ]
     },
     "execution_count": 29,
     "metadata": {},
     "output_type": "execute_result"
    }
   ],
   "source": [
    "plot(utility_array[:,1],utility_array[:,2], label=\"U(W)\", xlabel=\"Wealth USD\", ylabel = \"Utility (util)\", lw=3, c=:black)\n",
    "plot!(tie_line[:,1],tie_line[:,2], label=\"𝔼𝕌(A)\", lw=3, c=:gray69, ls=:dash)\n",
    "plot!(VLINE₁[:,1], VLINE₁[:,2], label=\"\", c=:navyblue, ls=:dash)\n",
    "plot!(VLINE₂[:,1], VLINE₂[:,2], label=\"\", c=:red, ls=:dash)\n",
    "plot!(HLINE[:,1], HLINE[:,2], label=\"\", c=:gray69, ls=:dash, lw=1)\n",
    "scatter!([W-d],[U1(W-d,τ)], label=\"\", msc=:black, mc=:white)\n",
    "scatter!([W],[U1(W,τ)], label=\"\", msc=:black, mc=:white)\n",
    "scatter!([point_A[1]],[point_A[2]], label=\"A = $(round(point_A[1],digits=2)) USD\", msc=:navyblue, mc=:white)\n",
    "scatter!([point_B[1]],[point_B[2]],label=\"B = $(round(point_B[1],digits=2)) USD\", msc=:gray69, mc=:white)\n",
    "scatter!([point_C[1]],[point_C[2]],label=\"CE = $(round(point_C[1],digits=2)) USD\", msc=:red, mc=:red, ms=5)"
   ]
  },
  {
   "cell_type": "markdown",
   "id": "2c43f637-7e1c-41f2-b15f-40c0005cb0ed",
   "metadata": {},
   "source": [
    "#### Computing the Risk Premium (RP)"
   ]
  },
  {
   "cell_type": "code",
   "execution_count": 30,
   "id": "26d74fbf-8ee6-474a-ac6d-affa548bfa8f",
   "metadata": {
    "tags": []
   },
   "outputs": [
    {
     "data": {
      "text/plain": [
       "893.1587520140529"
      ]
     },
     "execution_count": 30,
     "metadata": {},
     "output_type": "execute_result"
    }
   ],
   "source": [
    "RP = Ŵ - CE"
   ]
  },
  {
   "cell_type": "markdown",
   "id": "34ba7247-159c-4f81-addd-e84e6637b867",
   "metadata": {},
   "source": [
    "The `maximum insurance premium` this decision maker is willing to pay is the risk premium `RP` plus the actuarially fair premium $p\\cdot{d}$ (the probability of accident $\\times$ the damage of an accident):"
   ]
  },
  {
   "cell_type": "code",
   "execution_count": 31,
   "id": "e18091fd-df2b-4d2b-a9eb-2af6fa87647a",
   "metadata": {
    "tags": []
   },
   "outputs": [
    {
     "data": {
      "text/plain": [
       "2690.773752014053"
      ]
     },
     "execution_count": 31,
     "metadata": {},
     "output_type": "execute_result"
    }
   ],
   "source": [
    "r̄ = p₁*d + RP"
   ]
  },
  {
   "cell_type": "markdown",
   "id": "76c47a8c-d9a4-4466-8051-395f0e2ba8e7",
   "metadata": {},
   "source": [
    "## Declaration of generative AI and AI-assisted technologies in the generation of this project\n",
    "During the preparation of this work, both authors, Lauren de Silva and Alexandra Bruen, used ChatGPT for debugging and Julia syntax purposes. ChatGPT was also used for the polishing of some language. All \n",
    "material was thoroughly reviewed by the authors. The authors take full responsibility for their work."
   ]
  },
  {
   "cell_type": "markdown",
   "id": "cb499637-d3be-4dc5-8a71-d049bce06367",
   "metadata": {},
   "source": [
    "# Citations \n",
    "https://www.nrel.gov/news/program/2017/failures-pv-panels-degradation.html \n",
    "https://www.nrel.gov/research/re-solar-water-heating.html \n",
    "https://www.progressive.com/answers/does-home-insurance-cover-solar-panels/\n",
    "https://www.usatoday.com/money/blueprint/home-insurance/average-cost-homeowners-insurance/ \n"
   ]
  },
  {
   "cell_type": "code",
   "execution_count": null,
   "id": "31944244-3278-48b0-a6c2-55bb338f38ee",
   "metadata": {},
   "outputs": [],
   "source": []
  }
 ],
 "metadata": {
  "kernelspec": {
   "display_name": "Julia 1.9.3",
   "language": "julia",
   "name": "julia-1.9"
  },
  "language_info": {
   "file_extension": ".jl",
   "mimetype": "application/julia",
   "name": "julia",
   "version": "1.9.3"
  }
 },
 "nbformat": 4,
 "nbformat_minor": 5
}
